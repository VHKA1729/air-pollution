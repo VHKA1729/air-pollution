{
  "nbformat": 4,
  "nbformat_minor": 0,
  "metadata": {
    "colab": {
      "name": "VHKA.ipynb",
      "provenance": [],
      "authorship_tag": "ABX9TyMKLETgH0L9okYr5i7wtJC7"
    },
    "kernelspec": {
      "name": "python3",
      "display_name": "Python 3"
    }
  },
  "cells": [
    {
      "cell_type": "markdown",
      "metadata": {
        "id": "BKP4xPJcZ4u3",
        "colab_type": "text"
      },
      "source": [
        "https://www.kaggle.com/c/predict-impact-of-air-quality-on-death-rates/discussion"
      ]
    },
    {
      "cell_type": "markdown",
      "metadata": {
        "id": "U65jGOM7a59A",
        "colab_type": "text"
      },
      "source": [
        "Links:\n",
        "\n",
        "[Iterative Imputer Sklearn](https://scikit-learn.org/stable/auto_examples/impute/plot_iterative_imputer_variants_comparison.html#sphx-glr-auto-examples-impute-plot-iterative-imputer-variants-comparison-py)"
      ]
    },
    {
      "cell_type": "markdown",
      "metadata": {
        "id": "7239Sz_ZVyUn",
        "colab_type": "text"
      },
      "source": [
        "# Structure\n",
        "\n",
        "1. Explore Data:\n",
        "\n",
        "  * Distribution plots\n",
        "\n",
        "  * Missing value imputation:\n",
        "    * Pattern of missing values\n",
        "    * Dropping all missing values\n",
        "    * Univariate imputation (Sklearn)\n",
        "    * Multivariate imputation (Sklearn)\n",
        "    * GAN-based imputation\n",
        "    * Time-series based imputation (long-run variance)\n",
        "  Stationarity in Multivariate time-series\n",
        "\n",
        "  * Feature generation:\n",
        "    * Log transformation\n",
        "    * Box-Cox transformation\n",
        "    * Correlation Analysis\n",
        "    * VIF Analysis\n",
        "    * Handling outliers\n",
        "  \n",
        "2. Approach for prediction:\n",
        "  * Regression-based\n",
        "  * Classification-based\n",
        "\n",
        "3. Forecasting\n",
        "---\n",
        "4. Creating our dataset\n",
        "\n",
        "5. Above stuff on our dataset"
      ]
    },
    {
      "cell_type": "code",
      "metadata": {
        "id": "8_P-MyBxZ1Jv",
        "colab_type": "code",
        "colab": {}
      },
      "source": [
        "# Helper libraries\n",
        "import numpy as np\n",
        "import pandas as pd\n",
        "\n",
        "# Plots\n",
        "import matplotlib.pyplot as plt\n",
        "import seaborn as sns\n",
        "import plotly.express as px\n",
        "import plotly.graph_objects as go\n",
        "\n",
        "# Time-series Models\n",
        "from statsmodels.tsa.seasonal import seasonal_decompose\n",
        "from dateutil.parser import parse\n",
        "\n",
        "# Imputation\n",
        "from sklearn.experimental import enable_iterative_imputer\n",
        "from sklearn.impute import IterativeImputer, SimpleImputer\n",
        "\n",
        "import warnings\n",
        "warnings.filterwarnings(\"ignore\")"
      ],
      "execution_count": 0,
      "outputs": []
    },
    {
      "cell_type": "code",
      "metadata": {
        "id": "cIlTe0eFeQBO",
        "colab_type": "code",
        "colab": {}
      },
      "source": [
        ""
      ],
      "execution_count": 0,
      "outputs": []
    },
    {
      "cell_type": "markdown",
      "metadata": {
        "id": "nMxrAav3bOeT",
        "colab_type": "text"
      },
      "source": [
        "# Importing Data"
      ]
    },
    {
      "cell_type": "code",
      "metadata": {
        "id": "0400RiQxbqSO",
        "colab_type": "code",
        "colab": {}
      },
      "source": [
        "train = pd.read_csv(\"/content/drive/My Drive/PROJECTS/DSL/Kaggle/train.csv\")\n",
        "test = pd.read_csv(\"/content/drive/My Drive/PROJECTS/DSL/Kaggle/test.csv\")\n",
        "regions = pd.read_csv(\"/content/drive/My Drive/PROJECTS/DSL/Kaggle/regions.csv\")"
      ],
      "execution_count": 0,
      "outputs": []
    },
    {
      "cell_type": "code",
      "metadata": {
        "id": "BFvLRf6Wb7m-",
        "colab_type": "code",
        "outputId": "f26835b8-94d1-45ad-9c62-3effe29e2e03",
        "colab": {
          "base_uri": "https://localhost:8080/",
          "height": 204
        }
      },
      "source": [
        "train.head()"
      ],
      "execution_count": 0,
      "outputs": [
        {
          "output_type": "execute_result",
          "data": {
            "text/html": [
              "<div>\n",
              "<style scoped>\n",
              "    .dataframe tbody tr th:only-of-type {\n",
              "        vertical-align: middle;\n",
              "    }\n",
              "\n",
              "    .dataframe tbody tr th {\n",
              "        vertical-align: top;\n",
              "    }\n",
              "\n",
              "    .dataframe thead th {\n",
              "        text-align: right;\n",
              "    }\n",
              "</style>\n",
              "<table border=\"1\" class=\"dataframe\">\n",
              "  <thead>\n",
              "    <tr style=\"text-align: right;\">\n",
              "      <th></th>\n",
              "      <th>Id</th>\n",
              "      <th>region</th>\n",
              "      <th>date</th>\n",
              "      <th>mortality_rate</th>\n",
              "      <th>O3</th>\n",
              "      <th>PM10</th>\n",
              "      <th>PM25</th>\n",
              "      <th>NO2</th>\n",
              "      <th>T2M</th>\n",
              "    </tr>\n",
              "  </thead>\n",
              "  <tbody>\n",
              "    <tr>\n",
              "      <th>0</th>\n",
              "      <td>1</td>\n",
              "      <td>E12000001</td>\n",
              "      <td>2007-01-02</td>\n",
              "      <td>2.264</td>\n",
              "      <td>42.358</td>\n",
              "      <td>9.021</td>\n",
              "      <td>NaN</td>\n",
              "      <td>NaN</td>\n",
              "      <td>278.138</td>\n",
              "    </tr>\n",
              "    <tr>\n",
              "      <th>1</th>\n",
              "      <td>2</td>\n",
              "      <td>E12000001</td>\n",
              "      <td>2007-01-03</td>\n",
              "      <td>2.030</td>\n",
              "      <td>49.506</td>\n",
              "      <td>5.256</td>\n",
              "      <td>NaN</td>\n",
              "      <td>NaN</td>\n",
              "      <td>281.745</td>\n",
              "    </tr>\n",
              "    <tr>\n",
              "      <th>2</th>\n",
              "      <td>3</td>\n",
              "      <td>E12000001</td>\n",
              "      <td>2007-01-04</td>\n",
              "      <td>1.874</td>\n",
              "      <td>51.101</td>\n",
              "      <td>4.946</td>\n",
              "      <td>NaN</td>\n",
              "      <td>NaN</td>\n",
              "      <td>280.523</td>\n",
              "    </tr>\n",
              "    <tr>\n",
              "      <th>3</th>\n",
              "      <td>4</td>\n",
              "      <td>E12000001</td>\n",
              "      <td>2007-01-05</td>\n",
              "      <td>2.069</td>\n",
              "      <td>47.478</td>\n",
              "      <td>6.823</td>\n",
              "      <td>NaN</td>\n",
              "      <td>NaN</td>\n",
              "      <td>280.421</td>\n",
              "    </tr>\n",
              "    <tr>\n",
              "      <th>4</th>\n",
              "      <td>5</td>\n",
              "      <td>E12000001</td>\n",
              "      <td>2007-01-06</td>\n",
              "      <td>1.913</td>\n",
              "      <td>45.226</td>\n",
              "      <td>7.532</td>\n",
              "      <td>NaN</td>\n",
              "      <td>NaN</td>\n",
              "      <td>278.961</td>\n",
              "    </tr>\n",
              "  </tbody>\n",
              "</table>\n",
              "</div>"
            ],
            "text/plain": [
              "   Id     region        date  mortality_rate      O3   PM10  PM25  NO2      T2M\n",
              "0   1  E12000001  2007-01-02           2.264  42.358  9.021   NaN  NaN  278.138\n",
              "1   2  E12000001  2007-01-03           2.030  49.506  5.256   NaN  NaN  281.745\n",
              "2   3  E12000001  2007-01-04           1.874  51.101  4.946   NaN  NaN  280.523\n",
              "3   4  E12000001  2007-01-05           2.069  47.478  6.823   NaN  NaN  280.421\n",
              "4   5  E12000001  2007-01-06           1.913  45.226  7.532   NaN  NaN  278.961"
            ]
          },
          "metadata": {
            "tags": []
          },
          "execution_count": 6
        }
      ]
    },
    {
      "cell_type": "code",
      "metadata": {
        "id": "bpkugMz2cH2Q",
        "colab_type": "code",
        "outputId": "076a3bdb-4f3e-444a-ed23-03dcf6f0dd3a",
        "colab": {
          "base_uri": "https://localhost:8080/",
          "height": 204
        }
      },
      "source": [
        "test.head()"
      ],
      "execution_count": 0,
      "outputs": [
        {
          "output_type": "execute_result",
          "data": {
            "text/html": [
              "<div>\n",
              "<style scoped>\n",
              "    .dataframe tbody tr th:only-of-type {\n",
              "        vertical-align: middle;\n",
              "    }\n",
              "\n",
              "    .dataframe tbody tr th {\n",
              "        vertical-align: top;\n",
              "    }\n",
              "\n",
              "    .dataframe thead th {\n",
              "        text-align: right;\n",
              "    }\n",
              "</style>\n",
              "<table border=\"1\" class=\"dataframe\">\n",
              "  <thead>\n",
              "    <tr style=\"text-align: right;\">\n",
              "      <th></th>\n",
              "      <th>Id</th>\n",
              "      <th>region</th>\n",
              "      <th>date</th>\n",
              "      <th>O3</th>\n",
              "      <th>PM10</th>\n",
              "      <th>PM25</th>\n",
              "      <th>NO2</th>\n",
              "      <th>T2M</th>\n",
              "    </tr>\n",
              "  </thead>\n",
              "  <tbody>\n",
              "    <tr>\n",
              "      <th>0</th>\n",
              "      <td>18404</td>\n",
              "      <td>E12000006</td>\n",
              "      <td>2012-05-28</td>\n",
              "      <td>75.980</td>\n",
              "      <td>20.876</td>\n",
              "      <td>19.123</td>\n",
              "      <td>9.713</td>\n",
              "      <td>290.787</td>\n",
              "    </tr>\n",
              "    <tr>\n",
              "      <th>1</th>\n",
              "      <td>18405</td>\n",
              "      <td>E12000006</td>\n",
              "      <td>2012-05-29</td>\n",
              "      <td>73.084</td>\n",
              "      <td>21.660</td>\n",
              "      <td>17.794</td>\n",
              "      <td>8.417</td>\n",
              "      <td>288.474</td>\n",
              "    </tr>\n",
              "    <tr>\n",
              "      <th>2</th>\n",
              "      <td>18406</td>\n",
              "      <td>E12000006</td>\n",
              "      <td>2012-05-30</td>\n",
              "      <td>59.350</td>\n",
              "      <td>21.925</td>\n",
              "      <td>17.699</td>\n",
              "      <td>10.878</td>\n",
              "      <td>289.889</td>\n",
              "    </tr>\n",
              "    <tr>\n",
              "      <th>3</th>\n",
              "      <td>18407</td>\n",
              "      <td>E12000006</td>\n",
              "      <td>2012-05-31</td>\n",
              "      <td>45.991</td>\n",
              "      <td>14.549</td>\n",
              "      <td>11.386</td>\n",
              "      <td>10.302</td>\n",
              "      <td>287.815</td>\n",
              "    </tr>\n",
              "    <tr>\n",
              "      <th>4</th>\n",
              "      <td>18408</td>\n",
              "      <td>E12000006</td>\n",
              "      <td>2012-06-01</td>\n",
              "      <td>52.210</td>\n",
              "      <td>11.208</td>\n",
              "      <td>9.545</td>\n",
              "      <td>8.598</td>\n",
              "      <td>287.627</td>\n",
              "    </tr>\n",
              "  </tbody>\n",
              "</table>\n",
              "</div>"
            ],
            "text/plain": [
              "      Id     region        date      O3    PM10    PM25     NO2      T2M\n",
              "0  18404  E12000006  2012-05-28  75.980  20.876  19.123   9.713  290.787\n",
              "1  18405  E12000006  2012-05-29  73.084  21.660  17.794   8.417  288.474\n",
              "2  18406  E12000006  2012-05-30  59.350  21.925  17.699  10.878  289.889\n",
              "3  18407  E12000006  2012-05-31  45.991  14.549  11.386  10.302  287.815\n",
              "4  18408  E12000006  2012-06-01  52.210  11.208   9.545   8.598  287.627"
            ]
          },
          "metadata": {
            "tags": []
          },
          "execution_count": 7
        }
      ]
    },
    {
      "cell_type": "code",
      "metadata": {
        "id": "HW1nCp3AcIvJ",
        "colab_type": "code",
        "outputId": "cbf7f3fb-527e-427e-f11f-4221c7e475b2",
        "colab": {
          "base_uri": "https://localhost:8080/",
          "height": 204
        }
      },
      "source": [
        "regions.head()"
      ],
      "execution_count": 0,
      "outputs": [
        {
          "output_type": "execute_result",
          "data": {
            "text/html": [
              "<div>\n",
              "<style scoped>\n",
              "    .dataframe tbody tr th:only-of-type {\n",
              "        vertical-align: middle;\n",
              "    }\n",
              "\n",
              "    .dataframe tbody tr th {\n",
              "        vertical-align: top;\n",
              "    }\n",
              "\n",
              "    .dataframe thead th {\n",
              "        text-align: right;\n",
              "    }\n",
              "</style>\n",
              "<table border=\"1\" class=\"dataframe\">\n",
              "  <thead>\n",
              "    <tr style=\"text-align: right;\">\n",
              "      <th></th>\n",
              "      <th>Code</th>\n",
              "      <th>Region</th>\n",
              "    </tr>\n",
              "  </thead>\n",
              "  <tbody>\n",
              "    <tr>\n",
              "      <th>0</th>\n",
              "      <td>E12000001</td>\n",
              "      <td>North East</td>\n",
              "    </tr>\n",
              "    <tr>\n",
              "      <th>1</th>\n",
              "      <td>E12000002</td>\n",
              "      <td>North West</td>\n",
              "    </tr>\n",
              "    <tr>\n",
              "      <th>2</th>\n",
              "      <td>E12000003</td>\n",
              "      <td>Yorkshire and The Humber</td>\n",
              "    </tr>\n",
              "    <tr>\n",
              "      <th>3</th>\n",
              "      <td>E12000004</td>\n",
              "      <td>East Midlands</td>\n",
              "    </tr>\n",
              "    <tr>\n",
              "      <th>4</th>\n",
              "      <td>E12000005</td>\n",
              "      <td>West Midlands</td>\n",
              "    </tr>\n",
              "  </tbody>\n",
              "</table>\n",
              "</div>"
            ],
            "text/plain": [
              "        Code                    Region\n",
              "0  E12000001                North East\n",
              "1  E12000002                North West\n",
              "2  E12000003  Yorkshire and The Humber\n",
              "3  E12000004             East Midlands\n",
              "4  E12000005             West Midlands"
            ]
          },
          "metadata": {
            "tags": []
          },
          "execution_count": 8
        }
      ]
    },
    {
      "cell_type": "code",
      "metadata": {
        "id": "jojMUfqLcJ0d",
        "colab_type": "code",
        "outputId": "c39c9302-482a-4e29-ece2-c223b5203985",
        "colab": {
          "base_uri": "https://localhost:8080/",
          "height": 34
        }
      },
      "source": [
        "train.shape"
      ],
      "execution_count": 0,
      "outputs": [
        {
          "output_type": "execute_result",
          "data": {
            "text/plain": [
              "(18403, 9)"
            ]
          },
          "metadata": {
            "tags": []
          },
          "execution_count": 9
        }
      ]
    },
    {
      "cell_type": "code",
      "metadata": {
        "id": "g0S3g4xhcRxg",
        "colab_type": "code",
        "outputId": "4223b7d8-1879-4a80-8ccf-5b2e83e2f2b2",
        "colab": {
          "base_uri": "https://localhost:8080/",
          "height": 34
        }
      },
      "source": [
        "test.shape"
      ],
      "execution_count": 0,
      "outputs": [
        {
          "output_type": "execute_result",
          "data": {
            "text/plain": [
              "(7886, 8)"
            ]
          },
          "metadata": {
            "tags": []
          },
          "execution_count": 10
        }
      ]
    },
    {
      "cell_type": "code",
      "metadata": {
        "id": "97uZfn4HcSyK",
        "colab_type": "code",
        "outputId": "bb38ba60-e2f6-4ba0-c348-86bfe31d1b8a",
        "colab": {
          "base_uri": "https://localhost:8080/",
          "height": 34
        }
      },
      "source": [
        "regions.shape"
      ],
      "execution_count": 0,
      "outputs": [
        {
          "output_type": "execute_result",
          "data": {
            "text/plain": [
              "(9, 2)"
            ]
          },
          "metadata": {
            "tags": []
          },
          "execution_count": 11
        }
      ]
    },
    {
      "cell_type": "markdown",
      "metadata": {
        "id": "N0lh-arccdY0",
        "colab_type": "text"
      },
      "source": [
        "# Data Cleaning"
      ]
    },
    {
      "cell_type": "code",
      "metadata": {
        "id": "CVxiHuDFeNI3",
        "colab_type": "code",
        "colab": {}
      },
      "source": [
        "y_train = train['mortality_rate']"
      ],
      "execution_count": 0,
      "outputs": []
    },
    {
      "cell_type": "code",
      "metadata": {
        "id": "lshyUE1rehvv",
        "colab_type": "code",
        "colab": {}
      },
      "source": [
        "train.drop(labels = ['mortality_rate'],axis=1, inplace = True)"
      ],
      "execution_count": 0,
      "outputs": []
    },
    {
      "cell_type": "code",
      "metadata": {
        "id": "CcULYPHHcTb1",
        "colab_type": "code",
        "colab": {}
      },
      "source": [
        "data = pd.concat([train,test])"
      ],
      "execution_count": 0,
      "outputs": []
    },
    {
      "cell_type": "code",
      "metadata": {
        "id": "3Y4dwLO4diQt",
        "colab_type": "code",
        "outputId": "f2433fbc-7354-4e5e-90d1-43436a0d1e51",
        "colab": {
          "base_uri": "https://localhost:8080/",
          "height": 34
        }
      },
      "source": [
        "data.shape"
      ],
      "execution_count": 0,
      "outputs": [
        {
          "output_type": "execute_result",
          "data": {
            "text/plain": [
              "(26289, 8)"
            ]
          },
          "metadata": {
            "tags": []
          },
          "execution_count": 15
        }
      ]
    },
    {
      "cell_type": "code",
      "metadata": {
        "id": "sdu8sJS0ewmW",
        "colab_type": "code",
        "outputId": "b13d891f-5fa1-4b2c-a04b-52212d83d20f",
        "colab": {
          "base_uri": "https://localhost:8080/",
          "height": 170
        }
      },
      "source": [
        "data.isna().sum()"
      ],
      "execution_count": 0,
      "outputs": [
        {
          "output_type": "execute_result",
          "data": {
            "text/plain": [
              "Id           0\n",
              "region       0\n",
              "date         0\n",
              "O3           9\n",
              "PM10         9\n",
              "PM25      3276\n",
              "NO2       6570\n",
              "T2M          0\n",
              "dtype: int64"
            ]
          },
          "metadata": {
            "tags": []
          },
          "execution_count": 16
        }
      ]
    },
    {
      "cell_type": "code",
      "metadata": {
        "id": "Y2H78ASKe5Ef",
        "colab_type": "code",
        "colab": {}
      },
      "source": [
        ""
      ],
      "execution_count": 0,
      "outputs": []
    }
  ]
}