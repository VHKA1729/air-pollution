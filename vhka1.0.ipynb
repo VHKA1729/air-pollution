{
  "nbformat": 4,
  "nbformat_minor": 0,
  "metadata": {
    "kernelspec": {
      "display_name": "Python 3",
      "language": "python",
      "name": "python3"
    },
    "language_info": {
      "codemirror_mode": {
        "name": "ipython",
        "version": 3
      },
      "file_extension": ".py",
      "mimetype": "text/x-python",
      "name": "python",
      "nbconvert_exporter": "python",
      "pygments_lexer": "ipython3",
      "version": "3.7.4"
    },
    "colab": {
      "name": "DSL_pb_V3.1.ipynb",
      "provenance": [],
      "toc_visible": true,
      "include_colab_link": true
    }
  },
  "cells": [
    {
      "cell_type": "markdown",
      "metadata": {
        "id": "view-in-github",
        "colab_type": "text"
      },
      "source": [
        "<a href=\"https://colab.research.google.com/github/VHKA1729/air-pollution/blob/master/vhka1.0.ipynb\" target=\"_parent\"><img src=\"https://colab.research.google.com/assets/colab-badge.svg\" alt=\"Open In Colab\"/></a>"
      ]
    },
    {
      "cell_type": "markdown",
      "metadata": {
        "id": "bvkAzaZO2y7a",
        "colab_type": "text"
      },
      "source": [
        "\n",
        "<font size=\"20\"><h3 align='center'>**_DSL Project_**</font><br>\n",
        "    \n",
        "    \n",
        "<font size=\"5\"><h3 align='center'><span style='color:Blue'> Predict impact of air quality on mortality rates(Kaggle Competition)</font>\n",
        "\n",
        "\n",
        "<font size=\"3\"><h3 align='center'>https://www.kaggle.com/c/predict-impact-of-air-quality-on-death-rates/overview</font><br>\n",
        "    <br>\n",
        "\n",
        "\n",
        "<font size=\"3\">**Group Number - 2**<br>\n",
        "<font size=\"3\"> Mimansi Agarwal   &emsp;19BM6JP15</font>        \n",
        "<font size=\"3\"> Vaibhav HK Anand  &emsp;19BM6JP24</font>    \n",
        "<font size=\"3\"> Bankar Prasad Vilas &emsp;19BM6JP25</font> \n"
      ]
    },
    {
      "cell_type": "markdown",
      "metadata": {
        "id": "qdAeX2jNk-Yd",
        "colab_type": "text"
      },
      "source": [
        "## TO DO\n",
        "\n",
        "- ANOVA on variables per region\n",
        "- XGB Regressor\n",
        "- Best depth via cost pruning for RFR\n",
        "- Graphs for regulartization "
      ]
    },
    {
      "cell_type": "markdown",
      "metadata": {
        "id": "OtmrAcfz2y7d",
        "colab_type": "text"
      },
      "source": [
        "# Libraries"
      ]
    },
    {
      "cell_type": "code",
      "metadata": {
        "id": "wahrvH0C_eyy",
        "colab_type": "code",
        "colab": {}
      },
      "source": [
        "#!pip install impyute"
      ],
      "execution_count": 0,
      "outputs": []
    },
    {
      "cell_type": "code",
      "metadata": {
        "id": "PGaR-IYMt8yK",
        "colab_type": "code",
        "colab": {}
      },
      "source": [
        "SEED = 1729"
      ],
      "execution_count": 0,
      "outputs": []
    },
    {
      "cell_type": "code",
      "metadata": {
        "id": "vwgmB-tb2y7e",
        "colab_type": "code",
        "colab": {}
      },
      "source": [
        "import pandas as pd\n",
        "import numpy as np\n",
        "from sklearn.linear_model import LinearRegression\n",
        "import xgboost as xgb\n",
        "from sklearn import metrics\n",
        "import matplotlib.pyplot as plt\n",
        "import seaborn as sns\n",
        "from impyute.imputation.cs import mice\n",
        "from sklearn.model_selection import train_test_split\n",
        "from sklearn import linear_model\n",
        "from sklearn.linear_model import LinearRegression, Lasso, Ridge\n",
        "from sklearn.ensemble import RandomForestRegressor\n",
        "from sklearn.model_selection import cross_val_score, GridSearchCV, KFold, RandomizedSearchCV\n",
        "from sklearn.metrics import  make_scorer, mean_absolute_error, r2_score, median_absolute_error, mean_squared_error\n",
        "import math\n",
        "\n",
        "import missingno as msno\n",
        "\n",
        "import plotly.express as px\n",
        "import plotly.graph_objects as go\n",
        "\n",
        "from statsmodels.tsa.seasonal import seasonal_decompose\n",
        "from dateutil.parser import parse\n",
        "\n",
        "import gc\n",
        "import random\n",
        "import os\n",
        "\n",
        "import scipy.stats as sps "
      ],
      "execution_count": 0,
      "outputs": []
    },
    {
      "cell_type": "code",
      "metadata": {
        "id": "iKTFTWnvEDer",
        "colab_type": "code",
        "colab": {}
      },
      "source": [
        "#plt.style.available"
      ],
      "execution_count": 0,
      "outputs": []
    },
    {
      "cell_type": "code",
      "metadata": {
        "id": "Fs0x0zkDDq8o",
        "colab_type": "code",
        "colab": {}
      },
      "source": [
        "plt.style.use('fivethirtyeight')"
      ],
      "execution_count": 0,
      "outputs": []
    },
    {
      "cell_type": "markdown",
      "metadata": {
        "id": "KysyWcJvSlP-",
        "colab_type": "text"
      },
      "source": [
        "# Functions"
      ]
    },
    {
      "cell_type": "code",
      "metadata": {
        "id": "eJMsWNl5Cvv7",
        "colab_type": "code",
        "colab": {}
      },
      "source": [
        "def seed_everything(SEED=1729):\n",
        "    random.seed(SEED)\n",
        "    os.environ['PYTHONHASHSEED'] = str(SEED)\n",
        "    np.random.seed(SEED)\n",
        "    print('done')\n",
        "\n",
        "seed_everything()"
      ],
      "execution_count": 0,
      "outputs": []
    },
    {
      "cell_type": "code",
      "metadata": {
        "id": "kQ8fZ_aer4LY",
        "colab_type": "code",
        "colab": {}
      },
      "source": [
        "def f(x):\n",
        "  if (x<=0):\n",
        "    return(np.nan)\n",
        "  else:\n",
        "    return(x)"
      ],
      "execution_count": 0,
      "outputs": []
    },
    {
      "cell_type": "code",
      "metadata": {
        "id": "tMFyV7yJNzXf",
        "colab_type": "code",
        "colab": {}
      },
      "source": [
        "def reduce_mem_usage(df, verbose=True):\n",
        "    '''\n",
        "    Reduces the usage of memory by a dataframe\n",
        "    '''\n",
        "    start_mem = df.memory_usage().sum() / 2**20\n",
        "    numerics = ['int16', 'int32', 'int64', 'float16', 'float32', 'float64'] #defining a list of numeric types\n",
        "    #start_mem = df.memory_usage().sum() / 2**20   #converting bytes into MB\n",
        "    for col in df.columns: # iterating over each column of dataframe\n",
        "        col_type = df[col].dtypes # extracting the data type of a single column\n",
        "        if col_type in numerics: # checking whether the data type of column is a numeric datatype or not\n",
        "            c_min = df[col].min()\n",
        "            c_max = df[col].max()\n",
        "          \n",
        "            if c_min > np.finfo(np.float16).min and c_max < np.finfo(np.float16).max:\n",
        "                df[col] = df[col].astype('float16')\n",
        "            elif c_min > np.finfo(np.float32).min and c_max < np.finfo(np.float32).max:\n",
        "                df[col] = df[col].astype('float32')\n",
        "            else:\n",
        "                df[col] = df[col].astype('float64')    \n",
        "    end_mem = df.memory_usage().sum() / 2**20\n",
        "    if verbose: print('Mem. usage decreased to {:5.5f} Mb ({:.2f}% reduction)'.format(end_mem, 100 * (start_mem - end_mem) / start_mem))\n",
        "    return df"
      ],
      "execution_count": 0,
      "outputs": []
    },
    {
      "cell_type": "code",
      "metadata": {
        "id": "C3ZHqErTnwdX",
        "colab_type": "code",
        "colab": {}
      },
      "source": [
        "def reg_metrics (y_true,y_predicted):\n",
        "  mse = mean_squared_error(y_true,y_predicted)\n",
        "  print(\"MSE = \" + str(mse))\n",
        "  print(\"RMSE =\" + str(math.sqrt(mse)))\n",
        "  print(\"Mean Absolute Error =\" + str(mean_absolute_error(y_true,y_predicted)))\n",
        "  print('Median Absolute Error  = ' + str(median_absolute_error(y_true, y_predicted)))\n",
        "  print('R^2                    = ' + str(r2_score(y_true, y_predicted)))\n",
        "  del mse\n",
        "  gc.collect()"
      ],
      "execution_count": 0,
      "outputs": []
    },
    {
      "cell_type": "code",
      "metadata": {
        "id": "RJz0cIs7IFVp",
        "colab_type": "code",
        "colab": {}
      },
      "source": [
        "def resid_plot(y_true, y_predicted):\n",
        "    '''\n",
        "    1. Plots residual plots by taking the y_true and y_predicted as input.\n",
        "    2. Can be used with any regression method be it linear, ridge, lasso, boosting-based, etc.\n",
        "    '''\n",
        "    temp1 = np.array(y_true).reshape(-1,1)\n",
        "    temp2 = np.array(y_predicted).reshape(-1,1)\n",
        "\n",
        "    resids = np.subtract(temp1,temp2) #calculating residuals\n",
        "\n",
        "    sns.regplot(x=y_predicted, y=resids, fit_reg=True)\n",
        "\n",
        "    plt.title(\"Residuals vs. Predicted Values\")\n",
        "    plt.xlabel(\"Predicted Values\")\n",
        "    plt.ylabel(\"Residuals\")\n",
        "\n",
        "    plt.show()\n",
        "    plt.close()\n",
        "    del temp1, temp2\n",
        "    gc.collect()"
      ],
      "execution_count": 0,
      "outputs": []
    },
    {
      "cell_type": "code",
      "metadata": {
        "id": "k2_4GTbVTHwQ",
        "colab_type": "code",
        "colab": {}
      },
      "source": [
        "def resids_hist(y_true,y_predicted):\n",
        "  '''\n",
        "  Plots histogram of residuals\n",
        "  '''\n",
        "\n",
        "  temp1 = np.array(y_true).reshape(-1,1)\n",
        "  temp2 = np.array(y_predicted).reshape(-1,1)\n",
        "\n",
        "  resids = np.subtract(temp1,temp2) \n",
        "\n",
        "  sns.distplot(resids)\n",
        "\n",
        "  plt.title(\"Histogram of Residual Values\")\n",
        "  plt.xlabel(\"Residuals\")\n",
        "  plt.ylabel(\"Count\")\n",
        "  del temp1, temp2\n",
        "  gc.collect()"
      ],
      "execution_count": 0,
      "outputs": []
    },
    {
      "cell_type": "code",
      "metadata": {
        "id": "adflZ7stDPo6",
        "colab_type": "code",
        "colab": {}
      },
      "source": [
        "def resid_qq(y_true, y_predicted):\n",
        "    resids = np.subtract(np.array(y_true).reshape(-1,1),  np.array(y_predicted).reshape(-1,1))\n",
        "    sps.probplot(resids.flatten(), plot = plt)\n",
        "    plt.title('Q-Q Plot of residuals')\n",
        "    plt.xlabel('Quantiles of standard Normal distribution')\n",
        "    plt.ylabel('Quantiles of residuals')\n",
        "    plt.show()"
      ],
      "execution_count": 0,
      "outputs": []
    },
    {
      "cell_type": "markdown",
      "metadata": {
        "id": "fHZqBrILSnaw",
        "colab_type": "text"
      },
      "source": [
        "## Regularization"
      ]
    },
    {
      "cell_type": "code",
      "metadata": {
        "id": "d6ViLQb5Sd-k",
        "colab_type": "code",
        "colab": {}
      },
      "source": [
        "def plot_regularization(l, train_RMSE, test_RMSE, coefs, min_idx, title):   \n",
        "    plt.plot(l, test_RMSE, color = 'green', label = 'Test RMSE')\n",
        "    plt.plot(l, train_RMSE, label = 'Train RMSE')    \n",
        "    plt.axvline(min_idx, color = 'black', linestyle = '--')\n",
        "    plt.legend()\n",
        "    plt.xlabel('Regularization parameter')\n",
        "    plt.ylabel('Root Mean Square Error')\n",
        "    plt.title(title)\n",
        "    plt.show()\n",
        "    \n",
        "    plt.plot(l, coefs)\n",
        "    plt.axvline(min_idx, color = 'black', linestyle = '--')\n",
        "    plt.title('Model coefficient values \\n vs. regularizaton parameter')\n",
        "    plt.xlabel('Regularization parameter')\n",
        "    plt.ylabel('Model coefficient value')\n",
        "    plt.show()"
      ],
      "execution_count": 0,
      "outputs": []
    },
    {
      "cell_type": "code",
      "metadata": {
        "id": "Zras67OgSqKy",
        "colab_type": "code",
        "colab": {}
      },
      "source": [
        "def test_regularization_l2(x_train, y_train, x_test, y_test, l2):\n",
        "    train_RMSE = []\n",
        "    test_RMSE = []\n",
        "    coefs = []\n",
        "    for reg in l2:\n",
        "        lin_mod = Ridge(alpha = reg)\n",
        "        lin_mod.fit(x_train, y_train)\n",
        "        coefs.append(lin_mod.coef_)\n",
        "        y_score_train = lin_mod.predict(x_train)\n",
        "        train_RMSE.append(mean_squared_error(y_train, y_score_train)**0.5)\n",
        "        y_score = lin_mod.predict(x_test)\n",
        "        test_RMSE.append(mean_squared_error(y_test, y_score)**0.5)\n",
        "    min_idx = np.argmin(test_RMSE)\n",
        "    min_l2 = l2[min_idx]\n",
        "    min_RMSE = test_RMSE[min_idx] \n",
        "    \n",
        "    title = 'Train and test root mean square error \\n vs. regularization parameter'\n",
        "    plot_regularization(l2, train_RMSE, test_RMSE, coefs, min_l2, title)\n",
        "    return min_l2, min_RMSE"
      ],
      "execution_count": 0,
      "outputs": []
    },
    {
      "cell_type": "code",
      "metadata": {
        "id": "QufDaOsoT6MV",
        "colab_type": "code",
        "colab": {}
      },
      "source": [
        "def ridge(X_train,y_train, X_test, y_test):\n",
        "  l2 = [x for x in range(0,50)]\n",
        "  out_l2 = test_regularization_l2(X_train, y_train, X_test, y_test, l2)\n",
        "  print(out_l2)\n",
        "  lin_mod_l2 = Ridge(alpha = out_l2[0])\n",
        "  lin_mod_l2.fit(X_train, y_train)\n",
        "  y_score_l2 = lin_mod_l2.predict(X_test)\n",
        "  print()\n",
        "  reg_metrics(y_test, y_score_l2)\n",
        "  resids_hist(np.array(y_test), np.array(y_score_l2))  \n",
        "  resid_qq(np.array(y_test), np.array(y_score_l2)) \n",
        "  resid_plot(np.array(y_test), np.array(y_score_l2))"
      ],
      "execution_count": 0,
      "outputs": []
    },
    {
      "cell_type": "code",
      "metadata": {
        "id": "lbBI-vPkS7lK",
        "colab_type": "code",
        "colab": {}
      },
      "source": [
        "def test_regularization_l1(x_train, y_train, x_test, y_test, l1):\n",
        "    train_RMSE = []\n",
        "    test_RMSE = []\n",
        "    coefs = []\n",
        "    for reg in l1:\n",
        "        lin_mod = Lasso(alpha = reg)\n",
        "        lin_mod.fit(x_train, y_train)\n",
        "        coefs.append(lin_mod.coef_)\n",
        "        y_score_train = lin_mod.predict(x_train)\n",
        "        train_RMSE.append(mean_squared_error(y_train, y_score_train)**0.5)\n",
        "        y_score = lin_mod.predict(x_test)\n",
        "        test_RMSE.append(mean_squared_error(y_test, y_score)**0.5)\n",
        "    min_idx = np.argmin(test_RMSE)\n",
        "    min_l1 = l1[min_idx]\n",
        "    min_RMSE = test_RMSE[min_idx]\n",
        "    \n",
        "    title = 'Train and test root mean square error \\n vs. regularization parameter'\n",
        "    plot_regularization(l1, train_RMSE, test_RMSE, coefs, min_l1, title)\n",
        "    return min_l1, min_RMSE"
      ],
      "execution_count": 0,
      "outputs": []
    },
    {
      "cell_type": "code",
      "metadata": {
        "id": "vqx5aCwfVadP",
        "colab_type": "code",
        "colab": {}
      },
      "source": [
        "def lasso(X_train,y_train,X_test,y_test):\n",
        "    l1 = [x/5000 for x in range(1,50)]\n",
        "    out_l1 = test_regularization_l1(X_train, y_train, X_test, y_test, l1)\n",
        "    print(out_l1)\n",
        "    lin_mod_l1 = Lasso(alpha = out_l1[0])\n",
        "    lin_mod_l1.fit(X_train, y_train)\n",
        "    y_score_l1 = lin_mod_l1.predict(X_test)\n",
        "    print()\n",
        "    reg_metrics(y_test, y_score_l1) \n",
        "    resids_hist(np.array(y_test), np.array(y_score_l1))\n",
        "    resid_qq(np.array(y_test), np.array(y_score_l1)) \n",
        "    resid_plot(np.array(y_test), np.array(y_score_l1))"
      ],
      "execution_count": 0,
      "outputs": []
    },
    {
      "cell_type": "markdown",
      "metadata": {
        "id": "wMLmtMwc2y7o",
        "colab_type": "text"
      },
      "source": [
        "# Data import"
      ]
    },
    {
      "cell_type": "code",
      "metadata": {
        "id": "DBGkS1c_2y7p",
        "colab_type": "code",
        "colab": {}
      },
      "source": [
        "train = pd.read_csv('/content/train.csv', parse_dates=['date'], index_col='Id')\n",
        "test = pd.read_csv('/content/test.csv', parse_dates=['date'], index_col='Id')\n",
        "region=pd.read_csv('/content/regions.csv')"
      ],
      "execution_count": 0,
      "outputs": []
    },
    {
      "cell_type": "code",
      "metadata": {
        "id": "8vTcdfemG08N",
        "colab_type": "code",
        "colab": {}
      },
      "source": [
        "train.head()"
      ],
      "execution_count": 0,
      "outputs": []
    },
    {
      "cell_type": "markdown",
      "metadata": {
        "id": "O9TnQP412y8D",
        "colab_type": "text"
      },
      "source": [
        "# Exploratory data analysis"
      ]
    },
    {
      "cell_type": "code",
      "metadata": {
        "id": "dMdHrZPnG4KW",
        "colab_type": "code",
        "colab": {}
      },
      "source": [
        "region"
      ],
      "execution_count": 0,
      "outputs": []
    },
    {
      "cell_type": "code",
      "metadata": {
        "id": "6jlVjeRXKuan",
        "colab_type": "code",
        "colab": {}
      },
      "source": [
        "# Checking that the date column is monotonic\n",
        "for r in train['region'].unique():\n",
        "  print(train[train['region']==r]['date'].is_monotonic)\n",
        "del r"
      ],
      "execution_count": 0,
      "outputs": []
    },
    {
      "cell_type": "code",
      "metadata": {
        "id": "k4WqVbgw2y7v",
        "colab_type": "code",
        "colab": {}
      },
      "source": [
        "train.info()"
      ],
      "execution_count": 0,
      "outputs": []
    },
    {
      "cell_type": "code",
      "metadata": {
        "id": "KGeyiXCyWyWt",
        "colab_type": "code",
        "colab": {}
      },
      "source": [
        "train.describe()"
      ],
      "execution_count": 0,
      "outputs": []
    },
    {
      "cell_type": "code",
      "metadata": {
        "id": "C-E5WZyLW3iG",
        "colab_type": "code",
        "colab": {}
      },
      "source": [
        "test.info()"
      ],
      "execution_count": 0,
      "outputs": []
    },
    {
      "cell_type": "code",
      "metadata": {
        "id": "uVXQVfeSW55Y",
        "colab_type": "code",
        "colab": {}
      },
      "source": [
        "test.describe()"
      ],
      "execution_count": 0,
      "outputs": []
    },
    {
      "cell_type": "code",
      "metadata": {
        "id": "XPd6SFrNix2k",
        "colab_type": "code",
        "colab": {}
      },
      "source": [
        "region.info()"
      ],
      "execution_count": 0,
      "outputs": []
    },
    {
      "cell_type": "markdown",
      "metadata": {
        "id": "4IMDZgPdW8yU",
        "colab_type": "text"
      },
      "source": [
        "## Missing Values"
      ]
    },
    {
      "cell_type": "code",
      "metadata": {
        "id": "kveKfbztO7vF",
        "colab_type": "code",
        "colab": {}
      },
      "source": [
        "train.isna().sum()"
      ],
      "execution_count": 0,
      "outputs": []
    },
    {
      "cell_type": "code",
      "metadata": {
        "id": "ydvQeX4yFZ75",
        "colab_type": "code",
        "colab": {}
      },
      "source": [
        "msno.bar(train)"
      ],
      "execution_count": 0,
      "outputs": []
    },
    {
      "cell_type": "code",
      "metadata": {
        "id": "UPCih3LoGf8N",
        "colab_type": "code",
        "colab": {}
      },
      "source": [
        "msno.bar(test)\n",
        "\n",
        "# No missing values"
      ],
      "execution_count": 0,
      "outputs": []
    },
    {
      "cell_type": "code",
      "metadata": {
        "id": "1FXcuZLSHFXo",
        "colab_type": "code",
        "colab": {}
      },
      "source": [
        "temp = train.set_index('date')\n",
        "\n",
        "for r in train['region'].unique():\n",
        "  t = temp[temp['region']==r]\n",
        "  print(msno.matrix(t, freq = 'A'))\n",
        "\n",
        "del temp, t\n",
        "gc.collect()"
      ],
      "execution_count": 0,
      "outputs": []
    },
    {
      "cell_type": "code",
      "metadata": {
        "id": "CRlfkpC_F1yt",
        "colab_type": "code",
        "colab": {}
      },
      "source": [
        "msno.heatmap(train)\n",
        "\n",
        "# https://github.com/ResidentMario/missingno\n",
        "\n",
        "# correlation heatmap measures nullity correlation: how strongly the presence or absence of one variable affects the presence of another\n",
        "# Variables that are always full or always empty have no meaningful correlation, and so are silently removed from the visualization—in this case for instance the datetime and injury number columns, which are completely filled, are not included."
      ],
      "execution_count": 0,
      "outputs": []
    },
    {
      "cell_type": "code",
      "metadata": {
        "id": "htbsM1xLjxvX",
        "colab_type": "code",
        "colab": {}
      },
      "source": [
        "for r in train['region'].unique():\n",
        "  t = train[train['region']==r]\n",
        "  print(msno.heatmap(t))\n",
        "\n",
        "del t\n",
        "gc.collect()"
      ],
      "execution_count": 0,
      "outputs": []
    },
    {
      "cell_type": "code",
      "metadata": {
        "id": "P_aXL9PhGbMN",
        "colab_type": "code",
        "colab": {}
      },
      "source": [
        "msno.dendrogram(train)"
      ],
      "execution_count": 0,
      "outputs": []
    },
    {
      "cell_type": "code",
      "metadata": {
        "id": "nGAxTA1lkDdF",
        "colab_type": "code",
        "colab": {}
      },
      "source": [
        "for r in train['region'].unique():\n",
        "  t = train[train['region']==r]\n",
        "  print(msno.dendrogram(t))\n",
        "\n",
        "del t\n",
        "gc.collect()"
      ],
      "execution_count": 0,
      "outputs": []
    },
    {
      "cell_type": "markdown",
      "metadata": {
        "id": "L8JeLb1N2y70",
        "colab_type": "text"
      },
      "source": [
        "**_Missing values present in 4 columns, O3 ,PM10, PM25, NO2_**"
      ]
    },
    {
      "cell_type": "markdown",
      "metadata": {
        "id": "mwdx1rh2kMvh",
        "colab_type": "text"
      },
      "source": [
        "## Merging Region names with the rest of the data"
      ]
    },
    {
      "cell_type": "code",
      "metadata": {
        "id": "T-02eVrVSKH1",
        "colab_type": "code",
        "colab": {}
      },
      "source": [
        "train1 = train.merge(region, left_on='region', right_on='Code')\n",
        "#train1.drop(columns = ['region'],inplace=True)\n",
        "test1 = test.merge(region, left_on='region', right_on='Code')\n",
        "#test1.drop(columns = ['region'],inplace=True)"
      ],
      "execution_count": 0,
      "outputs": []
    },
    {
      "cell_type": "markdown",
      "metadata": {
        "id": "nQVjzsod5pN7",
        "colab_type": "text"
      },
      "source": [
        "## univariate analysis ##"
      ]
    },
    {
      "cell_type": "code",
      "metadata": {
        "id": "CSK2bY6M5pN7",
        "colab_type": "code",
        "colab": {}
      },
      "source": [
        "# Visualizing mortality_rate\n",
        "def mr(df):\n",
        "  plt.subplot(121)\n",
        "  sns.distplot(df['mortality_rate']);\n",
        "\n",
        "  plt.subplot(122)\n",
        "  df['mortality_rate'].plot.box(figsize=(16,5))\n",
        "\n",
        "  plt.show()\n",
        "\n",
        "mr(train)"
      ],
      "execution_count": 0,
      "outputs": []
    },
    {
      "cell_type": "code",
      "metadata": {
        "id": "9TR3aVPr5pN-",
        "colab_type": "code",
        "colab": {}
      },
      "source": [
        "# Visualizing O3\n",
        "def o3(df):\n",
        "    plt.subplot(121)\n",
        "    O3_1 = train['O3'].dropna()\n",
        "    sns.distplot(O3_1);\n",
        "\n",
        "    plt.subplot(122)\n",
        "    O3_1.plot.box(figsize=(16,5))\n",
        "\n",
        "    plt.show()\n",
        "    plt.close()\n",
        "\n",
        "o3(train)"
      ],
      "execution_count": 0,
      "outputs": []
    },
    {
      "cell_type": "code",
      "metadata": {
        "id": "Klemu87G5pOC",
        "colab_type": "code",
        "colab": {}
      },
      "source": [
        "# Visualizing PM10\n",
        "def pm10(df):\n",
        "    plt.subplot(121)\n",
        "    PM10_1 = train['PM10'].dropna()\n",
        "    sns.distplot(PM10_1);\n",
        "\n",
        "    plt.subplot(122)\n",
        "    PM10_1.plot.box(figsize=(16,5))\n",
        "\n",
        "    plt.show()\n",
        "\n",
        "pm10(train)"
      ],
      "execution_count": 0,
      "outputs": []
    },
    {
      "cell_type": "code",
      "metadata": {
        "id": "tdfHhw1r5pOF",
        "colab_type": "code",
        "colab": {}
      },
      "source": [
        "# Visualizing PM25\n",
        "\n",
        "def pm25(df):\n",
        "    plt.subplot(121)\n",
        "    PM25_1 = train['PM25'].dropna()\n",
        "    sns.distplot(PM25_1);\n",
        "\n",
        "    plt.subplot(122)\n",
        "    PM25_1.plot.box(figsize=(16,5))\n",
        "\n",
        "    plt.show()\n",
        "\n",
        "pm25(train)"
      ],
      "execution_count": 0,
      "outputs": []
    },
    {
      "cell_type": "code",
      "metadata": {
        "id": "C1fbLs0C5pOI",
        "colab_type": "code",
        "colab": {}
      },
      "source": [
        "# Visualizing NO2\n",
        "def no2(df):\n",
        "    plt.subplot(121)\n",
        "    NO2_1 = train['NO2'].dropna()\n",
        "    sns.distplot(NO2_1);\n",
        "\n",
        "    plt.subplot(122)\n",
        "    NO2_1.plot.box(figsize=(16,5))\n",
        "\n",
        "    plt.show()\n",
        "  \n",
        "no2(train)"
      ],
      "execution_count": 0,
      "outputs": []
    },
    {
      "cell_type": "code",
      "metadata": {
        "id": "xMi_gLbD5pOL",
        "colab_type": "code",
        "colab": {}
      },
      "source": [
        "# Visualizing T2M\n",
        "\n",
        "def t2m(df):\n",
        "    plt.subplot(121)\n",
        "    sns.distplot(train['T2M']);\n",
        "\n",
        "    plt.subplot(122)\n",
        "    train['T2M'].plot.box(figsize=(16,5))\n",
        "\n",
        "    plt.show()\n",
        "\n",
        "t2m(train)"
      ],
      "execution_count": 0,
      "outputs": []
    },
    {
      "cell_type": "code",
      "metadata": {
        "id": "pHgP0-y-5pOO",
        "colab_type": "code",
        "colab": {}
      },
      "source": [
        "# Visualizing categorical features\n",
        "plt.subplot(231)\n",
        "train['region'].value_counts(normalize=True).plot.bar(figsize=(20,10), title= 'region')"
      ],
      "execution_count": 0,
      "outputs": []
    },
    {
      "cell_type": "code",
      "metadata": {
        "id": "ptoLHjtSl1Ec",
        "colab_type": "code",
        "colab": {}
      },
      "source": [
        "print('mortality rate across regions')\n",
        "for r in train['region'].unique():\n",
        "  t = train[train['region']==r]\n",
        "  mr(t)"
      ],
      "execution_count": 0,
      "outputs": []
    },
    {
      "cell_type": "code",
      "metadata": {
        "id": "AGAONcXhl8ZL",
        "colab_type": "code",
        "colab": {}
      },
      "source": [
        "print('ozone across regions')\n",
        "for r in train['region'].unique():\n",
        "  t = train[train['region']==r]\n",
        "  o3(t)"
      ],
      "execution_count": 0,
      "outputs": []
    },
    {
      "cell_type": "code",
      "metadata": {
        "id": "pGmPekXgmAib",
        "colab_type": "code",
        "colab": {}
      },
      "source": [
        "for r in train['region'].unique():\n",
        "  t = train[train['region']==r]\n",
        "  no2(t)"
      ],
      "execution_count": 0,
      "outputs": []
    },
    {
      "cell_type": "code",
      "metadata": {
        "id": "RXXfr1lxmFgI",
        "colab_type": "code",
        "colab": {}
      },
      "source": [
        "for r in train['region'].unique():\n",
        "  t = train[train['region']==r]\n",
        "  pm10(t)\n",
        "plt.close()"
      ],
      "execution_count": 0,
      "outputs": []
    },
    {
      "cell_type": "code",
      "metadata": {
        "id": "WNLCZTrXmE6h",
        "colab_type": "code",
        "colab": {}
      },
      "source": [
        "for r in train['region'].unique():\n",
        "  t = train[train['region']==r]\n",
        "  pm25(t)\n",
        "plt.close()"
      ],
      "execution_count": 0,
      "outputs": []
    },
    {
      "cell_type": "code",
      "metadata": {
        "id": "bThckC2gmQN5",
        "colab_type": "code",
        "colab": {}
      },
      "source": [
        "for r in train['region'].unique():\n",
        "  t = train[train['region']==r]\n",
        "  t2m(t)\n",
        "plt.close()"
      ],
      "execution_count": 0,
      "outputs": []
    },
    {
      "cell_type": "code",
      "metadata": {
        "id": "5DDfBV9H5pOa",
        "colab_type": "code",
        "colab": {}
      },
      "source": [
        "#train1.groupby(\"region\")[\"Region\"].unique()"
      ],
      "execution_count": 0,
      "outputs": []
    },
    {
      "cell_type": "code",
      "metadata": {
        "id": "NYtEcfzW5pOd",
        "colab_type": "code",
        "colab": {}
      },
      "source": [
        "train1.head()"
      ],
      "execution_count": 0,
      "outputs": []
    },
    {
      "cell_type": "markdown",
      "metadata": {
        "id": "T35-ptQimp0v",
        "colab_type": "text"
      },
      "source": [
        "## Transformations"
      ]
    },
    {
      "cell_type": "markdown",
      "metadata": {
        "id": "ihTkpgrl2vY7",
        "colab_type": "text"
      },
      "source": [
        "# Bivariate analysis - Region Wise"
      ]
    },
    {
      "cell_type": "markdown",
      "metadata": {
        "id": "d2PzuGNK2vY8",
        "colab_type": "text"
      },
      "source": [
        "### variation with date - time series plot ##"
      ]
    },
    {
      "cell_type": "markdown",
      "metadata": {
        "id": "YGToVams2vY8",
        "colab_type": "text"
      },
      "source": [
        "### For region 1 - North East"
      ]
    },
    {
      "cell_type": "code",
      "metadata": {
        "id": "T6g0Kd_F2vY9",
        "colab_type": "code",
        "colab": {}
      },
      "source": [
        "train_r1 = train1[train1[\"Region\"]==\"North East\"]\n",
        "fig1 = px.line(train_r1, x='date', y='mortality_rate')\n",
        "fig1.show()"
      ],
      "execution_count": 0,
      "outputs": []
    },
    {
      "cell_type": "code",
      "metadata": {
        "id": "5QVw7lWA2vZB",
        "colab_type": "code",
        "colab": {}
      },
      "source": [
        "fig2 = go.Figure([go.Scatter(x=train_r1['date'], y=train_r1['mortality_rate'])])\n",
        "#fig2.show()\n",
        "\n",
        "fig2.update_layout(title_text='Time Series with Rangeslider',\n",
        "                  xaxis_rangeslider_visible=True)"
      ],
      "execution_count": 0,
      "outputs": []
    },
    {
      "cell_type": "code",
      "metadata": {
        "id": "yGa82Pf82vZF",
        "colab_type": "code",
        "colab": {}
      },
      "source": [
        "fig3 = go.Figure([go.Scatter(x=train_r1['date'], y=train_r1[\"O3\"])])\n",
        "#fig2.show()\n",
        "\n",
        "fig3.update_layout(title_text='Time Series with Rangeslider',\n",
        "                  xaxis_rangeslider_visible=True)"
      ],
      "execution_count": 0,
      "outputs": []
    },
    {
      "cell_type": "code",
      "metadata": {
        "id": "FrRy7WkH2vZL",
        "colab_type": "code",
        "colab": {}
      },
      "source": [
        "fig2 = go.Figure([go.Scatter(x=train_r1['date'], y=train_r1[\"PM10\"])])\n",
        "#fig2.show()\n",
        "\n",
        "fig2.update_layout(title_text='Time Series with Rangeslider',\n",
        "                  xaxis_rangeslider_visible=True)"
      ],
      "execution_count": 0,
      "outputs": []
    },
    {
      "cell_type": "code",
      "metadata": {
        "id": "HJv5rdoJ2vZQ",
        "colab_type": "code",
        "colab": {}
      },
      "source": [
        "fig4 = go.Figure([go.Scatter(x=train_r1['date'], y=train_r1[\"PM25\"])])\n",
        "#fig2.show()\n",
        "\n",
        "fig4.update_layout(title_text='Time Series with Rangeslider',\n",
        "                  xaxis_rangeslider_visible=True)"
      ],
      "execution_count": 0,
      "outputs": []
    },
    {
      "cell_type": "code",
      "metadata": {
        "id": "KuwBQmhC2vZV",
        "colab_type": "code",
        "colab": {}
      },
      "source": [
        "fig5 = go.Figure([go.Scatter(x=train_r1['date'], y=train_r1[\"NO2\"])])\n",
        "#fig2.show()\n",
        "\n",
        "fig5.update_layout(title_text='Time Series with Rangeslider',\n",
        "                  xaxis_rangeslider_visible=True)"
      ],
      "execution_count": 0,
      "outputs": []
    },
    {
      "cell_type": "markdown",
      "metadata": {
        "id": "V4RtiraK2vZZ",
        "colab_type": "text"
      },
      "source": [
        "### scatter plot of PM25 with other variables ###"
      ]
    },
    {
      "cell_type": "code",
      "metadata": {
        "id": "tslmwpEG2vZa",
        "colab_type": "code",
        "colab": {}
      },
      "source": [
        "plt.scatter(x=train_r1['mortality_rate'], y=train_r1[\"PM25\"])"
      ],
      "execution_count": 0,
      "outputs": []
    },
    {
      "cell_type": "code",
      "metadata": {
        "id": "P0kOOXwS2vZe",
        "colab_type": "code",
        "colab": {}
      },
      "source": [
        "plt.scatter(x=train_r1['PM10'], y=train_r1[\"PM25\"])"
      ],
      "execution_count": 0,
      "outputs": []
    },
    {
      "cell_type": "code",
      "metadata": {
        "id": "rD0Cy2z92vZi",
        "colab_type": "code",
        "colab": {}
      },
      "source": [
        "plt.scatter(x=train_r1['O3'], y=train_r1[\"PM25\"])"
      ],
      "execution_count": 0,
      "outputs": []
    },
    {
      "cell_type": "code",
      "metadata": {
        "id": "tEkttAg82vZo",
        "colab_type": "code",
        "colab": {}
      },
      "source": [
        "plt.scatter(x=train_r1['NO2'], y=train_r1[\"PM25\"])"
      ],
      "execution_count": 0,
      "outputs": []
    },
    {
      "cell_type": "code",
      "metadata": {
        "id": "CCGk5C8n2vZt",
        "colab_type": "code",
        "colab": {}
      },
      "source": [
        "plt.scatter(x=train_r1['T2M'], y=train_r1[\"PM25\"])"
      ],
      "execution_count": 0,
      "outputs": []
    },
    {
      "cell_type": "markdown",
      "metadata": {
        "id": "rD4eei-W2vZy",
        "colab_type": "text"
      },
      "source": [
        "### scatter plot of NO2 with other variables ###"
      ]
    },
    {
      "cell_type": "code",
      "metadata": {
        "id": "5ofzmvJ82vZ2",
        "colab_type": "code",
        "colab": {}
      },
      "source": [
        "plt.scatter(x=train_r1['mortality_rate'], y=train_r1[\"NO2\"])"
      ],
      "execution_count": 0,
      "outputs": []
    },
    {
      "cell_type": "code",
      "metadata": {
        "id": "i-Aae89h2vZ7",
        "colab_type": "code",
        "colab": {}
      },
      "source": [
        "plt.scatter(x=train_r1['O3'], y=train_r1[\"NO2\"])"
      ],
      "execution_count": 0,
      "outputs": []
    },
    {
      "cell_type": "code",
      "metadata": {
        "id": "CMtNJeby2vZ-",
        "colab_type": "code",
        "colab": {}
      },
      "source": [
        "plt.scatter(x=train_r1['PM10'], y=train_r1[\"NO2\"])"
      ],
      "execution_count": 0,
      "outputs": []
    },
    {
      "cell_type": "code",
      "metadata": {
        "id": "-89qaBfJ2vaD",
        "colab_type": "code",
        "colab": {}
      },
      "source": [
        "plt.scatter(x=train_r1['PM25'], y=train_r1[\"NO2\"])"
      ],
      "execution_count": 0,
      "outputs": []
    },
    {
      "cell_type": "code",
      "metadata": {
        "id": "YQI933gF2vaH",
        "colab_type": "code",
        "colab": {}
      },
      "source": [
        "plt.scatter(x=train_r1['T2M'], y=train_r1[\"NO2\"])"
      ],
      "execution_count": 0,
      "outputs": []
    },
    {
      "cell_type": "markdown",
      "metadata": {
        "id": "e7ytgGpZ2vaL",
        "colab_type": "text"
      },
      "source": [
        "## Missing value imputation using MICE "
      ]
    },
    {
      "cell_type": "markdown",
      "metadata": {
        "id": "FNY7VdYP2vaM",
        "colab_type": "text"
      },
      "source": [
        "#### For Region1 - North East"
      ]
    },
    {
      "cell_type": "code",
      "metadata": {
        "id": "_zEvO30-2vaM",
        "colab_type": "code",
        "colab": {}
      },
      "source": [
        "train_r1.head()"
      ],
      "execution_count": 0,
      "outputs": []
    },
    {
      "cell_type": "code",
      "metadata": {
        "id": "RPyXkGkh2vaY",
        "colab_type": "code",
        "colab": {}
      },
      "source": [
        "train_r1.isna().sum()"
      ],
      "execution_count": 0,
      "outputs": []
    },
    {
      "cell_type": "code",
      "metadata": {
        "id": "P83NaTGwdwCa",
        "colab_type": "code",
        "colab": {}
      },
      "source": [
        "train_r1.drop(columns=[\"region\",\"date\", \"Code\", \"Region\"], inplace=True)"
      ],
      "execution_count": 0,
      "outputs": []
    },
    {
      "cell_type": "code",
      "metadata": {
        "id": "Ae7OPtNI2vae",
        "colab_type": "code",
        "colab": {}
      },
      "source": [
        "# start the MICE training\n",
        "train_r1_imp=mice(train_r1.values)"
      ],
      "execution_count": 0,
      "outputs": []
    },
    {
      "cell_type": "code",
      "metadata": {
        "id": "r0Jg890r2vak",
        "colab_type": "code",
        "colab": {}
      },
      "source": [
        "train_r1_imp = pd.DataFrame(train_r1_imp, columns = [\"mortality_rate\", \"O3\", \"PM10\", \"PM25\",\"NO2\",\"T2M\"])"
      ],
      "execution_count": 0,
      "outputs": []
    },
    {
      "cell_type": "code",
      "metadata": {
        "id": "LewXOwpj2vam",
        "colab_type": "code",
        "colab": {}
      },
      "source": [
        "train_r1_imp.isna().sum()"
      ],
      "execution_count": 0,
      "outputs": []
    },
    {
      "cell_type": "code",
      "metadata": {
        "scrolled": true,
        "id": "SGii_PU_2vap",
        "colab_type": "code",
        "colab": {}
      },
      "source": [
        "# Visualizing NO2\n",
        "# plt.figure(1)\n",
        "plt.subplot(121)\n",
        "NO2_1 = train_r1_imp['NO2'].dropna()\n",
        "sns.distplot(NO2_1);\n",
        "\n",
        "plt.subplot(122)\n",
        "NO2_1.plot.box(figsize=(16,5))\n",
        "\n",
        "plt.show()\n",
        "\n",
        "\n",
        "plt.subplot(121)\n",
        "NO2_1 = train_r1['NO2'].dropna()\n",
        "sns.distplot(NO2_1);\n",
        "\n",
        "plt.subplot(122)\n",
        "NO2_1.plot.box(figsize=(16,5))\n",
        "\n",
        "plt.show()"
      ],
      "execution_count": 0,
      "outputs": []
    },
    {
      "cell_type": "code",
      "metadata": {
        "id": "ZmgPtuIY2var",
        "colab_type": "code",
        "colab": {}
      },
      "source": [
        "plt.scatter(x=train_r1_imp['O3'], y=train_r1_imp[\"NO2\"])\n",
        "plt.scatter(x=train_r1['O3'], y=train_r1[\"NO2\"])"
      ],
      "execution_count": 0,
      "outputs": []
    },
    {
      "cell_type": "code",
      "metadata": {
        "scrolled": true,
        "id": "FKox-Icp2vat",
        "colab_type": "code",
        "colab": {}
      },
      "source": [
        "plt.scatter(x=train_r1_imp['PM10'], y=train_r1_imp[\"NO2\"])\n",
        "plt.scatter(x=train_r1['PM10'], y=train_r1[\"NO2\"])"
      ],
      "execution_count": 0,
      "outputs": []
    },
    {
      "cell_type": "code",
      "metadata": {
        "scrolled": true,
        "id": "Td3DmHGh2vav",
        "colab_type": "code",
        "colab": {}
      },
      "source": [
        "# Visualizing NO2\n",
        "# plt.figure(1)\n",
        "plt.subplot(121)\n",
        "NO2_1_imp = train_r1_imp['PM25'].dropna()\n",
        "NO2_1 = train_r1['PM25'].dropna()\n",
        "#sns.distplot(NO2_1_imp)\n",
        "#sns.distplot(NO2_1)\n",
        "\n",
        "sns.distplot(NO2_1_imp, hist=False, rug=True)\n",
        "sns.distplot(NO2_1, hist=False, rug=True)\n"
      ],
      "execution_count": 0,
      "outputs": []
    },
    {
      "cell_type": "code",
      "metadata": {
        "id": "YDQ3SdCp2vaz",
        "colab_type": "code",
        "colab": {}
      },
      "source": [
        "plt.scatter(x=train_r1_imp['PM10'], y=train_r1_imp[\"PM25\"])\n",
        "plt.scatter(x=train_r1['PM10'], y=train_r1[\"PM25\"])"
      ],
      "execution_count": 0,
      "outputs": []
    },
    {
      "cell_type": "code",
      "metadata": {
        "scrolled": true,
        "id": "aTkMlBvP2va6",
        "colab_type": "code",
        "colab": {}
      },
      "source": [
        "train_r1_imp['PM25'].describe(), train_r1['PM25'].describe()"
      ],
      "execution_count": 0,
      "outputs": []
    },
    {
      "cell_type": "code",
      "metadata": {
        "scrolled": true,
        "id": "hXeqrJTR2vbO",
        "colab_type": "code",
        "colab": {}
      },
      "source": [
        "train_r1_imp['NO2'].describe(), train_r1['NO2'].describe()"
      ],
      "execution_count": 0,
      "outputs": []
    },
    {
      "cell_type": "code",
      "metadata": {
        "id": "5gw-EVuW2vbJ",
        "colab_type": "code",
        "colab": {}
      },
      "source": [
        "## changing negative values to min value\n",
        "#train_r1_imp['PM25'] = np.where(train_r1_imp['PM25']<=0, 0.904000, train_r1_imp['PM25'] )\n",
        "#train_r1_imp['NO2'] = np.where(train_r1_imp['NO2']<=0, 1.104000, train_r1_imp['NO2'] )\n",
        "\n",
        "train_r1_imp['NO2']=train_r1_imp['NO2'].apply(lambda x: f(x))\n",
        "train_r1_imp['PM25']=train_r1_imp['PM25'].apply(lambda x: f(x))\n",
        "train_r1_imp.ffill(axis=0, inplace=True)"
      ],
      "execution_count": 0,
      "outputs": []
    },
    {
      "cell_type": "code",
      "metadata": {
        "id": "0lQkOP0i2vbR",
        "colab_type": "code",
        "colab": {}
      },
      "source": [
        "## changing negative values to min value\n",
        "train_r1_imp.describe()"
      ],
      "execution_count": 0,
      "outputs": []
    },
    {
      "cell_type": "markdown",
      "metadata": {
        "id": "BoDA9J_02vbV",
        "colab_type": "text"
      },
      "source": [
        "#### Since we are getting good enough results region wise we can impute PM25 and NO2 on the basis of regions"
      ]
    },
    {
      "cell_type": "markdown",
      "metadata": {
        "id": "aeKRzAjs2vbW",
        "colab_type": "text"
      },
      "source": [
        "### Region wise imputation"
      ]
    },
    {
      "cell_type": "code",
      "metadata": {
        "id": "ZkgyyYGH2W77",
        "colab_type": "code",
        "colab": {}
      },
      "source": [
        "train1.head()"
      ],
      "execution_count": 0,
      "outputs": []
    },
    {
      "cell_type": "code",
      "metadata": {
        "scrolled": true,
        "id": "37AtrPdZ2vbW",
        "colab_type": "code",
        "colab": {}
      },
      "source": [
        "regions = list(region[\"Region\"].values)\n",
        "train_imp = pd.DataFrame()\n",
        "\n",
        "for reg in regions:\n",
        "    \n",
        "    train_r = train1[train1[\"Region\"] == reg].reset_index(drop=True)\n",
        "    train_r_imp = mice(train_r.drop([\"region\",\"date\", \"Code\", \"Region\"], axis = 1).values)\n",
        "    train_r_imp = pd.DataFrame(train_r_imp, columns = [\"mortality_rate\", \"O3\", \"PM10\", \"PM25\",\"NO2\",\"T2M\"])\n",
        "    \n",
        "    ## changing negative values to min value\n",
        "    train_r_imp['PM25'] = np.where(train_r_imp['PM25']<=0, min(train_r['PM25']), train_r_imp['PM25'] )\n",
        "    \n",
        "    ## changing negative values to min value\n",
        "    train_r_imp['NO2'] = np.where(train_r_imp['NO2']<=0, min(train_r['NO2']), train_r_imp['NO2'] )\n",
        "    \n",
        "    print(\"\\n\\n\")\n",
        "    print(\"train_r = before\", train_r.isna().sum())\n",
        "    \n",
        "    train_r['PM25'] = train_r_imp['PM25']\n",
        "    train_r['NO2'] = train_r_imp['NO2']\n",
        "    train_r['O3'] = train_r_imp['O3']\n",
        "    train_r['PM10'] = train_r_imp['PM10']\n",
        "    \n",
        "    print(\"train_r_imp = \\n\", train_r_imp.isna().sum())\n",
        "    print(\"train_r = \\n\", train_r.isna().sum())\n",
        "    print(\"----------------------------------------\")\n",
        "    \n",
        "    train_imp = train_imp.append(train_r)\n",
        "    \n",
        "print(\"train_imp = \", train_imp.isna().sum(), '\\n')\n",
        "    \n",
        "    "
      ],
      "execution_count": 0,
      "outputs": []
    },
    {
      "cell_type": "code",
      "metadata": {
        "id": "qAxRomCf2vbh",
        "colab_type": "code",
        "colab": {}
      },
      "source": [
        "pd.set_option('display.max_rows', None)\n",
        "#train_imp\n",
        "                                    "
      ],
      "execution_count": 0,
      "outputs": []
    },
    {
      "cell_type": "code",
      "metadata": {
        "id": "keSGdM-1tIOw",
        "colab_type": "code",
        "colab": {}
      },
      "source": [
        "train_imp.describe()"
      ],
      "execution_count": 0,
      "outputs": []
    },
    {
      "cell_type": "code",
      "metadata": {
        "id": "ZnbN88vKKSWj",
        "colab_type": "code",
        "colab": {}
      },
      "source": [
        "train_imp.head()"
      ],
      "execution_count": 0,
      "outputs": []
    },
    {
      "cell_type": "code",
      "metadata": {
        "id": "o1MqMh3A2vbj",
        "colab_type": "code",
        "colab": {}
      },
      "source": [
        "temp_r_imp = mice(train_imp.drop(columns=['region','date','Code','Region']).values)\n",
        "temp_r_imp = pd.DataFrame(temp_r_imp, columns = [\"mortality_rate\", \"O3\", \"PM10\", \"PM25\",\"NO2\",\"T2M\"])\n",
        "\n",
        "train_r_imp_full = train_imp.copy()\n",
        "train_r_imp_full[\"NO2\"] = temp_r_imp[\"NO2\"]\n",
        "train_r_imp_full[\"PM25\"] = temp_r_imp[\"PM25\"]\n",
        "train_r_imp_full[\"O3\"] = temp_r_imp[\"O3\"]\n",
        "train_r_imp_full[\"PM10\"] = temp_r_imp[\"PM10\"]\n",
        "\n",
        "train_r_imp_full.isna().sum()  #### FINAL DATAFRAME WITH IMPUTED VALUES REGION WISE"
      ],
      "execution_count": 0,
      "outputs": []
    },
    {
      "cell_type": "code",
      "metadata": {
        "id": "DmMCRMDk2vbn",
        "colab_type": "code",
        "colab": {}
      },
      "source": [
        "train_r_imp_full.shape, train1.shape"
      ],
      "execution_count": 0,
      "outputs": []
    },
    {
      "cell_type": "code",
      "metadata": {
        "scrolled": true,
        "id": "h7fw0QO62vbq",
        "colab_type": "code",
        "colab": {}
      },
      "source": [
        "train_r_imp_full.head()"
      ],
      "execution_count": 0,
      "outputs": []
    },
    {
      "cell_type": "code",
      "metadata": {
        "id": "WGRqddGq2vbw",
        "colab_type": "code",
        "colab": {}
      },
      "source": [
        "train_r_imp_full['NO2'].describe()"
      ],
      "execution_count": 0,
      "outputs": []
    },
    {
      "cell_type": "code",
      "metadata": {
        "id": "aIJCCzR3oK2a",
        "colab_type": "code",
        "colab": {}
      },
      "source": [
        "train1['NO2'].describe()"
      ],
      "execution_count": 0,
      "outputs": []
    },
    {
      "cell_type": "code",
      "metadata": {
        "id": "SvH6HddzoKzL",
        "colab_type": "code",
        "colab": {}
      },
      "source": [
        "train_r_imp_full['PM25'].describe()"
      ],
      "execution_count": 0,
      "outputs": []
    },
    {
      "cell_type": "code",
      "metadata": {
        "id": "B2AKnuYfoKsW",
        "colab_type": "code",
        "colab": {}
      },
      "source": [
        "train1['PM25'].describe()"
      ],
      "execution_count": 0,
      "outputs": []
    },
    {
      "cell_type": "code",
      "metadata": {
        "id": "hpeEsVTVWpxt",
        "colab_type": "code",
        "colab": {}
      },
      "source": [
        "train_r_imp_full['NO2']=train_r_imp_full['NO2'].apply(lambda x: f(x))\n",
        "train_r_imp_full['PM25']=train_r_imp_full['PM25'].apply(lambda x: f(x))\n",
        "train_r_imp_full.ffill(axis=0, inplace=True)"
      ],
      "execution_count": 0,
      "outputs": []
    },
    {
      "cell_type": "code",
      "metadata": {
        "id": "hAWdC2qL2vb0",
        "colab_type": "code",
        "colab": {}
      },
      "source": [
        "plt.subplot(121)\n",
        "NO2_1= train1['PM25'].dropna()\n",
        "NO2_1_imp  = train_r_imp_full['PM25'].dropna()\n",
        "\n",
        "sns.distplot(NO2_1_imp, hist=False, rug=True)\n",
        "sns.distplot(NO2_1, hist=False, rug=True)"
      ],
      "execution_count": 0,
      "outputs": []
    },
    {
      "cell_type": "markdown",
      "metadata": {
        "id": "k0gyBXK22vb3",
        "colab_type": "text"
      },
      "source": [
        "Region wise imputation is fine but at an overall level it does not suits well.."
      ]
    },
    {
      "cell_type": "markdown",
      "metadata": {
        "id": "iIJulnE52vb3",
        "colab_type": "text"
      },
      "source": [
        "### Impution on full data - MICE"
      ]
    },
    {
      "cell_type": "code",
      "metadata": {
        "id": "KIs5nBLk2vb4",
        "colab_type": "code",
        "colab": {}
      },
      "source": [
        "# start the MICE training\n",
        "temp_imp = mice(train1.drop([\"region\",\"date\", \"Code\", \"Region\"], axis = 1).values)\n",
        "temp_imp = pd.DataFrame(temp_imp, columns = [\"mortality_rate\", \"O3\", \"PM10\", \"PM25\",\"NO2\",\"T2M\"])\n",
        "\n",
        "train_full_imp = train1.copy()\n",
        "train_full_imp[\"NO2\"] = temp_imp[\"NO2\"]\n",
        "train_full_imp[\"PM25\"] = temp_imp[\"PM25\"]\n",
        "train_full_imp[\"O3\"] = temp_imp[\"O3\"]\n",
        "train_full_imp[\"PM10\"] = temp_imp[\"PM10\"]"
      ],
      "execution_count": 0,
      "outputs": []
    },
    {
      "cell_type": "code",
      "metadata": {
        "id": "t2RJnWqY2vb6",
        "colab_type": "code",
        "colab": {}
      },
      "source": [
        "train_full_imp.isna().sum() ### FINAL DATAFRAME WITH IMPUTATION ON FULL DATA"
      ],
      "execution_count": 0,
      "outputs": []
    },
    {
      "cell_type": "code",
      "metadata": {
        "id": "TBDx2LwJ2vb8",
        "colab_type": "code",
        "colab": {}
      },
      "source": [
        "plt.subplot(121)\n",
        "NO2_1= train1['PM25'].dropna()\n",
        "NO2_1_imp  = train_full_imp['PM25'].dropna()\n",
        "\n",
        "sns.distplot(NO2_1_imp, hist=False, rug=True)\n",
        "sns.distplot(NO2_1, hist=False, rug=True)"
      ],
      "execution_count": 0,
      "outputs": []
    },
    {
      "cell_type": "markdown",
      "metadata": {
        "id": "XZNNlepWapZD",
        "colab_type": "text"
      },
      "source": [
        "# Feature Engineering"
      ]
    },
    {
      "cell_type": "markdown",
      "metadata": {
        "id": "dKyRV-7Y2y8g",
        "colab_type": "text"
      },
      "source": [
        "one hot encoding for regions"
      ]
    },
    {
      "cell_type": "code",
      "metadata": {
        "id": "O3WjQcKyYLrY",
        "colab_type": "code",
        "colab": {}
      },
      "source": [
        "def sets(df1,df2):\n",
        "    dummy1= pd.get_dummies(df1['region'])\n",
        "    train_f = df1.join(dummy1)\n",
        "\n",
        "    dummy2= pd.get_dummies(df2['region'])\n",
        "    test_f = df2.join(dummy2)\n",
        "\n",
        "    return (train_f, test_f)"
      ],
      "execution_count": 0,
      "outputs": []
    },
    {
      "cell_type": "code",
      "metadata": {
        "id": "7uLIjTK02y8o",
        "colab_type": "code",
        "colab": {}
      },
      "source": [
        "def day_and_year(df1,df2):\n",
        "    df1['year'] = df1['date'].map(lambda x: x.year)\n",
        "    df2['year'] = df2['date'].map(lambda x: x.year)\n",
        "\n",
        "    df1['year^2'] = df1['year']**2\n",
        "    df2['year^2'] = df2['year']**2\n",
        "\n",
        "    df1['doy'] = df1['date'].map(lambda x: x.dayofyear)\n",
        "    df2['doy'] = df2['date'].map(lambda x: x.dayofyear)\n",
        "\n",
        "    df1['doy^2'] = df1['doy']**2\n",
        "    df2['doy^2'] = df2['doy']**2\n",
        "\n",
        "    return (df1,df2)"
      ],
      "execution_count": 0,
      "outputs": []
    },
    {
      "cell_type": "code",
      "metadata": {
        "id": "cWNo8pCfkBB2",
        "colab_type": "code",
        "colab": {}
      },
      "source": [
        "def log_transform(df1,df2):\n",
        "    df1['NO2_log']=np.log(df1['NO2'])\n",
        "    df1['PM10_log']=np.log(df1['PM10'])\n",
        "    df1['PM25_log']=np.log(df1['PM25'])\n",
        "\n",
        "    df2['NO2_log']=np.log(df2['NO2'])\n",
        "    df2['PM10_log']=np.log(df2['PM10'])\n",
        "    df2['PM25_log']=np.log(df2['PM25'])\n",
        "\n",
        "    return (df1,df2)"
      ],
      "execution_count": 0,
      "outputs": []
    },
    {
      "cell_type": "code",
      "metadata": {
        "id": "HuVYlP73kZVd",
        "colab_type": "code",
        "colab": {}
      },
      "source": [
        "def rolling(df1,df2):\n",
        "    total_f=total=pd.concat([df1,df2],sort=False)\n",
        "    total_f['T2M_rolling'] = total_f.groupby('region')['T2M'].transform(lambda x: x.rolling(30).mean())\n",
        "    df1=total_f[:18403].dropna()\n",
        "    df2=total_f[18403:].drop(['mortality_rate'],axis=1)\n",
        "    return (df1, df2)"
      ],
      "execution_count": 0,
      "outputs": []
    },
    {
      "cell_type": "code",
      "metadata": {
        "id": "smvLcuBFQfyI",
        "colab_type": "code",
        "colab": {}
      },
      "source": [
        "ridge_dist = dict(alpha=sps.uniform(loc=0.0001, scale=50))\n",
        "lasso_dist = dict(alpha=sps.uniform(loc=0.0001, scale=10))\n",
        "rf_dist = {'max_depth': [2,5,8,10]\n",
        "           }\n",
        "           \n",
        "inner_cv = KFold(n_splits=5, shuffle=True, random_state=SEED)\n",
        "outer_cv = KFold(n_splits=5, shuffle=True, random_state=SEED)"
      ],
      "execution_count": 0,
      "outputs": []
    },
    {
      "cell_type": "code",
      "metadata": {
        "id": "qZ-3DjL2QiPn",
        "colab_type": "code",
        "colab": {}
      },
      "source": [
        "def print_scores(cv_score_linear,nested_score_ridge,nested_score_lasso,nested_score_rf):\n",
        "    print('Avg. RMSE Linear Regression:',cv_score_linear.mean())\n",
        "    print('Avg. RMSE Ridge:',nested_score_ridge.mean())\n",
        "    print('Avg. RMSE Lasso:',nested_score_lasso.mean())\n",
        "    print('Avg. RMSE RF:',nested_score_rf.mean())"
      ],
      "execution_count": 0,
      "outputs": []
    },
    {
      "cell_type": "code",
      "metadata": {
        "id": "MSMvJc7vQj3R",
        "colab_type": "code",
        "colab": {}
      },
      "source": [
        "def models(X,y):\n",
        "    reg_ridge = RandomizedSearchCV(estimator=Ridge(random_state=SEED), param_distributions=ridge_dist, cv=inner_cv, \n",
        "                                   scoring=RMSE,random_state=SEED, n_jobs=-1)\n",
        "    reg_lasso = RandomizedSearchCV(estimator=Lasso(random_state=SEED), param_distributions=lasso_dist, cv=inner_cv, \n",
        "                                   scoring=RMSE,random_state=SEED, n_jobs=-1)\n",
        "    reg_rf = GridSearchCV(estimator=RandomForestRegressor(random_state=SEED), param_grid=rf_dist, cv=inner_cv, \n",
        "                                   scoring=RMSE, n_jobs=-1)\n",
        "\n",
        "    nested_score_ridge = cross_val_score(reg_ridge, X = X, y=y, cv=outer_cv,scoring=RMSE)\n",
        "    nested_score_lasso = cross_val_score(reg_lasso, X = X, y=y, cv=outer_cv,scoring=RMSE)\n",
        "    cv_score_linear = cross_val_score(reg_lasso, X = X, y=y, cv=outer_cv,scoring=RMSE)\n",
        "    nested_score_rf = cross_val_score(reg_rf, X = X, y=y, cv=outer_cv,scoring=RMSE)\n",
        "    print_scores(cv_score_linear,nested_score_ridge,nested_score_lasso,nested_score_rf)"
      ],
      "execution_count": 0,
      "outputs": []
    },
    {
      "cell_type": "markdown",
      "metadata": {
        "id": "3mGo5vDDah1I",
        "colab_type": "text"
      },
      "source": [
        "# Modelling After Dropping Missing Values"
      ]
    },
    {
      "cell_type": "code",
      "metadata": {
        "id": "HMoI3KdG2y8h",
        "colab_type": "code",
        "colab": {}
      },
      "source": [
        "train_f, test_f = sets(train, test)"
      ],
      "execution_count": 0,
      "outputs": []
    },
    {
      "cell_type": "code",
      "metadata": {
        "id": "YxEIjabPi-cx",
        "colab_type": "code",
        "colab": {}
      },
      "source": [
        "train_f, test_f = day_and_year(train_f, test_f)"
      ],
      "execution_count": 0,
      "outputs": []
    },
    {
      "cell_type": "code",
      "metadata": {
        "id": "2b2VZ2uhkNTd",
        "colab_type": "code",
        "colab": {}
      },
      "source": [
        "train_f, test_f = log_transform(train_f,test_f)"
      ],
      "execution_count": 0,
      "outputs": []
    },
    {
      "cell_type": "code",
      "metadata": {
        "id": "UAuxLrCZku--",
        "colab_type": "code",
        "colab": {}
      },
      "source": [
        "train_f, test_f = rolling(train_f,test_f)"
      ],
      "execution_count": 0,
      "outputs": []
    },
    {
      "cell_type": "code",
      "metadata": {
        "id": "qBcbPxob2y8j",
        "colab_type": "code",
        "outputId": "b789e0ee-640a-46e7-880d-7810af09b6c0",
        "colab": {
          "base_uri": "https://localhost:8080/",
          "height": 34
        }
      },
      "source": [
        "train_f.shape,test_f.shape"
      ],
      "execution_count": 405,
      "outputs": [
        {
          "output_type": "execute_result",
          "data": {
            "text/plain": [
              "((11833, 25), (7886, 24))"
            ]
          },
          "metadata": {
            "tags": []
          },
          "execution_count": 405
        }
      ]
    },
    {
      "cell_type": "code",
      "metadata": {
        "id": "2YWFBwVj2y9I",
        "colab_type": "code",
        "colab": {}
      },
      "source": [
        "#X_train, X_test, y_train, y_test = train_test_split(train_f.drop(['mortality_rate'],axis=1), train_f['mortality_rate'], test_size=0.2)"
      ],
      "execution_count": 0,
      "outputs": []
    },
    {
      "cell_type": "code",
      "metadata": {
        "id": "g8AmNdSr2y9Q",
        "colab_type": "code",
        "colab": {}
      },
      "source": [
        "RMSE= make_scorer(metrics.mean_squared_error)"
      ],
      "execution_count": 0,
      "outputs": []
    },
    {
      "cell_type": "code",
      "metadata": {
        "id": "68nH_D3B2y9X",
        "colab_type": "code",
        "colab": {}
      },
      "source": [
        "X=train_f.drop(['mortality_rate'],axis=1)\n",
        "y=train_f['mortality_rate']"
      ],
      "execution_count": 0,
      "outputs": []
    },
    {
      "cell_type": "code",
      "metadata": {
        "id": "fC-B0rVkmHSb",
        "colab_type": "code",
        "colab": {}
      },
      "source": [
        "#X[predictors].head()"
      ],
      "execution_count": 0,
      "outputs": []
    },
    {
      "cell_type": "markdown",
      "metadata": {
        "id": "EcOgMwjPXM9X",
        "colab_type": "text"
      },
      "source": [
        "### Predictor Set 1"
      ]
    },
    {
      "cell_type": "code",
      "metadata": {
        "id": "vFKlOZKD2y9T",
        "colab_type": "code",
        "colab": {}
      },
      "source": [
        "predictors=['O3','PM10','PM25','NO2','T2M']"
      ],
      "execution_count": 0,
      "outputs": []
    },
    {
      "cell_type": "code",
      "metadata": {
        "id": "7UhhBDtY0YtI",
        "colab_type": "code",
        "colab": {
          "base_uri": "https://localhost:8080/",
          "height": 85
        },
        "outputId": "dc4c4ad9-15b8-4a91-9014-85d0b808fe41"
      },
      "source": [
        "models(X[predictors],y)"
      ],
      "execution_count": 341,
      "outputs": [
        {
          "output_type": "stream",
          "text": [
            "Avg. RMSE Linear Regression: 0.08430288111448721\n",
            "Avg. RMSE Ridge: 0.054635096936030234\n",
            "Avg. RMSE Lasso: 0.08430288111448721\n",
            "Avg. RMSE RF: 0.06183734469302844\n"
          ],
          "name": "stdout"
        }
      ]
    },
    {
      "cell_type": "code",
      "metadata": {
        "id": "CXYufeT-OBQa",
        "colab_type": "code",
        "colab": {}
      },
      "source": [
        "reg_ridge = RandomizedSearchCV(estimator=Ridge(random_state=SEED), param_distributions=ridge_dist, cv=inner_cv, \n",
        "                                   scoring=RMSE,random_state=SEED, n_jobs=-1)\n",
        "\n",
        "reg_ridge.fit(X[predictors],y)\n",
        "predictions = pd.DataFrame(index=test_f.index)\n",
        "predictions['mortality_rate'] = reg_ridge.predict(test_f[predictors])\n",
        "predictions.to_csv('final_no_missing1.csv')"
      ],
      "execution_count": 0,
      "outputs": []
    },
    {
      "cell_type": "markdown",
      "metadata": {
        "id": "McPzQ847W6K4",
        "colab_type": "text"
      },
      "source": [
        "![image.png](data:image/png;base64,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)"
      ]
    },
    {
      "cell_type": "markdown",
      "metadata": {
        "id": "nqF2HgC1XkvP",
        "colab_type": "text"
      },
      "source": [
        "### Predictor Set 2"
      ]
    },
    {
      "cell_type": "code",
      "metadata": {
        "id": "CFyGyEBE2y9f",
        "colab_type": "code",
        "colab": {}
      },
      "source": [
        "predictors=['O3','PM10','PM25','NO2_log','T2M']"
      ],
      "execution_count": 0,
      "outputs": []
    },
    {
      "cell_type": "code",
      "metadata": {
        "id": "DpJQvHvO2Mq5",
        "colab_type": "code",
        "colab": {
          "base_uri": "https://localhost:8080/",
          "height": 85
        },
        "outputId": "4573c4b5-5831-419e-c2f4-6e1226685b29"
      },
      "source": [
        "models(X[predictors],y)"
      ],
      "execution_count": 344,
      "outputs": [
        {
          "output_type": "stream",
          "text": [
            "Avg. RMSE Linear Regression: 0.08430288111448721\n",
            "Avg. RMSE Ridge: 0.05750155164999445\n",
            "Avg. RMSE Lasso: 0.08430288111448721\n",
            "Avg. RMSE RF: 0.06183762023544258\n"
          ],
          "name": "stdout"
        }
      ]
    },
    {
      "cell_type": "code",
      "metadata": {
        "id": "sfbjnYSzO0lI",
        "colab_type": "code",
        "colab": {}
      },
      "source": [
        "reg_ridge = RandomizedSearchCV(estimator=Ridge(random_state=SEED), param_distributions=ridge_dist, cv=inner_cv, \n",
        "                                   scoring=RMSE,random_state=SEED, n_jobs=-1)\n",
        "\n",
        "reg_ridge.fit(X[predictors],y)\n",
        "predictions = pd.DataFrame(index=test_f.index)\n",
        "predictions['mortality_rate'] = reg_ridge.predict(test_f[predictors])\n",
        "predictions.to_csv('final_no_missing2.csv')"
      ],
      "execution_count": 0,
      "outputs": []
    },
    {
      "cell_type": "markdown",
      "metadata": {
        "id": "5YxpB5KLZ7W0",
        "colab_type": "text"
      },
      "source": [
        "![image.png](data:image/png;base64,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)"
      ]
    },
    {
      "cell_type": "markdown",
      "metadata": {
        "id": "gdDRjcSOX8hb",
        "colab_type": "text"
      },
      "source": [
        "### Predictor Set 3"
      ]
    },
    {
      "cell_type": "code",
      "metadata": {
        "id": "pbN7ItL_2y9o",
        "colab_type": "code",
        "colab": {}
      },
      "source": [
        "predictors=['O3','PM10','PM25_log','NO2_log','T2M']"
      ],
      "execution_count": 0,
      "outputs": []
    },
    {
      "cell_type": "code",
      "metadata": {
        "id": "dJfjx2g52X_D",
        "colab_type": "code",
        "colab": {
          "base_uri": "https://localhost:8080/",
          "height": 85
        },
        "outputId": "ba0e358c-7a03-4326-fa2e-c3ecda91a66a"
      },
      "source": [
        "models(X[predictors],y)"
      ],
      "execution_count": 346,
      "outputs": [
        {
          "output_type": "stream",
          "text": [
            "Avg. RMSE Linear Regression: 0.08430288111448721\n",
            "Avg. RMSE Ridge: 0.05746712167752003\n",
            "Avg. RMSE Lasso: 0.08430288111448721\n",
            "Avg. RMSE RF: 0.06183762023544258\n"
          ],
          "name": "stdout"
        }
      ]
    },
    {
      "cell_type": "code",
      "metadata": {
        "id": "__8djLOIO45F",
        "colab_type": "code",
        "colab": {}
      },
      "source": [
        "reg_ridge = RandomizedSearchCV(estimator=Ridge(random_state=SEED), param_distributions=ridge_dist, cv=inner_cv, \n",
        "                                   scoring=RMSE,random_state=SEED, n_jobs=-1)\n",
        "\n",
        "reg_ridge.fit(X[predictors],y)\n",
        "predictions = pd.DataFrame(index=test_f.index)\n",
        "predictions['mortality_rate'] = reg_ridge.predict(test_f[predictors])\n",
        "predictions.to_csv('final_no_missing3.csv')"
      ],
      "execution_count": 0,
      "outputs": []
    },
    {
      "cell_type": "markdown",
      "metadata": {
        "id": "hXObxaNcZ81P",
        "colab_type": "text"
      },
      "source": [
        "![image.png](data:image/png;base64,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)"
      ]
    },
    {
      "cell_type": "markdown",
      "metadata": {
        "id": "83IsOxvSYNST",
        "colab_type": "text"
      },
      "source": [
        "### Predictor Set 4"
      ]
    },
    {
      "cell_type": "code",
      "metadata": {
        "id": "yQFKpb3t2y9v",
        "colab_type": "code",
        "colab": {}
      },
      "source": [
        "predictors=['O3','PM10_log','PM25_log','NO2_log','T2M']"
      ],
      "execution_count": 0,
      "outputs": []
    },
    {
      "cell_type": "code",
      "metadata": {
        "id": "kKmBhte42d9h",
        "colab_type": "code",
        "colab": {
          "base_uri": "https://localhost:8080/",
          "height": 85
        },
        "outputId": "a6a0e3cf-d6e1-45d0-adb9-86531dbf370b"
      },
      "source": [
        "models(X[predictors],y)"
      ],
      "execution_count": 348,
      "outputs": [
        {
          "output_type": "stream",
          "text": [
            "Avg. RMSE Linear Regression: 0.08430288111448721\n",
            "Avg. RMSE Ridge: 0.05741180968064223\n",
            "Avg. RMSE Lasso: 0.08430288111448721\n",
            "Avg. RMSE RF: 0.06183762023544258\n"
          ],
          "name": "stdout"
        }
      ]
    },
    {
      "cell_type": "code",
      "metadata": {
        "id": "edcboi5RO_GV",
        "colab_type": "code",
        "colab": {}
      },
      "source": [
        "reg_ridge = RandomizedSearchCV(estimator=Ridge(random_state=SEED), param_distributions=ridge_dist, cv=inner_cv, \n",
        "                                   scoring=RMSE,random_state=SEED, n_jobs=-1)\n",
        "\n",
        "reg_ridge.fit(X[predictors],y)\n",
        "predictions = pd.DataFrame(index=test_f.index)\n",
        "predictions['mortality_rate'] = reg_ridge.predict(test_f[predictors])\n",
        "predictions.to_csv('final_no_missing4.csv')"
      ],
      "execution_count": 0,
      "outputs": []
    },
    {
      "cell_type": "markdown",
      "metadata": {
        "id": "guE7KQFbaTg3",
        "colab_type": "text"
      },
      "source": [
        "![image.png](data:image/png;base64,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)"
      ]
    },
    {
      "cell_type": "markdown",
      "metadata": {
        "id": "AG_VvrNKYb2n",
        "colab_type": "text"
      },
      "source": [
        "### Predictor Set 5"
      ]
    },
    {
      "cell_type": "code",
      "metadata": {
        "id": "981op_1V2y95",
        "colab_type": "code",
        "colab": {}
      },
      "source": [
        "predictors=['O3','PM10_log','PM25_log','NO2_log','T2M_rolling']"
      ],
      "execution_count": 0,
      "outputs": []
    },
    {
      "cell_type": "code",
      "metadata": {
        "id": "VtXQschP2gta",
        "colab_type": "code",
        "colab": {
          "base_uri": "https://localhost:8080/",
          "height": 85
        },
        "outputId": "652d6ed8-6d95-4397-b852-e50b6284eb8b"
      },
      "source": [
        "models(X[predictors],y)"
      ],
      "execution_count": 350,
      "outputs": [
        {
          "output_type": "stream",
          "text": [
            "Avg. RMSE Linear Regression: 0.08430288111448721\n",
            "Avg. RMSE Ridge: 0.04975799609522568\n",
            "Avg. RMSE Lasso: 0.08430288111448721\n",
            "Avg. RMSE RF: 0.056665117085872165\n"
          ],
          "name": "stdout"
        }
      ]
    },
    {
      "cell_type": "code",
      "metadata": {
        "id": "DUxaRd3_PCSk",
        "colab_type": "code",
        "colab": {}
      },
      "source": [
        "reg_ridge = RandomizedSearchCV(estimator=Ridge(random_state=SEED), param_distributions=ridge_dist, cv=inner_cv, \n",
        "                                   scoring=RMSE,random_state=SEED, n_jobs=-1)\n",
        "\n",
        "reg_ridge.fit(X[predictors],y)\n",
        "predictions = pd.DataFrame(index=test_f.index)\n",
        "predictions['mortality_rate'] = reg_ridge.predict(test_f[predictors])\n",
        "predictions.to_csv('final_no_missing5.csv')"
      ],
      "execution_count": 0,
      "outputs": []
    },
    {
      "cell_type": "markdown",
      "metadata": {
        "id": "OuQmR79Gbt9b",
        "colab_type": "text"
      },
      "source": [
        "![image.png](data:image/png;base64,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)"
      ]
    },
    {
      "cell_type": "markdown",
      "metadata": {
        "id": "fPDFyI4RYrWG",
        "colab_type": "text"
      },
      "source": [
        "### Predictor Set 6"
      ]
    },
    {
      "cell_type": "code",
      "metadata": {
        "id": "RE6L8xO92y-N",
        "colab_type": "code",
        "colab": {}
      },
      "source": [
        "predictors=['O3','PM10_log','PM25_log','NO2_log','T2M_rolling','year','year^2','doy','doy^2']"
      ],
      "execution_count": 0,
      "outputs": []
    },
    {
      "cell_type": "code",
      "metadata": {
        "id": "xTtyF31d2lrm",
        "colab_type": "code",
        "colab": {
          "base_uri": "https://localhost:8080/",
          "height": 85
        },
        "outputId": "9f4e6b36-ef26-4c2e-f60d-db6ffc2451ed"
      },
      "source": [
        "models(X[predictors],y)"
      ],
      "execution_count": 352,
      "outputs": [
        {
          "output_type": "stream",
          "text": [
            "Avg. RMSE Linear Regression: 0.08364388883801627\n",
            "Avg. RMSE Ridge: 0.04685674560592255\n",
            "Avg. RMSE Lasso: 0.08364388883801627\n",
            "Avg. RMSE RF: 0.05507539026818298\n"
          ],
          "name": "stdout"
        }
      ]
    },
    {
      "cell_type": "code",
      "metadata": {
        "id": "h--rBqwmPFys",
        "colab_type": "code",
        "colab": {}
      },
      "source": [
        "reg_ridge = RandomizedSearchCV(estimator=Ridge(random_state=SEED), param_distributions=ridge_dist, cv=inner_cv, \n",
        "                                   scoring=RMSE,random_state=SEED, n_jobs=-1)\n",
        "\n",
        "reg_ridge.fit(X[predictors],y)\n",
        "predictions = pd.DataFrame(index=test_f.index)\n",
        "predictions['mortality_rate'] = reg_ridge.predict(test_f[predictors])\n",
        "predictions.to_csv('final_no_missing6.csv')"
      ],
      "execution_count": 0,
      "outputs": []
    },
    {
      "cell_type": "markdown",
      "metadata": {
        "id": "lC1GGRzlceRQ",
        "colab_type": "text"
      },
      "source": [
        "![image.png](data:image/png;base64,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)"
      ]
    },
    {
      "cell_type": "markdown",
      "metadata": {
        "id": "xITwsiKFY_yI",
        "colab_type": "text"
      },
      "source": [
        "### Predictor Set 7"
      ]
    },
    {
      "cell_type": "code",
      "metadata": {
        "id": "WPG4aZBv2y-g",
        "colab_type": "code",
        "colab": {}
      },
      "source": [
        "predictors=['T2M_rolling', 'year', 'year^2', 'doy', 'doy^2','E12000001', 'E12000002', 'E12000003', 'E12000004','E12000005', 'E12000006', 'E12000007', 'E12000008']"
      ],
      "execution_count": 0,
      "outputs": []
    },
    {
      "cell_type": "code",
      "metadata": {
        "id": "NjTao0I-2ogC",
        "colab_type": "code",
        "colab": {
          "base_uri": "https://localhost:8080/",
          "height": 85
        },
        "outputId": "69eeaf08-142d-41e5-9f66-ebcb398db6bc"
      },
      "source": [
        "models(X[predictors],y)"
      ],
      "execution_count": 354,
      "outputs": [
        {
          "output_type": "stream",
          "text": [
            "Avg. RMSE Linear Regression: 0.08364388883801627\n",
            "Avg. RMSE Ridge: 0.032637071281186744\n",
            "Avg. RMSE Lasso: 0.08364388883801627\n",
            "Avg. RMSE RF: 0.044767233429909806\n"
          ],
          "name": "stdout"
        }
      ]
    },
    {
      "cell_type": "code",
      "metadata": {
        "id": "EgMKiV3OPIjf",
        "colab_type": "code",
        "colab": {}
      },
      "source": [
        "reg_ridge = RandomizedSearchCV(estimator=Ridge(random_state=SEED), param_distributions=ridge_dist, cv=inner_cv, \n",
        "                                   scoring=RMSE,random_state=SEED, n_jobs=-1)\n",
        "\n",
        "reg_ridge.fit(X[predictors],y)\n",
        "predictions = pd.DataFrame(index=test_f.index)\n",
        "predictions['mortality_rate'] = reg_ridge.predict(test_f[predictors])\n",
        "predictions.to_csv('final_no_missing7.csv')"
      ],
      "execution_count": 0,
      "outputs": []
    },
    {
      "cell_type": "markdown",
      "metadata": {
        "id": "_XS3QBjWcknj",
        "colab_type": "text"
      },
      "source": [
        "![image.png](data:image/png;base64,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)"
      ]
    },
    {
      "cell_type": "markdown",
      "metadata": {
        "id": "ZlIiFplZ2y-8",
        "colab_type": "text"
      },
      "source": [
        "### Final Algo - mixed LR"
      ]
    },
    {
      "cell_type": "code",
      "metadata": {
        "id": "621ll5X22y-9",
        "colab_type": "code",
        "colab": {}
      },
      "source": [
        "a = LinearRegression()\n",
        "b = LinearRegression()\n",
        "c = LinearRegression()\n",
        "ab = LinearRegression()"
      ],
      "execution_count": 0,
      "outputs": []
    },
    {
      "cell_type": "code",
      "metadata": {
        "id": "-ic2BNwa2y_C",
        "colab_type": "code",
        "colab": {}
      },
      "source": [
        "\n",
        "y0 = train_f['mortality_rate']\n",
        "\n",
        "\n",
        "\n",
        "#modela\n",
        "a_predictors = ['NO2_log', 'year', 'year^2', 'doy', 'doy^2','PM10_log']\n",
        "a_X0 = train_f[a_predictors]\n",
        "a.fit(a_X0, y0)\n",
        "\n",
        "\n",
        "\n",
        "#modelb\n",
        "b_predictors = [\n",
        "        'T2M_rolling', 'year', 'year^2', 'doy', 'doy^2',\n",
        "        'E12000001', 'E12000002', 'E12000003', 'E12000004',\n",
        "        'E12000005', 'E12000006', 'E12000007', 'E12000008'\n",
        "        ]\n",
        "b_X0 = train_f[b_predictors]\n",
        "b.fit(b_X0, y0)\n",
        "\n",
        "\n",
        "\n",
        "#modelc\n",
        "c_predictors = [\n",
        "        'E12000001', 'E12000002', 'E12000003', 'E12000004',\n",
        "        'E12000005', 'E12000006', 'E12000007', 'E12000008'\n",
        "        ]\n",
        "c_X0 = train_f[c_predictors]\n",
        "c.fit(c_X0, y0)\n",
        "\n",
        "\n",
        "region_effect_reduction = 0.85\n",
        "\n",
        "\n",
        "# Model AB\n",
        "# Produces the final solution. Combines A and \"reduced B\" by using their predictions as features for a linear regression.\n",
        "\n",
        "ab_X0 = pd.DataFrame({\n",
        "    'A': a.predict(a_X0),\n",
        "    'reduced B': b.predict(b_X0) - (c.predict(c_X0) * region_effect_reduction)\n",
        "    })\n",
        "\n",
        "ab.fit(ab_X0, y0)\n",
        "\n",
        "# predict\n",
        "\n",
        "a_X1 = test_f[a_predictors]\n",
        "b_X1 = test_f[b_predictors]\n",
        "c_X1 = test_f[c_predictors]\n",
        "\n",
        "ab_X1 = pd.DataFrame({'A': a.predict(a_X1),'reduced B': b.predict(b_X1) - (c.predict(c_X1) * region_effect_reduction)})\n",
        "\n",
        "ab_y1 = ab.predict(ab_X1)\n",
        "\n",
        "\n",
        "\n",
        "predictions = pd.DataFrame(index=test_f.index)\n",
        "#predictions['mortality_rate'] =  a.predict(a_X1)\n",
        "predictions['mortality_rate'] = ab_y1\n",
        "predictions.to_csv('final_no_missing_final.csv')\n"
      ],
      "execution_count": 0,
      "outputs": []
    },
    {
      "cell_type": "markdown",
      "metadata": {
        "id": "_kSFukozcwCW",
        "colab_type": "text"
      },
      "source": [
        "![image.png](data:image/png;base64,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)"
      ]
    },
    {
      "cell_type": "markdown",
      "metadata": {
        "id": "zB9AjM7G2y_G",
        "colab_type": "text"
      },
      "source": [
        "# Results\n",
        "best LB socre for -(region_effect_reduction = 0.85)<br>\n",
        "private score - 0.28948<br>\n",
        "public score - 0.28784<br>\n",
        "\n",
        "\n",
        "benchmark -<br>\n",
        "private score - 0.29022<br>\n",
        "public socre - 0.29259<br>"
      ]
    },
    {
      "cell_type": "markdown",
      "metadata": {
        "colab_type": "text",
        "id": "5uEtQ5HKa3h4"
      },
      "source": [
        "# MICE Imputation on Full Data"
      ]
    },
    {
      "cell_type": "markdown",
      "metadata": {
        "colab_type": "text",
        "id": "oSVksSmha3h6"
      },
      "source": [
        "## Feature Engineering"
      ]
    },
    {
      "cell_type": "code",
      "metadata": {
        "colab_type": "code",
        "id": "BZeWu5dQa3h7",
        "colab": {}
      },
      "source": [
        "train_f, test_f = sets(train_full_imp,test)\n",
        "train_f.drop(columns='Region',inplace=True)"
      ],
      "execution_count": 0,
      "outputs": []
    },
    {
      "cell_type": "code",
      "metadata": {
        "colab_type": "code",
        "id": "lyLJ30nUlIZp",
        "colab": {}
      },
      "source": [
        "train_f, test_f = day_and_year(train_f, test_f)"
      ],
      "execution_count": 0,
      "outputs": []
    },
    {
      "cell_type": "code",
      "metadata": {
        "id": "mgqGRSX0lcpj",
        "colab_type": "code",
        "colab": {}
      },
      "source": [
        "train_f['NO2']=train_f['NO2'].apply(lambda x: f(x))\n",
        "train_f['PM25']=train_f['PM25'].apply(lambda x: f(x))\n",
        "train_f.isna().sum()\n",
        "train_f.ffill(axis=0, inplace=True)"
      ],
      "execution_count": 0,
      "outputs": []
    },
    {
      "cell_type": "code",
      "metadata": {
        "colab_type": "code",
        "id": "qNL7yawalIZr",
        "colab": {}
      },
      "source": [
        "train_f, test_f = log_transform(train_f,test_f)"
      ],
      "execution_count": 0,
      "outputs": []
    },
    {
      "cell_type": "code",
      "metadata": {
        "colab_type": "code",
        "id": "XApg1QGilIZt",
        "colab": {}
      },
      "source": [
        "train_f, test_f = rolling(train_f,test_f)"
      ],
      "execution_count": 0,
      "outputs": []
    },
    {
      "cell_type": "code",
      "metadata": {
        "colab_type": "code",
        "outputId": "4ca6482b-c632-420d-8fcc-06535ddc103a",
        "id": "r1uYBpXolIZx",
        "colab": {
          "base_uri": "https://localhost:8080/",
          "height": 34
        }
      },
      "source": [
        "train_f.shape,test_f.shape"
      ],
      "execution_count": 360,
      "outputs": [
        {
          "output_type": "execute_result",
          "data": {
            "text/plain": [
              "((18142, 26), (7886, 25))"
            ]
          },
          "metadata": {
            "tags": []
          },
          "execution_count": 360
        }
      ]
    },
    {
      "cell_type": "markdown",
      "metadata": {
        "colab_type": "text",
        "id": "RIhwUBZra3ib"
      },
      "source": [
        "## Modelling"
      ]
    },
    {
      "cell_type": "code",
      "metadata": {
        "colab_type": "code",
        "id": "xkNTCAoGa3ig",
        "colab": {}
      },
      "source": [
        "#X_train, X_test, y_train, y_test = train_test_split(train_f.drop(['mortality_rate'],axis=1), train_f['mortality_rate'], test_size=0.2)"
      ],
      "execution_count": 0,
      "outputs": []
    },
    {
      "cell_type": "code",
      "metadata": {
        "colab_type": "code",
        "id": "AEWmqiIha3ik",
        "colab": {}
      },
      "source": [
        "RMSE= make_scorer(metrics.mean_squared_error)"
      ],
      "execution_count": 0,
      "outputs": []
    },
    {
      "cell_type": "code",
      "metadata": {
        "colab_type": "code",
        "id": "CiaYz2APa3im",
        "colab": {}
      },
      "source": [
        "X=train_f.drop(['mortality_rate'],axis=1)\n",
        "y=train_f['mortality_rate']"
      ],
      "execution_count": 0,
      "outputs": []
    },
    {
      "cell_type": "markdown",
      "metadata": {
        "colab_type": "text",
        "id": "SlkG_vmza3io"
      },
      "source": [
        "### Predictor Set 1"
      ]
    },
    {
      "cell_type": "code",
      "metadata": {
        "colab_type": "code",
        "id": "HVDfwQe-a3io",
        "colab": {}
      },
      "source": [
        "predictors=['O3','PM10','PM25','NO2','T2M']"
      ],
      "execution_count": 0,
      "outputs": []
    },
    {
      "cell_type": "code",
      "metadata": {
        "id": "iFtvFLKjNbbv",
        "colab_type": "code",
        "colab": {
          "base_uri": "https://localhost:8080/",
          "height": 85
        },
        "outputId": "ca360956-9d43-4e4f-eca4-2e2415ec65ee"
      },
      "source": [
        "models(X[predictors],y)"
      ],
      "execution_count": 365,
      "outputs": [
        {
          "output_type": "stream",
          "text": [
            "Avg. RMSE Linear Regression: 0.09128997424052981\n",
            "Avg. RMSE Ridge: 0.0571595824653359\n",
            "Avg. RMSE Lasso: 0.09128997424052981\n",
            "Avg. RMSE RF: 0.06854168496728962\n"
          ],
          "name": "stdout"
        }
      ]
    },
    {
      "cell_type": "code",
      "metadata": {
        "id": "n9TzBoL0PrSG",
        "colab_type": "code",
        "colab": {}
      },
      "source": [
        "reg_ridge = RandomizedSearchCV(estimator=Ridge(random_state=SEED), param_distributions=ridge_dist, cv=inner_cv, \n",
        "                                   scoring=RMSE,random_state=SEED, n_jobs=-1)\n",
        "\n",
        "reg_ridge.fit(X[predictors],y)\n",
        "predictions = pd.DataFrame(index=test_f.index)\n",
        "predictions['mortality_rate'] = reg_ridge.predict(test_f[predictors])\n",
        "predictions.to_csv('final_mice_1.csv')"
      ],
      "execution_count": 0,
      "outputs": []
    },
    {
      "cell_type": "markdown",
      "metadata": {
        "id": "Z9BdRUmNWE9z",
        "colab_type": "text"
      },
      "source": [
        "![image.png](data:image/png;base64,iVBORw0KGgoAAAANSUhEUgAAA5AAAABWCAYAAAC5FXkQAAAgAElEQVR4Ae2dh9M1VX3H/QsykxgLiAgivRt7GyuoMZPJJMOkkMSMODhMCBlCMA6DASKDgAiItFFAOry0l/LSi4BUkQ4C0nuRXqW4mc++fq/n2ffeu/uU+5T7fM7MPnt39+zZs9/9/n7n9z3n7D5vq0wiIAIiIAIiIAIiIAIiIAIiIAIi0AGBt3XIYxYREAEREAEREAEREAEREAEREAERqBSQkkAEREAEREAEREAEREAEREAERKATAgrITjCZSQREQAREQAREQAREQAREQAREQAEpB0RABERABERABERABERABERABDohoIDsBJOZREAEREAEREAEREAEREAEREAEFJByQAREQAREQAREQAREQAREQAREoBMCAwXkAw88UD3++OMrFPLqq69W9913X/XCCy+scMwdIiACIjAZBJ577rnq7rvvru64447qqaeeqn7/+993Pv13v/vdjPuiN954o/r5z39e3X///Z3rMZ2MDz30UPXEE09MpwjPFYFOCMDpxx57bELel19+ubahZ599dsL+p59+ut7/2muvTdjf3HjmmWeqiy66qGI9nfSrX/2qYjHNLgLPP/98/ZyJ6ZrLW2+9NbuV6Xi12fbRqZYcDRKuR4UA8c+TTz5Zx0P33HNPhX3O5zRQQB566KEVC0FdmWiA2E/AZxIBERCBqSCAo7z66qtrXxJfw/q8886rXn/99U5F/va3v63Pv/322zvl75IJh009EJEkgpXLL7+8wpmX6frrr69YppuOOOKI6txzz51uMZ4vAq0InHjiiRV8KztpbrjhhprvF1xwwYTzly1bVu9vs8W77rqrzseahJDEXrDNQQmhQh5sK+moo46qWEyzi8Ctt95aP7/SB+d3W+fBbNW06WubPnoU9ZCjo0DVMochgL3F78YGWc/njrVWAUmjUzp6BeQwCnhMBESgCwIPP/xwL3Al6GRGwxVXXFHvI6jpkkYhILkusywSZDPKiRNH7JbplFNOqU4++eRy15R+KyCnBJsnTQGBa665puYyo4tJZ511Vr2vFJZvvvlmvY9jXRKjmEkPPvhgfS4zmAal1KMUKAjVNrE6qDz3Tx2BCEhGp1988cUJS3zg1EufmTP7+drSR8/MVSaWIkcn4uHW6BH45S9/WftOBONLL71Ud8KdeeaZ9b5hHXKjr9ngK7QKSIKnq666qldCPwFJY3HxxRdXiE1umN6bpNtuu61aunRp9cgjj9Tq+rTTTqvoraTRoZefIAzgXnnllZxSEbQB4umnn16dccYZFb2k88WZ9SrpDxEQgSkjgH3jW8rpmwSuN910U2/6aHxH2YGFL8qIXQTkjTfeWI9o4H+YTldOvU8ZXf0PQSx+h/MQtfgr6kmAjR/Db51zzjn1Pvazj6CZ1Oa3mBLGfVMmC35TATllCnniJBFIpw3cJmFX4TbrzDZKG48tkujgoXOHtppgHntLe4ytYQOsafePP/74ukzWzCZoJtp6OM/1KCuj+Jdeemlv1D9lImouvPDCasmSJdW1115b4R9Ycx75SyHMdZiJgG1ynPoiMkzDEYiAZNpcvwRneL68ZpB05ZVX1nFZYjam4V9yySX1c2LdDHaZHs05PMezzz67uvPOO1NU7Wcpf5CP7+drSx+dgsprnH/++ROukfzMmoM/8Bj+DLpnORpUXc8mAmgd/GI5dZwYBH9b2lTsjXiHmSNlvEN9y+Pw/NFHH+3dRnwr9kwcha8ktcUuvQIaP4YKSIwXh8BNEYCR0rhkCmt6HKkIvTY4CfInMCTgY5vpKTQGrNmmgaGHMz2gGC2JRiL7Lrvsst6QLvUwiYAIjAcCBKv4AcQaTi0BaXl38R04tyR8Uqa6RUBSDkEpHVIJTvNOVsro6n8YFaE8fBkBUs5H8BF8UBeCXsrjWuwjkO3it3DmlE0nWxkYRRDnHl2LwCgQiGDMdNVSUMLLm2++ub4s/GYb+2JUCq6zYAsIAI4R1JAQeWwTB9DmUzbbrCNAy3shcEmnDOWlsznitCyTcrCTxBTEDARNxBEcQ3gkXXfddfU+RGtiFs4rfUfyuv4jAm0CEr9MbIevQ4gl/sPvkQhWeRYR7eRjScAb/pCH50Y+fmeWSfxr+ZxKH9/P15Y+mjoQZMcfMzWaNoVrhH/Jzz44hMDkN/Usg/WgIkeDhOvZROCWW26peYnu4dsQ/VL0Ftwl3oH3cDmdfzmOn6QTDb5zHLslxV+zL3m6xC796sK+VgGJYR977LF1RTHEOJAISBwFziA9SPTqUDlGDUlxEPfee2+9nUYLJ5HETbKQcoPJz76UwfVNIiAC44EADTyOEH8Rh1iOKsTuBwUXEZA4wvif7COQIKWM+JM2/5NgAwFJ4trUr20Ka5vfYuSScghekvL+mAIyiLgeNQK0u9gawoBOWziJMEBspU2mAzd54O2vf/3rXkBDwM05vKtDCu8JXEgJYCY7hbWfgCQAIsUmqRPBDgn7ph5M9WKkkd/Jz3GEKfuon2kwAhGQYJuOAtbM5EhKTIdPRAASD8bfwhv25bnQ6Qbu+F1S/G9GQeAdPENMlscH+XjyUD78SAof4qNzjQTRXCNT/6hX8nNfHCMlWKc96Jcom/vg3CQ5GiRcjwIB/HD8GtzDzuBhRvq5ZjrTwks6T7CPdJZwHJ7HnjgX28YeSPHXpX1nX2Ik8sWmcp365D5/WgUk52D83BA9e00ByXFGEOgp4jjBHHmbxp2K4PA5Tv6k9CiynUaNKbH02LNkaJfeLpMIiMD4IICjY0pTRi7wDbHzOLE4Q+6a4AMHSYpYJF+Z8EE4VVLK6Op/yFf6L67NdpuAbPNbCaxLJ51rKSDLp+fvUSIQwUBHDSOBEYJlwAzf8xEp6sJHSwi4y9Gd2FeCj1EIyFL80cGMsE1iuir1xAdkFIwgKTEDARLHM7Mp57meiED4QOzGqGKWDBAkN+IcPFnyrAl42cbfBnfW7MvoMBxLZ0TKKtfxz4N8PHnbBCTXoA5lov7Ug1Hx+NmygyFtB/ffL5X2kOP9BKQcDTquZwoBRCGzQTKSTryDboq9pfOleb0cL3lOHrQUtkDnSfx1ydu22KV5nXK7k4DkhBh6FHIcTKa7oJYZes12U0DGQbQJyDgqHBrXKpfmXN/yRvwtAiKwsBFg2gaOjmlypPic+A72EUQ2BSTT18pEwJGAollGm/9JsBH/1VVAtvkthCP3Vo7MZEqhArJ8ev4eJQJM7YaHmfKZaau8osL+vJucd96yHxFA4EL7jv3NhoCMUAGPYQIytoWALOMFfufrsKPEdCGXHQE56H3A3BtTluEHS2aJZFYFz6aJe4Q7fjizy1JWuW76Z46VPp7tNgHJNcLHlA1/qSsjjE2fTp7YwXQFpBwN4q5HgUBmKWF/sTdsrV/K8cQuyYMuwxaINyIgS962xS4pp9+6s4BkKkCGT6lMBCTCkSVTA2KYuYmmg2gL4AJY3o2g0pxDj1G/+er9bsp9IiAC8xsBggT8CL1tSZn+xIwDEsEtefL+NT4oU604nl7k9HazL2XQAUWarP9pBhsRkM1evVKkcp02v5VPz1OfpEynVUAGEdezgQACELtiiRjAtrKPdaZNEaywHTulnccGE7A3AxICE/KXI+3NeyI2KK/B8X6jO2WQM0xA9rMtgiU6nMvOp2Y93K7q1494FsMEJM+ePAh0nj3+NvEeXCIuLBO4E8ySGMnmXJ5REsFw3qFt8/Gc0/S1TR+dUc9wlnOyj7zN/BxPnNomIMsy5WieoOuZRiCdyXAstsU16HDGfujYI2FvLEmMOuJPo5c4xoh8ykAz0cFCuaSmv2ZfW+ySa/VbdxaQnJyAjRuKgEwgyP9Jw+Fj7ByfqoDE8QACohTnQk8SALCvNOZ+N+M+ERCBhYFApqARfCSgwMnhO9KoJzDEF+BACVw4Hgda+iOmtvKuFs6TPBnpm66ATMDMNalzOrEy5ZZ3D/hQRJvfopzUjdEf3hEnGKOuCsiFwdlxqWV6pGNHuS94CB8jDtmfGUWs6cihY6bM0wxIEKQcpxMoQU3Kz5qvwJKHeuRje9MJzik3cQhTzakT/oBr5N27XNv1RAQyAkkHGb6sXCK+gyVCktcNwBVfSAo/mDLM8wZ/jkcg5vUnOgA4J/44HWltPp5rNH1tUxDmGrQPxIuZkpepfs38lNkmIOVo/Xj9M4sI5FU+7A3+oaHw0dhT3u/N/+3FvyL8YpvxtTmOn0aTxXZir01/ze21xS7DIJiUgKSgVDCfYubGCPC4SRbm0LNuCkiUMqnfCGTeV0hFMe7M/6UswHL6atBxLQLjgQBBRkQUdo6zzMvguUP8TZwoQQcfoUngm2AVX0OAkjIiQCkjAUtX/5NgI18ZpIwETZSPaCWVfi/Xa/NbOGp68SmHhWvgOxWQNaT+mSUEMuUTAVcmggx4WU4J5wM1JWcJSBCYdIaQmgEJHSUZtaSs9ISX16FM2nSO56NSCMhBZXJucwSSziLOjz1i3wnA2E/HFHlMwxGIgASz5oJgJDBlf0ZAeJ6JzdKhj2CLj2bNv+won3sGAVI+wS0jLknDfDx5mr62n48mWGaggWvQpnANRtVJ/fJHQOZf2qQuWcvRIOF6thCgwyade7EVON380BNxQ+wNrqezJvVs2mN5vOmvc05b7JJ8zfVAAdnM2LZNcJTe+ba8XY/jZBL4dT3HfCIgAgsHAQINfAcN9qBEni6+hXLKwGVQeVPZT7kEIs3EvuY12/wWDUUZQDXLdFsE5hsC8HwybTHBexvHKa+LXU8Gi0F2OpkyzDs1BCIoB52Njx/0vHlug46lvH6+Nsey7pInebus5WgXlMwzkwhgB8xqavOf2Fsz9ijr0WaPZd78botdki/rGROQKdC1CIiACIiACIiACIiACIiACIjAeCKggBzP5+pdiYAIiIAIiIAIiIAIiIAIiMCMI6CAnHFILVAEREAEREAEREAEREAEREAExhMBBeR4PlfvSgREQAREQAREQAREQAREQARmHAEF5IxDaoEiIAIiIAIiIAIiIAIiIAIiMJ4IKCDH87l6VyIgAiIgAiIgAiIgAiIgAiIw4wgoIGccUgsUAREQAREQAREQAREQAREQgfFEQAE5ns/VuxIBERABERABERABERABERCBGUdgoIDkH1SeeeaZ1Xe+851q3333rfjn14cffnh17733zkglHn744ermm2+ekbKahVx//fXV8ccf39w949uPPfZYddVVV1UvvfTSjJdtgSIwzghcd9111YknnjjOt+i9icC8ROC5556rrrjiiurCCy+sHn300XlZx+lU6oEHHqhuueWW6RSx6M6FB/ABXsCPcUvwAV6YRGCUCEzWjsh/ySWXVBdffHH1+OOPr1C1q6++utYY6IwsTZ/9/PPPV+Q799xzq3vuuadCuzXTE088UV/n0ksvrZ566qnm4QnbxGY33HDDhH2DNgYKSETY1772terQQw+tnQoVYPuss84aVNak9p900knVtttuO6lzumY+5JBDqi222KJ6/fXXu54yqXxvvfVWLa7Bg4WHZhIBEeiOwI9//ONqyy23rN58883uJw3ISUfOgQceWL3yyisDcrhbBEQABOgApm1k+frXv163XwQv45SOOeaYascddxynWxrpvfD8iWPgQ7gxUwMFI634JArfYYcdquOOO24SZ5hVBCaHwGTtiAE67G6rrbaq7Y7fl19+ee+iL7zwQn0cmyRWynLeeef18tAxEpulHMpAs5Ui8he/+EWvHPKSB5HYL1177bX18a233rrf4RX2DRSQp556au1QyjPeeOONcnNav0cpIAFvJuvavFGCXx7E0UcfXYOtgGwi5LYIDEdgJm30jjvuqO1wHHvOh6PoURGYHALbbbddtdNOO/U6VxFbBBT0Yo9LUkB2f5I8d54/mJHodIcf8GSckgJynJ7m/LuXydrRs88+W9sdIpJER/qPfvSjWlcwQEWiEwfb7DcyWWeoqnoQbs899+zpnQsuuKA+J6PtlItWQVSiiViYUUpnUTPRAZ9OpGkJyJ/97Gd1QVQewzv77LNrRUuv3m233VZf96c//Wm1bNmy6qijjqpvYr/99qsI5MqE8sUZoYx33nnn6qabbuodnoyA5FqMfLLeZpttqr333rviAZx//vl1T+Muu+xSoZyT6AkApCSAYUor9Wc5+eSTJ4x8PPLII9VPfvKTumzqy1DxsMR9P/3009WDDz5YP6xhAvLGG2+sfvjDH9Zl86Dvv//+XtGUAWm4p+9973vVZZddVh/joTN1mOHmMtGDdsABB5S7/C0CCxKB0kaxCfzMyy+/3LsXpmTsvvvuve1BtsJMCewHX0XQwzT7fqmLvyr9wPe///3qyiuvrIvC6X7729+e4GPwIexLRxVT/PEtpR/qVw/3icBcIZCApGyn4S22M2xmEbZK+82MIewLW0xK24r9br/99hUdz7GJ5KHHfNddd63PZ3bQiy++mEP1rAHaZs6n7V26dGmvbaaTCZvCFxBfYOfEJs2Aivaa9pM444gjjqgXzksa5DtyfDGvee48f3iQlA65QaOQPF9iEZ73VOKpcIZz284v/TD1S1vB6088c3w+QThlJhGAw0P8M5wlqIZf5QjknXfeWbcvBMr7779/xbZJBKaKwGTtCP3CaGM5S5JtbDH+MaOBTX+aOsJzNFY5JRVfRxmJQziGXiqnvaLDyNPsNCRGwofyatG0BOTtt99e7bPPPvWQKXPiUbM487JiNChs0zAgqDBQlG5ulvM4jnHSABEMsp3GZzICMtdimhrOgqFclDLOgWun7FdffbXGtiwbMUYdufaRRx5ZC0nqedhhh9V5n3nmmbosrkFDt8cee9R5r7nmmjynges2AcnwMtfFSVLP3EcwoP44QPA59thj67x5d4OHjgNMwsFTbxpYkwgsdARKG8XfYCdxnNwbnVZlL9kgWyGYxOFxPh1KZXBcYhTbG+SvsEmuh82dc845FYEuZWZKCecTxCZlukg61OKUS2eevK5FYD4gkACFtrxM2AR875doB7ED2ifaKUQDQo8y0rZiCwRQ9HKTN20r5dHRwj7aM9puAhNsOefT+YvdnXbaab22OXVJzEG7d9BBB9WigLxlx1KCLGID2kaOcz3a3KRBviPHF/MarHn+ZSIwBcP4vvIYv3m+PBNiGhbisbzP3hZPhTOU3y8ea/PDaSvgHB0PdChQVkZyqF/2cZyRVepKngjIjP7QoU8nPdwkjzNYmk/a7a4ITMWOyrLREvgsdFRSRCl+lWOs77777hxeYQ2vDz744Jrrw77LwsxJbLZsB+666676PPQHfnRaApKa0YNDj19SnHmULQEVzjrDrQROGCkjbiQcQSnCCA45nn1lAJlrDFpzLUbkknAWlHXffffVu1I2PZWksmzqQ94ysGRkAbVNwqkg4iJ82UcDVTZAdcY+f9oEJGWUzvm1116r39XiISF2qRcvrifhHJn3TGKOMscTkKYhj/jMOa5FYCEiUNpogoJBArLNVtJjPiwAaPNXBMgEJemEAlNGW/BxJAIlggz8He9cYpv4Dc4jEbSwbRKB+YpAOl+b9aOTl9Gcfgl+E2yknSdIIdgg9es0SdtMW8eCnRBLJNEZzfUQGmmby1k5EYR0DCXmKDtuCPgpM7MVELSUl0SPPsfTfrf5jpy3WNd0mJf4BQeeeSnKsp812JYzvHim+ERSWzyVZz4oHmvzw2krLrrool6V6DzI84YXPH86O5LSPkRApg4ZlUHUwuVyNCjnuhaBLghMxY4ol5gnHRzEGuXsCvwmx5ilSGcI8QXc7ici0UccYxn2AZwMapX2Af/pZOM6pFkTkCjiMgEAgVYSDcPpp59eiyaUNTcXwy8DyOQftCb4K3s1EYqUlUaN83B4ebm0LJse0LIBbF6DHlCEMoIyS0ZTm3mb28MEJIKUOqZOzXPZ3muvveo8jPbyQCMeOcZDpd4ZcaSXjLqaRGAcEChtNEHBIAHJ/Q6zlQQIbQJymL/67ne/2+tUCr4pl6A5ovE3v/lN/bUznDmjpBGN+JATTjghp7oWgXmHACPrBCTNRNuCffVLvJ5BO0aPNEFMGfifcsopdXlpN1kz5ZD8dO7Gfh566KF+Rdejk2UnNZlo9zifTt4ISGYzJRFgpfy0sek4Tp5mB/Aw35FzFusabHj+zQRP4Eu/xH6eASPRiMwIMfK2xVNt8VibH05bQQdEErFTeJ3jzViK4xGQCEViK/bBWTotFI9B0/VUEJiKHXEdfBj+i1cB6cCmQ6ycTl7Whf3EG7wS10wIQ2ZxoF3gdt6BLPOxD84zSlmmCNXYzKwJyOb7RqWA5JOyOBmmhNE7z0gb21MVkOW1JiMgGa4dNhzLA6MRo/zmUgrUEvD8HiYgmZPP/Q6aBkIZlM/7GzS6PFiWsneB9zkgTJeyUifXIrAQEGgTkAQmGf3jfobZSgLVNgFZ+hDKLP0VjhdfUSaCYGw4ARJ+gnoToBKMsJ/jmf5R2m5Zjr9FYD4gkNG9cpSdejF607SNsr5PPvlkb4QdvmfEiqCHNqvZbrKNbeRL7oNmzWBv2F0zUSZxQgRkZj2Rj7pQB2wz7SLXKROjYxmRYv8w31Getxh/86xKrMAgo7Yl7k1s8Ll8TBAfyvPITKq2eKotHmvzwxGIZWcjo9JwhhTOle9Esp+gOgKSbY4TKDM4Qf2Js8oy68L8IwIdEZiqHZXFM+AGF4fZHZ3UCM1BKZ0jaIcy8V80sIHddtut9445xzNzlEGs/JsQ/Cd52W6ziaFfYS17B5vOHMMDtDKVARmOpJx6kqkFsy0g8y5mgkDqS49ohB2jEjwQ7i+JBq/pgHKsXA8TkORDuJYYcA2uy//ApFGDMKxJXI96MB0jKQEsjg9iMSXIJALjgEApICPE8j4h94fdREC22UoEZNkr3cSozV/RE00gVfqBjNhkH9OrCDSwRQIZEjbLeTjc5Gte220RmA8I0K7B3fLjbAkgylG+sq70Suc1CvYzo4Yy2Je2tTxOOxbBmHfN0uZzPgEJ//eMNQEKZZVBCr3k7KPtw574XQZUpYCkPNrYTCNnm3OwxYiiNt/BOYs55RmCa1KmCec5Zn/WjALnHSvwJeBMUNsWT+V6g+KxNj/cJiDDcaapJhFvwaMISEZy2JdEPMjx0i5yzLUIdEEgvO5qR/g03sGNHXGN+MvMWqSDg/eEy0RclJmI2CGd2XmlIPmIUcpZBXSs4yeZ5toc3eTjUfjLcsEWWNjXLDvXyHpkApIbQIDSEGCggEWl0piUAWQqM2jdDP4mMwJJ40QgSs8WvVM4IJxd3vlI8Inj46tjt956aw1cv2HiZv2aApJzuU6cU94HoYEjb4Qg04IyJY5pQTTAeeeRKR5lYm4yuJXCsjzubxFYiAg07R9fge0QVOajOBGQbbaSoJKpGHxJtV9q+hDylB1e8QPMlsBfUQ96tdlOwtlii+xnqh2JgId9+fBH8roWgfmIAO0a/CWAoS2koxc7KL8BUNab6U60l0zdxrY4H74TiCAuOZdphwTstPUEN+RPZyftLHn4wBXHCXi4PuenbaZXnPLpQCL4wQ9gX10E5JIlS+r6EPzjJ2hPqV8EZJvvKO91Mf7mufN84AF8gBc8n0HxD/nx1TxHRCABJjEKHCDFjw6Kp/LM2+KxQX64TUBSB3w9HORLrcRicBBOREDSic82cSSxF1P/2KZskwhMBYEudoQmyiynaAfenWT6KdoEPwgP0yHH1Gy2iYfQDLwywHbeX8xrbtgj8Qq2x6t+5MkX5OnQw7ZLnw/PWcqOu/KeZ2QKK0ZFxZKazrwtIMNwUb3cDAvKmZvoJyAZXsUZNZeMKDSvNUhA0kiRmsEpvZo0KKkLc/dTNvkBv6wrU0oBnkawWadsQxjukTLzbzzSc1c6IsQjSp583H/qyHXBAkeXeuG0uW6ZIkLLMsvj/haBhYhA00ZxoDg6bAH7JBAksElqsxVmQ3BuAsecl3XTh7Cf8st3tnG68QPYKkFQZgiQn9/Yctm7lylTrE0iMN8RoE2Dv2lzsDlE1qBEDzmiMPnhf8l12sCybeWVFYRiEu1ZOo8pg/au/JcJzfO5VqaiN2MOykxnUa6BTWKn2CvlI0DpzCm/YN7mO1LXxbrm+cf3giH8SAdAP0wQ+5mJQX7EIHFR0qB4Ksfb4rFhfpg4iGuWwS9xF88/iY4NBC35WBghZfSFNiWJjr9whjwE5/DNJAJTRWCYHeGniC3Kj2rysZvEG3AQmypH/OAjA0rhKb4XPVAmrll+QIeYJtPJyUcnSuyguS79eFnmjAjIssDp/GZKQTlM268shGrz5thmXu5MJhqzpkAry8fxIAyTcGT96sU+Gr5+KSMT5THIw/D0IAcFRuV1y3P9LQLjiABTM/qJvWGBCzgMsxVGNdrO74Il/x+pnx13Odc8IrAQEMBW2trl8j7ITxs2KLW1rbybQ/s6KHH+dGyX9rP5f82a1xrmO5p5F+M2fOA5d02IuMnEU81y2zgzXT9M+flab/PabBOXwQnWJhGYKQQG2RE868c1ODrMjtANbb4N/zfMv87UvTXLGTiFtZlxlNs4IgBqLsNAHWV9UjaNXrNO2e5HhJznWgREYDAC9FDTm1b2CA/O7REREAEREAEREAEREIH5hMC8EJDzCRDrIgIiMFoEeJ+X91HojDGJgAiIgAiIgAiIgAgsLAQUkAvreVlbERABERABERABERABERABEZgzBBSQcwa9FxYBERABERABERABERABERCBhYWAAnJhPS9rKwIiIAIiIAIiIAIiIAIiIAJzhoACcs6g98IiIAIiIAIiIAIiIAIiIAIisLAQUEAurOdlbUVABERABERABERABERABERgzhBQQM4Z9F5YBERABERABERABERABERABBYWAgrIhfW8rK0IiIAIiIAIiIAIiIAIiIAIzBkCCsg5g94Li4AIiIAIiIAIiIAIiIAIiMDCQtbQSg0AAAg+SURBVEABubCel7UVAREQAREQAREQAREQAREQgTlDQAE5Z9B7YREQAREQAREQAREQAREQARFYWAgoIBfW87K2IiACIiACIiACIiACIiACIjBnCCgg5wx6LywCIiACIiACIiACIiACIiACCwuBvgLyq8s+WLmIgRyQA3JADsgBOSAH5IAckANyYPFxYJikVUAqlu0skANyQA7IATkgB+SAHJADckAO9DiggJQMPTLYg7T4epB85j5zOSAH5IAckANyQA7IgclwQAGpgFRAygE5IAfkgByQA3JADsgBOSAHOnFAASlROhFlMr0S5rUXSw7IATkgB+SAHJADckAOjCcHFJAKSAWkHJADckAOyAE5IAfkgByQA3KgEwcUkBKlE1HsQRrPHiSfq89VDsgBOSAH5IAckANyYDIcUEAqIBWQckAOyAE5IAfkgByQA3JADsiBThxQQEqUTkSZTK+Eee3FkgNyQA7IATkgB+SAHJAD48kBBaQCUgEpB+SAHJADckAOyAE5IAfkgBzoxIFZE5BfXrpJ9amD1qk+vNsHqk8fvG61+WmbdKrgKHsuNjtxo+oT+6xdsR7ldSx7PHtffK4+VzkgB+SAHJADckAOyIHFxoFZEZAf23Ot6l0f+ZMJyyqf/7PqMz9Zb06F2yf2Xbuu06f2X6dTPRDBG2zz3urje63VKf9iI5P3qwOVA3JADsgBOSAH5IAckAPjzYGRC8hPHrBOLdJW/cqfVx//wVrV545Yv/rQrmtUK336T+v9Xzp54zkTY5MVkJudsnFd543/c9U5q7MGOd4G6fP1+coBOSAH5IAckANyQA7MZw6MXEC+/2/eWYvFLxy74QTR9ZFd16jF2If+d43efsTmut98T4XYXO9bq9RTXgPeZw5Zt1r9b99VIfrW+beVq/f95Tuqjbd/X8WoIOvV/vqd9TmfPXz9urwvn7pJtcbfvasWqxwn/1r/ulL1yf3+ONrYT0CmDuSnLp89bPko6ReP2bDiXhhJRfxSly+esHzq6+eO3KDa8D9WrVb/q3dUa/3zytXH9naEMs/NtQ5QDsgBOSAH5IAckANyQA6MDwdGKiARdwguhNgKpDlz0+oLx29Ybf6HEUimkZIX8bjBv7+3WnXzt9fbvC/JuRF75Flry3fXgrDOv/nb63MQlWwj7MjPyCbbWdbbepVqlS8tL/NTB0wsM1NYM1qKGKUOCEWWzx62fvWlJRtVG223al0eQnLj/3pfxYjkF4/bsGI6LsuG2763rgvX/Ojua654z76YKyZyQA7IATkgB+SAHJADckAOLGAOjFRA8o4jYuovdn5/K0kY8UOEIcpqAbhko1q8rbnFu+vtCEiEHccRnpSNwEOoso/3E9mHMC0FZKbJMmJI/rX+caUJZUZAUgfE4+anLy+Pj+tQ3oZ/mLLabwprRCVCkjp85axN65FIRiPZdhEDOSAH5IAckANyQA7IATkgB8aFAyMVkJ8/eoNagG3636sNFVKbnbpcDDKCVwK73lbvqc//8hmb9kYgEZLJwyjlGn+/XGCyjy+8IviYdhoBufa/LBeLOYdtRCRCL6IUAcmUV85lBHT9b63SW9iXUc1+ApJjlFeek9FTysx1Xes05IAckANyQA7IATkgB+SAHFjoHBipgPzqmZvW4mrNf5oo4gANgcd7kPxrD0YGEWq8q1gCusE2qywXkEs3mSD2kqeLgFz3GytPKDNTXUtRioBMHSiTkcxy2WSH5fXqJyARnNS9zJ/fm500dx8ICkaudVJyQA7IATkgB+SAHJADckAOzBQHRisgl32w/nANAosvsJaV5iM57M+IItNXebcQ0Uk+BB7iLFNBy9HClNNFQGa0sS5z6Sb1NNmMKDbLpA5MY035rPl4Tz6WEwFZjpTybiX3Uf4vST7kw4d1GOUsy/K3hisH5IAckANyQA7IATkgB+TAQubAyAUkH5/JlE5G/zbZcbX666iILoQcQhEAP/g/q9dCjA/u8H8WM1LItFSON8Ue+7oIyFzno7t/oGIklO0P77L8y6/NMjdNHb6xcvXxH6xd8e86yL/pTqsvF4J/GFFFaDJ6St0/feDyj/9wLx/dY816P+es+Q8r9cTwQiaIddfByQE5IAfkgByQA3JADsgBORAOjFxAcqHPH7NBtf4331OP/iGuEGCM4uXjN+RhtG6THVabkKcn3LoKyP9b8R1IBGn57zfKabJNAdmvDvx7joyKUk++rso9sORffCB4GbnMfv5dSDkiGbBda3hyQA7IATkgB+SAHJADckAOLGQOzIqADEAINEYks91v3SVPv/Oa+/IRnQhGrpvRzmbeftvkpy79jiEo8+9HyuNcczLXKM/1t45EDsgBOSAH5IAckANyQA7IgfnOgVkVkLMJRlNAzua1vZaGLwfkgByQA3JADsgBOSAH5MA4cmBsBSQfvOEjPF3+B+U4PljvSYclB+SAHJADckAOyAE5IAfkwExzYGwF5EwDZXkanxyQA3JADsgBOSAH5IAckAOLnQMKyGUawWI3Au9fG5ADckAOyAE5IAfkgByQA904oIBUQPb/UJC4iIsckANyQA7IATkgB+SAHJADDQ4oIBuA2PPQredBnMRJDsgBOSAH5IAckANyQA4sPg4oIBWQ9qrIATkgB+SAHJADckAOyAE5IAc6cUABKVE6EcXepcXXu+Qz95nLATkgB+SAHJADckAONDmggFRAKiDlgByQA3JADsgBOSAH5IAckAOdOKCAlCidiNLseXDb3ig5IAfkgByQA3JADsgBObD4ODBpATnsBI+JgAiIgAiIgAiIgAiIgAiIgAgsTgT+H0Ih1yGhjwPCAAAAAElFTkSuQmCC)"
      ]
    },
    {
      "cell_type": "markdown",
      "metadata": {
        "colab_type": "text",
        "id": "gOBNChKRa3i1"
      },
      "source": [
        "### Predictor Set 2"
      ]
    },
    {
      "cell_type": "code",
      "metadata": {
        "colab_type": "code",
        "id": "WnMzh950a3i1",
        "colab": {}
      },
      "source": [
        "predictors=['O3','PM10','PM25','NO2_log','T2M']"
      ],
      "execution_count": 0,
      "outputs": []
    },
    {
      "cell_type": "code",
      "metadata": {
        "id": "gxDlF43MNdex",
        "colab_type": "code",
        "colab": {
          "base_uri": "https://localhost:8080/",
          "height": 85
        },
        "outputId": "68792ca7-b66e-4b79-a540-335cbade87c2"
      },
      "source": [
        "models(X[predictors],y)"
      ],
      "execution_count": 367,
      "outputs": [
        {
          "output_type": "stream",
          "text": [
            "Avg. RMSE Linear Regression: 0.09128997424052981\n",
            "Avg. RMSE Ridge: 0.061065922730034826\n",
            "Avg. RMSE Lasso: 0.09128997424052981\n",
            "Avg. RMSE RF: 0.06854168496728962\n"
          ],
          "name": "stdout"
        }
      ]
    },
    {
      "cell_type": "code",
      "metadata": {
        "id": "HdbPfnrqPzJp",
        "colab_type": "code",
        "colab": {}
      },
      "source": [
        "reg_ridge = RandomizedSearchCV(estimator=Ridge(random_state=SEED), param_distributions=ridge_dist, cv=inner_cv, \n",
        "                                   scoring=RMSE,random_state=SEED, n_jobs=-1)\n",
        "\n",
        "reg_ridge.fit(X[predictors],y)\n",
        "predictions = pd.DataFrame(index=test_f.index)\n",
        "predictions['mortality_rate'] = reg_ridge.predict(test_f[predictors])\n",
        "predictions.to_csv('final_mice_2.csv')"
      ],
      "execution_count": 0,
      "outputs": []
    },
    {
      "cell_type": "markdown",
      "metadata": {
        "id": "JjDu6n-jV3tG",
        "colab_type": "text"
      },
      "source": [
        "![image.png](data:image/png;base64,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)"
      ]
    },
    {
      "cell_type": "markdown",
      "metadata": {
        "colab_type": "text",
        "id": "KvyAoS8Na3jA"
      },
      "source": [
        "### Predictor Set 3"
      ]
    },
    {
      "cell_type": "code",
      "metadata": {
        "colab_type": "code",
        "id": "YO0zUrL8a3jB",
        "colab": {}
      },
      "source": [
        "predictors=['O3','PM10','PM25_log','NO2_log','T2M']"
      ],
      "execution_count": 0,
      "outputs": []
    },
    {
      "cell_type": "code",
      "metadata": {
        "id": "2f1nLuI6NgaX",
        "colab_type": "code",
        "colab": {
          "base_uri": "https://localhost:8080/",
          "height": 85
        },
        "outputId": "9a214dc4-ffa0-4223-f568-9ff5593f64a7"
      },
      "source": [
        "models(X[predictors],y)"
      ],
      "execution_count": 369,
      "outputs": [
        {
          "output_type": "stream",
          "text": [
            "Avg. RMSE Linear Regression: 0.09128997424052981\n",
            "Avg. RMSE Ridge: 0.06107211905940293\n",
            "Avg. RMSE Lasso: 0.09128997424052981\n",
            "Avg. RMSE RF: 0.06854168496728962\n"
          ],
          "name": "stdout"
        }
      ]
    },
    {
      "cell_type": "code",
      "metadata": {
        "id": "N5JdI1aOP0sj",
        "colab_type": "code",
        "colab": {}
      },
      "source": [
        "reg_ridge = RandomizedSearchCV(estimator=Ridge(random_state=SEED), param_distributions=ridge_dist, cv=inner_cv, \n",
        "                                   scoring=RMSE,random_state=SEED, n_jobs=-1)\n",
        "\n",
        "reg_ridge.fit(X[predictors],y)\n",
        "predictions = pd.DataFrame(index=test_f.index)\n",
        "predictions['mortality_rate'] = reg_ridge.predict(test_f[predictors])\n",
        "predictions.to_csv('final_mice_3.csv')"
      ],
      "execution_count": 0,
      "outputs": []
    },
    {
      "cell_type": "markdown",
      "metadata": {
        "id": "aVu-v-dSVdCO",
        "colab_type": "text"
      },
      "source": [
        "![image.png](data:image/png;base64,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)"
      ]
    },
    {
      "cell_type": "markdown",
      "metadata": {
        "colab_type": "text",
        "id": "TUkD7W4ua3jM"
      },
      "source": [
        "### Predictor Set 4"
      ]
    },
    {
      "cell_type": "code",
      "metadata": {
        "colab_type": "code",
        "id": "oBN8jPqOa3jM",
        "colab": {}
      },
      "source": [
        "predictors=['O3','PM10_log','PM25_log','NO2_log','T2M']"
      ],
      "execution_count": 0,
      "outputs": []
    },
    {
      "cell_type": "code",
      "metadata": {
        "id": "qwPDIjvyNjUp",
        "colab_type": "code",
        "colab": {
          "base_uri": "https://localhost:8080/",
          "height": 85
        },
        "outputId": "6fa7e32b-e98d-4f3f-8fad-4fe614fa0091"
      },
      "source": [
        "models(X[predictors],y)"
      ],
      "execution_count": 371,
      "outputs": [
        {
          "output_type": "stream",
          "text": [
            "Avg. RMSE Linear Regression: 0.09128997424052981\n",
            "Avg. RMSE Ridge: 0.06097241783942078\n",
            "Avg. RMSE Lasso: 0.09128997424052981\n",
            "Avg. RMSE RF: 0.06854168496728962\n"
          ],
          "name": "stdout"
        }
      ]
    },
    {
      "cell_type": "code",
      "metadata": {
        "id": "4x2cXgw2P2wj",
        "colab_type": "code",
        "colab": {}
      },
      "source": [
        "reg_ridge = RandomizedSearchCV(estimator=Ridge(random_state=SEED), param_distributions=ridge_dist, cv=inner_cv, \n",
        "                                   scoring=RMSE,random_state=SEED, n_jobs=-1)\n",
        "\n",
        "reg_ridge.fit(X[predictors],y)\n",
        "predictions = pd.DataFrame(index=test_f.index)\n",
        "predictions['mortality_rate'] = reg_ridge.predict(test_f[predictors])\n",
        "predictions.to_csv('final_mice_4.csv')"
      ],
      "execution_count": 0,
      "outputs": []
    },
    {
      "cell_type": "markdown",
      "metadata": {
        "id": "9P42YI6VVQt7",
        "colab_type": "text"
      },
      "source": [
        "![image.png](data:image/png;base64,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)"
      ]
    },
    {
      "cell_type": "markdown",
      "metadata": {
        "colab_type": "text",
        "id": "dYzWmJ_-a3jZ"
      },
      "source": [
        "### Predictor Set 5"
      ]
    },
    {
      "cell_type": "code",
      "metadata": {
        "colab_type": "code",
        "id": "_XXllC5Qa3jZ",
        "colab": {}
      },
      "source": [
        "predictors=['O3','PM10_log','PM25_log','NO2_log','T2M_rolling']"
      ],
      "execution_count": 0,
      "outputs": []
    },
    {
      "cell_type": "code",
      "metadata": {
        "id": "fIlUC2UtNlwg",
        "colab_type": "code",
        "colab": {
          "base_uri": "https://localhost:8080/",
          "height": 85
        },
        "outputId": "5f761bcd-93cc-43d0-ed4d-ac84a562c938"
      },
      "source": [
        "models(X[predictors],y)"
      ],
      "execution_count": 373,
      "outputs": [
        {
          "output_type": "stream",
          "text": [
            "Avg. RMSE Linear Regression: 0.09128997424052981\n",
            "Avg. RMSE Ridge: 0.053106037876301415\n",
            "Avg. RMSE Lasso: 0.09128997424052981\n",
            "Avg. RMSE RF: 0.06338740423409987\n"
          ],
          "name": "stdout"
        }
      ]
    },
    {
      "cell_type": "code",
      "metadata": {
        "id": "PHt6qs3EP7Ps",
        "colab_type": "code",
        "colab": {}
      },
      "source": [
        "reg_ridge = RandomizedSearchCV(estimator=Ridge(random_state=SEED), param_distributions=ridge_dist, cv=inner_cv, \n",
        "                                   scoring=RMSE,random_state=SEED, n_jobs=-1)\n",
        "\n",
        "reg_ridge.fit(X[predictors],y)\n",
        "predictions = pd.DataFrame(index=test_f.index)\n",
        "predictions['mortality_rate'] = reg_ridge.predict(test_f[predictors])\n",
        "predictions.to_csv('final_mice_5.csv')"
      ],
      "execution_count": 0,
      "outputs": []
    },
    {
      "cell_type": "markdown",
      "metadata": {
        "id": "X8_omQfqUQJV",
        "colab_type": "text"
      },
      "source": [
        "![image.png](data:image/png;base64,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)"
      ]
    },
    {
      "cell_type": "markdown",
      "metadata": {
        "colab_type": "text",
        "id": "eE-qErL1a3ji"
      },
      "source": [
        "### Predictor Set 6"
      ]
    },
    {
      "cell_type": "code",
      "metadata": {
        "colab_type": "code",
        "id": "Yw7hJiaBa3ji",
        "colab": {}
      },
      "source": [
        "predictors=['O3','PM10_log','PM25_log','NO2_log','T2M_rolling','year','year^2','doy','doy^2']"
      ],
      "execution_count": 0,
      "outputs": []
    },
    {
      "cell_type": "code",
      "metadata": {
        "id": "Si7s5xulNoUD",
        "colab_type": "code",
        "colab": {
          "base_uri": "https://localhost:8080/",
          "height": 85
        },
        "outputId": "0bfaecdc-f78f-465a-b5d1-1cf0ad0a92ac"
      },
      "source": [
        "models(X[predictors],y)"
      ],
      "execution_count": 375,
      "outputs": [
        {
          "output_type": "stream",
          "text": [
            "Avg. RMSE Linear Regression: 0.08861466925672781\n",
            "Avg. RMSE Ridge: 0.04767074192142795\n",
            "Avg. RMSE Lasso: 0.08861466925672781\n",
            "Avg. RMSE RF: 0.06284904700533618\n"
          ],
          "name": "stdout"
        }
      ]
    },
    {
      "cell_type": "code",
      "metadata": {
        "id": "UfghuMj2P94v",
        "colab_type": "code",
        "colab": {}
      },
      "source": [
        "reg_ridge = RandomizedSearchCV(estimator=Ridge(random_state=SEED), param_distributions=ridge_dist, cv=inner_cv, \n",
        "                                   scoring=RMSE,random_state=SEED, n_jobs=-1)\n",
        "\n",
        "reg_ridge.fit(X[predictors],y)\n",
        "predictions = pd.DataFrame(index=test_f.index)\n",
        "predictions['mortality_rate'] = reg_ridge.predict(test_f[predictors])\n",
        "predictions.to_csv('final_mice_6.csv')"
      ],
      "execution_count": 0,
      "outputs": []
    },
    {
      "cell_type": "markdown",
      "metadata": {
        "id": "KqWZhLKLVAWH",
        "colab_type": "text"
      },
      "source": [
        "![image.png](data:image/png;base64,iVBORw0KGgoAAAANSUhEUgAAA40AAABVCAYAAADt0QHmAAAgAElEQVR4Ae2dh5MtxXnF9Re4ypYVQAiBEDk9sHIqRZBkuVwuuygHbMslVKgoY1wYI6soZMCiECAECJEKASJneIRHDgJEFCKDAJFzEDmKoHH95umseufduTO7b3fZe/fXVXfn3pme7p4zp7/+ztc9s++oTCIgAiIgAiIgAiIgAiIgAiIgAiLQgsA7Wva7WwREQAREQAREQAREQAREQAREQAQqRaMkEAEREAEREAEREAEREAEREAERaEVA0dgKjQdEQAREQAREQAREQAREQAREQAQUjXJABERABERABERABERABERABESgFQFFYys0HhABERABERABERABERABERABEVA0ygEREAEREAEREAEREAEREAEREIFWBJYRjQ888ED1+OOPL3PCq6++Wt13333VCy+8sMwxd4iACIjAVBB47rnnqrvvvru64447qqeeeqr6/e9/3/v03/3udzNui954443q5z//eXX//ff3bsfyZHzooYeqJ554YnmK8FwR6IUAnH7ssccm5X355ZfrPvTss89O2v/000/X+1977bVJ+5s/nnnmmeqiiy6q2C5P+tWvflXxMc0tAs8//3x9n/Hpmp+33nprbhvTs7a5ttFplhwNEm5nCwH8nyeffLL2h+65556K/jlf0zKi8eCDD6744MiViUGH/Th5JhEQARGYDgIYx6uvvrq2JbE1bM8777zq9ddf71Xkb3/72/r822+/vVf+Ppkw0rQD4UjCQbn88ssrDHiZrr/++orP8qbDDz+8Ovfcc5e3GM8XgU4ETjjhhAq+lYGZG264oeb7BRdcMOn8JUuW1Pu7+uJdd91V52NLQjzSX+ibbQlxQh76VtKRRx5Z8THNLQK33nprff9KG5zvXQGDuWpp09Y2bfRstEOOzgaqljkMAfpb7G76INv5GkxrFY0MNKVxVzQOu+0eEwER6IPAww8/POGs4miycuGKK66o9+HI9EmzIRqpl9UUcayZzcRwI3DLdMopp1Qnn3xyuWta3xWN04LNk6aBwDXXXFNzmVnEpLPOOqveV4rJN998s97HsT6J2cqkBx98sD6XlUptKe0oRQnitEugtpXn/ukjENHILPSLL7446RMbOP3SZ+bMQba2tNEzU8vkUuToZDz8NfsI/PKXv6xtJyLxpZdeqgNvZ555Zr1vWBBu9ls2uIZW0YjDdNVVV02cNUg0MkBcfPHFFQKTiyRKk3TbbbdVixcvrh555JFaRZ922mkVUUkGGqL5OF6A9corr+SUCkcN4E4//fTqjDPOqIiGzhcDNtFIv4iACEwbAfo3tqVcmomzetNNN00sDY3tKINW2KLMzEU03njjjfXMBfaHpXLlsvqU0df+4LhidzgPIYu9op041dgx7NY555xT72M/+3CUSV12i+VeXDdl8sFuKhqnTSFPnCICCdTAbRL9Ktxmm1VFGePpiySCOgR0GKtx4OlvGY/pa/QBtoz7xx13XF0mW1YNNBNjPZynPsrKbP2ll146MbufMhEyF154YXXiiSdW1157bYV9YMt55C/FL/Ww4oC+yXHai7AwDUcgopElcYMSnOH+8ghB0pVXXln7ZfHZWGJ/ySWX1PeJbdPBZekz53Afzz777OrOO+9MUbWdpfw2Gz/I1pY2OgWVdZx//vmT6kh+VsfBH3gMf9quWY4GVbdziQBaB7tYLgvHB8Heln0q/Q1/hxUipb9De8vj8PzRRx+duIzYVvozfhS2ktTlu0wUUHwZKBrpsBgBLgSni5QBJctTE1mkcqIzGAbyxxnEyeM3S08YANjym0GFSGYinXRUEgND9l122WUT07W0wyQCIjAeCOCgYgcQaBiyOKHl1cV2YNCSsElZxhbRSDk4ogSh4pDmGauU0df+MPtBedgynKKcj8jD4aAtOLqUR13sw3ntY7cw4JRNYK10hiKCc41uRWA2EIhIzFLUUkTCy5tvvrmuFn7zm/7F7BNc50NfwOnnGI4MCWHHb/wAxnzK5jfbiM7yWnBWEoihvASYI0jLMimHfhKfAp8BRwk/gmOIjaTrrruu3odQjc/CeaXtSF63f0SgSzRil/HtsHWIr/h/2D0SDir3IkKdfHzi5IY/5OG+kY/vWU0S+1rep9LGD7K1pY2mDTjWsccse2ZMoY7wL/nZB4cQlXynnaWDHlTkaJBwO5cI3HLLLTUv0T2862FQit6Cu/g78B4uJ+CX49hJAmfwneP0W1LsNfuSp4/vMqgtraKRznzMMcfUjaPzxWhENGIcMACJFBG9oUHMDpJiFO699976dwYqDEMSF8aHlItKfvalDOo3iYAIjAcCDOoYP+xFjGA5e5B+3+ZQRDRi/GJ/sg/ngZQyYk+67E8cDEQjibppX9fy1C67xQwl5eCwJOV5MEVjEHE72wgw7tLXEAMEauEkYgCBlTGZoG3ywNtf//rXE04MTjbn8OwNKbzHWSHFaZnq8tRBohGnh5Q+SZtwcEj0b9rBMi5mFPme/BxHjLKP9pnaEYhoBNsEB9iyYiMpPh02EdGHPxh7C2/Yl/tCoA3csbuk2N/MdsA7eIaALI+32XjyUD78SAofYqNTRxxn6siyPtqV/FwXx0hx0BkPBiXK5jo4N0mOBgm3s4EAdjh2De7Rz+BhZvSpMwG08JKACf0jARKOw/P0J86lb9MfSLHXZf/OvvhI5EufSj31yY0/raKRfHR4LoIIXlM0cpyZAiJCHMeBI2+zQ6dyjDzHyZ+UyCG/M5Cx3JXIPJ9M2xLVMomACIwPAhg3litlhgLbkH4ewxUDyFXjcGAUSRGI5CsTNghDSkoZfe0P+Ur7Rd387hKNXXYrznRpmFOXorG8e36fTQQiEgjOMOMX8Vc6yfA9L4KiLbx4BCe7nMVJ/4rDMRuisRR8BJURs0ksRaWd2IDMduEYxWfAKeJ4VjDlPLeTEQgf8N2YPcwnkwLJjSAHTz651zi5/MbeBne27MssMBxLACJlldvY5zYbT94u0UgdtKFMtJ92MPsdO1sGFTJ2cP2DUtkfcnyQaJSjQcftTCGAEGTVR2bM8XfQTelvCbg068vxkufkQUvRFwiYxF6XvO3yXZr15PdQ0UimdO4o4RiVLGVBFTOtmt9N0Rij0CUaY5wwYtRVfpprd9N4tyIgAqOPAEsyMG4sgSPF5sR2sA/HsSkaWZpWJpyMOBHNMrrsTxyM2K++orHLbiEWubZyBibLBRWN5d3z+2wiwLJteJjlnFmSyuMn7M+zxnmGLftx/HFWGN/pf3MhGiNOwGOYaEzfQjSW/gLf81bX2cR0lMuOaGx7vi/XxnJk+MEnq0GyeoJ708Q9Yh07nFVkKavcNu0zx0obz+8u0Ugd4WPKhr+0lZnEpk0nT/rB8opGORrE3c4GAlmNRP9Lf6OvDUo5Ht8ledBl9AX8jYjGkrddvkvKaW47RSPT/JkapQERjYhFPpn2T2dMw5tGoctpC0h51oGGcg6RoUHrz5sX4m8REIH5jwCOAXaEqFpSljaxsoCEQ0uePE+NDcoyKo4nWpyoNvtSBkEn0lTtT9PBiGhsRu9KYUo9XXYrr4mnPUlZKqtoDCJu5wIBRB/9ik8EAH0r+9hmSRQOCr/TTxnn6YNx0ptOCM4I+csZ9eY14RuUdXB80CxO6dgME42D+hYOEkHmMuDUbIe/q/rRIu7FMNHIvScPopx7j72NvweX8AvLBO44sCRmrDmXe5SEA5xnYrtsPOc0bW3TRmd2M5zlnOwjbzM/x+OndonGskw5mjvodqYRSAAZjqVvUQdBZvoPwTwS/Y1PErOL2NPoJY4x854y0EwEVSiX1LTX7OvyXVJXc9spGjkhThoXEdEY54//Y4aRp4NzfLqiEWPDhSNEMShEjLho9pUduHkB/hYBERgdBLK8DIcjTgSGDduRgTzOILYAo4mzwvEYzdIesWyVZ68wmOTJjN7yisY4ydRJmxO4ynJaniXgZQ9ddoty0jZmeXjmGweMtioaR4e349DSRJ7Tj3JN8BA+RhCyPyuH2BK8IRhT5mk6IYhQjhP4iSOT8rPl7a3koR15Yd7yOOSUGz+EZeS0CXtAHXmWLnW7nYxAZhoJimHLyk8Ed7BEPPIoAbhiC0nhB8uBud/gz/GIwjzahOjnnNjjBM+6bDx1NG1tUwSmDsYH/MUst8syvmZ+yuwSjXK0vr3+mUME8pge/Q3+oaGw0fSnPK+b/6uLfUXspW/G1uY4dhpNlr6T/tq011xel+/SBkEv0cjJaVRem8zF4NRxYXxYE8+2KRpRxKRBM415/iCNo0NnPS9lAZBLU4OOWxEYDwRwLCKc6OcYyDzQnSvE3sRw4mjwIpk4u3FQsTU4JSkjopMy4qT0tT9xMPJ2QMqIo0T5CFVSafdSX5fdwjgTraccPtSB7VQ01pD6Z44QyHJORFuZcCzgZbncm5fMlJzFCUFUEgAhNZ0QgiOZnaSsRLzLeiiTMZ3jeTEUorGtTM5tzjQSIOL89Ef6d5wu9hOMIo9pOAIRjWDW/CAScUbZn5kO7md8swTxEWmx0Wz59xrlfU/gP+Xj0DKzkjTMxpOnaWsH2WgcZCYXqIMxhTqYPScNyh/RmH8/k7ZkK0eDhNu5QoAgTQJ66StwuvmyJvyG9De4ngBN2tnsj+Xxpr3OOV2+S/KV22VEY3mwz3ccokTh++TvkwfDEmevT37ziIAIjBYCOBfYDgbptkSePraFckpnpa286eynXJyPZmJfs84uu8XgUDpNzTL9LQLzDQF4PpWxGIe9i+OU16dfTwWLtn46lTLMOz0EIiLbzsbGt91v7lvbsZQ3yNbmWLZ98iRvn60c7YOSeWYSAfoBq5e67Cf9rel7lO3o6o9l3nzv8l2Sj+1yi8ayML+LgAiIgAiIgAiIgAiIgAiIgAiMFwKKxvG6n16NCIiACIiACIiACIiACIiACMwoAorGGYXTwkRABERABERABERABERABERgvBBQNI7X/fRqREAEREAEREAEREAEREAERGBGEVA0ziicFiYCIiACIiACIiACIiACIiAC44WAonG87qdXIwIiIAIiIAIiIAIiIAIiIAIzioCicUbhtDAREAEREAEREAEREAEREAERGC8EFI3jdT+9GhEQAREQAREQAREQAREQARGYUQSWEY3808gzzzyz+u53v1vtvffeFf+Q+rDDDqvuvffeGan44Ycfrm6++eYZKatZyPXXX18dd9xxzd2z8pvruPDCC6srrriievbZZ2elDgsVgXFD4LrrrqtOOOGEcbssr0cE5j0Czz33XD1eMW49+uij8769U23gAw88UN1yyy1TPW1B54cH8WPgx7gl+AAvTCIwWwigme64447qnHPOqW644YZaMw2rC0110003VWeffXZtr/g9LOEzUW4z9SnnpZdeqq699tq6bXfeeWdFW5sJbXfeeefV+cjflZYRjQivr3/969XBBx9cDzBPPPFE/fuss87qKqvX8ZNOOqnaeuute+WdaqaDDjqo2myzzarXX399qqdOKT/kAKNvfOMb9ZY6IY1JBERgOAI/+clPqs0337x68803h2fscfSxxx6r9t9//+qVV17pkdssIrBwEcAxYJzik3Hr4osvHitAjj766Gr77bcfq2uazYvh/sePCTdmanJgNts9lbK322676thjj53KKeYVgd4IvPXWW9WBBx5Y96Otttqq3sK5F198cWAZTz31VK1/6HfJj816+eWXB+ZH8JF3yy23nHS8TzlMbMXWb7HFFnU5TATG90JA/vSnP633Jx/broDiMqLx1FNPrSsqW/jGG2+UP5fr+2yKRkCYybYOutBHHnmkBjkDLg7rd77znWrbbbcdlN19IiACBQIz2UcJ1GBQxzFCXkDmVxFYbgS22WabaocddpgIqCKw6DvPP//8cpc9XwpQNPa/E9x37j+YkQi0ww94Mk5J0ThOd3P+XQuzgPQjJttITz75ZB0U/9nPfjawsYg0BFxWJz744IP1+UxENRPaAhFHQKcpGvuU8+Mf/7g+PwL26quvruu69dZb66ruvvvu+vell15a/2aWkXo4b1iaJBq50ChOOhvTpzh5KOHbbrutLofGLlmypDryyCNrxbzPPvssM8v2i1/8ojZAgLPjjjvWU7FpxFREI3Uxw8kWVb7nnnvWYJ9//vl1m3baaad6SjVlI+RQ0kmAznJV2s/n5JNPnlDZ5EEAHnLIIXXZGMyrrroqp7ZuwYilu2V6/PHHq8svv7xVsKYeZlhpc1kPIpdIGKKzbCPRAOrJDU195N1vv/3y060IjBQCZR+9//77K+xMGWXDsO26664T1/T000/XRoz+//3vf7+67LLL6mMY6UTqcHRYQj8o9bFX6Z+U94Mf/KC68sor66LomwSEiPYlYUPYl+AUS0Tot2We5HUrAvMBAWaPcGzK1TDwln3DVhDRVxm/GbfoX/TFpIyt9F/GLoLN6RPJw5KnnXfeuT6fVUBxXjhens/Yu3jx4omxOT4HtgD/gn7JuMs4WybGUWwCfsbhhx9ef+iLSW22I8cX8pb7zv0vl8YlCNc229jmqwTH0o4O8qdyz7lHpa8z6PzSDnM8YwWPNnHPsfk8RkWZScz6wEPsM5y94IIL6vGlnGlkiR7jC87xvvvuW/HbJALTRQAu4dOXCR8BoZcZvfIYy1LvueeecteE/Zq0s6pq3YNt43GepmjsUw59DPuZFJtPvyCx5JU+QL9Joq9gb4elSaLx9ttvr/baa69aKfOsHmvBMeAYlzhFDCL8ZjBAPDJoAFAGDM7jOI1h0AFUfmfAmYpoTF0sQcNAsKwNUYtBoO6U/eqrr9bXWJbNDaON1H3EEUfU4pF2HnrooXXeZ555pi6LOhjcdttttzrvNddcMwyvWgxzE6kfsiBkGdzaUuqh3aeddlrF8jzalHpoD+2iPD5cY575omwMYBI3nbwMsCYRGEUEyj6KvaEvlM4kgSr6ShJ9HQcBW3LMMcfU+XlOBQeSfsL5BJFKhzjnso0NabNX2CXqo58R7cO5pUyCQDm/NLwYcY4niIbx5jfLRUwiMB8RgMtwlLG8TPQJ+D4oMT5xDn2OvocwRAhQRsZW+gLig0dZyJuxlfJwnNjHGMbYjdNDX875jJ0ZEwnsMq6lLfE52HfAAQfUQoC8jPdJWbaFb8B4yHHqK0Vjm+1IGQt5C9bc/zLhPIJhbF95jO/DfJX4OW3+VDhD+YP8sS47nLECzsEXggiUBbeSso/jzKDCH/JENDK7w+/dd9+9DsbDTfK4UiUIup0qAtg1AhVlIhABz6J5ymPl99dee632XcjbfGbxrrvuqsvA18G+NUVjn3IiXplZxMeiH1AXjxwOSvR/7OePfvSjQYcn9k0SjewFgFJpxoCXohEDHXWKs0RDbrzxxrpQgIogYgeN5Xj2lU7jRCtavmCAylk9DARl3XffffUZKTuirSyb9pC3dCaZQWDmgQSAOKMRu+xjUCoHnTpj4w9GC2HHlgEVA0Q9Ue+N7HUeDFMZ0TvxxBOrc889t85KfeXsKEKdZ7VImfqOQ5qBvIuMzTb4WwTmCwJlH40j0CYaCQbRt3hRQxLnvPDCC/XPRMaHDfrYkGH2ij5MX07giYKZVeEcEoEc+i/2jn5Je7AbnEfCUeG3SQTmKwIJuDbbR2CXWZtBCX4zzmWcx+HGkSENCpRkbMYR4kM/KZ0pxjXqQ1xkbGb2KCkikGBQfI4yWMOKG8rMqgRELOUlsbyS4xm/u2xHzluoW4LkJX7BgXteCrHsZzvMV+nyp3LP2/yxLjucseKiiy6aaBIBg9xveMH9J8CRlPEhojFtyDNbCFm4PNvvwEh73I4fAk3OcYXxE5oziuXVw3fO5UOQo0zwkoBXlokOE43DykHbJGieusr+UdbJd3QJ+VgxMCxNSzQSWSwTDhbOVRKDwemnn16/pIKZSBqSzl46jcnftuWCy+gl4pCyMpBxHkaOmUJSWTYquxz0mnUQ6UQcIyLzyaxpM2/5mzL5ZE0yx1jiyr5B6Xvf+14dbR10jH15qQ5RXIx1DBrHIA/lZmaRyFhzKrytXPeLwHxEoOyjcQTaRCPt32OPPeo+zwoIDF4EI8fiFHSJxmH2iv6ZQFLwSrn08QwAv/nNb+pADwKR2dAIRWzI8ccfn1PdisC8Q4AxhsBHMzGe0L8GJRwexloi3Dg1pbN/yimn1OVl3GTLckLyE9BN/3nooYcGFV3PQpaBaTIx1nE+gd2IRlYtJSEmUz7OEN8TLE6eZtB3mO3IOQt1Czbc/2aCJ4OeryLfMF+ly5/q8se67HDGCoIOSYwH4XWOl+MDnOJ4RCPiEH+KfXCWQIWCMWi6nQ4CcCn6I+dj97BPw97ayzEmmrLCMY/dUAbBNsoNl4eJxmHlZFUjKxyxq8wg0q6skkp72V5yySX1sbId5fHy+7REY/P5oVI0MoNGw1juRRSeWQJ+T1c0lnVNRTQeddRRQ6d0iVQycFF+81OK0hIsvjPzWUZA2ccUMtc4aAYQIZplN82y8ptBlhsMjpRTzqzwrAYOKmv3Oda2dCRluRWB+YxAl2gkcJJZPq6DvsizSzilGFI+PMBNinPaJRpLG8J5pb2if2IryoTjS19LAAc7QbtxSnFA2M/xLCFJe8oy/C4C8wWBzOKVs+m0jVmaZt8o28xLHTKTDt8zM8X7DOiHzXGT3/SNvIF90HhI+fQ3+l0zUSZ+QkRjVjeRj7bQBvpmxsK8fCLlsGInM0/sG2Y7cs5C3XKvSqzAIbOzJe5NfNp8lS5/qssf67LDEYVlgJHZZzhDCufKZxzZj0iMaOQ3x3HCMwODb1WWWRfmHxHoiQAzgnmZVE5hqSm2qi+vWK2YIHRWbhIkx+/hg12Dx3wfVmZZTl501XwnCsGZcpk/bc6KRoKBfdKMi0aMRymqsmxgrkVjnq2M4wcYRAAiuph9YFkaA1QSg1zT6ORYtrxel2ssz2OWFZIQ2Wom6uGGl/kRmXxIRFDzv1EY5CAI7UqKA4vhow6W/phEYFQRKEVjxFcZ+cJ2RDTSH1i1wJZE36RvsCyJFNFYRp/rA8UfnIOmY1yKRiLOOE9l/8zMTPaxBASjTv/DeSHRDs5r9u2iar+KwLxAgHEN7pYORJyTcjavbCxR7jwWwX6i6ZTBvoyt5XH6ZkRinh3LmM/5ODtEs9ni/FBW6QARMWcf4x39ju+leClFI+UxA0q/TOIc+mKEUJftyHkLdZt7CK5JWQKc+5j92Q7zVbr8qdTX5o912eEu0RiOswQ1iX85AI8iGnlEiH1JmREq+0WOuRWBPgjAe2xRfBTOwT9prqRgPzaK2b5yUoj9+CcJfvA8JHas/MBhPuwjUN2nnPhWTfu+yy67THpPSnwogoN904yLRpY8ABjGn06ZZ/4ygJROY1cjmw7fVGYaGZBwDolgEYXC6ODo5RmOgMVN521hPCzKTel6CDQ3A2JwA1kiwQ3lgX0S5VBnjFPqoVxmJHizLPmZUWGZDVih/CmX8ohcEA0oE/s4J85yeczvIjBKCDT7P/ynv+BI5sU2EY1ZGsryOBzURMRY6kSKI8lyjrZ1+E0bwnmlaEz/xGhir2gHBrw0onmwnf0JDOHk0Ce7VhGM0r2xreOLAOMP/EWIMRYS+KQflM/0l1dPcJTxkmXZ9C3Oh+843ghKzmWcwklnrGd5IvkT1GScJQ8vqeI4Yxz1c37GZhwYyidoRFAGO0D/6iMa8/wNDj92AhtB+yIau2xHea0L8Tv3nfsDD+ADvOD+tPk/Xb5K7GibP5V73uWPtdnhLtHIPcTWw0HesIr/BQfhRERjXgiFH8l4wrI9jlO2SQSmg0D+ZQbPH7KkH78eTuUdJ009wAxijpM/bzHmEbe2NGh5ap9y8K0QtNhItEX8K9pIou30+dgA+kE+pQhutmsZ0UhHorKkpgHvcsLorDQUYPgwc0DDBolG3uKDWGp+MnPQrKtNNDIwkZoOKdFLBpG0hecGUzb5cRDLtrIEjogpA1+zTfmN8cR5xeBSLteGmMvgm2hdaYhQ+2U9OJrJz6CZWQzKw6hSV5lCxLLM8rjfRWBUEGj2UQI6GC24T//E+aNvJWE3cATSh3FqytUAROk4Fmcx52XbtCHsp/zyGWzW+6d/0p9xfEqjyXcCSuUzQFkOxdYkAvMdAcY0+Jt+RJ9DWLUlVr8gBJMf/pdcZ5wvx1YeR0EcJtFHEzCmDPpw+e8NmudTV5aZN30OykyAKHXQJ+mn9FfKZwxlXC3fNt5lO9LWhbrl/sf2giH8iOgfhEmXr9LmT6WsLn9smB3G96GN5ew0vhb3P4lgBoEM8vFh1RaPEzGmJBHsC2fIw5I8+GYSgekigB7APsInuEVAK6mpB7CLCMxwlPxwMnog55XbQaKxTzlonfwHCeqjjbQtfE+gLW0pt6WPVbaF78uIxmaG6f5muUCWXbaVgTgtG5rvqOiZTAAwDASMTXnTMF5pS3PLYJfEMpzMPGQf20H72M8647Ke8hyM4bA2lnn9LgKjigCvWx8k8IY5K1wr9qSt7zB70XV+H7zon219t8/55hGB+Y4AfaVrXC6vgfzlS9/KY3zvGlt50Qjja1vi/OXpu9gE+u2wNMx2DDtvoRyDD9znvqnLV2n6U81yuzizvHaY8vOW3Wbd/CbgACfKwOCgfO4TgakgAG8HcWqQT0E+7GoE3FTqKfP2KYf6u2xkWWbX91kTjV0Vcxzjw8U0P3T6tzMx0DXblN+DSPF2ttW6RWBUECASTbSrjPyOStttpwiIgAiIgAiIgAgsZATeVtG4kIH32kVgoSHAMm6eLyEAYxIBERABERABERABERgdBBSNo3OvbKkIiIAIiIAIiIAIiIAIiIAIzDkCisY5h9wKRUAEREAEREAEREAEREAERGB0EFA0js69sqUiIAIiIAIiIAIiIAIiIAIiMOcIKBrnHHIrFAEREAEREAEREAEREAEREIHRQUDRODr3ypaKgLLPXlUAAAiISURBVAiIgAiIgAiIgAiIgAiIwJwjoGicc8itUAREQAREQAREQAREQAREQARGBwFF4+jcK1sqAiIgAiIgAiIgAiIgAiIgAnOOgKJxziG3QhEQAREQAREQAREQAREQAREYHQQUjaNzr2ypCIiACIiACIiACIiACIiACMw5AorGOYfcCkVABERABERABERABERABERgdBBQNI7OvbKlIiACIiACIiACIiACIiACIjDnCCga5xxyKxQBERABERABERABERABERCB0UFgkmj82pKNKz9iIAfkgByQA3JADsgBOSAH5IAcWHgcaJOxikaFsoECOSAH5IAckANyQA7IATkgB+RAm2asFI2SQwMhB+SAHJADckAOyAE5IAfkgBxQNDq9vvCm173n3nM5IAfkgByQA3JADsgBOdCfA22q0ZlGIwpGleSAHJADckAOyAE5IAfkgByQA22a0eWpRh76Rx7ESqzkgByQA3JADsgBOSAH5MD4cqBNNTrTaETBqJIckANyQA7IATkgB+SAHJADcqBNMzrTaKRkfCMl3lvvrRyQA3JADsgBOSAH5IAc6M+BNtXoTKMRBaNKckAOyAE5IAfkgByQA3JADsiBNs3oTKORh/6RB7ESKzkgB+SAHJADckAOyAE5ML4caFONMzLT+JXFi6pPH7BW9ZFdPlR95sC1q01PW/S2Ryo2OWGD6pN7rVmxldjjS2zvrfdWDsgBOSAH5IAckANyQA7MDAdmTTR+fPc1qvd89E8mfVb6wp9Vnz1knbdVrH1y7zXrNn1637V6tQPhu95W768+sccavfJLzJkhpjiKoxyQA3JADsgBOSAH5IAcmB8cmBXR+Kn91qqF2cpf/fPqEz9co/r84etWH955tWqFz/xpvf/LJ2/4tgmwqYrGTU7ZsG7zhv+58tvWZjvL/Ogs3gfvgxyQA3JADsgBOSAH5MBC5MCsiMYP/s27a4H4xWPWnyS0PrrzarUA+/D/rjaxH4G59rfeVyEw1/n2SvVy1tyIzx60drXq376nQuit9W8rVh/4y3dVG277gYrZP7ar/PW763M+d9i6dXlfOXVRtdrfvacWqBwn/xr/ukL1qX3+OKs4SDSmDeSnLZ87dOls6JeOXr/iWpgxRfDSli8dv3RZ6+ePWK9a/z9Wrlb9q3dVa/zzitXH93QmMvfNrcZUDsgBOSAH5IAckANyQA6MDwdmXDQi6BBZiK9liHLmRtUXj1u/2vQPM40sESUvgnG9f39/tfKm76x/8/wj50bgkWeNzd9bi8A6/6bvrM9BSPIbMUd+ZjD5nc86W65UrfTlpWV+er/JZWZ5amZFEaC0AXHI53OHrlt9+cQNqg22WbkuD/G44X99oGLm8UvHrl+x1JbP+lu/v24LdX5s19WXvWbftiQmckAOyAE5IAfkgByQA3JADowwB2ZcNPLMIgLqL3b8YCcxmNlDeCHEatF34ga1YFt9s/fWvyMaEXMcR2xSNqIOcco+njdkH2K0FI1ZAsvMIPnX+McVJpUZ0UgbEIybnr60PF6QQ3nr/2E56qDlqRGSiEfa8NWzNqpnHJl15LcfMZADckAOyAE5IAfkgByQA3JgXDgw46LxC0etV4uujf57laHiaZNTlwpAZupKMNfZ4n31+V85Y6OJmUbEY/IwG7na3y8VlezjzayIPJaURjSu+S9LBWLO4TfCEXEXIYpoZDkr5zLTue63V5r4sC+zl4NEI8corzwns6SUmXrdaijkgByQA3JADsgBOSAH5IAcGHUOzLho/NqZG9WCavV/mizcAApRx3ON/BsOZgARZzx7WIK43lYrLRWNixdNEnjJ00c0rv3NFSeVmWWspRBFNKYNlMmMZflZtN3Sdg0SjYhM2l7mz/dNTnr7XvITjNxqmOSAHJADckAOyAE5IAfkgByYKQ7MvGhcsnH98hlEFW9OLRvKi27Yn5lDlqbyrCBCk3yIOgRZlnmWs4Ipp49ozKxiXebiRfUS2MwcNsukDSxRTflseQFPXngT0VjOiPKsJNdR/q9HXsbDy3GYzSzL8rudVQ7IATkgB+SAHJADckAOyIFR5sCsiEZeIJPlmszyLdp+lfqtpggtxBviENA2/p9Va/HFS3P4P4iZEWTJKcebAo99fURj6vnYrh+qmPHk90d2WvrG1maZG6UN31yx+sQP16z41xrk32iHVZeKvz/MnCIumSWl7Z/Zf+kLfLiWj+22er2fc1b/hxUmBPAok8K2a9TkgByQA3JADsgBOSAH5IAcCAdmRTRS+BeOXq9a91vvq2f5EFSILmbr8gIb8jArt2i7VSblmRBrfUXj/y37TCMitPxXGeUS2KZoHNQG/pVGZj9pJ29F5Rr45N9xIHKZocx+/rVHOfMYgN3a2eSAHJADckAOyAE5IAfkgBwYZQ7MmmgMKIgyZh7ze9C2T55B5zX35UU4EYnUm1nNZt5Bv8lPWwYdQ0TmX4WUx6lzKnWU5/pd4yEH5IAckANyQA7IATkgB+TAfOfArIvGuQSgKRrnsm7rsrPLATkgB+SAHJADckAOyAE5MI4cGCvRyEtreJFOn/8ROY4302vSSMkBOSAH5IAckANyQA7IATkw0xwYK9E40+BYnh1ODsgBOSAH5IAckANyQA7IgYXOAUXjEjvBQu8EXr99QA7IATkgB+SAHJADckAOtHNA0ahoHPziH3ERFzkgB+SAHJADckAOyAE5IAeWbNymGat3lEdU3e2qW2zERg7IATkgB+SAHJADckAOyIFx5kCpDcvvikajKkZV5IAckANyQA7IATkgB+SAHJADpU6c9F3RKDk0EHJADsgBOSAH5IAckANyQA7IgUlCsfyhaJQcGgg5IAfkgByQA3JADsgBOSAH5ECpEyd9VzRKDg2EHJADckAOyAE5IAfkgByQA3JgklAsf/w/fud5K4jO0GMAAAAASUVORK5CYII=)"
      ]
    },
    {
      "cell_type": "markdown",
      "metadata": {
        "colab_type": "text",
        "id": "SQpbsgfOa3jx"
      },
      "source": [
        "### Predictor Set 7"
      ]
    },
    {
      "cell_type": "code",
      "metadata": {
        "colab_type": "code",
        "id": "uW0G5Pp9a3jx",
        "colab": {}
      },
      "source": [
        "predictors=['T2M_rolling', 'year', 'year^2', 'doy', 'doy^2','E12000001', 'E12000002', 'E12000003', 'E12000004','E12000005', 'E12000006', 'E12000007', 'E12000008']"
      ],
      "execution_count": 0,
      "outputs": []
    },
    {
      "cell_type": "code",
      "metadata": {
        "id": "w_JvGMTONqkA",
        "colab_type": "code",
        "colab": {
          "base_uri": "https://localhost:8080/",
          "height": 85
        },
        "outputId": "11650ae0-c5f1-4208-a3b1-d7aba04b12bc"
      },
      "source": [
        "models(X[predictors],y)"
      ],
      "execution_count": 377,
      "outputs": [
        {
          "output_type": "stream",
          "text": [
            "Avg. RMSE Linear Regression: 0.08861466925672781\n",
            "Avg. RMSE Ridge: 0.034019570966040205\n",
            "Avg. RMSE Lasso: 0.08861466925672781\n",
            "Avg. RMSE RF: 0.05143909981953948\n"
          ],
          "name": "stdout"
        }
      ]
    },
    {
      "cell_type": "code",
      "metadata": {
        "id": "LMT-2egwP_p7",
        "colab_type": "code",
        "colab": {}
      },
      "source": [
        "reg_ridge = RandomizedSearchCV(estimator=Ridge(random_state=SEED), param_distributions=ridge_dist, cv=inner_cv, \n",
        "                                   scoring=RMSE,random_state=SEED, n_jobs=-1)\n",
        "\n",
        "reg_ridge.fit(X[predictors],y)\n",
        "predictions = pd.DataFrame(index=test_f.index)\n",
        "predictions['mortality_rate'] = reg_ridge.predict(test_f[predictors])\n",
        "predictions.to_csv('final_mice_7.csv')"
      ],
      "execution_count": 0,
      "outputs": []
    },
    {
      "cell_type": "markdown",
      "metadata": {
        "id": "S1J5Xl5ST0NF",
        "colab_type": "text"
      },
      "source": [
        "![image.png](data:image/png;base64,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)"
      ]
    },
    {
      "cell_type": "markdown",
      "metadata": {
        "colab_type": "text",
        "id": "ENcdurg6a3kM"
      },
      "source": [
        "### Final Algo - mixed LR"
      ]
    },
    {
      "cell_type": "markdown",
      "metadata": {
        "colab_type": "raw",
        "id": "AFRtRamXa3kM"
      },
      "source": [
        "\n",
        "Notation:\n",
        "X0 - training predictors\n",
        "y0 - training target\n",
        "X1 - test predictors\n",
        "y1 - predictions\n"
      ]
    },
    {
      "cell_type": "code",
      "metadata": {
        "colab_type": "code",
        "id": "jVL79Q3Ca3kN",
        "colab": {}
      },
      "source": [
        "a = LinearRegression()\n",
        "b = LinearRegression()\n",
        "c = LinearRegression()\n",
        "ab = LinearRegression()"
      ],
      "execution_count": 0,
      "outputs": []
    },
    {
      "cell_type": "code",
      "metadata": {
        "colab_type": "code",
        "id": "iS9OCGtZa3kO",
        "colab": {}
      },
      "source": [
        "\n",
        "y0 = train_f['mortality_rate']\n",
        "\n",
        "\n",
        "\n",
        "#modela\n",
        "a_predictors = ['NO2_log', 'year', 'year^2', 'doy', 'doy^2','PM10_log']\n",
        "a_X0 = train_f[a_predictors]\n",
        "a.fit(a_X0, y0)\n",
        "\n",
        "\n",
        "\n",
        "#modelb\n",
        "b_predictors = [\n",
        "        'T2M_rolling', 'year', 'year^2', 'doy', 'doy^2',\n",
        "        'E12000001', 'E12000002', 'E12000003', 'E12000004',\n",
        "        'E12000005', 'E12000006', 'E12000007', 'E12000008'\n",
        "        ]\n",
        "b_X0 = train_f[b_predictors]\n",
        "b.fit(b_X0, y0)\n",
        "\n",
        "\n",
        "\n",
        "#modelc\n",
        "c_predictors = [\n",
        "        'E12000001', 'E12000002', 'E12000003', 'E12000004',\n",
        "        'E12000005', 'E12000006', 'E12000007', 'E12000008'\n",
        "        ]\n",
        "c_X0 = train_f[c_predictors]\n",
        "c.fit(c_X0, y0)\n",
        "\n",
        "\n",
        "region_effect_reduction = 0.85\n",
        "\n",
        "\n",
        "# Model AB\n",
        "# Produces the final solution. Combines A and \"reduced B\" by using their predictions as features for a linear regression.\n",
        "\n",
        "ab_X0 = pd.DataFrame({\n",
        "    'A': a.predict(a_X0),\n",
        "    'reduced B': b.predict(b_X0) - (c.predict(c_X0) * region_effect_reduction)\n",
        "    })\n",
        "\n",
        "ab.fit(ab_X0, y0)\n",
        "\n",
        "# predict\n",
        "\n",
        "a_X1 = test_f[a_predictors]\n",
        "b_X1 = test_f[b_predictors]\n",
        "c_X1 = test_f[c_predictors]\n",
        "\n",
        "ab_X1 = pd.DataFrame({'A': a.predict(a_X1),'reduced B': b.predict(b_X1) - (c.predict(c_X1) * region_effect_reduction)})\n",
        "\n",
        "ab_y1 = ab.predict(ab_X1)\n",
        "\n",
        "\n",
        "\n",
        "predictions = pd.DataFrame(index=test_f.index)\n",
        "#predictions['mortality_rate'] =  a.predict(a_X1)\n",
        "predictions['mortality_rate'] = ab_y1\n",
        "predictions.index.name = 'Id'\n",
        "predictions.to_csv('final_mice_final.csv')\n"
      ],
      "execution_count": 0,
      "outputs": []
    },
    {
      "cell_type": "markdown",
      "metadata": {
        "id": "5e8qk-ZKWTZY",
        "colab_type": "text"
      },
      "source": [
        "![image.png](data:image/png;base64,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)"
      ]
    },
    {
      "cell_type": "code",
      "metadata": {
        "id": "dg0Pgj3bgIkM",
        "colab_type": "code",
        "colab": {}
      },
      "source": [
        "def models(X,y):\n",
        "    reg_ridge = RandomizedSearchCV(estimator=Ridge(random_state=SEED), param_distributions=ridge_dist, cv=inner_cv, \n",
        "                                   scoring=RMSE,random_state=SEED, n_jobs=-1)\n",
        "    reg_lasso = RandomizedSearchCV(estimator=Lasso(random_state=SEED), param_distributions=lasso_dist, cv=inner_cv, \n",
        "                                   scoring=RMSE,random_state=SEED, n_jobs=-1)\n",
        "    reg_rf = GridSearchCV(estimator=RandomForestRegressor(random_state=SEED), param_grid=rf_dist, cv=inner_cv, \n",
        "                                   scoring=RMSE, n_jobs=-1)\n",
        "\n",
        "    nested_score_ridge = cross_val_score(reg_ridge, X = X, y=y, cv=outer_cv,scoring=RMSE)\n",
        "    nested_score_lasso = cross_val_score(reg_lasso, X = X, y=y, cv=outer_cv,scoring=RMSE)\n",
        "    cv_score_linear = cross_val_score(reg_lasso, X = X, y=y, cv=outer_cv,scoring=RMSE)\n",
        "    nested_score_rf = cross_val_score(reg_rf, X = X, y=y, cv=outer_cv,scoring=RMSE)\n",
        "    print_scores(cv_score_linear,nested_score_ridge,nested_score_lasso,nested_score_rf)"
      ],
      "execution_count": 0,
      "outputs": []
    }
  ]
}