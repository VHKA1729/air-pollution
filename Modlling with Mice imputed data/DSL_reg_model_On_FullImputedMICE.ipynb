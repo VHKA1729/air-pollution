{
 "cells": [
  {
   "cell_type": "markdown",
   "metadata": {},
   "source": [
    "\n",
    "<font size=\"20\"><h3 align='center'>**_DSL Project_**</font><br>\n",
    "    \n",
    "    \n",
    "<font size=\"5\"><h3 align='center'><span style='color:Blue'> Predict impact of air quality on mortality rates(Kaggle Competition)</font>\n",
    "\n",
    "\n",
    "<font size=\"3\"><h3 align='center'>https://www.kaggle.com/c/predict-impact-of-air-quality-on-death-rates/overview</font><br>\n",
    "    <br>\n",
    "\n",
    "\n",
    "<font size=\"3\">**Group Number - 2**<br>\n",
    "<font size=\"3\"> Mimansi Agarwal   &emsp;19BM6JP15</font>        \n",
    "<font size=\"3\"> Vaibhav HK Anand  &emsp;19BM6JP24</font>    \n",
    "<font size=\"3\"> Bankar Prasad Vilas &emsp;19BM6JP25</font> \n"
   ]
  },
  {
   "cell_type": "markdown",
   "metadata": {},
   "source": [
    "   "
   ]
  },
  {
   "cell_type": "markdown",
   "metadata": {},
   "source": [
    "   "
   ]
  },
  {
   "cell_type": "markdown",
   "metadata": {},
   "source": [
    "# Library"
   ]
  },
  {
   "cell_type": "code",
   "execution_count": 2,
   "metadata": {},
   "outputs": [],
   "source": [
    "\n",
    "import pandas as pd\n",
    "import numpy as np\n",
    "from sklearn.linear_model import LinearRegression\n",
    "import xgboost as xgb\n",
    "from sklearn import metrics\n",
    "import matplotlib.pyplot as plt\n",
    "import seaborn as sns\n",
    "from impyute.imputation.cs import mice\n",
    "from sklearn.model_selection import train_test_split\n",
    "from sklearn import linear_model\n",
    "from sklearn.linear_model import Ridge\n",
    "from sklearn.ensemble import RandomForestRegressor\n",
    "from sklearn.model_selection import cross_val_score\n",
    "from sklearn.metrics import  make_scorer\n",
    "import math"
   ]
  },
  {
   "cell_type": "code",
   "execution_count": null,
   "metadata": {},
   "outputs": [],
   "source": []
  },
  {
   "cell_type": "markdown",
   "metadata": {},
   "source": [
    "# Data import"
   ]
  },
  {
   "cell_type": "code",
   "execution_count": 5,
   "metadata": {},
   "outputs": [],
   "source": [
    "train = pd.read_csv('full_data_imputation_train2.csv', parse_dates=['date'], index_col='Id')\n",
    "train_region = pd.read_csv('region_wise_imputed_train.csv', parse_dates=['date'], index_col='Id')\n",
    "test = pd.read_csv('test.csv', parse_dates=['date'], index_col='Id')\n",
    "region=pd.read_csv('regions.csv')"
   ]
  },
  {
   "cell_type": "code",
   "execution_count": 6,
   "metadata": {},
   "outputs": [
    {
     "name": "stdout",
     "output_type": "stream",
     "text": [
      "<class 'pandas.core.frame.DataFrame'>\n",
      "Int64Index: 18403 entries, 1 to 16425\n",
      "Data columns (total 10 columns):\n",
      " #   Column          Non-Null Count  Dtype         \n",
      "---  ------          --------------  -----         \n",
      " 0   region          18403 non-null  object        \n",
      " 1   date            18403 non-null  datetime64[ns]\n",
      " 2   mortality_rate  18403 non-null  float64       \n",
      " 3   O3              18403 non-null  float64       \n",
      " 4   PM10            18403 non-null  float64       \n",
      " 5   PM25            18403 non-null  float64       \n",
      " 6   NO2             18403 non-null  float64       \n",
      " 7   T2M             18403 non-null  float64       \n",
      " 8   Code            18403 non-null  object        \n",
      " 9   Region          18403 non-null  object        \n",
      "dtypes: datetime64[ns](1), float64(6), object(3)\n",
      "memory usage: 1.5+ MB\n"
     ]
    }
   ],
   "source": [
    "train.info()"
   ]
  },
  {
   "cell_type": "markdown",
   "metadata": {},
   "source": [
    "**_Missing values present in 4 columns, O3 ,PM10, PM25, NO2_**"
   ]
  },
  {
   "cell_type": "code",
   "execution_count": 7,
   "metadata": {},
   "outputs": [
    {
     "name": "stdout",
     "output_type": "stream",
     "text": [
      "<class 'pandas.core.frame.DataFrame'>\n",
      "Int64Index: 7886 entries, 18404 to 26289\n",
      "Data columns (total 7 columns):\n",
      " #   Column  Non-Null Count  Dtype         \n",
      "---  ------  --------------  -----         \n",
      " 0   region  7886 non-null   object        \n",
      " 1   date    7886 non-null   datetime64[ns]\n",
      " 2   O3      7886 non-null   float64       \n",
      " 3   PM10    7886 non-null   float64       \n",
      " 4   PM25    7886 non-null   float64       \n",
      " 5   NO2     7886 non-null   float64       \n",
      " 6   T2M     7886 non-null   float64       \n",
      "dtypes: datetime64[ns](1), float64(5), object(1)\n",
      "memory usage: 492.9+ KB\n"
     ]
    }
   ],
   "source": [
    "test.info()"
   ]
  },
  {
   "cell_type": "code",
   "execution_count": 8,
   "metadata": {},
   "outputs": [
    {
     "data": {
      "text/html": [
       "<div>\n",
       "<style scoped>\n",
       "    .dataframe tbody tr th:only-of-type {\n",
       "        vertical-align: middle;\n",
       "    }\n",
       "\n",
       "    .dataframe tbody tr th {\n",
       "        vertical-align: top;\n",
       "    }\n",
       "\n",
       "    .dataframe thead th {\n",
       "        text-align: right;\n",
       "    }\n",
       "</style>\n",
       "<table border=\"1\" class=\"dataframe\">\n",
       "  <thead>\n",
       "    <tr style=\"text-align: right;\">\n",
       "      <th></th>\n",
       "      <th>Code</th>\n",
       "      <th>Region</th>\n",
       "    </tr>\n",
       "  </thead>\n",
       "  <tbody>\n",
       "    <tr>\n",
       "      <th>0</th>\n",
       "      <td>E12000001</td>\n",
       "      <td>North East</td>\n",
       "    </tr>\n",
       "    <tr>\n",
       "      <th>1</th>\n",
       "      <td>E12000002</td>\n",
       "      <td>North West</td>\n",
       "    </tr>\n",
       "    <tr>\n",
       "      <th>2</th>\n",
       "      <td>E12000003</td>\n",
       "      <td>Yorkshire and The Humber</td>\n",
       "    </tr>\n",
       "    <tr>\n",
       "      <th>3</th>\n",
       "      <td>E12000004</td>\n",
       "      <td>East Midlands</td>\n",
       "    </tr>\n",
       "    <tr>\n",
       "      <th>4</th>\n",
       "      <td>E12000005</td>\n",
       "      <td>West Midlands</td>\n",
       "    </tr>\n",
       "    <tr>\n",
       "      <th>5</th>\n",
       "      <td>E12000006</td>\n",
       "      <td>East of England</td>\n",
       "    </tr>\n",
       "    <tr>\n",
       "      <th>6</th>\n",
       "      <td>E12000007</td>\n",
       "      <td>London</td>\n",
       "    </tr>\n",
       "    <tr>\n",
       "      <th>7</th>\n",
       "      <td>E12000008</td>\n",
       "      <td>South East</td>\n",
       "    </tr>\n",
       "    <tr>\n",
       "      <th>8</th>\n",
       "      <td>E12000009</td>\n",
       "      <td>South West</td>\n",
       "    </tr>\n",
       "  </tbody>\n",
       "</table>\n",
       "</div>"
      ],
      "text/plain": [
       "        Code                    Region\n",
       "0  E12000001                North East\n",
       "1  E12000002                North West\n",
       "2  E12000003  Yorkshire and The Humber\n",
       "3  E12000004             East Midlands\n",
       "4  E12000005             West Midlands\n",
       "5  E12000006           East of England\n",
       "6  E12000007                    London\n",
       "7  E12000008                South East\n",
       "8  E12000009                South West"
      ]
     },
     "execution_count": 8,
     "metadata": {},
     "output_type": "execute_result"
    }
   ],
   "source": [
    "region"
   ]
  },
  {
   "cell_type": "code",
   "execution_count": 9,
   "metadata": {},
   "outputs": [
    {
     "name": "stdout",
     "output_type": "stream",
     "text": [
      "<class 'pandas.core.frame.DataFrame'>\n",
      "RangeIndex: 9 entries, 0 to 8\n",
      "Data columns (total 2 columns):\n",
      " #   Column  Non-Null Count  Dtype \n",
      "---  ------  --------------  ----- \n",
      " 0   Code    9 non-null      object\n",
      " 1   Region  9 non-null      object\n",
      "dtypes: object(2)\n",
      "memory usage: 272.0+ bytes\n"
     ]
    }
   ],
   "source": [
    "region.info()"
   ]
  },
  {
   "cell_type": "markdown",
   "metadata": {},
   "source": [
    "# Exploratory data analysis"
   ]
  },
  {
   "cell_type": "code",
   "execution_count": null,
   "metadata": {},
   "outputs": [],
   "source": []
  },
  {
   "cell_type": "code",
   "execution_count": null,
   "metadata": {},
   "outputs": [],
   "source": []
  },
  {
   "cell_type": "code",
   "execution_count": 10,
   "metadata": {},
   "outputs": [
    {
     "data": {
      "text/html": [
       "<div>\n",
       "<style scoped>\n",
       "    .dataframe tbody tr th:only-of-type {\n",
       "        vertical-align: middle;\n",
       "    }\n",
       "\n",
       "    .dataframe tbody tr th {\n",
       "        vertical-align: top;\n",
       "    }\n",
       "\n",
       "    .dataframe thead th {\n",
       "        text-align: right;\n",
       "    }\n",
       "</style>\n",
       "<table border=\"1\" class=\"dataframe\">\n",
       "  <thead>\n",
       "    <tr style=\"text-align: right;\">\n",
       "      <th></th>\n",
       "      <th>Code</th>\n",
       "      <th>Region</th>\n",
       "    </tr>\n",
       "  </thead>\n",
       "  <tbody>\n",
       "    <tr>\n",
       "      <th>0</th>\n",
       "      <td>E12000001</td>\n",
       "      <td>North East</td>\n",
       "    </tr>\n",
       "    <tr>\n",
       "      <th>1</th>\n",
       "      <td>E12000002</td>\n",
       "      <td>North West</td>\n",
       "    </tr>\n",
       "    <tr>\n",
       "      <th>2</th>\n",
       "      <td>E12000003</td>\n",
       "      <td>Yorkshire and The Humber</td>\n",
       "    </tr>\n",
       "    <tr>\n",
       "      <th>3</th>\n",
       "      <td>E12000004</td>\n",
       "      <td>East Midlands</td>\n",
       "    </tr>\n",
       "    <tr>\n",
       "      <th>4</th>\n",
       "      <td>E12000005</td>\n",
       "      <td>West Midlands</td>\n",
       "    </tr>\n",
       "  </tbody>\n",
       "</table>\n",
       "</div>"
      ],
      "text/plain": [
       "        Code                    Region\n",
       "0  E12000001                North East\n",
       "1  E12000002                North West\n",
       "2  E12000003  Yorkshire and The Humber\n",
       "3  E12000004             East Midlands\n",
       "4  E12000005             West Midlands"
      ]
     },
     "execution_count": 10,
     "metadata": {},
     "output_type": "execute_result"
    }
   ],
   "source": [
    "region.head()"
   ]
  },
  {
   "cell_type": "markdown",
   "metadata": {},
   "source": [
    "#  Imputation"
   ]
  },
  {
   "cell_type": "markdown",
   "metadata": {},
   "source": [
    "## Impution on full data"
   ]
  },
  {
   "cell_type": "code",
   "execution_count": null,
   "metadata": {},
   "outputs": [],
   "source": []
  },
  {
   "cell_type": "code",
   "execution_count": null,
   "metadata": {},
   "outputs": [],
   "source": []
  },
  {
   "cell_type": "code",
   "execution_count": null,
   "metadata": {},
   "outputs": [],
   "source": []
  },
  {
   "cell_type": "markdown",
   "metadata": {},
   "source": [
    "#  Feature Engeering"
   ]
  },
  {
   "cell_type": "markdown",
   "metadata": {},
   "source": [
    "one hot encoding for regions"
   ]
  },
  {
   "cell_type": "code",
   "execution_count": 11,
   "metadata": {},
   "outputs": [],
   "source": [
    "dummy1= pd.get_dummies(train['region'])\n",
    "train_f = train.join(dummy1)\n",
    "\n",
    "dummy2= pd.get_dummies(test['region'])\n",
    "test_f = test.join(dummy2)"
   ]
  },
  {
   "cell_type": "code",
   "execution_count": 12,
   "metadata": {},
   "outputs": [
    {
     "data": {
      "text/plain": [
       "((18403, 19), (7886, 16))"
      ]
     },
     "execution_count": 12,
     "metadata": {},
     "output_type": "execute_result"
    }
   ],
   "source": [
    "train_f.shape,test_f.shape"
   ]
  },
  {
   "cell_type": "markdown",
   "metadata": {},
   "source": [
    "doy and year"
   ]
  },
  {
   "cell_type": "code",
   "execution_count": 13,
   "metadata": {},
   "outputs": [],
   "source": [
    "train_f['year'] = train_f['date'].map(lambda x: x.year)\n",
    "test_f['year'] = test_f['date'].map(lambda x: x.year)\n",
    "\n",
    "train_f['year^2'] = train_f['year']**2\n",
    "test_f['year^2'] = test_f['year']**2\n",
    "\n",
    "train_f['doy'] = train_f['date'].map(lambda x: x.dayofyear)\n",
    "test_f['doy'] = test_f['date'].map(lambda x: x.dayofyear)\n",
    "\n",
    "train_f['doy^2'] = train_f['doy']**2\n",
    "test_f['doy^2'] = test_f['doy']**2"
   ]
  },
  {
   "cell_type": "markdown",
   "metadata": {},
   "source": [
    "Log Transformation"
   ]
  },
  {
   "cell_type": "code",
   "execution_count": 14,
   "metadata": {},
   "outputs": [
    {
     "name": "stderr",
     "output_type": "stream",
     "text": [
      "C:\\Users\\miman\\Anaconda3\\lib\\site-packages\\pandas\\core\\series.py:679: RuntimeWarning: invalid value encountered in log\n",
      "  result = getattr(ufunc, method)(*inputs, **kwargs)\n"
     ]
    }
   ],
   "source": [
    "train_f['NO2_log']=np.log(train_f['NO2'])\n",
    "train_f['PM10_log']=np.log(train_f['PM10'])\n",
    "train_f['PM25_log']=np.log(train_f['PM25'])\n",
    "\n",
    "test_f['NO2_log']=np.log(test_f['NO2'])\n",
    "test_f['PM10_log']=np.log(test_f['PM10'])\n",
    "test_f['PM25_log']=np.log(test_f['PM25'])"
   ]
  },
  {
   "cell_type": "code",
   "execution_count": 15,
   "metadata": {},
   "outputs": [
    {
     "name": "stdout",
     "output_type": "stream",
     "text": [
      "<class 'pandas.core.frame.DataFrame'>\n",
      "Int64Index: 18403 entries, 1 to 16425\n",
      "Data columns (total 26 columns):\n",
      " #   Column          Non-Null Count  Dtype         \n",
      "---  ------          --------------  -----         \n",
      " 0   region          18403 non-null  object        \n",
      " 1   date            18403 non-null  datetime64[ns]\n",
      " 2   mortality_rate  18403 non-null  float64       \n",
      " 3   O3              18403 non-null  float64       \n",
      " 4   PM10            18403 non-null  float64       \n",
      " 5   PM25            18403 non-null  float64       \n",
      " 6   NO2             18403 non-null  float64       \n",
      " 7   T2M             18403 non-null  float64       \n",
      " 8   Code            18403 non-null  object        \n",
      " 9   Region          18403 non-null  object        \n",
      " 10  E12000001       18403 non-null  uint8         \n",
      " 11  E12000002       18403 non-null  uint8         \n",
      " 12  E12000003       18403 non-null  uint8         \n",
      " 13  E12000004       18403 non-null  uint8         \n",
      " 14  E12000005       18403 non-null  uint8         \n",
      " 15  E12000006       18403 non-null  uint8         \n",
      " 16  E12000007       18403 non-null  uint8         \n",
      " 17  E12000008       18403 non-null  uint8         \n",
      " 18  E12000009       18403 non-null  uint8         \n",
      " 19  year            18403 non-null  int64         \n",
      " 20  year^2          18403 non-null  int64         \n",
      " 21  doy             18403 non-null  int64         \n",
      " 22  doy^2           18403 non-null  int64         \n",
      " 23  NO2_log         18302 non-null  float64       \n",
      " 24  PM10_log        18403 non-null  float64       \n",
      " 25  PM25_log        18378 non-null  float64       \n",
      "dtypes: datetime64[ns](1), float64(9), int64(4), object(3), uint8(9)\n",
      "memory usage: 3.3+ MB\n",
      "<class 'pandas.core.frame.DataFrame'>\n",
      "Int64Index: 7886 entries, 18404 to 26289\n",
      "Data columns (total 23 columns):\n",
      " #   Column     Non-Null Count  Dtype         \n",
      "---  ------     --------------  -----         \n",
      " 0   region     7886 non-null   object        \n",
      " 1   date       7886 non-null   datetime64[ns]\n",
      " 2   O3         7886 non-null   float64       \n",
      " 3   PM10       7886 non-null   float64       \n",
      " 4   PM25       7886 non-null   float64       \n",
      " 5   NO2        7886 non-null   float64       \n",
      " 6   T2M        7886 non-null   float64       \n",
      " 7   E12000001  7886 non-null   uint8         \n",
      " 8   E12000002  7886 non-null   uint8         \n",
      " 9   E12000003  7886 non-null   uint8         \n",
      " 10  E12000004  7886 non-null   uint8         \n",
      " 11  E12000005  7886 non-null   uint8         \n",
      " 12  E12000006  7886 non-null   uint8         \n",
      " 13  E12000007  7886 non-null   uint8         \n",
      " 14  E12000008  7886 non-null   uint8         \n",
      " 15  E12000009  7886 non-null   uint8         \n",
      " 16  year       7886 non-null   int64         \n",
      " 17  year^2     7886 non-null   int64         \n",
      " 18  doy        7886 non-null   int64         \n",
      " 19  doy^2      7886 non-null   int64         \n",
      " 20  NO2_log    7886 non-null   float64       \n",
      " 21  PM10_log   7886 non-null   float64       \n",
      " 22  PM25_log   7886 non-null   float64       \n",
      "dtypes: datetime64[ns](1), float64(8), int64(4), object(1), uint8(9)\n",
      "memory usage: 1.3+ MB\n"
     ]
    },
    {
     "data": {
      "text/plain": [
       "(None, None)"
      ]
     },
     "execution_count": 15,
     "metadata": {},
     "output_type": "execute_result"
    }
   ],
   "source": [
    "train_f.info(),test_f.info()"
   ]
  },
  {
   "cell_type": "code",
   "execution_count": 16,
   "metadata": {},
   "outputs": [],
   "source": [
    "total_f=total=pd.concat([train_f,test_f],sort=False)"
   ]
  },
  {
   "cell_type": "code",
   "execution_count": 17,
   "metadata": {},
   "outputs": [],
   "source": [
    "total_f['T2M_rolling'] = total_f.groupby('region')['T2M'].transform(lambda x: x.rolling(30).mean())"
   ]
  },
  {
   "cell_type": "code",
   "execution_count": 18,
   "metadata": {},
   "outputs": [
    {
     "data": {
      "text/plain": [
       "(26289, 27)"
      ]
     },
     "execution_count": 18,
     "metadata": {},
     "output_type": "execute_result"
    }
   ],
   "source": [
    "total_f.shape"
   ]
  },
  {
   "cell_type": "code",
   "execution_count": 19,
   "metadata": {},
   "outputs": [],
   "source": [
    "train_f=total_f[:18403].dropna()\n",
    "test_f=total_f[18403:].drop(['mortality_rate'],axis=1)"
   ]
  },
  {
   "cell_type": "code",
   "execution_count": 20,
   "metadata": {},
   "outputs": [
    {
     "data": {
      "text/plain": [
       "((18026, 27), (7886, 26))"
      ]
     },
     "execution_count": 20,
     "metadata": {},
     "output_type": "execute_result"
    }
   ],
   "source": [
    "train_f.shape,test_f.shape"
   ]
  },
  {
   "cell_type": "markdown",
   "metadata": {},
   "source": [
    "#  Modelling - Regression based models"
   ]
  },
  {
   "cell_type": "code",
   "execution_count": 21,
   "metadata": {},
   "outputs": [],
   "source": [
    "X_train, X_test, y_train, y_test = train_test_split(train_f.drop(['mortality_rate'],axis=1), train_f['mortality_rate'], test_size=0.2)"
   ]
  },
  {
   "cell_type": "code",
   "execution_count": 22,
   "metadata": {},
   "outputs": [
    {
     "data": {
      "text/plain": [
       "Index(['region', 'date', 'O3', 'PM10', 'PM25', 'NO2', 'T2M', 'Code', 'Region',\n",
       "       'E12000001', 'E12000002', 'E12000003', 'E12000004', 'E12000005',\n",
       "       'E12000006', 'E12000007', 'E12000008', 'E12000009', 'year', 'year^2',\n",
       "       'doy', 'doy^2', 'NO2_log', 'PM10_log', 'PM25_log', 'T2M_rolling'],\n",
       "      dtype='object')"
      ]
     },
     "execution_count": 22,
     "metadata": {},
     "output_type": "execute_result"
    }
   ],
   "source": [
    "X_train.columns"
   ]
  },
  {
   "cell_type": "code",
   "execution_count": 23,
   "metadata": {},
   "outputs": [],
   "source": [
    "RMSE= make_scorer(metrics.mean_squared_error)"
   ]
  },
  {
   "cell_type": "code",
   "execution_count": 24,
   "metadata": {},
   "outputs": [],
   "source": [
    "predictors=['O3','PM10','PM25','NO2','T2M']"
   ]
  },
  {
   "cell_type": "code",
   "execution_count": 25,
   "metadata": {},
   "outputs": [],
   "source": [
    "X=train_f.drop(['mortality_rate'],axis=1)\n",
    "y=train_f['mortality_rate']"
   ]
  },
  {
   "cell_type": "code",
   "execution_count": 26,
   "metadata": {},
   "outputs": [
    {
     "name": "stdout",
     "output_type": "stream",
     "text": [
      "LinearRegression RMSE [0.27740824 0.22263904 0.2296782  0.29398905 0.22082776] \n",
      "\n",
      "average RMSE : 0.2489084590679548 \n",
      " \n",
      "\n",
      "Lasso RMSE [0.29014054 0.22482052 0.22348427 0.35580941 0.22816987] \n",
      "\n",
      "average RMSE : 0.26448492220734127 \n",
      " \n",
      "\n",
      "Ridge RMSE [0.27740839 0.22263898 0.22967804 0.29398968 0.2208278 ] \n",
      "\n",
      "average RMSE : 0.24890857691268659 \n",
      " \n",
      "\n",
      "RandomForestRegressor RMSE [0.31499045 0.22675202 0.22852175 0.36930784 0.24331041] \n",
      "\n",
      "average RMSE : 0.27657649393580575 \n",
      " \n",
      "\n"
     ]
    }
   ],
   "source": [
    "models = [\n",
    "    LinearRegression(),\n",
    "    linear_model.Lasso(alpha=0.1),\n",
    "    Ridge(alpha=1.0),\n",
    "    RandomForestRegressor(max_depth=2, random_state=0),\n",
    "]\n",
    "CV = 5\n",
    "for model in models:\n",
    "    model_name = model.__class__.__name__\n",
    "    \n",
    "    accuracies = cross_val_score(model,X[predictors], y,scoring=RMSE, cv=CV)\n",
    "    \n",
    "    print(model_name,\"RMSE\",np.sqrt(accuracies),\"\\n\")\n",
    "    print(\"average RMSE :\", np.sqrt(accuracies).mean(),\"\\n\",\"\\n\")"
   ]
  },
  {
   "cell_type": "raw",
   "metadata": {},
   "source": [
    "-LinearRegression      0.2389627659994164  \n",
    "-Lasso                 0.243001215350219  \n",
    "-Ridge                 0.2389627739056404  \n",
    "-RandomForestRegressor 0.2533082876488943   "
   ]
  },
  {
   "cell_type": "raw",
   "metadata": {},
   "source": [
    "-LB Score\n",
    "-LinearRegression      0. \n",
    "-Lasso                 0. \n",
    "-Ridge                 0.\n",
    "-RandomForestRegressor 0. "
   ]
  },
  {
   "cell_type": "code",
   "execution_count": 27,
   "metadata": {},
   "outputs": [],
   "source": [
    "predictors=['O3','PM10','PM25','NO2_log','T2M']"
   ]
  },
  {
   "cell_type": "code",
   "execution_count": 28,
   "metadata": {},
   "outputs": [
    {
     "name": "stdout",
     "output_type": "stream",
     "text": [
      "LinearRegression RMSE [0.2830161  0.2321538  0.22291807 0.33393921 0.22972073] \n",
      "\n",
      "average RMSE : 0.2603495841144592 \n",
      " \n",
      "\n",
      "Lasso RMSE [0.31439311 0.22857669 0.21907402 0.36463865 0.23717917] \n",
      "\n",
      "average RMSE : 0.27277233060924233 \n",
      " \n",
      "\n",
      "Ridge RMSE [0.28301772 0.23214866 0.2229133  0.33395014 0.2297185 ] \n",
      "\n",
      "average RMSE : 0.26034966504704476 \n",
      " \n",
      "\n",
      "RandomForestRegressor RMSE [0.31499045 0.22675202 0.22852175 0.36930784 0.24331041] \n",
      "\n",
      "average RMSE : 0.27657649393580575 \n",
      " \n",
      "\n"
     ]
    }
   ],
   "source": [
    "models = [\n",
    "    LinearRegression(),\n",
    "    linear_model.Lasso(alpha=0.1),\n",
    "    Ridge(alpha=1.0),\n",
    "    RandomForestRegressor(max_depth=2, random_state=0),\n",
    "]\n",
    "CV = 5\n",
    "for model in models:\n",
    "    model_name = model.__class__.__name__\n",
    "    \n",
    "    accuracies = cross_val_score(model,X[predictors], y,scoring=RMSE, cv=CV)\n",
    "    \n",
    "    print(model_name,\"RMSE\",np.sqrt(accuracies),\"\\n\")\n",
    "    print(\"average RMSE :\", np.sqrt(accuracies).mean(),\"\\n\",\"\\n\")"
   ]
  },
  {
   "cell_type": "raw",
   "metadata": {},
   "source": [
    "-LinearRegression      0.2453372337810475 \n",
    "-Lasso                 0.25363080541258476  \n",
    "-Ridge                 0.24533682390299894 \n",
    "-RandomForestRegressor 0.253308657930002   "
   ]
  },
  {
   "cell_type": "raw",
   "metadata": {},
   "source": [
    "-LB socre\n",
    "-LinearRegression  0.   \n",
    "-Lasso             0. \n",
    "-Ridge             0. \n",
    "-RandomForestRegressor 0. "
   ]
  },
  {
   "cell_type": "code",
   "execution_count": 29,
   "metadata": {},
   "outputs": [],
   "source": [
    "predictors=['O3','PM10','PM25_log','NO2_log','T2M']"
   ]
  },
  {
   "cell_type": "code",
   "execution_count": 30,
   "metadata": {},
   "outputs": [
    {
     "name": "stdout",
     "output_type": "stream",
     "text": [
      "LinearRegression RMSE [0.28339697 0.23197316 0.22308032 0.33268263 0.22988701] \n",
      "\n",
      "average RMSE : 0.26020401718740854 \n",
      " \n",
      "\n",
      "Lasso RMSE [0.31461765 0.2285767  0.21907402 0.36463865 0.23717917] \n",
      "\n",
      "average RMSE : 0.27281724004277214 \n",
      " \n",
      "\n",
      "Ridge RMSE [0.28339655 0.23196874 0.22307519 0.33269324 0.22988381] \n",
      "\n",
      "average RMSE : 0.26020350685584703 \n",
      " \n",
      "\n",
      "RandomForestRegressor RMSE [0.31499045 0.22675202 0.22852175 0.36930784 0.24331041] \n",
      "\n",
      "average RMSE : 0.27657649393580575 \n",
      " \n",
      "\n"
     ]
    }
   ],
   "source": [
    "models = [\n",
    "    LinearRegression(),\n",
    "    linear_model.Lasso(alpha=0.1),\n",
    "    Ridge(alpha=1.0),\n",
    "    RandomForestRegressor(max_depth=2, random_state=0),\n",
    "]\n",
    "CV = 5\n",
    "for model in models:\n",
    "    model_name = model.__class__.__name__\n",
    "    \n",
    "    accuracies = cross_val_score(model,X[predictors], y,scoring=RMSE, cv=CV)\n",
    "    \n",
    "    print(model_name,\"RMSE\",np.sqrt(accuracies),\"\\n\")\n",
    "    print(\"average RMSE :\", np.sqrt(accuracies).mean(),\"\\n\",\"\\n\")"
   ]
  },
  {
   "cell_type": "raw",
   "metadata": {},
   "source": [
    "-LinearRegression      0.24551812699677633 \n",
    "-Lasso                 0.25364131894103525  \n",
    "-Ridge                 0.2455161592022304     \n",
    "-RandomForestRegressor 0.253308657930002   "
   ]
  },
  {
   "cell_type": "raw",
   "metadata": {},
   "source": [
    "-LB socre\n",
    "-LinearRegression  0. \n",
    "-Lasso             0.  \n",
    "-Ridge             0.  \n",
    "-RandomForestRegressor 0. "
   ]
  },
  {
   "cell_type": "code",
   "execution_count": 31,
   "metadata": {},
   "outputs": [],
   "source": [
    "predictors=['O3','PM10_log','PM25_log','NO2_log','T2M']"
   ]
  },
  {
   "cell_type": "code",
   "execution_count": 32,
   "metadata": {},
   "outputs": [
    {
     "name": "stdout",
     "output_type": "stream",
     "text": [
      "LinearRegression RMSE [0.28380724 0.23174178 0.22251717 0.33282088 0.22922977] \n",
      "\n",
      "average RMSE : 0.26002336744933696 \n",
      " \n",
      "\n",
      "Lasso RMSE [0.31568593 0.2277781  0.21726415 0.36463865 0.23539886] \n",
      "\n",
      "average RMSE : 0.27215313881213865 \n",
      " \n",
      "\n",
      "Ridge RMSE [0.28380729 0.23173404 0.22251363 0.33282413 0.22922972] \n",
      "\n",
      "average RMSE : 0.26002176092700985 \n",
      " \n",
      "\n",
      "RandomForestRegressor RMSE [0.31499045 0.22675202 0.22852175 0.36930784 0.24331041] \n",
      "\n",
      "average RMSE : 0.27657649393580575 \n",
      " \n",
      "\n"
     ]
    }
   ],
   "source": [
    "models = [\n",
    "    LinearRegression(),\n",
    "    linear_model.Lasso(alpha=0.1),\n",
    "    Ridge(alpha=1.0),\n",
    "    RandomForestRegressor(max_depth=2, random_state=0),\n",
    "]\n",
    "CV = 5\n",
    "for model in models:\n",
    "    model_name = model.__class__.__name__\n",
    "    \n",
    "    accuracies = cross_val_score(model,X[predictors], y,scoring=RMSE, cv=CV)\n",
    "    \n",
    "    print(model_name,\"RMSE\",np.sqrt(accuracies),\"\\n\")\n",
    "    print(\"average RMSE :\", np.sqrt(accuracies).mean(),\"\\n\",\"\\n\")"
   ]
  },
  {
   "cell_type": "raw",
   "metadata": {},
   "source": [
    "-LinearRegression      0.24552977824727984 \n",
    "-Lasso                 0.2536717498662236   \n",
    "-Ridge                 0.2455272255973945      \n",
    "-RandomForestRegressor 0.253308657930002   "
   ]
  },
  {
   "cell_type": "raw",
   "metadata": {},
   "source": [
    "-LB socre\n",
    "-LinearRegression  0. \n",
    "-Lasso             0. \n",
    "-Ridge              0.  \n",
    "-RandomForestRegressor 0. "
   ]
  },
  {
   "cell_type": "code",
   "execution_count": 33,
   "metadata": {},
   "outputs": [],
   "source": [
    "predictors=['O3','PM10_log','PM25_log','NO2_log','T2M_rolling']"
   ]
  },
  {
   "cell_type": "code",
   "execution_count": 34,
   "metadata": {},
   "outputs": [
    {
     "name": "stdout",
     "output_type": "stream",
     "text": [
      "LinearRegression RMSE [0.26433114 0.20830041 0.20349179 0.32079179 0.21864372] \n",
      "\n",
      "average RMSE : 0.24311176902847764 \n",
      " \n",
      "\n",
      "Lasso RMSE [0.30325015 0.2099866  0.20041842 0.36398766 0.22502729] \n",
      "\n",
      "average RMSE : 0.2605340270236548 \n",
      " \n",
      "\n",
      "Ridge RMSE [0.26432754 0.20829512 0.2034868  0.32079834 0.21864108] \n",
      "\n",
      "average RMSE : 0.24310977533949368 \n",
      " \n",
      "\n",
      "RandomForestRegressor RMSE [0.29967446 0.20992581 0.20549142 0.35969427 0.23310896] \n",
      "\n",
      "average RMSE : 0.26157898288070847 \n",
      " \n",
      "\n"
     ]
    }
   ],
   "source": [
    "models = [\n",
    "    LinearRegression(),\n",
    "    linear_model.Lasso(alpha=0.1),\n",
    "    Ridge(alpha=1.0),\n",
    "    RandomForestRegressor(max_depth=2, random_state=0),\n",
    "]\n",
    "CV = 5\n",
    "for model in models:\n",
    "    model_name = model.__class__.__name__\n",
    "    \n",
    "    accuracies = cross_val_score(model,X[predictors], y,scoring=RMSE, cv=CV)\n",
    "    \n",
    "    print(model_name,\"RMSE\",np.sqrt(accuracies),\"\\n\")\n",
    "    print(\"average RMSE :\", np.sqrt(accuracies).mean(),\"\\n\",\"\\n\")"
   ]
  },
  {
   "cell_type": "raw",
   "metadata": {},
   "source": [
    "-LinearRegression      0.22796036576314532 \n",
    "-Lasso                 0.24235147415525443   \n",
    "-Ridge                 0.2279576652270535  \n",
    "-RandomForestRegressor 0.2460673252607887 "
   ]
  },
  {
   "cell_type": "raw",
   "metadata": {},
   "source": [
    "-LB score\n",
    "-LinearRegression  0.  \n",
    "-Lasso             0.\n",
    "-Ridge              0.  \n",
    "-RandomForestRegressor 0. "
   ]
  },
  {
   "cell_type": "code",
   "execution_count": 35,
   "metadata": {},
   "outputs": [],
   "source": [
    "predictors=['O3','PM10_log','PM25_log','NO2_log','T2M_rolling','year','year^2','doy','doy^2']"
   ]
  },
  {
   "cell_type": "code",
   "execution_count": 36,
   "metadata": {},
   "outputs": [
    {
     "name": "stdout",
     "output_type": "stream",
     "text": [
      "LinearRegression RMSE [0.25163089 0.20103549 0.18888543 0.31984291 0.20042408] \n",
      "\n",
      "average RMSE : 0.23236376032335054 \n",
      " \n",
      "\n",
      "Lasso RMSE [0.29774598 0.20724945 0.18265143 0.37033586 0.19596881] \n",
      "\n",
      "average RMSE : 0.25079030592275003 \n",
      " \n",
      "\n",
      "Ridge RMSE [0.25159018 0.2009512  0.18891731 0.31993199 0.2001012 ] \n",
      "\n",
      "average RMSE : 0.23229837688412766 \n",
      " \n",
      "\n",
      "RandomForestRegressor RMSE [0.30250254 0.20900642 0.20463965 0.36274549 0.23063014] \n",
      "\n",
      "average RMSE : 0.261904849424171 \n",
      " \n",
      "\n"
     ]
    }
   ],
   "source": [
    "models = [\n",
    "    LinearRegression(),\n",
    "    linear_model.Lasso(alpha=0.1),\n",
    "    Ridge(alpha=1.0),\n",
    "    RandomForestRegressor(max_depth=2, random_state=0),\n",
    "]\n",
    "CV = 5\n",
    "for model in models:\n",
    "    model_name = model.__class__.__name__\n",
    "    \n",
    "    accuracies = cross_val_score(model,X[predictors], y,scoring=RMSE, cv=CV)\n",
    "    \n",
    "    print(model_name,\"RMSE\",np.sqrt(accuracies),\"\\n\")\n",
    "    print(\"average RMSE :\", np.sqrt(accuracies).mean(),\"\\n\",\"\\n\")"
   ]
  },
  {
   "cell_type": "raw",
   "metadata": {},
   "source": [
    "-LinearRegression      0.25691874212490495  \n",
    "-Lasso                 0.24943533679256355  \n",
    "-Ridge                 0.23111601199135615     \n",
    "-RandomForestRegressor 0.2435420386323374  "
   ]
  },
  {
   "cell_type": "raw",
   "metadata": {},
   "source": [
    "-LB score\n",
    "-LinearRegression  0.  \n",
    "-Lasso             0.\n",
    "-Ridge              0.  \n",
    "-RandomForestRegressor 0. "
   ]
  },
  {
   "cell_type": "code",
   "execution_count": 37,
   "metadata": {},
   "outputs": [],
   "source": [
    "predictors=['T2M_rolling', 'year', 'year^2', 'doy', 'doy^2','E12000001', 'E12000002', 'E12000003', 'E12000004','E12000005', 'E12000006', 'E12000007', 'E12000008']"
   ]
  },
  {
   "cell_type": "code",
   "execution_count": 38,
   "metadata": {},
   "outputs": [
    {
     "name": "stdout",
     "output_type": "stream",
     "text": [
      "LinearRegression RMSE [0.22857539 0.18480372 0.19915    0.16379925 0.19331738] \n",
      "\n",
      "average RMSE : 0.1939291499730676 \n",
      " \n",
      "\n",
      "Lasso RMSE [0.30253048 0.20273216 0.17838908 0.37580078 0.19765775] \n",
      "\n",
      "average RMSE : 0.2514220509883692 \n",
      " \n",
      "\n",
      "Ridge RMSE [0.22869481 0.18463661 0.19900196 0.15918251 0.19291681] \n",
      "\n",
      "average RMSE : 0.192886539077443 \n",
      " \n",
      "\n",
      "RandomForestRegressor RMSE [0.29391025 0.21333037 0.23101697 0.36274549 0.22699476] \n",
      "\n",
      "average RMSE : 0.26559956676487956 \n",
      " \n",
      "\n"
     ]
    }
   ],
   "source": [
    "models = [\n",
    "    LinearRegression(),\n",
    "    linear_model.Lasso(alpha=0.1),\n",
    "    Ridge(alpha=1.0),\n",
    "    RandomForestRegressor(max_depth=2, random_state=0),\n",
    "]\n",
    "CV = 5\n",
    "for model in models:\n",
    "    model_name = model.__class__.__name__\n",
    "    \n",
    "    accuracies = cross_val_score(model,X[predictors], y,scoring=RMSE, cv=CV)\n",
    "    \n",
    "    print(model_name,\"RMSE\",np.sqrt(accuracies),\"\\n\")\n",
    "    print(\"average RMSE :\", np.sqrt(accuracies).mean(),\"\\n\",\"\\n\")"
   ]
  },
  {
   "cell_type": "code",
   "execution_count": 39,
   "metadata": {},
   "outputs": [],
   "source": [
    "predictors1=['NO2_log', 'year', 'year^2', 'doy', 'doy^2','PM10_log']\n",
    "predictors2=['T2M_rolling', 'year', 'year^2', 'doy', 'doy^2','E12000001', 'E12000002', 'E12000003', 'E12000004','E12000005', 'E12000006', 'E12000007', 'E12000008']\n",
    "predictors3=['E12000001', 'E12000002', 'E12000003', 'E12000004','E12000005', 'E12000006', 'E12000007', 'E12000008']"
   ]
  },
  {
   "cell_type": "code",
   "execution_count": 40,
   "metadata": {},
   "outputs": [
    {
     "name": "stdout",
     "output_type": "stream",
     "text": [
      "RandomForestRegressor RMSE [0.27435974 0.21754495 0.19883702 0.34278609 0.19881749] \n",
      "\n",
      "average RMSE : 0.24646905902503238 \n",
      " \n",
      "\n",
      "RandomForestRegressor RMSE [0.22857539 0.18480372 0.19915    0.16379925 0.19331738] \n",
      "\n",
      "average RMSE : 0.1939291499730676 \n",
      " \n",
      "\n",
      "RandomForestRegressor RMSE [3.20813764e-01 2.75481076e-01 2.81456941e-01 2.46364649e-01\n",
      " 4.94802667e+10] \n",
      "\n",
      "average RMSE : 9896053349.415403 \n",
      " \n",
      "\n"
     ]
    }
   ],
   "source": [
    "pred = [\n",
    "    predictors1,\n",
    "    predictors2,\n",
    "    predictors3,\n",
    "]\n",
    "for preds in pred:\n",
    "    #model_name = model.__class__.__name__\n",
    "    \n",
    "    accuracies = cross_val_score(LinearRegression(),X[preds], y,scoring=RMSE, cv=CV)\n",
    "    \n",
    "    print(model_name,\"RMSE\",np.sqrt(accuracies),\"\\n\")\n",
    "    print(\"average RMSE :\", np.sqrt(accuracies).mean(),\"\\n\",\"\\n\")"
   ]
  },
  {
   "cell_type": "code",
   "execution_count": null,
   "metadata": {},
   "outputs": [],
   "source": []
  },
  {
   "cell_type": "markdown",
   "metadata": {},
   "source": [
    "## Final Algo - mixed LR"
   ]
  },
  {
   "cell_type": "raw",
   "metadata": {},
   "source": [
    "\n",
    "Notation:\n",
    "X0 - training predictors\n",
    "y0 - training target\n",
    "X1 - test predictors\n",
    "y1 - predictions\n"
   ]
  },
  {
   "cell_type": "code",
   "execution_count": 41,
   "metadata": {},
   "outputs": [],
   "source": [
    "a = LinearRegression()\n",
    "b = LinearRegression()\n",
    "c = LinearRegression()\n",
    "ab = LinearRegression()"
   ]
  },
  {
   "cell_type": "code",
   "execution_count": 42,
   "metadata": {},
   "outputs": [],
   "source": [
    "\n",
    "y0 = train_f['mortality_rate']\n",
    "\n",
    "\n",
    "\n",
    "#modela\n",
    "a_predictors = ['NO2_log', 'year', 'year^2', 'doy', 'doy^2','PM10_log']\n",
    "a_X0 = train_f[a_predictors]\n",
    "a.fit(a_X0, y0)\n",
    "\n",
    "\n",
    "\n",
    "#modelb\n",
    "b_predictors = [\n",
    "        'T2M_rolling', 'year', 'year^2', 'doy', 'doy^2',\n",
    "        'E12000001', 'E12000002', 'E12000003', 'E12000004',\n",
    "        'E12000005', 'E12000006', 'E12000007', 'E12000008'\n",
    "        ]\n",
    "b_X0 = train_f[b_predictors]\n",
    "b.fit(b_X0, y0)\n",
    "\n",
    "\n",
    "\n",
    "#modelc\n",
    "c_predictors = [\n",
    "        'E12000001', 'E12000002', 'E12000003', 'E12000004',\n",
    "        'E12000005', 'E12000006', 'E12000007', 'E12000008'\n",
    "        ]\n",
    "c_X0 = train_f[c_predictors]\n",
    "c.fit(c_X0, y0)\n",
    "\n",
    "\n",
    "region_effect_reduction = 0.85\n",
    "\n",
    "\n",
    "# Model AB\n",
    "# Produces the final solution. Combines A and \"reduced B\" by using their predictions as features for a linear regression.\n",
    "\n",
    "ab_X0 = pd.DataFrame({\n",
    "    'A': a.predict(a_X0),\n",
    "    'reduced B': b.predict(b_X0) - (c.predict(c_X0) * region_effect_reduction)\n",
    "    })\n",
    "\n",
    "ab.fit(ab_X0, y0)\n",
    "\n",
    "# predict\n",
    "\n",
    "a_X1 = test_f[a_predictors]\n",
    "b_X1 = test_f[b_predictors]\n",
    "c_X1 = test_f[c_predictors]\n",
    "\n",
    "ab_X1 = pd.DataFrame({'A': a.predict(a_X1),'reduced B': b.predict(b_X1) - (c.predict(c_X1) * region_effect_reduction)})\n",
    "\n",
    "ab_y1 = ab.predict(ab_X1)\n",
    "\n",
    "\n",
    "\n",
    "predictions = pd.DataFrame(index=test_f.index)\n",
    "predictions['mortality_rate'] =  a.predict(a_X1)\n",
    "predictions.to_csv('algo_final_train_full1.csv')\n"
   ]
  },
  {
   "cell_type": "markdown",
   "metadata": {},
   "source": [
    "# Results\n",
    "best LB socre for -(region_effect_reduction = 0.85)<br>\n",
    "private score - 0.28948<br>\n",
    "public score - 0.28784<br>\n",
    "\n",
    "\n",
    "benchmark -<br>\n",
    "private score - 0.29022<br>\n",
    "public socre - 0.29259<br>"
   ]
  },
  {
   "cell_type": "code",
   "execution_count": null,
   "metadata": {},
   "outputs": [],
   "source": []
  }
 ],
 "metadata": {
  "kernelspec": {
   "display_name": "Python 3",
   "language": "python",
   "name": "python3"
  },
  "language_info": {
   "codemirror_mode": {
    "name": "ipython",
    "version": 3
   },
   "file_extension": ".py",
   "mimetype": "text/x-python",
   "name": "python",
   "nbconvert_exporter": "python",
   "pygments_lexer": "ipython3",
   "version": "3.7.3"
  }
 },
 "nbformat": 4,
 "nbformat_minor": 2
}
