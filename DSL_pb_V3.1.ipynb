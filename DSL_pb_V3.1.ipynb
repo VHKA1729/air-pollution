{
 "cells": [
  {
   "cell_type": "markdown",
   "metadata": {},
   "source": [
    "\n",
    "<font size=\"20\"><h3 align='center'>**_DSL Project_**</font><br>\n",
    "    \n",
    "    \n",
    "<font size=\"5\"><h3 align='center'><span style='color:Blue'> Predict impact of air quality on mortality rates(Kaggle Competition)</font>\n",
    "\n",
    "\n",
    "<font size=\"3\"><h3 align='center'>https://www.kaggle.com/c/predict-impact-of-air-quality-on-death-rates/overview</font><br>\n",
    "    <br>\n",
    "\n",
    "\n",
    "<font size=\"3\">**Group Number - 2**<br>\n",
    "<font size=\"3\"> Mimansi Agarwal   &emsp;19BM6JP15</font>        \n",
    "<font size=\"3\"> Vaibhav HK Anand  &emsp;19BM6JP24</font>    \n",
    "<font size=\"3\"> Bankar Prasad Vilas &emsp;19BM6JP25</font> \n"
   ]
  },
  {
   "cell_type": "markdown",
   "metadata": {},
   "source": [
    "   "
   ]
  },
  {
   "cell_type": "markdown",
   "metadata": {},
   "source": [
    "   "
   ]
  },
  {
   "cell_type": "markdown",
   "metadata": {},
   "source": [
    "# Library"
   ]
  },
  {
   "cell_type": "code",
   "execution_count": 1,
   "metadata": {},
   "outputs": [],
   "source": [
    "\n",
    "import pandas as pd\n",
    "import numpy as np\n",
    "from sklearn.linear_model import LinearRegression\n",
    "import xgboost as xgb\n",
    "from sklearn import metrics\n",
    "import matplotlib.pyplot as plt\n",
    "import seaborn as sns\n",
    "from impyute.imputation.cs import mice\n",
    "from sklearn.model_selection import train_test_split\n",
    "from sklearn import linear_model\n",
    "from sklearn.linear_model import Ridge\n",
    "from sklearn.ensemble import RandomForestRegressor\n",
    "from sklearn.model_selection import cross_val_score\n",
    "from sklearn.metrics import  make_scorer\n",
    "import math"
   ]
  },
  {
   "cell_type": "code",
   "execution_count": null,
   "metadata": {},
   "outputs": [],
   "source": []
  },
  {
   "cell_type": "markdown",
   "metadata": {},
   "source": [
    "# Data import"
   ]
  },
  {
   "cell_type": "code",
   "execution_count": 2,
   "metadata": {},
   "outputs": [],
   "source": [
    "train = pd.read_csv('C:/Users/deciPh3r/Desktop/Project/files/train.csv', parse_dates=['date'], index_col='Id')\n",
    "test = pd.read_csv('C:/Users/deciPh3r/Desktop/Project/files/test.csv', parse_dates=['date'], index_col='Id')\n",
    "region=pd.read_csv('C:/Users/deciPh3r/Desktop/Project/files/regions.csv')"
   ]
  },
  {
   "cell_type": "code",
   "execution_count": 3,
   "metadata": {},
   "outputs": [
    {
     "name": "stdout",
     "output_type": "stream",
     "text": [
      "<class 'pandas.core.frame.DataFrame'>\n",
      "Int64Index: 18403 entries, 1 to 18403\n",
      "Data columns (total 8 columns):\n",
      "region            18403 non-null object\n",
      "date              18403 non-null datetime64[ns]\n",
      "mortality_rate    18403 non-null float64\n",
      "O3                18394 non-null float64\n",
      "PM10              18394 non-null float64\n",
      "PM25              15127 non-null float64\n",
      "NO2               11833 non-null float64\n",
      "T2M               18403 non-null float64\n",
      "dtypes: datetime64[ns](1), float64(6), object(1)\n",
      "memory usage: 1.3+ MB\n"
     ]
    }
   ],
   "source": [
    "train.info()"
   ]
  },
  {
   "cell_type": "markdown",
   "metadata": {},
   "source": [
    "**_Missing values present in 4 columns, O3 ,PM10, PM25, NO2_**"
   ]
  },
  {
   "cell_type": "code",
   "execution_count": 4,
   "metadata": {},
   "outputs": [
    {
     "name": "stdout",
     "output_type": "stream",
     "text": [
      "<class 'pandas.core.frame.DataFrame'>\n",
      "Int64Index: 7886 entries, 18404 to 26289\n",
      "Data columns (total 7 columns):\n",
      "region    7886 non-null object\n",
      "date      7886 non-null datetime64[ns]\n",
      "O3        7886 non-null float64\n",
      "PM10      7886 non-null float64\n",
      "PM25      7886 non-null float64\n",
      "NO2       7886 non-null float64\n",
      "T2M       7886 non-null float64\n",
      "dtypes: datetime64[ns](1), float64(5), object(1)\n",
      "memory usage: 492.9+ KB\n"
     ]
    }
   ],
   "source": [
    "test.info()"
   ]
  },
  {
   "cell_type": "code",
   "execution_count": 5,
   "metadata": {},
   "outputs": [
    {
     "data": {
      "text/html": [
       "<div>\n",
       "<style scoped>\n",
       "    .dataframe tbody tr th:only-of-type {\n",
       "        vertical-align: middle;\n",
       "    }\n",
       "\n",
       "    .dataframe tbody tr th {\n",
       "        vertical-align: top;\n",
       "    }\n",
       "\n",
       "    .dataframe thead th {\n",
       "        text-align: right;\n",
       "    }\n",
       "</style>\n",
       "<table border=\"1\" class=\"dataframe\">\n",
       "  <thead>\n",
       "    <tr style=\"text-align: right;\">\n",
       "      <th></th>\n",
       "      <th>Code</th>\n",
       "      <th>Region</th>\n",
       "    </tr>\n",
       "  </thead>\n",
       "  <tbody>\n",
       "    <tr>\n",
       "      <td>0</td>\n",
       "      <td>E12000001</td>\n",
       "      <td>North East</td>\n",
       "    </tr>\n",
       "    <tr>\n",
       "      <td>1</td>\n",
       "      <td>E12000002</td>\n",
       "      <td>North West</td>\n",
       "    </tr>\n",
       "    <tr>\n",
       "      <td>2</td>\n",
       "      <td>E12000003</td>\n",
       "      <td>Yorkshire and The Humber</td>\n",
       "    </tr>\n",
       "    <tr>\n",
       "      <td>3</td>\n",
       "      <td>E12000004</td>\n",
       "      <td>East Midlands</td>\n",
       "    </tr>\n",
       "    <tr>\n",
       "      <td>4</td>\n",
       "      <td>E12000005</td>\n",
       "      <td>West Midlands</td>\n",
       "    </tr>\n",
       "    <tr>\n",
       "      <td>5</td>\n",
       "      <td>E12000006</td>\n",
       "      <td>East of England</td>\n",
       "    </tr>\n",
       "    <tr>\n",
       "      <td>6</td>\n",
       "      <td>E12000007</td>\n",
       "      <td>London</td>\n",
       "    </tr>\n",
       "    <tr>\n",
       "      <td>7</td>\n",
       "      <td>E12000008</td>\n",
       "      <td>South East</td>\n",
       "    </tr>\n",
       "    <tr>\n",
       "      <td>8</td>\n",
       "      <td>E12000009</td>\n",
       "      <td>South West</td>\n",
       "    </tr>\n",
       "  </tbody>\n",
       "</table>\n",
       "</div>"
      ],
      "text/plain": [
       "        Code                    Region\n",
       "0  E12000001                North East\n",
       "1  E12000002                North West\n",
       "2  E12000003  Yorkshire and The Humber\n",
       "3  E12000004             East Midlands\n",
       "4  E12000005             West Midlands\n",
       "5  E12000006           East of England\n",
       "6  E12000007                    London\n",
       "7  E12000008                South East\n",
       "8  E12000009                South West"
      ]
     },
     "execution_count": 5,
     "metadata": {},
     "output_type": "execute_result"
    }
   ],
   "source": [
    "region"
   ]
  },
  {
   "cell_type": "code",
   "execution_count": 6,
   "metadata": {},
   "outputs": [
    {
     "name": "stdout",
     "output_type": "stream",
     "text": [
      "<class 'pandas.core.frame.DataFrame'>\n",
      "RangeIndex: 9 entries, 0 to 8\n",
      "Data columns (total 2 columns):\n",
      "Code      9 non-null object\n",
      "Region    9 non-null object\n",
      "dtypes: object(2)\n",
      "memory usage: 272.0+ bytes\n"
     ]
    }
   ],
   "source": [
    "region.info()"
   ]
  },
  {
   "cell_type": "markdown",
   "metadata": {},
   "source": [
    "# Exploratory data analysis"
   ]
  },
  {
   "cell_type": "code",
   "execution_count": null,
   "metadata": {},
   "outputs": [],
   "source": []
  },
  {
   "cell_type": "code",
   "execution_count": null,
   "metadata": {},
   "outputs": [],
   "source": []
  },
  {
   "cell_type": "code",
   "execution_count": 7,
   "metadata": {},
   "outputs": [
    {
     "data": {
      "text/html": [
       "<div>\n",
       "<style scoped>\n",
       "    .dataframe tbody tr th:only-of-type {\n",
       "        vertical-align: middle;\n",
       "    }\n",
       "\n",
       "    .dataframe tbody tr th {\n",
       "        vertical-align: top;\n",
       "    }\n",
       "\n",
       "    .dataframe thead th {\n",
       "        text-align: right;\n",
       "    }\n",
       "</style>\n",
       "<table border=\"1\" class=\"dataframe\">\n",
       "  <thead>\n",
       "    <tr style=\"text-align: right;\">\n",
       "      <th></th>\n",
       "      <th>Code</th>\n",
       "      <th>Region</th>\n",
       "    </tr>\n",
       "  </thead>\n",
       "  <tbody>\n",
       "    <tr>\n",
       "      <td>0</td>\n",
       "      <td>E12000001</td>\n",
       "      <td>North East</td>\n",
       "    </tr>\n",
       "    <tr>\n",
       "      <td>1</td>\n",
       "      <td>E12000002</td>\n",
       "      <td>North West</td>\n",
       "    </tr>\n",
       "    <tr>\n",
       "      <td>2</td>\n",
       "      <td>E12000003</td>\n",
       "      <td>Yorkshire and The Humber</td>\n",
       "    </tr>\n",
       "    <tr>\n",
       "      <td>3</td>\n",
       "      <td>E12000004</td>\n",
       "      <td>East Midlands</td>\n",
       "    </tr>\n",
       "    <tr>\n",
       "      <td>4</td>\n",
       "      <td>E12000005</td>\n",
       "      <td>West Midlands</td>\n",
       "    </tr>\n",
       "  </tbody>\n",
       "</table>\n",
       "</div>"
      ],
      "text/plain": [
       "        Code                    Region\n",
       "0  E12000001                North East\n",
       "1  E12000002                North West\n",
       "2  E12000003  Yorkshire and The Humber\n",
       "3  E12000004             East Midlands\n",
       "4  E12000005             West Midlands"
      ]
     },
     "execution_count": 7,
     "metadata": {},
     "output_type": "execute_result"
    }
   ],
   "source": [
    "region.head()"
   ]
  },
  {
   "cell_type": "markdown",
   "metadata": {},
   "source": [
    "#  Imputation"
   ]
  },
  {
   "cell_type": "markdown",
   "metadata": {},
   "source": [
    "## Impution on full data"
   ]
  },
  {
   "cell_type": "code",
   "execution_count": null,
   "metadata": {},
   "outputs": [],
   "source": []
  },
  {
   "cell_type": "code",
   "execution_count": null,
   "metadata": {},
   "outputs": [],
   "source": []
  },
  {
   "cell_type": "code",
   "execution_count": null,
   "metadata": {},
   "outputs": [],
   "source": []
  },
  {
   "cell_type": "markdown",
   "metadata": {},
   "source": [
    "#  Feature Engeering"
   ]
  },
  {
   "cell_type": "markdown",
   "metadata": {},
   "source": [
    "one hot encoding for regions"
   ]
  },
  {
   "cell_type": "code",
   "execution_count": 14,
   "metadata": {},
   "outputs": [],
   "source": [
    "dummy1= pd.get_dummies(train['region'])\n",
    "train_f = train.join(dummy1)\n",
    "\n",
    "dummy2= pd.get_dummies(test['region'])\n",
    "test_f = test.join(dummy2)"
   ]
  },
  {
   "cell_type": "code",
   "execution_count": 15,
   "metadata": {},
   "outputs": [
    {
     "data": {
      "text/plain": [
       "((18403, 17), (7886, 16))"
      ]
     },
     "execution_count": 15,
     "metadata": {},
     "output_type": "execute_result"
    }
   ],
   "source": [
    "train_f.shape,test_f.shape"
   ]
  },
  {
   "cell_type": "markdown",
   "metadata": {},
   "source": [
    "doy and year"
   ]
  },
  {
   "cell_type": "code",
   "execution_count": 16,
   "metadata": {},
   "outputs": [],
   "source": [
    "train_f['year'] = train_f['date'].map(lambda x: x.year)\n",
    "test_f['year'] = test_f['date'].map(lambda x: x.year)\n",
    "\n",
    "train_f['year^2'] = train_f['year']**2\n",
    "test_f['year^2'] = test_f['year']**2\n",
    "\n",
    "train_f['doy'] = train_f['date'].map(lambda x: x.dayofyear)\n",
    "test_f['doy'] = test_f['date'].map(lambda x: x.dayofyear)\n",
    "\n",
    "train_f['doy^2'] = train_f['doy']**2\n",
    "test_f['doy^2'] = test_f['doy']**2"
   ]
  },
  {
   "cell_type": "markdown",
   "metadata": {},
   "source": [
    "Log Transformation"
   ]
  },
  {
   "cell_type": "code",
   "execution_count": 19,
   "metadata": {},
   "outputs": [],
   "source": [
    "train_f['NO2_log']=np.log(train_f['NO2'])\n",
    "train_f['PM10_log']=np.log(train_f['PM10'])\n",
    "train_f['PM25_log']=np.log(train_f['PM25'])\n",
    "\n",
    "test_f['NO2_log']=np.log(test_f['NO2'])\n",
    "test_f['PM10_log']=np.log(test_f['PM10'])\n",
    "test_f['PM25_log']=np.log(test_f['PM25'])"
   ]
  },
  {
   "cell_type": "code",
   "execution_count": 20,
   "metadata": {},
   "outputs": [
    {
     "name": "stdout",
     "output_type": "stream",
     "text": [
      "<class 'pandas.core.frame.DataFrame'>\n",
      "Int64Index: 18403 entries, 1 to 18403\n",
      "Data columns (total 24 columns):\n",
      "region            18403 non-null object\n",
      "date              18403 non-null datetime64[ns]\n",
      "mortality_rate    18403 non-null float64\n",
      "O3                18394 non-null float64\n",
      "PM10              18394 non-null float64\n",
      "PM25              15127 non-null float64\n",
      "NO2               11833 non-null float64\n",
      "T2M               18403 non-null float64\n",
      "E12000001         18403 non-null uint8\n",
      "E12000002         18403 non-null uint8\n",
      "E12000003         18403 non-null uint8\n",
      "E12000004         18403 non-null uint8\n",
      "E12000005         18403 non-null uint8\n",
      "E12000006         18403 non-null uint8\n",
      "E12000007         18403 non-null uint8\n",
      "E12000008         18403 non-null uint8\n",
      "E12000009         18403 non-null uint8\n",
      "year              18403 non-null int64\n",
      "year^2            18403 non-null int64\n",
      "doy               18403 non-null int64\n",
      "doy^2             18403 non-null int64\n",
      "NO2_log           11833 non-null float64\n",
      "PM10_log          18394 non-null float64\n",
      "PM25_log          15127 non-null float64\n",
      "dtypes: datetime64[ns](1), float64(9), int64(4), object(1), uint8(9)\n",
      "memory usage: 3.0+ MB\n",
      "<class 'pandas.core.frame.DataFrame'>\n",
      "Int64Index: 7886 entries, 18404 to 26289\n",
      "Data columns (total 23 columns):\n",
      "region       7886 non-null object\n",
      "date         7886 non-null datetime64[ns]\n",
      "O3           7886 non-null float64\n",
      "PM10         7886 non-null float64\n",
      "PM25         7886 non-null float64\n",
      "NO2          7886 non-null float64\n",
      "T2M          7886 non-null float64\n",
      "E12000001    7886 non-null uint8\n",
      "E12000002    7886 non-null uint8\n",
      "E12000003    7886 non-null uint8\n",
      "E12000004    7886 non-null uint8\n",
      "E12000005    7886 non-null uint8\n",
      "E12000006    7886 non-null uint8\n",
      "E12000007    7886 non-null uint8\n",
      "E12000008    7886 non-null uint8\n",
      "E12000009    7886 non-null uint8\n",
      "year         7886 non-null int64\n",
      "year^2       7886 non-null int64\n",
      "doy          7886 non-null int64\n",
      "doy^2        7886 non-null int64\n",
      "NO2_log      7886 non-null float64\n",
      "PM10_log     7886 non-null float64\n",
      "PM25_log     7886 non-null float64\n",
      "dtypes: datetime64[ns](1), float64(8), int64(4), object(1), uint8(9)\n",
      "memory usage: 1.3+ MB\n"
     ]
    },
    {
     "data": {
      "text/plain": [
       "(None, None)"
      ]
     },
     "execution_count": 20,
     "metadata": {},
     "output_type": "execute_result"
    }
   ],
   "source": [
    "train_f.info(),test_f.info()"
   ]
  },
  {
   "cell_type": "code",
   "execution_count": 22,
   "metadata": {},
   "outputs": [],
   "source": [
    "total_f=total=pd.concat([train_f,test_f],sort=False)"
   ]
  },
  {
   "cell_type": "code",
   "execution_count": 23,
   "metadata": {},
   "outputs": [],
   "source": [
    "total_f['T2M_rolling'] = total_f.groupby('region')['T2M'].transform(lambda x: x.rolling(30).mean())"
   ]
  },
  {
   "cell_type": "code",
   "execution_count": 24,
   "metadata": {},
   "outputs": [
    {
     "data": {
      "text/plain": [
       "(26289, 25)"
      ]
     },
     "execution_count": 24,
     "metadata": {},
     "output_type": "execute_result"
    }
   ],
   "source": [
    "total_f.shape"
   ]
  },
  {
   "cell_type": "code",
   "execution_count": 29,
   "metadata": {},
   "outputs": [],
   "source": [
    "train_f=total_f[:18403].dropna()\n",
    "test_f=total_f[18403:].drop(['mortality_rate'],axis=1)"
   ]
  },
  {
   "cell_type": "code",
   "execution_count": 30,
   "metadata": {},
   "outputs": [
    {
     "data": {
      "text/plain": [
       "((11833, 25), (7886, 24))"
      ]
     },
     "execution_count": 30,
     "metadata": {},
     "output_type": "execute_result"
    }
   ],
   "source": [
    "train_f.shape,test_f.shape"
   ]
  },
  {
   "cell_type": "markdown",
   "metadata": {},
   "source": [
    "#  Modelling - Regression based models"
   ]
  },
  {
   "cell_type": "code",
   "execution_count": 32,
   "metadata": {},
   "outputs": [],
   "source": [
    "X_train, X_test, y_train, y_test = train_test_split(train_f.drop(['mortality_rate'],axis=1), train_f['mortality_rate'], test_size=0.2)"
   ]
  },
  {
   "cell_type": "code",
   "execution_count": 34,
   "metadata": {},
   "outputs": [
    {
     "data": {
      "text/plain": [
       "Index(['region', 'date', 'O3', 'PM10', 'PM25', 'NO2', 'T2M', 'E12000001',\n",
       "       'E12000002', 'E12000003', 'E12000004', 'E12000005', 'E12000006',\n",
       "       'E12000007', 'E12000008', 'E12000009', 'year', 'year^2', 'doy', 'doy^2',\n",
       "       'NO2_log', 'PM10_log', 'PM25_log', 'T2M_rolling'],\n",
       "      dtype='object')"
      ]
     },
     "execution_count": 34,
     "metadata": {},
     "output_type": "execute_result"
    }
   ],
   "source": [
    "X_train.columns"
   ]
  },
  {
   "cell_type": "code",
   "execution_count": 87,
   "metadata": {},
   "outputs": [],
   "source": [
    "RMSE= make_scorer(metrics.mean_squared_error)"
   ]
  },
  {
   "cell_type": "code",
   "execution_count": 88,
   "metadata": {},
   "outputs": [],
   "source": [
    "predictors=['O3','PM10','PM25','NO2','T2M']"
   ]
  },
  {
   "cell_type": "code",
   "execution_count": 89,
   "metadata": {},
   "outputs": [],
   "source": [
    "X=train_f.drop(['mortality_rate'],axis=1)\n",
    "y=train_f['mortality_rate']"
   ]
  },
  {
   "cell_type": "code",
   "execution_count": 97,
   "metadata": {},
   "outputs": [
    {
     "name": "stdout",
     "output_type": "stream",
     "text": [
      "LinearRegression MSE [0.25590564 0.2384088  0.23534413 0.24975171 0.21540355] \n",
      "\n",
      "average RMSE : 0.2389627659994164 \n",
      " \n",
      "\n",
      "Lasso MSE [0.26501773 0.24556641 0.2426855  0.25132788 0.21040855] \n",
      "\n",
      "average RMSE : 0.243001215350219 \n",
      " \n",
      "\n",
      "Ridge MSE [0.25590577 0.23840889 0.23534414 0.24975171 0.21540335] \n",
      "\n",
      "average RMSE : 0.2389627739056404 \n",
      " \n",
      "\n",
      "RandomForestRegressor MSE [0.27209648 0.25170445 0.26211702 0.26120663 0.21941687] \n",
      "\n",
      "average RMSE : 0.2533082876488943 \n",
      " \n",
      "\n"
     ]
    }
   ],
   "source": [
    "models = [\n",
    "    LinearRegression(),\n",
    "    linear_model.Lasso(alpha=0.1),\n",
    "    Ridge(alpha=1.0),\n",
    "    RandomForestRegressor(max_depth=2, random_state=0),\n",
    "]\n",
    "CV = 5\n",
    "for model in models:\n",
    "    model_name = model.__class__.__name__\n",
    "    \n",
    "    accuracies = cross_val_score(model,X[predictors], y,scoring=RMSE, cv=CV)\n",
    "    \n",
    "    print(model_name,\"MSE\",np.sqrt(accuracies),\"\\n\")\n",
    "    print(\"average RMSE :\", np.sqrt(accuracies).mean(),\"\\n\",\"\\n\")"
   ]
  },
  {
   "cell_type": "raw",
   "metadata": {},
   "source": [
    "-LinearRegression      0.23938019007179664  \n",
    "-Lasso                 0.24367877124997828  \n",
    "-Ridge                 0.23938020377244715  \n",
    "-RandomForestRegressor 0.25404290003222313  "
   ]
  },
  {
   "cell_type": "raw",
   "metadata": {},
   "source": [
    "-LB Score\n",
    "-LinearRegression      0. \n",
    "-Lasso                 0. \n",
    "-Ridge                 0.\n",
    "-RandomForestRegressor 0. "
   ]
  },
  {
   "cell_type": "code",
   "execution_count": 38,
   "metadata": {},
   "outputs": [],
   "source": [
    "predictors=['O3','PM10','PM25','NO2_log','T2M']"
   ]
  },
  {
   "cell_type": "code",
   "execution_count": 39,
   "metadata": {},
   "outputs": [
    {
     "name": "stdout",
     "output_type": "stream",
     "text": [
      "LinearRegression MSE [0.07037094 0.05958156 0.06063343 0.06502241 0.04669236] \n",
      "\n",
      "average RMSE : 0.24588643224768653 \n",
      " \n",
      "\n",
      "Lasso MSE [0.0777591  0.06480518 0.06700435 0.0706307  0.04414869] \n",
      "\n",
      "average RMSE : 0.25469511474052214 \n",
      " \n",
      "\n",
      "Ridge MSE [0.0703723  0.05958211 0.06063517 0.06502132 0.04668927] \n",
      "\n",
      "average RMSE : 0.24588621931721555 \n",
      " \n",
      "\n",
      "RandomForestRegressor MSE [0.07403686 0.06335579 0.06870533 0.0682289  0.0481437 ] \n",
      "\n",
      "average RMSE : 0.2539569197562435 \n",
      " \n",
      "\n"
     ]
    }
   ],
   "source": [
    "models = [\n",
    "    LinearRegression(),\n",
    "    linear_model.Lasso(alpha=0.1),\n",
    "    Ridge(alpha=1.0),\n",
    "    RandomForestRegressor(max_depth=2, random_state=0),\n",
    "]\n",
    "CV = 5\n",
    "for model in models:\n",
    "    model_name = model.__class__.__name__\n",
    "    \n",
    "    accuracies = cross_val_score(model,X[predictors], y,scoring=RMSE, cv=CV)\n",
    "    \n",
    "    print(model_name,\"RMSE\",np.sqrt(accuracies),\"\\n\")\n",
    "    print(\"average RMSE :\", np.sqrt(accuracies).mean(),\"\\n\",\"\\n\")"
   ]
  },
  {
   "cell_type": "raw",
   "metadata": {},
   "source": [
    "-LinearRegression      0.24589885655480462 \n",
    "-Lasso                 0.25470151723950324  \n",
    "-Ridge                 0.24589864631157612   \n",
    "-RandomForestRegressor 0.25404309271063097  "
   ]
  },
  {
   "cell_type": "raw",
   "metadata": {},
   "source": [
    "-LB socre\n",
    "-LinearRegression  0.   \n",
    "-Lasso             0. \n",
    "-Ridge             0. \n",
    "-RandomForestRegressor 0. "
   ]
  },
  {
   "cell_type": "markdown",
   "metadata": {},
   "source": [
    "for NO2 log transformation   ::\n",
    "\n",
    "\n",
    "imporved rmse for each model, but for RFR it didn't change much. But there's huge improvement in LASSO"
   ]
  },
  {
   "cell_type": "code",
   "execution_count": 40,
   "metadata": {},
   "outputs": [],
   "source": [
    "predictors=['O3','PM10','PM25_log','NO2_log','T2M']"
   ]
  },
  {
   "cell_type": "code",
   "execution_count": 41,
   "metadata": {},
   "outputs": [
    {
     "name": "stdout",
     "output_type": "stream",
     "text": [
      "LinearRegression MSE [0.07061605 0.05946335 0.06050952 0.06545444 0.04673174] \n",
      "\n",
      "average RMSE : 0.24607929831932834 \n",
      " \n",
      "\n",
      "Lasso MSE [0.0777591  0.06480518 0.06701569 0.0706307  0.04416158] \n",
      "\n",
      "average RMSE : 0.2547046263577067 \n",
      " \n",
      "\n",
      "Ridge MSE [0.07061648 0.05946357 0.06051137 0.06545193 0.04672744] \n",
      "\n",
      "average RMSE : 0.2460775452509909 \n",
      " \n",
      "\n",
      "RandomForestRegressor MSE [0.07403686 0.06335579 0.06870533 0.0682289  0.0481437 ] \n",
      "\n",
      "average RMSE : 0.2539569197562435 \n",
      " \n",
      "\n"
     ]
    }
   ],
   "source": [
    "models = [\n",
    "    LinearRegression(),\n",
    "    linear_model.Lasso(alpha=0.1),\n",
    "    Ridge(alpha=1.0),\n",
    "    RandomForestRegressor(max_depth=2, random_state=0),\n",
    "]\n",
    "CV = 5\n",
    "for model in models:\n",
    "    model_name = model.__class__.__name__\n",
    "    \n",
    "    accuracies = cross_val_score(model,X[predictors], y,scoring=RMSE, cv=CV)\n",
    "    \n",
    "    print(model_name,\"RMSE\",np.sqrt(accuracies),\"\\n\")\n",
    "    print(\"average RMSE :\", np.sqrt(accuracies).mean(),\"\\n\",\"\\n\")"
   ]
  },
  {
   "cell_type": "raw",
   "metadata": {},
   "source": [
    "-LinearRegression      0.246090521396396 \n",
    "-Lasso                 0.25470151723950324  \n",
    "-Ridge                 0.2547104692665648    \n",
    "-RandomForestRegressor 0.25404309271063097   "
   ]
  },
  {
   "cell_type": "raw",
   "metadata": {},
   "source": [
    "-LB socre\n",
    "-LinearRegression  0. \n",
    "-Lasso             0.  \n",
    "-Ridge             0.  \n",
    "-RandomForestRegressor 0. "
   ]
  },
  {
   "cell_type": "code",
   "execution_count": 83,
   "metadata": {},
   "outputs": [],
   "source": [
    "predictors=['O3','PM10_log','PM25_log','NO2_log','T2M']"
   ]
  },
  {
   "cell_type": "code",
   "execution_count": 84,
   "metadata": {},
   "outputs": [
    {
     "name": "stdout",
     "output_type": "stream",
     "text": [
      "LinearRegression MSE [0.0704298  0.0594     0.06053525 0.06535633 0.0470255 ] \n",
      "\n",
      "average RMSE : 0.24606782884457915 \n",
      " \n",
      "\n",
      "Lasso MSE [0.07800644 0.06420953 0.06746213 0.0708699  0.04398151] \n",
      "\n",
      "average RMSE : 0.25476636609194875 \n",
      " \n",
      "\n",
      "Ridge MSE [0.07043066 0.05940042 0.06053717 0.06535372 0.04701942] \n",
      "\n",
      "average RMSE : 0.24606559284124743 \n",
      " \n",
      "\n",
      "RandomForestRegressor MSE [0.07403686 0.06335579 0.06870533 0.0682289  0.0481437 ] \n",
      "\n",
      "average RMSE : 0.2539569197562435 \n",
      " \n",
      "\n"
     ]
    }
   ],
   "source": [
    "models = [\n",
    "    LinearRegression(),\n",
    "    linear_model.Lasso(alpha=0.1),\n",
    "    Ridge(alpha=1.0),\n",
    "    RandomForestRegressor(max_depth=2, random_state=0),\n",
    "]\n",
    "CV = 5\n",
    "for model in models:\n",
    "    model_name = model.__class__.__name__\n",
    "    \n",
    "    accuracies = cross_val_score(model,X[predictors], y,scoring=RMSE, cv=CV)\n",
    "    \n",
    "    print(model_name,\"RMSE\",np.sqrt(accuracies),\"\\n\")\n",
    "    print(\"average RMSE :\", np.sqrt(accuracies).mean(),\"\\n\",\"\\n\")"
   ]
  },
  {
   "cell_type": "raw",
   "metadata": {},
   "source": [
    "-LinearRegression      0.24607938601447563 \n",
    "-Lasso                 0.25476691279807256  \n",
    "-Ridge                 0.2460771501282363     \n",
    "-RandomForestRegressor 0.25404309271063097   "
   ]
  },
  {
   "cell_type": "raw",
   "metadata": {},
   "source": [
    "-LB socre\n",
    "-LinearRegression  0. \n",
    "-Lasso             0. \n",
    "-Ridge              0.  \n",
    "-RandomForestRegressor 0. "
   ]
  },
  {
   "cell_type": "code",
   "execution_count": 44,
   "metadata": {},
   "outputs": [],
   "source": [
    "predictors=['O3','PM10_log','PM25_log','NO2_log','T2M_rolling']"
   ]
  },
  {
   "cell_type": "code",
   "execution_count": 45,
   "metadata": {},
   "outputs": [
    {
     "name": "stdout",
     "output_type": "stream",
     "text": [
      "LinearRegression MSE [0.0632786  0.05158769 0.05454941 0.05465633 0.03754879] \n",
      "\n",
      "average RMSE : 0.2287447625578133 \n",
      " \n",
      "\n",
      "Lasso MSE [0.07552484 0.05814664 0.0628718  0.06421509 0.03673123] \n",
      "\n",
      "average RMSE : 0.24392195451763216 \n",
      " \n",
      "\n",
      "Ridge MSE [0.06328049 0.05158629 0.05455079 0.05465364 0.03754439] \n",
      "\n",
      "average RMSE : 0.22874247605793074 \n",
      " \n",
      "\n",
      "RandomForestRegressor MSE [0.07424195 0.06026976 0.06748551 0.06670099 0.0377598 ] \n",
      "\n",
      "average RMSE : 0.24757140263315927 \n",
      " \n",
      "\n"
     ]
    }
   ],
   "source": [
    "models = [\n",
    "    LinearRegression(),\n",
    "    linear_model.Lasso(alpha=0.1),\n",
    "    Ridge(alpha=1.0),\n",
    "    RandomForestRegressor(max_depth=2, random_state=0),\n",
    "]\n",
    "CV = 5\n",
    "for model in models:\n",
    "    model_name = model.__class__.__name__\n",
    "    \n",
    "    accuracies = cross_val_score(model,X[predictors], y,scoring=RMSE, cv=CV)\n",
    "    \n",
    "    print(model_name,\"RMSE\",np.sqrt(accuracies),\"\\n\")\n",
    "    print(\"average RMSE :\", np.sqrt(accuracies).mean(),\"\\n\",\"\\n\")"
   ]
  },
  {
   "cell_type": "raw",
   "metadata": {},
   "source": [
    "-LinearRegression      0.22875481416131163 \n",
    "-Lasso                 0.24391673947039105  \n",
    "-Ridge                 0.22875252668688342   \n",
    "-RandomForestRegressor 0.24751681477085763 "
   ]
  },
  {
   "cell_type": "raw",
   "metadata": {},
   "source": [
    "-LB score\n",
    "-LinearRegression  0.  \n",
    "-Lasso             0.\n",
    "-Ridge              0.  \n",
    "-RandomForestRegressor 0. "
   ]
  },
  {
   "cell_type": "code",
   "execution_count": 46,
   "metadata": {},
   "outputs": [],
   "source": [
    "predictors=['O3','PM10_log','PM25_log','NO2_log','T2M_rolling','year','year^2','doy','doy^2']"
   ]
  },
  {
   "cell_type": "code",
   "execution_count": 47,
   "metadata": {},
   "outputs": [
    {
     "name": "stdout",
     "output_type": "stream",
     "text": [
      "LinearRegression MSE [0.05407892 0.05722477 0.05167371 0.05136022 0.12879596] \n",
      "\n",
      "average RMSE : 0.2619670084440214 \n",
      " \n",
      "\n",
      "Lasso MSE [0.06533548 0.05770386 0.05879518 0.07073451 0.05900798] \n",
      "\n",
      "average RMSE : 0.2496305286183826 \n",
      " \n",
      "\n",
      "Ridge MSE [0.0550094  0.05066966 0.05292685 0.0529487  0.05559023] \n",
      "\n",
      "average RMSE : 0.23114706953558675 \n",
      " \n",
      "\n",
      "RandomForestRegressor MSE [0.07179963 0.05789396 0.0650419  0.06865549 0.03689816] \n",
      "\n",
      "average RMSE : 0.24506699186563816 \n",
      " \n",
      "\n"
     ]
    }
   ],
   "source": [
    "models = [\n",
    "    LinearRegression(),\n",
    "    linear_model.Lasso(alpha=0.1),\n",
    "    Ridge(alpha=1.0),\n",
    "    RandomForestRegressor(max_depth=2, random_state=0),\n",
    "]\n",
    "CV = 5\n",
    "for model in models:\n",
    "    model_name = model.__class__.__name__\n",
    "    \n",
    "    accuracies = cross_val_score(model,X[predictors], y,scoring=RMSE, cv=CV)\n",
    "    \n",
    "    print(model_name,\"RMSE\",np.sqrt(accuracies),\"\\n\")\n",
    "    print(\"average RMSE :\", np.sqrt(accuracies).mean(),\"\\n\",\"\\n\")"
   ]
  },
  {
   "cell_type": "raw",
   "metadata": {},
   "source": [
    "-LinearRegression      0.2619677008575658 \n",
    "-Lasso                 0.24962606870248805 \n",
    "-Ridge                 0.23115848716581408    \n",
    "-RandomForestRegressor 0.2450312302867953 "
   ]
  },
  {
   "cell_type": "raw",
   "metadata": {},
   "source": [
    "-LB score\n",
    "-LinearRegression  0.  \n",
    "-Lasso             0.\n",
    "-Ridge              0.  \n",
    "-RandomForestRegressor 0. "
   ]
  },
  {
   "cell_type": "code",
   "execution_count": 57,
   "metadata": {},
   "outputs": [],
   "source": [
    "predictors=['T2M_rolling', 'year', 'year^2', 'doy', 'doy^2','E12000001', 'E12000002', 'E12000003', 'E12000004','E12000005', 'E12000006', 'E12000007', 'E12000008']"
   ]
  },
  {
   "cell_type": "code",
   "execution_count": 58,
   "metadata": {},
   "outputs": [
    {
     "name": "stdout",
     "output_type": "stream",
     "text": [
      "LinearRegression MSE [0.04168    0.03406252 0.03068743 0.02720154 0.06160898] \n",
      "\n",
      "average RMSE : 0.19760590803077888 \n",
      " \n",
      "\n",
      "Lasso MSE [0.06552461 0.05884921 0.06196126 0.07262577 0.05672193] \n",
      "\n",
      "average RMSE : 0.25126988704022435 \n",
      " \n",
      "\n",
      "Ridge MSE [0.0407161  0.03360847 0.03018191 0.02743355 0.03826432] \n",
      "\n",
      "average RMSE : 0.18450167805835072 \n",
      " \n",
      "\n",
      "RandomForestRegressor MSE [0.06121355 0.0508713  0.03984644 0.04632081 0.03840608] \n",
      "\n",
      "average RMSE : 0.21755834997017573 \n",
      " \n",
      "\n"
     ]
    }
   ],
   "source": [
    "models = [\n",
    "    LinearRegression(),\n",
    "    linear_model.Lasso(alpha=0.1),\n",
    "    Ridge(alpha=1.0),\n",
    "    RandomForestRegressor(max_depth=2, random_state=0),\n",
    "]\n",
    "CV = 5\n",
    "for model in models:\n",
    "    model_name = model.__class__.__name__\n",
    "    \n",
    "    accuracies = cross_val_score(model,X[predictors], y,scoring=RMSE, cv=CV)\n",
    "    \n",
    "    print(model_name,\"RMSE\",np.sqrt(accuracies),\"\\n\")\n",
    "    print(\"average RMSE :\", np.sqrt(accuracies).mean(),\"\\n\",\"\\n\")"
   ]
  },
  {
   "cell_type": "code",
   "execution_count": 53,
   "metadata": {},
   "outputs": [],
   "source": [
    "predictors1=['NO2_log', 'year', 'year^2', 'doy', 'doy^2','PM10_log']\n",
    "predictors2=['T2M_rolling', 'year', 'year^2', 'doy', 'doy^2','E12000001', 'E12000002', 'E12000003', 'E12000004','E12000005', 'E12000006', 'E12000007', 'E12000008']\n",
    "predictors3=['E12000001', 'E12000002', 'E12000003', 'E12000004','E12000005', 'E12000006', 'E12000007', 'E12000008']"
   ]
  },
  {
   "cell_type": "code",
   "execution_count": 98,
   "metadata": {},
   "outputs": [
    {
     "name": "stdout",
     "output_type": "stream",
     "text": [
      "RandomForestRegressor RMSE [0.23201375 0.26048128 0.22666889 0.25644528 0.42542438] \n",
      "\n",
      "average RMSE : 0.28020671583860196 \n",
      " \n",
      "\n",
      "RandomForestRegressor RMSE [0.20415681 0.18456036 0.17517828 0.16492889 0.24821156] \n",
      "\n",
      "average RMSE : 0.19540717885674203 \n",
      " \n",
      "\n",
      "RandomForestRegressor RMSE [0.28887085 0.26111306 0.24310381 0.22983521 0.22967401] \n",
      "\n",
      "average RMSE : 0.25051938878501434 \n",
      " \n",
      "\n"
     ]
    }
   ],
   "source": [
    "pred = [\n",
    "    predictors1,\n",
    "    predictors2,\n",
    "    predictors3,\n",
    "]\n",
    "for preds in pred:\n",
    "    #model_name = model.__class__.__name__\n",
    "    \n",
    "    accuracies = cross_val_score(LinearRegression(),X[preds], y,scoring=RMSE, cv=CV)\n",
    "    \n",
    "    print(model_name,\"RMSE\",np.sqrt(accuracies),\"\\n\")\n",
    "    print(\"average RMSE :\", np.sqrt(accuracies).mean(),\"\\n\",\"\\n\")"
   ]
  },
  {
   "cell_type": "code",
   "execution_count": null,
   "metadata": {},
   "outputs": [],
   "source": []
  },
  {
   "cell_type": "markdown",
   "metadata": {},
   "source": [
    "## Final Algo - mixed LR"
   ]
  },
  {
   "cell_type": "raw",
   "metadata": {},
   "source": [
    "\n",
    "Notation:\n",
    "X0 - training predictors\n",
    "y0 - training target\n",
    "X1 - test predictors\n",
    "y1 - predictions\n"
   ]
  },
  {
   "cell_type": "code",
   "execution_count": 75,
   "metadata": {},
   "outputs": [],
   "source": [
    "a = LinearRegression()\n",
    "b = LinearRegression()\n",
    "c = LinearRegression()\n",
    "ab = LinearRegression()"
   ]
  },
  {
   "cell_type": "code",
   "execution_count": 78,
   "metadata": {},
   "outputs": [],
   "source": [
    "\n",
    "y0 = train_f['mortality_rate']\n",
    "\n",
    "\n",
    "\n",
    "#modela\n",
    "a_predictors = ['NO2_log', 'year', 'year^2', 'doy', 'doy^2','PM10_log']\n",
    "a_X0 = train_f[a_predictors]\n",
    "a.fit(a_X0, y0)\n",
    "\n",
    "\n",
    "\n",
    "#modelb\n",
    "b_predictors = [\n",
    "        'T2M_rolling', 'year', 'year^2', 'doy', 'doy^2',\n",
    "        'E12000001', 'E12000002', 'E12000003', 'E12000004',\n",
    "        'E12000005', 'E12000006', 'E12000007', 'E12000008'\n",
    "        ]\n",
    "b_X0 = train_f[b_predictors]\n",
    "b.fit(b_X0, y0)\n",
    "\n",
    "\n",
    "\n",
    "#modelc\n",
    "c_predictors = [\n",
    "        'E12000001', 'E12000002', 'E12000003', 'E12000004',\n",
    "        'E12000005', 'E12000006', 'E12000007', 'E12000008'\n",
    "        ]\n",
    "c_X0 = train_f[c_predictors]\n",
    "c.fit(c_X0, y0)\n",
    "\n",
    "\n",
    "region_effect_reduction = 0.85\n",
    "\n",
    "\n",
    "# Model AB\n",
    "# Produces the final solution. Combines A and \"reduced B\" by using their predictions as features for a linear regression.\n",
    "\n",
    "ab_X0 = pd.DataFrame({\n",
    "    'A': a.predict(a_X0),\n",
    "    'reduced B': b.predict(b_X0) - (c.predict(c_X0) * region_effect_reduction)\n",
    "    })\n",
    "\n",
    "ab.fit(ab_X0, y0)\n",
    "\n",
    "# predict\n",
    "\n",
    "a_X1 = test_f[a_predictors]\n",
    "b_X1 = test_f[b_predictors]\n",
    "c_X1 = test_f[c_predictors]\n",
    "\n",
    "ab_X1 = pd.DataFrame({'A': a.predict(a_X1),'reduced B': b.predict(b_X1) - (c.predict(c_X1) * region_effect_reduction)})\n",
    "\n",
    "ab_y1 = ab.predict(ab_X1)\n",
    "\n",
    "\n",
    "\n",
    "predictions = pd.DataFrame(index=test_f.index)\n",
    "predictions['mortality_rate'] =  a.predict(a_X1)\n",
    "predictions.to_csv('C:/Users/deciPh3r/Desktop/Project/files/sub/final_0.0.csv')\n"
   ]
  },
  {
   "cell_type": "markdown",
   "metadata": {},
   "source": [
    "# Results\n",
    "best LB socre for -(region_effect_reduction = 0.85)<br>\n",
    "private score - 0.28948<br>\n",
    "public score - 0.28784<br>\n",
    "\n",
    "\n",
    "benchmark -<br>\n",
    "private score - 0.29022<br>\n",
    "public socre - 0.29259<br>"
   ]
  },
  {
   "cell_type": "code",
   "execution_count": null,
   "metadata": {},
   "outputs": [],
   "source": []
  }
 ],
 "metadata": {
  "kernelspec": {
   "display_name": "Python 3",
   "language": "python",
   "name": "python3"
  },
  "language_info": {
   "codemirror_mode": {
    "name": "ipython",
    "version": 3
   },
   "file_extension": ".py",
   "mimetype": "text/x-python",
   "name": "python",
   "nbconvert_exporter": "python",
   "pygments_lexer": "ipython3",
   "version": "3.7.4"
  }
 },
 "nbformat": 4,
 "nbformat_minor": 2
}
