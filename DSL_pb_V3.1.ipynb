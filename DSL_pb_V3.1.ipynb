{
  "nbformat": 4,
  "nbformat_minor": 0,
  "metadata": {
    "kernelspec": {
      "display_name": "Python 3",
      "language": "python",
      "name": "python3"
    },
    "language_info": {
      "codemirror_mode": {
        "name": "ipython",
        "version": 3
      },
      "file_extension": ".py",
      "mimetype": "text/x-python",
      "name": "python",
      "nbconvert_exporter": "python",
      "pygments_lexer": "ipython3",
      "version": "3.7.4"
    },
    "colab": {
      "name": "DSL_pb_V3.1.ipynb",
      "provenance": [],
      "toc_visible": true,
      "include_colab_link": true
    }
  },
  "cells": [
    {
      "cell_type": "markdown",
      "metadata": {
        "id": "view-in-github",
        "colab_type": "text"
      },
      "source": [
        "<a href=\"https://colab.research.google.com/github/VHKA1729/air-pollution/blob/vhka/DSL_pb_V3.1.ipynb\" target=\"_parent\"><img src=\"https://colab.research.google.com/assets/colab-badge.svg\" alt=\"Open In Colab\"/></a>"
      ]
    },
    {
      "cell_type": "markdown",
      "metadata": {
        "id": "bvkAzaZO2y7a",
        "colab_type": "text"
      },
      "source": [
        "\n",
        "<font size=\"20\"><h3 align='center'>**_DSL Project_**</font><br>\n",
        "    \n",
        "    \n",
        "<font size=\"5\"><h3 align='center'><span style='color:Blue'> Predict impact of air quality on mortality rates(Kaggle Competition)</font>\n",
        "\n",
        "\n",
        "<font size=\"3\"><h3 align='center'>https://www.kaggle.com/c/predict-impact-of-air-quality-on-death-rates/overview</font><br>\n",
        "    <br>\n",
        "\n",
        "\n",
        "<font size=\"3\">**Group Number - 2**<br>\n",
        "<font size=\"3\"> Mimansi Agarwal   &emsp;19BM6JP15</font>        \n",
        "<font size=\"3\"> Vaibhav HK Anand  &emsp;19BM6JP24</font>    \n",
        "<font size=\"3\"> Bankar Prasad Vilas &emsp;19BM6JP25</font> \n"
      ]
    },
    {
      "cell_type": "markdown",
      "metadata": {
        "id": "qdAeX2jNk-Yd",
        "colab_type": "text"
      },
      "source": [
        "## TO DO\n",
        "\n",
        "- ANOVA on variables per region\n",
        "- XGB Regressor\n",
        "- Best depth via cost pruning for RFR\n",
        "- Graphs for regulartization "
      ]
    },
    {
      "cell_type": "markdown",
      "metadata": {
        "id": "OtmrAcfz2y7d",
        "colab_type": "text"
      },
      "source": [
        "# Libraries"
      ]
    },
    {
      "cell_type": "code",
      "metadata": {
        "id": "wahrvH0C_eyy",
        "colab_type": "code",
        "colab": {}
      },
      "source": [
        "#!pip install impyute"
      ],
      "execution_count": 0,
      "outputs": []
    },
    {
      "cell_type": "code",
      "metadata": {
        "id": "M5NHEI0OCj21",
        "colab_type": "code",
        "colab": {}
      },
      "source": [
        "#!pip freeze > requirements.txt"
      ],
      "execution_count": 0,
      "outputs": []
    },
    {
      "cell_type": "code",
      "metadata": {
        "id": "vwgmB-tb2y7e",
        "colab_type": "code",
        "colab": {}
      },
      "source": [
        "import pandas as pd\n",
        "import numpy as np\n",
        "from sklearn.linear_model import LinearRegression\n",
        "import xgboost as xgb\n",
        "from sklearn import metrics\n",
        "import matplotlib.pyplot as plt\n",
        "import seaborn as sns\n",
        "from impyute.imputation.cs import mice\n",
        "from sklearn.model_selection import train_test_split\n",
        "from sklearn import linear_model\n",
        "from sklearn.linear_model import LinearRegression, Lasso, Ridge\n",
        "from sklearn.ensemble import RandomForestRegressor\n",
        "from sklearn.model_selection import cross_val_score\n",
        "from sklearn.metrics import  make_scorer, mean_absolute_error, r2_score, median_absolute_error, mean_squared_error\n",
        "import math\n",
        "\n",
        "import missingno as msno\n",
        "\n",
        "import plotly.express as px\n",
        "import plotly.graph_objects as go\n",
        "\n",
        "from statsmodels.tsa.seasonal import seasonal_decompose\n",
        "from dateutil.parser import parse\n",
        "\n",
        "import gc\n",
        "import random\n",
        "import os\n",
        "\n",
        "import scipy.stats as sps "
      ],
      "execution_count": 0,
      "outputs": []
    },
    {
      "cell_type": "code",
      "metadata": {
        "id": "iKTFTWnvEDer",
        "colab_type": "code",
        "colab": {}
      },
      "source": [
        "#plt.style.available"
      ],
      "execution_count": 0,
      "outputs": []
    },
    {
      "cell_type": "code",
      "metadata": {
        "id": "Fs0x0zkDDq8o",
        "colab_type": "code",
        "colab": {}
      },
      "source": [
        "plt.style.use('fivethirtyeight')"
      ],
      "execution_count": 0,
      "outputs": []
    },
    {
      "cell_type": "markdown",
      "metadata": {
        "id": "KysyWcJvSlP-",
        "colab_type": "text"
      },
      "source": [
        "# Functions"
      ]
    },
    {
      "cell_type": "code",
      "metadata": {
        "id": "eJMsWNl5Cvv7",
        "colab_type": "code",
        "colab": {}
      },
      "source": [
        "def seed_everything(SEED=1729):\n",
        "    random.seed(SEED)\n",
        "    os.environ['PYTHONHASHSEED'] = str(SEED)\n",
        "    np.random.seed(SEED)\n",
        "    print('done')\n",
        "\n",
        "seed_everything()"
      ],
      "execution_count": 0,
      "outputs": []
    },
    {
      "cell_type": "code",
      "metadata": {
        "id": "tMFyV7yJNzXf",
        "colab_type": "code",
        "colab": {}
      },
      "source": [
        "def reduce_mem_usage(df, verbose=True):\n",
        "    '''\n",
        "    Reduces the usage of memory by a dataframe\n",
        "    '''\n",
        "    start_mem = df.memory_usage().sum() / 2**20\n",
        "    numerics = ['int16', 'int32', 'int64', 'float16', 'float32', 'float64'] #defining a list of numeric types\n",
        "    #start_mem = df.memory_usage().sum() / 2**20   #converting bytes into MB\n",
        "    for col in df.columns: # iterating over each column of dataframe\n",
        "        col_type = df[col].dtypes # extracting the data type of a single column\n",
        "        if col_type in numerics: # checking whether the data type of column is a numeric datatype or not\n",
        "            c_min = df[col].min()\n",
        "            c_max = df[col].max()\n",
        "          \n",
        "            if c_min > np.finfo(np.float16).min and c_max < np.finfo(np.float16).max:\n",
        "                df[col] = df[col].astype('float16')\n",
        "            elif c_min > np.finfo(np.float32).min and c_max < np.finfo(np.float32).max:\n",
        "                df[col] = df[col].astype('float32')\n",
        "            else:\n",
        "                df[col] = df[col].astype('float64')    \n",
        "    end_mem = df.memory_usage().sum() / 2**20\n",
        "    if verbose: print('Mem. usage decreased to {:5.5f} Mb ({:.2f}% reduction)'.format(end_mem, 100 * (start_mem - end_mem) / start_mem))\n",
        "    return df"
      ],
      "execution_count": 0,
      "outputs": []
    },
    {
      "cell_type": "code",
      "metadata": {
        "id": "C3ZHqErTnwdX",
        "colab_type": "code",
        "colab": {}
      },
      "source": [
        "def reg_metrics (y_true,y_predicted):\n",
        "  mse = mean_squared_error(y_true,y_predicted)\n",
        "  print(\"MSE = \" + str(mse))\n",
        "  print(\"RMSE =\" + str(math.sqrt(mse)))\n",
        "  print(\"Mean Absolute Error =\" + str(mean_absolute_error(y_true,y_predicted)))\n",
        "  print('Median Absolute Error  = ' + str(median_absolute_error(y_true, y_predicted)))\n",
        "  print('R^2                    = ' + str(r2_score(y_true, y_predicted)))\n",
        "  del mse\n",
        "  gc.collect()"
      ],
      "execution_count": 0,
      "outputs": []
    },
    {
      "cell_type": "code",
      "metadata": {
        "id": "RJz0cIs7IFVp",
        "colab_type": "code",
        "colab": {}
      },
      "source": [
        "def resid_plot(y_true, y_predicted):\n",
        "    '''\n",
        "    1. Plots residual plots by taking the y_true and y_predicted as input.\n",
        "    2. Can be used with any regression method be it linear, ridge, lasso, boosting-based, etc.\n",
        "    '''\n",
        "    temp1 = np.array(y_true).reshape(-1,1)\n",
        "    temp2 = np.array(y_predicted).reshape(-1,1)\n",
        "\n",
        "    resids = np.subtract(temp1,temp2) #calculating residuals\n",
        "\n",
        "    sns.regplot(x=y_predicted, y=resids, fit_reg=True)\n",
        "\n",
        "    plt.title(\"Residuals vs. Predicted Values\")\n",
        "    plt.xlabel(\"Predicted Values\")\n",
        "    plt.ylabel(\"Residuals\")\n",
        "\n",
        "    plt.show()\n",
        "    plt.close()\n",
        "    del temp1, temp2\n",
        "    gc.collect()"
      ],
      "execution_count": 0,
      "outputs": []
    },
    {
      "cell_type": "code",
      "metadata": {
        "id": "k2_4GTbVTHwQ",
        "colab_type": "code",
        "colab": {}
      },
      "source": [
        "def resids_hist(y_true,y_predicted):\n",
        "  '''\n",
        "  Plots histogram of residuals\n",
        "  '''\n",
        "\n",
        "  temp1 = np.array(y_true).reshape(-1,1)\n",
        "  temp2 = np.array(y_predicted).reshape(-1,1)\n",
        "\n",
        "  resids = np.subtract(temp1,temp2) \n",
        "\n",
        "  sns.distplot(resids)\n",
        "\n",
        "  plt.title(\"Histogram of Residual Values\")\n",
        "  plt.xlabel(\"Residuals\")\n",
        "  plt.ylabel(\"Count\")\n",
        "  del temp1, temp2\n",
        "  gc.collect()"
      ],
      "execution_count": 0,
      "outputs": []
    },
    {
      "cell_type": "code",
      "metadata": {
        "id": "adflZ7stDPo6",
        "colab_type": "code",
        "colab": {}
      },
      "source": [
        "def resid_qq(y_true, y_predicted):\n",
        "    resids = np.subtract(np.array(y_true).reshape(-1,1),  np.array(y_predicted).reshape(-1,1))\n",
        "    sps.probplot(resids.flatten(), plot = plt)\n",
        "    plt.title('Q-Q Plot of residuals')\n",
        "    plt.xlabel('Quantiles of standard Normal distribution')\n",
        "    plt.ylabel('Quantiles of residuals')\n",
        "    plt.show()"
      ],
      "execution_count": 0,
      "outputs": []
    },
    {
      "cell_type": "markdown",
      "metadata": {
        "id": "fHZqBrILSnaw",
        "colab_type": "text"
      },
      "source": [
        "## Regularization"
      ]
    },
    {
      "cell_type": "code",
      "metadata": {
        "id": "d6ViLQb5Sd-k",
        "colab_type": "code",
        "colab": {}
      },
      "source": [
        "def plot_regularization(l, train_RMSE, test_RMSE, coefs, min_idx, title):   \n",
        "    plt.plot(l, test_RMSE, color = 'green', label = 'Test RMSE')\n",
        "    plt.plot(l, train_RMSE, label = 'Train RMSE')    \n",
        "    plt.axvline(min_idx, color = 'black', linestyle = '--')\n",
        "    plt.legend()\n",
        "    plt.xlabel('Regularization parameter')\n",
        "    plt.ylabel('Root Mean Square Error')\n",
        "    plt.title(title)\n",
        "    plt.show()\n",
        "    \n",
        "    plt.plot(l, coefs)\n",
        "    plt.axvline(min_idx, color = 'black', linestyle = '--')\n",
        "    plt.title('Model coefficient values \\n vs. regularizaton parameter')\n",
        "    plt.xlabel('Regularization parameter')\n",
        "    plt.ylabel('Model coefficient value')\n",
        "    plt.show()"
      ],
      "execution_count": 0,
      "outputs": []
    },
    {
      "cell_type": "code",
      "metadata": {
        "id": "Zras67OgSqKy",
        "colab_type": "code",
        "colab": {}
      },
      "source": [
        "def test_regularization_l2(x_train, y_train, x_test, y_test, l2):\n",
        "    train_RMSE = []\n",
        "    test_RMSE = []\n",
        "    coefs = []\n",
        "    for reg in l2:\n",
        "        lin_mod = Ridge(alpha = reg)\n",
        "        lin_mod.fit(x_train, y_train)\n",
        "        coefs.append(lin_mod.coef_)\n",
        "        y_score_train = lin_mod.predict(x_train)\n",
        "        train_RMSE.append(mean_squared_error(y_train, y_score_train)**0.5)\n",
        "        y_score = lin_mod.predict(x_test)\n",
        "        test_RMSE.append(mean_squared_error(y_test, y_score)**0.5)\n",
        "    min_idx = np.argmin(test_RMSE)\n",
        "    min_l2 = l2[min_idx]\n",
        "    min_RMSE = test_RMSE[min_idx] \n",
        "    \n",
        "    title = 'Train and test root mean square error \\n vs. regularization parameter'\n",
        "    plot_regularization(l2, train_RMSE, test_RMSE, coefs, min_l2, title)\n",
        "    return min_l2, min_RMSE"
      ],
      "execution_count": 0,
      "outputs": []
    },
    {
      "cell_type": "code",
      "metadata": {
        "id": "QufDaOsoT6MV",
        "colab_type": "code",
        "colab": {}
      },
      "source": [
        "def ridge(X_train,y_train, X_test, y_test):\n",
        "  l2 = [x for x in range(0,50)]\n",
        "  out_l2 = test_regularization_l2(X_train, y_train, X_test, y_test, l2)\n",
        "  print(out_l2)\n",
        "  lin_mod_l2 = Ridge(alpha = out_l2[0])\n",
        "  lin_mod_l2.fit(X_train, y_train)\n",
        "  y_score_l2 = lin_mod_l2.predict(X_test)\n",
        "  print()\n",
        "  reg_metrics(y_test, y_score_l2)\n",
        "  resids_hist(np.array(y_test), np.array(y_score_l2))  \n",
        "  resid_qq(np.array(y_test), np.array(y_score_l2)) \n",
        "  resid_plot(np.array(y_test), np.array(y_score_l2))"
      ],
      "execution_count": 0,
      "outputs": []
    },
    {
      "cell_type": "code",
      "metadata": {
        "id": "lbBI-vPkS7lK",
        "colab_type": "code",
        "colab": {}
      },
      "source": [
        "def test_regularization_l1(x_train, y_train, x_test, y_test, l1):\n",
        "    train_RMSE = []\n",
        "    test_RMSE = []\n",
        "    coefs = []\n",
        "    for reg in l1:\n",
        "        lin_mod = Lasso(alpha = reg)\n",
        "        lin_mod.fit(x_train, y_train)\n",
        "        coefs.append(lin_mod.coef_)\n",
        "        y_score_train = lin_mod.predict(x_train)\n",
        "        train_RMSE.append(mean_squared_error(y_train, y_score_train)**0.5)\n",
        "        y_score = lin_mod.predict(x_test)\n",
        "        test_RMSE.append(mean_squared_error(y_test, y_score)**0.5)\n",
        "    min_idx = np.argmin(test_RMSE)\n",
        "    min_l1 = l1[min_idx]\n",
        "    min_RMSE = test_RMSE[min_idx]\n",
        "    \n",
        "    title = 'Train and test root mean square error \\n vs. regularization parameter'\n",
        "    plot_regularization(l1, train_RMSE, test_RMSE, coefs, min_l1, title)\n",
        "    return min_l1, min_RMSE"
      ],
      "execution_count": 0,
      "outputs": []
    },
    {
      "cell_type": "code",
      "metadata": {
        "id": "vqx5aCwfVadP",
        "colab_type": "code",
        "colab": {}
      },
      "source": [
        "def lasso(X_train,y_train,X_test,y_test):\n",
        "    l1 = [x/5000 for x in range(1,50)]\n",
        "    out_l1 = test_regularization_l1(X_train, y_train, X_test, y_test, l1)\n",
        "    print(out_l1)\n",
        "    lin_mod_l1 = Lasso(alpha = out_l1[0])\n",
        "    lin_mod_l1.fit(X_train, y_train)\n",
        "    y_score_l1 = lin_mod_l1.predict(X_test)\n",
        "    print()\n",
        "    reg_metrics(y_test, y_score_l1) \n",
        "    resids_hist(np.array(y_test), np.array(y_score_l1))\n",
        "    resid_qq(np.array(y_test), np.array(y_score_l1)) \n",
        "    resid_plot(np.array(y_test), np.array(y_score_l1))"
      ],
      "execution_count": 0,
      "outputs": []
    },
    {
      "cell_type": "markdown",
      "metadata": {
        "id": "wMLmtMwc2y7o",
        "colab_type": "text"
      },
      "source": [
        "# Data import"
      ]
    },
    {
      "cell_type": "code",
      "metadata": {
        "id": "DBGkS1c_2y7p",
        "colab_type": "code",
        "colab": {}
      },
      "source": [
        "train = pd.read_csv('/content/train.csv', parse_dates=['date'], index_col='Id')\n",
        "test = pd.read_csv('/content/test.csv', parse_dates=['date'], index_col='Id')\n",
        "region=pd.read_csv('/content/regions.csv')"
      ],
      "execution_count": 0,
      "outputs": []
    },
    {
      "cell_type": "code",
      "metadata": {
        "id": "8vTcdfemG08N",
        "colab_type": "code",
        "colab": {}
      },
      "source": [
        "train.head()"
      ],
      "execution_count": 0,
      "outputs": []
    },
    {
      "cell_type": "markdown",
      "metadata": {
        "id": "O9TnQP412y8D",
        "colab_type": "text"
      },
      "source": [
        "# Exploratory data analysis"
      ]
    },
    {
      "cell_type": "code",
      "metadata": {
        "id": "hKGimxZaN8oW",
        "colab_type": "code",
        "colab": {}
      },
      "source": [
        "#train = reduce_mem_usage(train)\n",
        "#test = reduce_mem_usage(test)"
      ],
      "execution_count": 0,
      "outputs": []
    },
    {
      "cell_type": "code",
      "metadata": {
        "id": "dMdHrZPnG4KW",
        "colab_type": "code",
        "colab": {}
      },
      "source": [
        "region"
      ],
      "execution_count": 0,
      "outputs": []
    },
    {
      "cell_type": "code",
      "metadata": {
        "id": "6jlVjeRXKuan",
        "colab_type": "code",
        "colab": {}
      },
      "source": [
        "# Checking that the date column is monotonic\n",
        "for r in train['region'].unique():\n",
        "  print(train[train['region']==r]['date'].is_monotonic)\n",
        "del r"
      ],
      "execution_count": 0,
      "outputs": []
    },
    {
      "cell_type": "code",
      "metadata": {
        "id": "k4WqVbgw2y7v",
        "colab_type": "code",
        "colab": {}
      },
      "source": [
        "train.info()"
      ],
      "execution_count": 0,
      "outputs": []
    },
    {
      "cell_type": "code",
      "metadata": {
        "id": "KGeyiXCyWyWt",
        "colab_type": "code",
        "colab": {}
      },
      "source": [
        "train.describe()"
      ],
      "execution_count": 0,
      "outputs": []
    },
    {
      "cell_type": "code",
      "metadata": {
        "id": "C-E5WZyLW3iG",
        "colab_type": "code",
        "colab": {}
      },
      "source": [
        "test.info()"
      ],
      "execution_count": 0,
      "outputs": []
    },
    {
      "cell_type": "code",
      "metadata": {
        "id": "uVXQVfeSW55Y",
        "colab_type": "code",
        "colab": {}
      },
      "source": [
        "test.describe()"
      ],
      "execution_count": 0,
      "outputs": []
    },
    {
      "cell_type": "code",
      "metadata": {
        "id": "XPd6SFrNix2k",
        "colab_type": "code",
        "colab": {}
      },
      "source": [
        "region.info()"
      ],
      "execution_count": 0,
      "outputs": []
    },
    {
      "cell_type": "markdown",
      "metadata": {
        "id": "4IMDZgPdW8yU",
        "colab_type": "text"
      },
      "source": [
        "## Missing Values"
      ]
    },
    {
      "cell_type": "code",
      "metadata": {
        "id": "kveKfbztO7vF",
        "colab_type": "code",
        "colab": {}
      },
      "source": [
        "train.isna().sum()"
      ],
      "execution_count": 0,
      "outputs": []
    },
    {
      "cell_type": "code",
      "metadata": {
        "id": "ydvQeX4yFZ75",
        "colab_type": "code",
        "colab": {}
      },
      "source": [
        "msno.bar(train)"
      ],
      "execution_count": 0,
      "outputs": []
    },
    {
      "cell_type": "code",
      "metadata": {
        "id": "UPCih3LoGf8N",
        "colab_type": "code",
        "colab": {}
      },
      "source": [
        "msno.bar(test)\n",
        "\n",
        "# No missing values"
      ],
      "execution_count": 0,
      "outputs": []
    },
    {
      "cell_type": "code",
      "metadata": {
        "id": "1FXcuZLSHFXo",
        "colab_type": "code",
        "colab": {}
      },
      "source": [
        "temp = train.set_index('date')\n",
        "\n",
        "for r in train['region'].unique():\n",
        "  t = temp[temp['region']==r]\n",
        "  print(msno.matrix(t, freq = 'A'))\n",
        "\n",
        "del temp, t\n",
        "gc.collect()"
      ],
      "execution_count": 0,
      "outputs": []
    },
    {
      "cell_type": "code",
      "metadata": {
        "id": "CRlfkpC_F1yt",
        "colab_type": "code",
        "colab": {}
      },
      "source": [
        "msno.heatmap(train)\n",
        "\n",
        "# https://github.com/ResidentMario/missingno\n",
        "\n",
        "# correlation heatmap measures nullity correlation: how strongly the presence or absence of one variable affects the presence of another\n",
        "# Variables that are always full or always empty have no meaningful correlation, and so are silently removed from the visualization—in this case for instance the datetime and injury number columns, which are completely filled, are not included."
      ],
      "execution_count": 0,
      "outputs": []
    },
    {
      "cell_type": "code",
      "metadata": {
        "id": "htbsM1xLjxvX",
        "colab_type": "code",
        "colab": {}
      },
      "source": [
        "for r in train['region'].unique():\n",
        "  t = train[train['region']==r]\n",
        "  print(msno.heatmap(t))\n",
        "\n",
        "del t\n",
        "gc.collect()"
      ],
      "execution_count": 0,
      "outputs": []
    },
    {
      "cell_type": "code",
      "metadata": {
        "id": "P_aXL9PhGbMN",
        "colab_type": "code",
        "colab": {}
      },
      "source": [
        "msno.dendrogram(train)"
      ],
      "execution_count": 0,
      "outputs": []
    },
    {
      "cell_type": "code",
      "metadata": {
        "id": "nGAxTA1lkDdF",
        "colab_type": "code",
        "colab": {}
      },
      "source": [
        "for r in train['region'].unique():\n",
        "  t = train[train['region']==r]\n",
        "  print(msno.dendrogram(t))\n",
        "\n",
        "del t\n",
        "gc.collect()"
      ],
      "execution_count": 0,
      "outputs": []
    },
    {
      "cell_type": "markdown",
      "metadata": {
        "id": "L8JeLb1N2y70",
        "colab_type": "text"
      },
      "source": [
        "**_Missing values present in 4 columns, O3 ,PM10, PM25, NO2_**"
      ]
    },
    {
      "cell_type": "markdown",
      "metadata": {
        "id": "mwdx1rh2kMvh",
        "colab_type": "text"
      },
      "source": [
        "## Merging Region names with the rest of the data"
      ]
    },
    {
      "cell_type": "code",
      "metadata": {
        "id": "T-02eVrVSKH1",
        "colab_type": "code",
        "colab": {}
      },
      "source": [
        "train1 = train.merge(region, left_on='region', right_on='Code')\n",
        "#train1.drop(columns = ['region'],inplace=True)\n",
        "test1 = test.merge(region, left_on='region', right_on='Code')\n",
        "#test1.drop(columns = ['region'],inplace=True)"
      ],
      "execution_count": 0,
      "outputs": []
    },
    {
      "cell_type": "markdown",
      "metadata": {
        "id": "nQVjzsod5pN7",
        "colab_type": "text"
      },
      "source": [
        "## univariate analysis ##"
      ]
    },
    {
      "cell_type": "code",
      "metadata": {
        "id": "CSK2bY6M5pN7",
        "colab_type": "code",
        "colab": {}
      },
      "source": [
        "# Visualizing mortality_rate\n",
        "def mr(df):\n",
        "  plt.subplot(121)\n",
        "  sns.distplot(df['mortality_rate']);\n",
        "\n",
        "  plt.subplot(122)\n",
        "  df['mortality_rate'].plot.box(figsize=(16,5))\n",
        "\n",
        "  plt.show()\n",
        "\n",
        "mr(train)"
      ],
      "execution_count": 0,
      "outputs": []
    },
    {
      "cell_type": "code",
      "metadata": {
        "id": "9TR3aVPr5pN-",
        "colab_type": "code",
        "colab": {}
      },
      "source": [
        "# Visualizing O3\n",
        "def o3(df):\n",
        "    plt.subplot(121)\n",
        "    O3_1 = train['O3'].dropna()\n",
        "    sns.distplot(O3_1);\n",
        "\n",
        "    plt.subplot(122)\n",
        "    O3_1.plot.box(figsize=(16,5))\n",
        "\n",
        "    plt.show()\n",
        "    plt.close()\n",
        "\n",
        "o3(train)"
      ],
      "execution_count": 0,
      "outputs": []
    },
    {
      "cell_type": "code",
      "metadata": {
        "id": "Klemu87G5pOC",
        "colab_type": "code",
        "colab": {}
      },
      "source": [
        "# Visualizing PM10\n",
        "def pm10(df):\n",
        "    plt.subplot(121)\n",
        "    PM10_1 = train['PM10'].dropna()\n",
        "    sns.distplot(PM10_1);\n",
        "\n",
        "    plt.subplot(122)\n",
        "    PM10_1.plot.box(figsize=(16,5))\n",
        "\n",
        "    plt.show()\n",
        "\n",
        "pm10(train)"
      ],
      "execution_count": 0,
      "outputs": []
    },
    {
      "cell_type": "code",
      "metadata": {
        "id": "tdfHhw1r5pOF",
        "colab_type": "code",
        "colab": {}
      },
      "source": [
        "# Visualizing PM25\n",
        "\n",
        "def pm25(df):\n",
        "    plt.subplot(121)\n",
        "    PM25_1 = train['PM25'].dropna()\n",
        "    sns.distplot(PM25_1);\n",
        "\n",
        "    plt.subplot(122)\n",
        "    PM25_1.plot.box(figsize=(16,5))\n",
        "\n",
        "    plt.show()\n",
        "\n",
        "pm25(train)"
      ],
      "execution_count": 0,
      "outputs": []
    },
    {
      "cell_type": "code",
      "metadata": {
        "id": "C1fbLs0C5pOI",
        "colab_type": "code",
        "colab": {}
      },
      "source": [
        "# Visualizing NO2\n",
        "def no2(df):\n",
        "    plt.subplot(121)\n",
        "    NO2_1 = train['NO2'].dropna()\n",
        "    sns.distplot(NO2_1);\n",
        "\n",
        "    plt.subplot(122)\n",
        "    NO2_1.plot.box(figsize=(16,5))\n",
        "\n",
        "    plt.show()\n",
        "  \n",
        "no2(train)"
      ],
      "execution_count": 0,
      "outputs": []
    },
    {
      "cell_type": "code",
      "metadata": {
        "id": "xMi_gLbD5pOL",
        "colab_type": "code",
        "colab": {}
      },
      "source": [
        "# Visualizing T2M\n",
        "\n",
        "def t2m(df):\n",
        "    plt.subplot(121)\n",
        "    sns.distplot(train['T2M']);\n",
        "\n",
        "    plt.subplot(122)\n",
        "    train['T2M'].plot.box(figsize=(16,5))\n",
        "\n",
        "    plt.show()\n",
        "\n",
        "t2m(train)"
      ],
      "execution_count": 0,
      "outputs": []
    },
    {
      "cell_type": "code",
      "metadata": {
        "id": "pHgP0-y-5pOO",
        "colab_type": "code",
        "colab": {}
      },
      "source": [
        "# Visualizing categorical features\n",
        "plt.subplot(231)\n",
        "train['region'].value_counts(normalize=True).plot.bar(figsize=(20,10), title= 'region')"
      ],
      "execution_count": 0,
      "outputs": []
    },
    {
      "cell_type": "code",
      "metadata": {
        "id": "ptoLHjtSl1Ec",
        "colab_type": "code",
        "colab": {}
      },
      "source": [
        "print('mortality rate across regions')\n",
        "for r in train['region'].unique():\n",
        "  t = train[train['region']==r]\n",
        "  mr(t)"
      ],
      "execution_count": 0,
      "outputs": []
    },
    {
      "cell_type": "code",
      "metadata": {
        "id": "AGAONcXhl8ZL",
        "colab_type": "code",
        "colab": {}
      },
      "source": [
        "for r in train['region'].unique():\n",
        "  t = train[train['region']==r]\n",
        "  print(o3(t))"
      ],
      "execution_count": 0,
      "outputs": []
    },
    {
      "cell_type": "code",
      "metadata": {
        "id": "pGmPekXgmAib",
        "colab_type": "code",
        "colab": {}
      },
      "source": [
        "for r in train['region'].unique():\n",
        "  t = train[train['region']==r]\n",
        "  print(no2(t))"
      ],
      "execution_count": 0,
      "outputs": []
    },
    {
      "cell_type": "code",
      "metadata": {
        "id": "RXXfr1lxmFgI",
        "colab_type": "code",
        "colab": {}
      },
      "source": [
        "for r in train['region'].unique():\n",
        "  t = train[train['region']==r]\n",
        "  print(pm10(t))"
      ],
      "execution_count": 0,
      "outputs": []
    },
    {
      "cell_type": "code",
      "metadata": {
        "id": "WNLCZTrXmE6h",
        "colab_type": "code",
        "colab": {}
      },
      "source": [
        "for r in train['region'].unique():\n",
        "  t = train[train['region']==r]\n",
        "  print(pm25(t))"
      ],
      "execution_count": 0,
      "outputs": []
    },
    {
      "cell_type": "code",
      "metadata": {
        "id": "bThckC2gmQN5",
        "colab_type": "code",
        "colab": {}
      },
      "source": [
        "for r in train['region'].unique():\n",
        "  t = train[train['region']==r]\n",
        "  t2m(t)"
      ],
      "execution_count": 0,
      "outputs": []
    },
    {
      "cell_type": "code",
      "metadata": {
        "id": "5DDfBV9H5pOa",
        "colab_type": "code",
        "colab": {}
      },
      "source": [
        "#train1.groupby(\"region\")[\"Region\"].unique()"
      ],
      "execution_count": 0,
      "outputs": []
    },
    {
      "cell_type": "code",
      "metadata": {
        "id": "NYtEcfzW5pOd",
        "colab_type": "code",
        "colab": {}
      },
      "source": [
        "train1.head()"
      ],
      "execution_count": 0,
      "outputs": []
    },
    {
      "cell_type": "markdown",
      "metadata": {
        "id": "T35-ptQimp0v",
        "colab_type": "text"
      },
      "source": [
        "## Transformations"
      ]
    },
    {
      "cell_type": "markdown",
      "metadata": {
        "id": "ihTkpgrl2vY7",
        "colab_type": "text"
      },
      "source": [
        "# Bivariate analysis - Region Wise"
      ]
    },
    {
      "cell_type": "markdown",
      "metadata": {
        "id": "d2PzuGNK2vY8",
        "colab_type": "text"
      },
      "source": [
        "### variation with date - time series plot ##"
      ]
    },
    {
      "cell_type": "markdown",
      "metadata": {
        "id": "YGToVams2vY8",
        "colab_type": "text"
      },
      "source": [
        "### For region 1 - North East"
      ]
    },
    {
      "cell_type": "code",
      "metadata": {
        "id": "T6g0Kd_F2vY9",
        "colab_type": "code",
        "colab": {}
      },
      "source": [
        "train_r1 = train1[train1[\"Region\"]==\"North East\"]\n",
        "fig1 = px.line(train_r1, x='date', y='mortality_rate')\n",
        "fig1.show()"
      ],
      "execution_count": 0,
      "outputs": []
    },
    {
      "cell_type": "code",
      "metadata": {
        "id": "5QVw7lWA2vZB",
        "colab_type": "code",
        "colab": {}
      },
      "source": [
        "fig2 = go.Figure([go.Scatter(x=train_r1['date'], y=train_r1['mortality_rate'])])\n",
        "#fig2.show()\n",
        "\n",
        "fig2.update_layout(title_text='Time Series with Rangeslider',\n",
        "                  xaxis_rangeslider_visible=True)"
      ],
      "execution_count": 0,
      "outputs": []
    },
    {
      "cell_type": "code",
      "metadata": {
        "id": "yGa82Pf82vZF",
        "colab_type": "code",
        "colab": {}
      },
      "source": [
        "fig3 = go.Figure([go.Scatter(x=train_r1['date'], y=train_r1[\"O3\"])])\n",
        "#fig2.show()\n",
        "\n",
        "fig3.update_layout(title_text='Time Series with Rangeslider',\n",
        "                  xaxis_rangeslider_visible=True)"
      ],
      "execution_count": 0,
      "outputs": []
    },
    {
      "cell_type": "code",
      "metadata": {
        "id": "FrRy7WkH2vZL",
        "colab_type": "code",
        "colab": {}
      },
      "source": [
        "fig2 = go.Figure([go.Scatter(x=train_r1['date'], y=train_r1[\"PM10\"])])\n",
        "#fig2.show()\n",
        "\n",
        "fig2.update_layout(title_text='Time Series with Rangeslider',\n",
        "                  xaxis_rangeslider_visible=True)"
      ],
      "execution_count": 0,
      "outputs": []
    },
    {
      "cell_type": "code",
      "metadata": {
        "id": "HJv5rdoJ2vZQ",
        "colab_type": "code",
        "colab": {}
      },
      "source": [
        "fig4 = go.Figure([go.Scatter(x=train_r1['date'], y=train_r1[\"PM25\"])])\n",
        "#fig2.show()\n",
        "\n",
        "fig4.update_layout(title_text='Time Series with Rangeslider',\n",
        "                  xaxis_rangeslider_visible=True)"
      ],
      "execution_count": 0,
      "outputs": []
    },
    {
      "cell_type": "code",
      "metadata": {
        "id": "KuwBQmhC2vZV",
        "colab_type": "code",
        "colab": {}
      },
      "source": [
        "fig5 = go.Figure([go.Scatter(x=train_r1['date'], y=train_r1[\"NO2\"])])\n",
        "#fig2.show()\n",
        "\n",
        "fig5.update_layout(title_text='Time Series with Rangeslider',\n",
        "                  xaxis_rangeslider_visible=True)"
      ],
      "execution_count": 0,
      "outputs": []
    },
    {
      "cell_type": "markdown",
      "metadata": {
        "id": "V4RtiraK2vZZ",
        "colab_type": "text"
      },
      "source": [
        "### scatter plot of PM25 with other varibles ###"
      ]
    },
    {
      "cell_type": "code",
      "metadata": {
        "id": "tslmwpEG2vZa",
        "colab_type": "code",
        "colab": {}
      },
      "source": [
        "plt.scatter(x=train_r1['mortality_rate'], y=train_r1[\"PM25\"])"
      ],
      "execution_count": 0,
      "outputs": []
    },
    {
      "cell_type": "code",
      "metadata": {
        "id": "P0kOOXwS2vZe",
        "colab_type": "code",
        "colab": {}
      },
      "source": [
        "plt.scatter(x=train_r1['PM10'], y=train_r1[\"PM25\"])"
      ],
      "execution_count": 0,
      "outputs": []
    },
    {
      "cell_type": "code",
      "metadata": {
        "id": "rD0Cy2z92vZi",
        "colab_type": "code",
        "colab": {}
      },
      "source": [
        "plt.scatter(x=train_r1['O3'], y=train_r1[\"PM25\"])"
      ],
      "execution_count": 0,
      "outputs": []
    },
    {
      "cell_type": "code",
      "metadata": {
        "id": "tEkttAg82vZo",
        "colab_type": "code",
        "colab": {}
      },
      "source": [
        "plt.scatter(x=train_r1['NO2'], y=train_r1[\"PM25\"])"
      ],
      "execution_count": 0,
      "outputs": []
    },
    {
      "cell_type": "code",
      "metadata": {
        "id": "CCGk5C8n2vZt",
        "colab_type": "code",
        "colab": {}
      },
      "source": [
        "plt.scatter(x=train_r1['T2M'], y=train_r1[\"PM25\"])"
      ],
      "execution_count": 0,
      "outputs": []
    },
    {
      "cell_type": "markdown",
      "metadata": {
        "id": "rD4eei-W2vZy",
        "colab_type": "text"
      },
      "source": [
        "### scatter plot of NO2 with other variables ###"
      ]
    },
    {
      "cell_type": "code",
      "metadata": {
        "id": "5ofzmvJ82vZ2",
        "colab_type": "code",
        "colab": {}
      },
      "source": [
        "plt.scatter(x=train_r1['mortality_rate'], y=train_r1[\"NO2\"])"
      ],
      "execution_count": 0,
      "outputs": []
    },
    {
      "cell_type": "code",
      "metadata": {
        "id": "i-Aae89h2vZ7",
        "colab_type": "code",
        "colab": {}
      },
      "source": [
        "plt.scatter(x=train_r1['O3'], y=train_r1[\"NO2\"])"
      ],
      "execution_count": 0,
      "outputs": []
    },
    {
      "cell_type": "code",
      "metadata": {
        "id": "CMtNJeby2vZ-",
        "colab_type": "code",
        "colab": {}
      },
      "source": [
        "plt.scatter(x=train_r1['PM10'], y=train_r1[\"NO2\"])"
      ],
      "execution_count": 0,
      "outputs": []
    },
    {
      "cell_type": "code",
      "metadata": {
        "id": "-89qaBfJ2vaD",
        "colab_type": "code",
        "colab": {}
      },
      "source": [
        "plt.scatter(x=train_r1['PM25'], y=train_r1[\"NO2\"])"
      ],
      "execution_count": 0,
      "outputs": []
    },
    {
      "cell_type": "code",
      "metadata": {
        "id": "YQI933gF2vaH",
        "colab_type": "code",
        "colab": {}
      },
      "source": [
        "plt.scatter(x=train_r1['T2M'], y=train_r1[\"NO2\"])"
      ],
      "execution_count": 0,
      "outputs": []
    },
    {
      "cell_type": "markdown",
      "metadata": {
        "id": "e7ytgGpZ2vaL",
        "colab_type": "text"
      },
      "source": [
        "## Missing value imputation using MICE "
      ]
    },
    {
      "cell_type": "markdown",
      "metadata": {
        "id": "FNY7VdYP2vaM",
        "colab_type": "text"
      },
      "source": [
        "#### For Region1 - North East"
      ]
    },
    {
      "cell_type": "code",
      "metadata": {
        "id": "_zEvO30-2vaM",
        "colab_type": "code",
        "colab": {}
      },
      "source": [
        "train_r1.head()"
      ],
      "execution_count": 0,
      "outputs": []
    },
    {
      "cell_type": "code",
      "metadata": {
        "id": "RPyXkGkh2vaY",
        "colab_type": "code",
        "colab": {}
      },
      "source": [
        "train_r1.isna().sum()"
      ],
      "execution_count": 0,
      "outputs": []
    },
    {
      "cell_type": "code",
      "metadata": {
        "id": "P83NaTGwdwCa",
        "colab_type": "code",
        "colab": {}
      },
      "source": [
        "train_r1.drop(columns=[\"region\",\"date\", \"Code\", \"Region\"], inplace=True)"
      ],
      "execution_count": 0,
      "outputs": []
    },
    {
      "cell_type": "code",
      "metadata": {
        "id": "Ae7OPtNI2vae",
        "colab_type": "code",
        "colab": {}
      },
      "source": [
        "from impyute.imputation.cs import mice\n",
        "\n",
        "# start the MICE training\n",
        "train_r1_imp=mice(train_r1.values)"
      ],
      "execution_count": 0,
      "outputs": []
    },
    {
      "cell_type": "code",
      "metadata": {
        "id": "r0Jg890r2vak",
        "colab_type": "code",
        "colab": {}
      },
      "source": [
        "train_r1_imp = pd.DataFrame(train_r1_imp, columns = [\"mortality_rate\", \"O3\", \"PM10\", \"PM25\",\"NO2\",\"T2M\"])"
      ],
      "execution_count": 0,
      "outputs": []
    },
    {
      "cell_type": "code",
      "metadata": {
        "id": "LewXOwpj2vam",
        "colab_type": "code",
        "colab": {}
      },
      "source": [
        "train_r1_imp.isna().sum()"
      ],
      "execution_count": 0,
      "outputs": []
    },
    {
      "cell_type": "code",
      "metadata": {
        "scrolled": true,
        "id": "SGii_PU_2vap",
        "colab_type": "code",
        "colab": {}
      },
      "source": [
        "# Visualizing NO2\n",
        "# plt.figure(1)\n",
        "plt.subplot(121)\n",
        "NO2_1 = train_r1_imp['NO2'].dropna()\n",
        "sns.distplot(NO2_1);\n",
        "\n",
        "plt.subplot(122)\n",
        "NO2_1.plot.box(figsize=(16,5))\n",
        "\n",
        "plt.show()\n",
        "\n",
        "\n",
        "plt.subplot(121)\n",
        "NO2_1 = train_r1['NO2'].dropna()\n",
        "sns.distplot(NO2_1);\n",
        "\n",
        "plt.subplot(122)\n",
        "NO2_1.plot.box(figsize=(16,5))\n",
        "\n",
        "plt.show()"
      ],
      "execution_count": 0,
      "outputs": []
    },
    {
      "cell_type": "code",
      "metadata": {
        "id": "ZmgPtuIY2var",
        "colab_type": "code",
        "colab": {}
      },
      "source": [
        "plt.scatter(x=train_r1_imp['O3'], y=train_r1_imp[\"NO2\"])\n",
        "plt.scatter(x=train_r1['O3'], y=train_r1[\"NO2\"])"
      ],
      "execution_count": 0,
      "outputs": []
    },
    {
      "cell_type": "code",
      "metadata": {
        "scrolled": true,
        "id": "FKox-Icp2vat",
        "colab_type": "code",
        "colab": {}
      },
      "source": [
        "plt.scatter(x=train_r1_imp['PM10'], y=train_r1_imp[\"NO2\"])\n",
        "plt.scatter(x=train_r1['PM10'], y=train_r1[\"NO2\"])"
      ],
      "execution_count": 0,
      "outputs": []
    },
    {
      "cell_type": "code",
      "metadata": {
        "scrolled": true,
        "id": "Td3DmHGh2vav",
        "colab_type": "code",
        "colab": {}
      },
      "source": [
        "# Visualizing NO2\n",
        "# plt.figure(1)\n",
        "plt.subplot(121)\n",
        "NO2_1_imp = train_r1_imp['PM25'].dropna()\n",
        "NO2_1 = train_r1['PM25'].dropna()\n",
        "#sns.distplot(NO2_1_imp)\n",
        "#sns.distplot(NO2_1)\n",
        "\n",
        "sns.distplot(NO2_1_imp, hist=False, rug=True)\n",
        "sns.distplot(NO2_1, hist=False, rug=True)\n"
      ],
      "execution_count": 0,
      "outputs": []
    },
    {
      "cell_type": "code",
      "metadata": {
        "id": "YDQ3SdCp2vaz",
        "colab_type": "code",
        "colab": {}
      },
      "source": [
        "plt.scatter(x=train_r1_imp['PM10'], y=train_r1_imp[\"PM25\"])\n",
        "plt.scatter(x=train_r1['PM10'], y=train_r1[\"PM25\"])"
      ],
      "execution_count": 0,
      "outputs": []
    },
    {
      "cell_type": "code",
      "metadata": {
        "scrolled": true,
        "id": "aTkMlBvP2va6",
        "colab_type": "code",
        "colab": {}
      },
      "source": [
        "train_r1_imp['PM25'].describe(), train_r1['PM25'].describe()"
      ],
      "execution_count": 0,
      "outputs": []
    },
    {
      "cell_type": "code",
      "metadata": {
        "id": "5gw-EVuW2vbJ",
        "colab_type": "code",
        "colab": {}
      },
      "source": [
        "## changing negative values to min value\n",
        "train_r1_imp['PM25'] = np.where(train_r1_imp['PM25']<=0, 0.904000, train_r1_imp['PM25'] )"
      ],
      "execution_count": 0,
      "outputs": []
    },
    {
      "cell_type": "code",
      "metadata": {
        "scrolled": true,
        "id": "hXeqrJTR2vbO",
        "colab_type": "code",
        "colab": {}
      },
      "source": [
        "train_r1_imp['NO2'].describe(), train_r1['NO2'].describe()"
      ],
      "execution_count": 0,
      "outputs": []
    },
    {
      "cell_type": "code",
      "metadata": {
        "id": "0lQkOP0i2vbR",
        "colab_type": "code",
        "colab": {}
      },
      "source": [
        "## changing negative values to min value\n",
        "train_r1_imp['NO2'] = np.where(train_r1_imp['NO2']<=0, 1.104000, train_r1_imp['NO2'] )"
      ],
      "execution_count": 0,
      "outputs": []
    },
    {
      "cell_type": "markdown",
      "metadata": {
        "id": "BoDA9J_02vbV",
        "colab_type": "text"
      },
      "source": [
        "#### Since we are getting good enough results region wise we can impute PM25 and NO2 on the basis of regions"
      ]
    },
    {
      "cell_type": "markdown",
      "metadata": {
        "id": "aeKRzAjs2vbW",
        "colab_type": "text"
      },
      "source": [
        "### Region wise imputation"
      ]
    },
    {
      "cell_type": "code",
      "metadata": {
        "id": "ZkgyyYGH2W77",
        "colab_type": "code",
        "colab": {}
      },
      "source": [
        "train1.head()"
      ],
      "execution_count": 0,
      "outputs": []
    },
    {
      "cell_type": "code",
      "metadata": {
        "scrolled": true,
        "id": "37AtrPdZ2vbW",
        "colab_type": "code",
        "colab": {}
      },
      "source": [
        "regions = list(region[\"Region\"].values)\n",
        "train_imp = pd.DataFrame()\n",
        "\n",
        "for reg in regions:\n",
        "    \n",
        "    train_r = train1[train1[\"Region\"] == reg].reset_index(drop=True)\n",
        "    train_r_imp = mice(train_r.drop([\"region\",\"date\", \"Code\", \"Region\"], axis = 1).values)\n",
        "    train_r_imp = pd.DataFrame(train_r_imp, columns = [\"mortality_rate\", \"O3\", \"PM10\", \"PM25\",\"NO2\",\"T2M\"])\n",
        "    \n",
        "    ## changing negative values to min value\n",
        "    train_r_imp['PM25'] = np.where(train_r_imp['PM25']<=0, min(train_r['PM25']), train_r_imp['PM25'] )\n",
        "    \n",
        "    ## changing negative values to min value\n",
        "    train_r_imp['NO2'] = np.where(train_r_imp['NO2']<=0, min(train_r['NO2']), train_r_imp['NO2'] )\n",
        "    \n",
        "    print(\"\\n\\n\")\n",
        "    print(\"train_r = before\", train_r.isna().sum())\n",
        "    \n",
        "    train_r['PM25'] = train_r_imp['PM25']\n",
        "    train_r['NO2'] = train_r_imp['NO2']\n",
        "    train_r['O3'] = train_r_imp['O3']\n",
        "    train_r['PM10'] = train_r_imp['PM10']\n",
        "    \n",
        "    print(\"train_r_imp = \\n\", train_r_imp.isna().sum())\n",
        "    print(\"train_r = \\n\", train_r.isna().sum())\n",
        "    print(\"----------------------------------------\")\n",
        "    \n",
        "    train_imp = train_imp.append(train_r)\n",
        "    \n",
        "print(\"train_imp = \", train_imp.isna().sum(), '\\n')\n",
        "    \n",
        "    "
      ],
      "execution_count": 0,
      "outputs": []
    },
    {
      "cell_type": "code",
      "metadata": {
        "id": "qAxRomCf2vbh",
        "colab_type": "code",
        "colab": {}
      },
      "source": [
        "pd.set_option('display.max_rows', None)\n",
        "#train_imp\n",
        "                                    "
      ],
      "execution_count": 0,
      "outputs": []
    },
    {
      "cell_type": "code",
      "metadata": {
        "id": "ZnbN88vKKSWj",
        "colab_type": "code",
        "colab": {}
      },
      "source": [
        "train_imp.head()"
      ],
      "execution_count": 0,
      "outputs": []
    },
    {
      "cell_type": "code",
      "metadata": {
        "id": "o1MqMh3A2vbj",
        "colab_type": "code",
        "colab": {}
      },
      "source": [
        "temp_r_imp = mice(train_imp.drop(columns=['region','date','Code','Region']).values)\n",
        "temp_r_imp = pd.DataFrame(temp_r_imp, columns = [\"mortality_rate\", \"O3\", \"PM10\", \"PM25\",\"NO2\",\"T2M\"])\n",
        "\n",
        "train_r_imp_full = train_imp.copy()\n",
        "train_r_imp_full[\"NO2\"] = temp_r_imp[\"NO2\"]\n",
        "train_r_imp_full[\"PM25\"] = temp_r_imp[\"PM25\"]\n",
        "train_r_imp_full[\"O3\"] = temp_r_imp[\"O3\"]\n",
        "train_r_imp_full[\"PM10\"] = temp_r_imp[\"PM10\"]\n",
        "\n",
        "train_r_imp_full.isna().sum()  #### FINAL DATAFRAME WITH IMPUTED VALUES REGION WISE"
      ],
      "execution_count": 0,
      "outputs": []
    },
    {
      "cell_type": "code",
      "metadata": {
        "id": "DmMCRMDk2vbn",
        "colab_type": "code",
        "colab": {}
      },
      "source": [
        "train_r_imp_full.shape, train1.shape"
      ],
      "execution_count": 0,
      "outputs": []
    },
    {
      "cell_type": "code",
      "metadata": {
        "scrolled": true,
        "id": "h7fw0QO62vbq",
        "colab_type": "code",
        "colab": {}
      },
      "source": [
        "train_r_imp_full.head()"
      ],
      "execution_count": 0,
      "outputs": []
    },
    {
      "cell_type": "code",
      "metadata": {
        "id": "WGRqddGq2vbw",
        "colab_type": "code",
        "colab": {}
      },
      "source": [
        "train_r_imp_full['NO2'].describe()"
      ],
      "execution_count": 0,
      "outputs": []
    },
    {
      "cell_type": "code",
      "metadata": {
        "id": "aIJCCzR3oK2a",
        "colab_type": "code",
        "colab": {}
      },
      "source": [
        "train1['NO2'].describe()"
      ],
      "execution_count": 0,
      "outputs": []
    },
    {
      "cell_type": "code",
      "metadata": {
        "id": "SvH6HddzoKzL",
        "colab_type": "code",
        "colab": {}
      },
      "source": [
        "train_r_imp_full['PM25'].describe()"
      ],
      "execution_count": 0,
      "outputs": []
    },
    {
      "cell_type": "code",
      "metadata": {
        "id": "B2AKnuYfoKsW",
        "colab_type": "code",
        "colab": {}
      },
      "source": [
        "train1['PM25'].describe()"
      ],
      "execution_count": 0,
      "outputs": []
    },
    {
      "cell_type": "code",
      "metadata": {
        "id": "hAWdC2qL2vb0",
        "colab_type": "code",
        "colab": {}
      },
      "source": [
        "plt.subplot(121)\n",
        "NO2_1= train1['PM25'].dropna()\n",
        "NO2_1_imp  = train_r_imp_full['PM25'].dropna()\n",
        "\n",
        "sns.distplot(NO2_1_imp, hist=False, rug=True)\n",
        "sns.distplot(NO2_1, hist=False, rug=True)"
      ],
      "execution_count": 0,
      "outputs": []
    },
    {
      "cell_type": "markdown",
      "metadata": {
        "id": "k0gyBXK22vb3",
        "colab_type": "text"
      },
      "source": [
        "Region wise imputation is fine but at an overall level it does not suits well.."
      ]
    },
    {
      "cell_type": "markdown",
      "metadata": {
        "id": "iIJulnE52vb3",
        "colab_type": "text"
      },
      "source": [
        "### Impution on full data - MICE"
      ]
    },
    {
      "cell_type": "code",
      "metadata": {
        "id": "KIs5nBLk2vb4",
        "colab_type": "code",
        "colab": {}
      },
      "source": [
        "# start the MICE training\n",
        "temp_imp = mice(train1.drop([\"region\",\"date\", \"Code\", \"Region\"], axis = 1).values)\n",
        "temp_imp = pd.DataFrame(temp_imp, columns = [\"mortality_rate\", \"O3\", \"PM10\", \"PM25\",\"NO2\",\"T2M\"])\n",
        "\n",
        "train_full_imp = train1.copy()\n",
        "train_full_imp[\"NO2\"] = temp_imp[\"NO2\"]\n",
        "train_full_imp[\"PM25\"] = temp_imp[\"PM25\"]\n",
        "train_full_imp[\"O3\"] = temp_imp[\"O3\"]\n",
        "train_full_imp[\"PM10\"] = temp_imp[\"PM10\"]"
      ],
      "execution_count": 0,
      "outputs": []
    },
    {
      "cell_type": "code",
      "metadata": {
        "id": "t2RJnWqY2vb6",
        "colab_type": "code",
        "colab": {}
      },
      "source": [
        "train_full_imp.isna().sum() ### FINAL DATAFRAME WITH IMPUTATION ON FULL DATA"
      ],
      "execution_count": 0,
      "outputs": []
    },
    {
      "cell_type": "code",
      "metadata": {
        "id": "TBDx2LwJ2vb8",
        "colab_type": "code",
        "colab": {}
      },
      "source": [
        "plt.subplot(121)\n",
        "NO2_1= train1['PM25'].dropna()\n",
        "NO2_1_imp  = train_full_imp['PM25'].dropna()\n",
        "\n",
        "sns.distplot(NO2_1_imp, hist=False, rug=True)\n",
        "sns.distplot(NO2_1, hist=False, rug=True)"
      ],
      "execution_count": 0,
      "outputs": []
    },
    {
      "cell_type": "markdown",
      "metadata": {
        "id": "3mGo5vDDah1I",
        "colab_type": "text"
      },
      "source": [
        "# Dropping Missing Values"
      ]
    },
    {
      "cell_type": "markdown",
      "metadata": {
        "id": "XZNNlepWapZD",
        "colab_type": "text"
      },
      "source": [
        "## Feature Engineering"
      ]
    },
    {
      "cell_type": "markdown",
      "metadata": {
        "id": "dKyRV-7Y2y8g",
        "colab_type": "text"
      },
      "source": [
        "one hot encoding for regions"
      ]
    },
    {
      "cell_type": "code",
      "metadata": {
        "id": "HMoI3KdG2y8h",
        "colab_type": "code",
        "colab": {}
      },
      "source": [
        "dummy1= pd.get_dummies(train['region'])\n",
        "train_f = train.join(dummy1)\n",
        "\n",
        "dummy2= pd.get_dummies(test['region'])\n",
        "test_f = test.join(dummy2)"
      ],
      "execution_count": 0,
      "outputs": []
    },
    {
      "cell_type": "code",
      "metadata": {
        "id": "qBcbPxob2y8j",
        "colab_type": "code",
        "colab": {}
      },
      "source": [
        "train_f.shape,test_f.shape"
      ],
      "execution_count": 0,
      "outputs": []
    },
    {
      "cell_type": "markdown",
      "metadata": {
        "id": "vmDNDiS32y8o",
        "colab_type": "text"
      },
      "source": [
        "doy (day of year) and year"
      ]
    },
    {
      "cell_type": "code",
      "metadata": {
        "id": "7uLIjTK02y8o",
        "colab_type": "code",
        "colab": {}
      },
      "source": [
        "train_f['year'] = train_f['date'].map(lambda x: x.year)\n",
        "test_f['year'] = test_f['date'].map(lambda x: x.year)\n",
        "\n",
        "train_f['year^2'] = train_f['year']**2\n",
        "test_f['year^2'] = test_f['year']**2\n",
        "\n",
        "train_f['doy'] = train_f['date'].map(lambda x: x.dayofyear)\n",
        "test_f['doy'] = test_f['date'].map(lambda x: x.dayofyear)\n",
        "\n",
        "train_f['doy^2'] = train_f['doy']**2\n",
        "test_f['doy^2'] = test_f['doy']**2"
      ],
      "execution_count": 0,
      "outputs": []
    },
    {
      "cell_type": "markdown",
      "metadata": {
        "id": "mpSXYSaW2y8r",
        "colab_type": "text"
      },
      "source": [
        "Log Transformation"
      ]
    },
    {
      "cell_type": "code",
      "metadata": {
        "id": "mpGcP5nR2y8s",
        "colab_type": "code",
        "colab": {}
      },
      "source": [
        "train_f['NO2_log']=np.log(train_f['NO2'])\n",
        "train_f['PM10_log']=np.log(train_f['PM10'])\n",
        "train_f['PM25_log']=np.log(train_f['PM25'])\n",
        "\n",
        "test_f['NO2_log']=np.log(test_f['NO2'])\n",
        "test_f['PM10_log']=np.log(test_f['PM10'])\n",
        "test_f['PM25_log']=np.log(test_f['PM25'])"
      ],
      "execution_count": 0,
      "outputs": []
    },
    {
      "cell_type": "code",
      "metadata": {
        "id": "1LFgFBff2y8w",
        "colab_type": "code",
        "colab": {}
      },
      "source": [
        "#train_f.info(),test_f.info()"
      ],
      "execution_count": 0,
      "outputs": []
    },
    {
      "cell_type": "code",
      "metadata": {
        "id": "svSerRN52y80",
        "colab_type": "code",
        "colab": {}
      },
      "source": [
        "total_f=total=pd.concat([train_f,test_f],sort=False)"
      ],
      "execution_count": 0,
      "outputs": []
    },
    {
      "cell_type": "code",
      "metadata": {
        "id": "rmimRZrI2y85",
        "colab_type": "code",
        "colab": {}
      },
      "source": [
        "total_f['T2M_rolling'] = total_f.groupby('region')['T2M'].transform(lambda x: x.rolling(30).mean())"
      ],
      "execution_count": 0,
      "outputs": []
    },
    {
      "cell_type": "code",
      "metadata": {
        "id": "VRCh3Y392y87",
        "colab_type": "code",
        "colab": {}
      },
      "source": [
        "total_f.shape"
      ],
      "execution_count": 0,
      "outputs": []
    },
    {
      "cell_type": "markdown",
      "metadata": {
        "id": "hvxvsjRM2y9I",
        "colab_type": "text"
      },
      "source": [
        "## Modelling"
      ]
    },
    {
      "cell_type": "code",
      "metadata": {
        "id": "GhcKP8f42y9A",
        "colab_type": "code",
        "colab": {}
      },
      "source": [
        "train_f=total_f[:18403].dropna()\n",
        "test_f=total_f[18403:].drop(['mortality_rate'],axis=1)"
      ],
      "execution_count": 0,
      "outputs": []
    },
    {
      "cell_type": "code",
      "metadata": {
        "id": "b9ksUkK02y9D",
        "colab_type": "code",
        "colab": {}
      },
      "source": [
        "train_f.shape,test_f.shape"
      ],
      "execution_count": 0,
      "outputs": []
    },
    {
      "cell_type": "code",
      "metadata": {
        "id": "2YWFBwVj2y9I",
        "colab_type": "code",
        "colab": {}
      },
      "source": [
        "X_train, X_test, y_train, y_test = train_test_split(train_f.drop(['mortality_rate'],axis=1), train_f['mortality_rate'], test_size=0.2)"
      ],
      "execution_count": 0,
      "outputs": []
    },
    {
      "cell_type": "code",
      "metadata": {
        "id": "g8AmNdSr2y9Q",
        "colab_type": "code",
        "colab": {}
      },
      "source": [
        "RMSE= make_scorer(metrics.mean_squared_error)"
      ],
      "execution_count": 0,
      "outputs": []
    },
    {
      "cell_type": "code",
      "metadata": {
        "id": "68nH_D3B2y9X",
        "colab_type": "code",
        "colab": {}
      },
      "source": [
        "X=train_f.drop(['mortality_rate'],axis=1)\n",
        "y=train_f['mortality_rate']"
      ],
      "execution_count": 0,
      "outputs": []
    },
    {
      "cell_type": "markdown",
      "metadata": {
        "id": "EcOgMwjPXM9X",
        "colab_type": "text"
      },
      "source": [
        "### Predictor Set 1"
      ]
    },
    {
      "cell_type": "code",
      "metadata": {
        "id": "vFKlOZKD2y9T",
        "colab_type": "code",
        "colab": {}
      },
      "source": [
        "predictors=['O3','PM10','PM25','NO2','T2M']"
      ],
      "execution_count": 0,
      "outputs": []
    },
    {
      "cell_type": "markdown",
      "metadata": {
        "id": "y3S88AoLlcGX",
        "colab_type": "text"
      },
      "source": [
        "#### Regularized Linear Regression without CV"
      ]
    },
    {
      "cell_type": "markdown",
      "metadata": {
        "id": "FsMgSAtYljDt",
        "colab_type": "text"
      },
      "source": [
        "##### Ridge Regression"
      ]
    },
    {
      "cell_type": "code",
      "metadata": {
        "id": "snier4wAnkVa",
        "colab_type": "code",
        "colab": {}
      },
      "source": [
        "ridge(X_train[predictors],y_train,X_test[predictors],y_test)"
      ],
      "execution_count": 0,
      "outputs": []
    },
    {
      "cell_type": "markdown",
      "metadata": {
        "id": "J6oqMH7zllRb",
        "colab_type": "text"
      },
      "source": [
        "##### Lasso Regression"
      ]
    },
    {
      "cell_type": "code",
      "metadata": {
        "id": "iPPcUjfdp8L8",
        "colab_type": "code",
        "colab": {}
      },
      "source": [
        "lasso(X_train[predictors],y_train,X_test[predictors],y_test)"
      ],
      "execution_count": 0,
      "outputs": []
    },
    {
      "cell_type": "markdown",
      "metadata": {
        "id": "t0xzLL22XEEd",
        "colab_type": "text"
      },
      "source": [
        "#### CV Model"
      ]
    },
    {
      "cell_type": "code",
      "metadata": {
        "id": "6AqQMyK_2y9b",
        "colab_type": "code",
        "colab": {}
      },
      "source": [
        "models = [\n",
        "    LinearRegression(),\n",
        "    linear_model.Lasso(alpha=0.0098),\n",
        "    Ridge(alpha=49),\n",
        "    RandomForestRegressor(max_depth=2, random_state=0),\n",
        "]\n",
        "CV = 5\n",
        "for model in models:\n",
        "    model_name = model.__class__.__name__\n",
        "    \n",
        "    accuracies = cross_val_score(model,X[predictors], y,scoring=RMSE, cv=CV)\n",
        "    \n",
        "    print(model_name,\"RMSE\",np.sqrt(accuracies),\"\\n\")\n",
        "    print(\"average RMSE :\", np.sqrt(accuracies).mean(),\"\\n\",\"\\n\")"
      ],
      "execution_count": 0,
      "outputs": []
    },
    {
      "cell_type": "markdown",
      "metadata": {
        "id": "nqF2HgC1XkvP",
        "colab_type": "text"
      },
      "source": [
        "### Predictor Set 2"
      ]
    },
    {
      "cell_type": "code",
      "metadata": {
        "id": "CFyGyEBE2y9f",
        "colab_type": "code",
        "colab": {}
      },
      "source": [
        "predictors=['O3','PM10','PM25','NO2_log','T2M']"
      ],
      "execution_count": 0,
      "outputs": []
    },
    {
      "cell_type": "markdown",
      "metadata": {
        "colab_type": "text",
        "id": "piB_Bzl9Xseh"
      },
      "source": [
        "#### Regularized Linear Regression without CV"
      ]
    },
    {
      "cell_type": "markdown",
      "metadata": {
        "colab_type": "text",
        "id": "KDfpe7awXsek"
      },
      "source": [
        "##### Ridge Regression"
      ]
    },
    {
      "cell_type": "code",
      "metadata": {
        "colab_type": "code",
        "id": "Ei14opnYXsek",
        "colab": {}
      },
      "source": [
        "ridge(X_train[predictors],y_train,X_test[predictors],y_test)"
      ],
      "execution_count": 0,
      "outputs": []
    },
    {
      "cell_type": "markdown",
      "metadata": {
        "colab_type": "text",
        "id": "bifPaDyLXsen"
      },
      "source": [
        "##### Lasso Regression"
      ]
    },
    {
      "cell_type": "code",
      "metadata": {
        "colab_type": "code",
        "id": "mZYt4MBOXseo",
        "colab": {}
      },
      "source": [
        "lasso(X_train[predictors],y_train,X_test[predictors],y_test)"
      ],
      "execution_count": 0,
      "outputs": []
    },
    {
      "cell_type": "code",
      "metadata": {
        "id": "LPQUkB4N2y9j",
        "colab_type": "code",
        "colab": {}
      },
      "source": [
        "models = [\n",
        "    LinearRegression(),\n",
        "    linear_model.Lasso(alpha=0.002),\n",
        "    Ridge(alpha=25),\n",
        "    RandomForestRegressor(max_depth=2, random_state=0),\n",
        "]\n",
        "CV = 5\n",
        "for model in models:\n",
        "    model_name = model.__class__.__name__\n",
        "    \n",
        "    accuracies = cross_val_score(model,X[predictors], y,scoring=RMSE, cv=CV)\n",
        "    \n",
        "    print(model_name,\"RMSE\",np.sqrt(accuracies),\"\\n\")\n",
        "    print(\"average RMSE :\", np.sqrt(accuracies).mean(),\"\\n\",\"\\n\")"
      ],
      "execution_count": 0,
      "outputs": []
    },
    {
      "cell_type": "markdown",
      "metadata": {
        "id": "Arh8HBLZ2y9m",
        "colab_type": "raw"
      },
      "source": [
        "-LinearRegression      0.2453372337810475 \n",
        "-Lasso                 0.25363080541258476  \n",
        "-Ridge                 0.24533682390299894 \n",
        "-RandomForestRegressor 0.253308657930002   "
      ]
    },
    {
      "cell_type": "markdown",
      "metadata": {
        "id": "A_MRKrma2y9n",
        "colab_type": "raw"
      },
      "source": [
        "-LB socre\n",
        "-LinearRegression  0.   \n",
        "-Lasso             0. \n",
        "-Ridge             0. \n",
        "-RandomForestRegressor 0. "
      ]
    },
    {
      "cell_type": "markdown",
      "metadata": {
        "id": "gdDRjcSOX8hb",
        "colab_type": "text"
      },
      "source": [
        "### Predictor Set 3"
      ]
    },
    {
      "cell_type": "code",
      "metadata": {
        "id": "pbN7ItL_2y9o",
        "colab_type": "code",
        "colab": {}
      },
      "source": [
        "predictors=['O3','PM10','PM25_log','NO2_log','T2M']"
      ],
      "execution_count": 0,
      "outputs": []
    },
    {
      "cell_type": "markdown",
      "metadata": {
        "colab_type": "text",
        "id": "cBzHK91IX_7M"
      },
      "source": [
        "#### Regularized Linear Regression without CV"
      ]
    },
    {
      "cell_type": "markdown",
      "metadata": {
        "colab_type": "text",
        "id": "Ip94vWWuX_7N"
      },
      "source": [
        "##### Ridge Regression"
      ]
    },
    {
      "cell_type": "code",
      "metadata": {
        "colab_type": "code",
        "id": "Ws2jeZhpX_7O",
        "colab": {}
      },
      "source": [
        "ridge(X_train[predictors],y_train,X_test[predictors],y_test)"
      ],
      "execution_count": 0,
      "outputs": []
    },
    {
      "cell_type": "markdown",
      "metadata": {
        "colab_type": "text",
        "id": "tkqtnEfnX_7Q"
      },
      "source": [
        "##### Lasso Regression"
      ]
    },
    {
      "cell_type": "code",
      "metadata": {
        "colab_type": "code",
        "id": "D_GdFJGZX_7Q",
        "colab": {}
      },
      "source": [
        "lasso(X_train[predictors],y_train,X_test[predictors],y_test)"
      ],
      "execution_count": 0,
      "outputs": []
    },
    {
      "cell_type": "code",
      "metadata": {
        "id": "IGaYEm5o2y9q",
        "colab_type": "code",
        "colab": {}
      },
      "source": [
        "models = [\n",
        "    LinearRegression(),\n",
        "    Lasso(alpha=0.0014),\n",
        "    Ridge(alpha=49),\n",
        "    RandomForestRegressor(max_depth=2)\n",
        "]\n",
        "CV = 5\n",
        "for model in models:\n",
        "    model_name = model.__class__.__name__\n",
        "    \n",
        "    accuracies = cross_val_score(model,X[predictors], y,scoring=RMSE, cv=CV)\n",
        "    \n",
        "    print(model_name,\"RMSE\",np.sqrt(accuracies),\"\\n\")\n",
        "    print(\"average RMSE :\", np.sqrt(accuracies).mean(),\"\\n\",\"\\n\")"
      ],
      "execution_count": 0,
      "outputs": []
    },
    {
      "cell_type": "markdown",
      "metadata": {
        "id": "pRl2Eyl-2y9s",
        "colab_type": "raw"
      },
      "source": [
        "-LinearRegression      0.24551812699677633 \n",
        "-Lasso                 0.25364131894103525  \n",
        "-Ridge                 0.2455161592022304     \n",
        "-RandomForestRegressor 0.253308657930002   "
      ]
    },
    {
      "cell_type": "markdown",
      "metadata": {
        "id": "IDpiQ3CW2y9u",
        "colab_type": "raw"
      },
      "source": [
        "-LB socre\n",
        "-LinearRegression  0. \n",
        "-Lasso             0.  \n",
        "-Ridge             0.  \n",
        "-RandomForestRegressor 0. "
      ]
    },
    {
      "cell_type": "markdown",
      "metadata": {
        "id": "83IsOxvSYNST",
        "colab_type": "text"
      },
      "source": [
        "### Predictor Set 4"
      ]
    },
    {
      "cell_type": "code",
      "metadata": {
        "id": "yQFKpb3t2y9v",
        "colab_type": "code",
        "colab": {}
      },
      "source": [
        "predictors=['O3','PM10_log','PM25_log','NO2_log','T2M']"
      ],
      "execution_count": 0,
      "outputs": []
    },
    {
      "cell_type": "markdown",
      "metadata": {
        "colab_type": "text",
        "id": "06MA8IrqYQLS"
      },
      "source": [
        "#### Regularized Linear Regression without CV"
      ]
    },
    {
      "cell_type": "markdown",
      "metadata": {
        "colab_type": "text",
        "id": "9VshazI_YQLT"
      },
      "source": [
        "##### Ridge Regression"
      ]
    },
    {
      "cell_type": "code",
      "metadata": {
        "colab_type": "code",
        "id": "Xnlqe1MeYQLU",
        "colab": {}
      },
      "source": [
        "ridge(X_train[predictors],y_train,X_test[predictors],y_test)"
      ],
      "execution_count": 0,
      "outputs": []
    },
    {
      "cell_type": "markdown",
      "metadata": {
        "colab_type": "text",
        "id": "n3JgwkD0YQLW"
      },
      "source": [
        "##### Lasso Regression"
      ]
    },
    {
      "cell_type": "code",
      "metadata": {
        "colab_type": "code",
        "id": "X_jDOk-JYQLW",
        "colab": {}
      },
      "source": [
        "lasso(X_train[predictors],y_train,X_test[predictors],y_test)"
      ],
      "execution_count": 0,
      "outputs": []
    },
    {
      "cell_type": "code",
      "metadata": {
        "id": "BP-fHDoq2y9y",
        "colab_type": "code",
        "colab": {}
      },
      "source": [
        "models = [\n",
        "    LinearRegression(),\n",
        "    Lasso(alpha=0.0006),\n",
        "    Ridge(alpha=49),\n",
        "    RandomForestRegressor(max_depth=2, random_state=0),\n",
        "]\n",
        "CV = 5\n",
        "for model in models:\n",
        "    model_name = model.__class__.__name__\n",
        "    \n",
        "    accuracies = cross_val_score(model,X[predictors], y,scoring=RMSE, cv=CV)\n",
        "    \n",
        "    print(model_name,\"RMSE\",np.sqrt(accuracies),\"\\n\")\n",
        "    print(\"average RMSE :\", np.sqrt(accuracies).mean(),\"\\n\",\"\\n\")"
      ],
      "execution_count": 0,
      "outputs": []
    },
    {
      "cell_type": "markdown",
      "metadata": {
        "id": "I5z1Ay5w2y91",
        "colab_type": "raw"
      },
      "source": [
        "-LinearRegression      0.24552977824727984 \n",
        "-Lasso                 0.2536717498662236   \n",
        "-Ridge                 0.2455272255973945      \n",
        "-RandomForestRegressor 0.253308657930002   "
      ]
    },
    {
      "cell_type": "markdown",
      "metadata": {
        "id": "zETcPcrx2y94",
        "colab_type": "raw"
      },
      "source": [
        "-LB socre\n",
        "-LinearRegression  0. \n",
        "-Lasso             0. \n",
        "-Ridge              0.  \n",
        "-RandomForestRegressor 0. "
      ]
    },
    {
      "cell_type": "markdown",
      "metadata": {
        "id": "AG_VvrNKYb2n",
        "colab_type": "text"
      },
      "source": [
        "### Predictor Set 5"
      ]
    },
    {
      "cell_type": "code",
      "metadata": {
        "id": "981op_1V2y95",
        "colab_type": "code",
        "colab": {}
      },
      "source": [
        "predictors=['O3','PM10_log','PM25_log','NO2_log','T2M_rolling']"
      ],
      "execution_count": 0,
      "outputs": []
    },
    {
      "cell_type": "markdown",
      "metadata": {
        "colab_type": "text",
        "id": "jJ__u7QEYfQb"
      },
      "source": [
        "#### Regularized Linear Regression without CV"
      ]
    },
    {
      "cell_type": "markdown",
      "metadata": {
        "colab_type": "text",
        "id": "AL17L1eyYfQc"
      },
      "source": [
        "##### Ridge Regression"
      ]
    },
    {
      "cell_type": "code",
      "metadata": {
        "colab_type": "code",
        "id": "7ol50_4fYfQc",
        "colab": {}
      },
      "source": [
        "ridge(X_train[predictors],y_train,X_test[predictors],y_test)"
      ],
      "execution_count": 0,
      "outputs": []
    },
    {
      "cell_type": "markdown",
      "metadata": {
        "colab_type": "text",
        "id": "L7Z9FYmKYfQf"
      },
      "source": [
        "##### Lasso Regression"
      ]
    },
    {
      "cell_type": "code",
      "metadata": {
        "colab_type": "code",
        "id": "KiIkQ1yQYfQg",
        "colab": {}
      },
      "source": [
        "lasso(X_train[predictors],y_train,X_test[predictors],y_test)"
      ],
      "execution_count": 0,
      "outputs": []
    },
    {
      "cell_type": "code",
      "metadata": {
        "id": "NBd-9Pju2y9-",
        "colab_type": "code",
        "colab": {}
      },
      "source": [
        "models = [\n",
        "    LinearRegression(),\n",
        "    Lasso(alpha=0.0014),\n",
        "    Ridge(alpha=49),\n",
        "    RandomForestRegressor(max_depth=2, random_state=0),\n",
        "]\n",
        "CV = 5\n",
        "for model in models:\n",
        "    model_name = model.__class__.__name__\n",
        "    \n",
        "    accuracies = cross_val_score(model,X[predictors], y,scoring=RMSE, cv=CV)\n",
        "    \n",
        "    print(model_name,\"RMSE\",np.sqrt(accuracies),\"\\n\")\n",
        "    print(\"average RMSE :\", np.sqrt(accuracies).mean(),\"\\n\",\"\\n\")"
      ],
      "execution_count": 0,
      "outputs": []
    },
    {
      "cell_type": "markdown",
      "metadata": {
        "id": "niupYomd2y-F",
        "colab_type": "raw"
      },
      "source": [
        "-LinearRegression      0.22796036576314532 \n",
        "-Lasso                 0.24235147415525443   \n",
        "-Ridge                 0.2279576652270535  \n",
        "-RandomForestRegressor 0.2460673252607887 "
      ]
    },
    {
      "cell_type": "markdown",
      "metadata": {
        "id": "r3aL_gw62y-G",
        "colab_type": "raw"
      },
      "source": [
        "-LB score\n",
        "-LinearRegression  0.  \n",
        "-Lasso             0.\n",
        "-Ridge              0.  \n",
        "-RandomForestRegressor 0. "
      ]
    },
    {
      "cell_type": "markdown",
      "metadata": {
        "id": "fPDFyI4RYrWG",
        "colab_type": "text"
      },
      "source": [
        "### Predictor Set 6"
      ]
    },
    {
      "cell_type": "code",
      "metadata": {
        "id": "RE6L8xO92y-N",
        "colab_type": "code",
        "colab": {}
      },
      "source": [
        "predictors=['O3','PM10_log','PM25_log','NO2_log','T2M_rolling','year','year^2','doy','doy^2']"
      ],
      "execution_count": 0,
      "outputs": []
    },
    {
      "cell_type": "markdown",
      "metadata": {
        "colab_type": "text",
        "id": "TgCYtZArYvN1"
      },
      "source": [
        "#### Regularized Linear Regression without CV"
      ]
    },
    {
      "cell_type": "markdown",
      "metadata": {
        "colab_type": "text",
        "id": "_ZVcMI5KYvN2"
      },
      "source": [
        "##### Ridge Regression"
      ]
    },
    {
      "cell_type": "code",
      "metadata": {
        "colab_type": "code",
        "id": "bbe23-kVYvN2",
        "colab": {}
      },
      "source": [
        "ridge(X_train[predictors],y_train,X_test[predictors],y_test)"
      ],
      "execution_count": 0,
      "outputs": []
    },
    {
      "cell_type": "markdown",
      "metadata": {
        "colab_type": "text",
        "id": "2XjVOgFMYvN6"
      },
      "source": [
        "##### Lasso Regression"
      ]
    },
    {
      "cell_type": "code",
      "metadata": {
        "colab_type": "code",
        "id": "lYPvEsIWYvN6",
        "colab": {}
      },
      "source": [
        "lasso(X_train[predictors],y_train,X_test[predictors],y_test)"
      ],
      "execution_count": 0,
      "outputs": []
    },
    {
      "cell_type": "code",
      "metadata": {
        "id": "640TaoMO2y-T",
        "colab_type": "code",
        "colab": {}
      },
      "source": [
        "models = [\n",
        "    LinearRegression(),\n",
        "    Lasso(alpha=0.008),\n",
        "    Ridge(alpha=1.0),\n",
        "    RandomForestRegressor(max_depth=2),\n",
        "]\n",
        "CV = 5\n",
        "for model in models:\n",
        "    model_name = model.__class__.__name__\n",
        "    \n",
        "    accuracies = cross_val_score(model,X[predictors], y,scoring=RMSE, cv=CV)\n",
        "    \n",
        "    print(model_name,\"RMSE\",np.sqrt(accuracies),\"\\n\")\n",
        "    print(\"average RMSE :\", np.sqrt(accuracies).mean(),\"\\n\",\"\\n\")"
      ],
      "execution_count": 0,
      "outputs": []
    },
    {
      "cell_type": "markdown",
      "metadata": {
        "id": "azN58iIY2y-e",
        "colab_type": "raw"
      },
      "source": [
        "-LinearRegression      0.25691874212490495  \n",
        "-Lasso                 0.24943533679256355  \n",
        "-Ridge                 0.23111601199135615     \n",
        "-RandomForestRegressor 0.2435420386323374  "
      ]
    },
    {
      "cell_type": "markdown",
      "metadata": {
        "id": "FMsjG9Ay2y-e",
        "colab_type": "raw"
      },
      "source": [
        "-LB score\n",
        "-LinearRegression  0.  \n",
        "-Lasso             0.\n",
        "-Ridge              0.  \n",
        "-RandomForestRegressor 0. "
      ]
    },
    {
      "cell_type": "markdown",
      "metadata": {
        "id": "xITwsiKFY_yI",
        "colab_type": "text"
      },
      "source": [
        "### Predictor Set 7"
      ]
    },
    {
      "cell_type": "code",
      "metadata": {
        "id": "WPG4aZBv2y-g",
        "colab_type": "code",
        "colab": {}
      },
      "source": [
        "predictors=['T2M_rolling', 'year', 'year^2', 'doy', 'doy^2','E12000001', 'E12000002', 'E12000003', 'E12000004','E12000005', 'E12000006', 'E12000007', 'E12000008']"
      ],
      "execution_count": 0,
      "outputs": []
    },
    {
      "cell_type": "markdown",
      "metadata": {
        "colab_type": "text",
        "id": "wIQnKCOtZDK4"
      },
      "source": [
        "#### Regularized Linear Regression without CV"
      ]
    },
    {
      "cell_type": "markdown",
      "metadata": {
        "colab_type": "text",
        "id": "zTQQ8HS0ZDK5"
      },
      "source": [
        "##### Ridge Regression"
      ]
    },
    {
      "cell_type": "code",
      "metadata": {
        "colab_type": "code",
        "id": "NJANTWcdZDK5",
        "colab": {}
      },
      "source": [
        "ridge(X_train[predictors],y_train,X_test[predictors],y_test)"
      ],
      "execution_count": 0,
      "outputs": []
    },
    {
      "cell_type": "markdown",
      "metadata": {
        "colab_type": "text",
        "id": "6hTitSXGZDK7"
      },
      "source": [
        "##### Lasso Regression"
      ]
    },
    {
      "cell_type": "code",
      "metadata": {
        "colab_type": "code",
        "id": "WTD4epydZDK8",
        "colab": {}
      },
      "source": [
        "lasso(X_train[predictors],y_train,X_test[predictors],y_test)"
      ],
      "execution_count": 0,
      "outputs": []
    },
    {
      "cell_type": "code",
      "metadata": {
        "id": "FABpuu2c2y-o",
        "colab_type": "code",
        "colab": {}
      },
      "source": [
        "models = [\n",
        "    LinearRegression(),\n",
        "    Lasso(alpha=0.006),\n",
        "    Ridge(alpha=1.0),\n",
        "    RandomForestRegressor(max_depth=2, random_state=0),\n",
        "]\n",
        "CV = 5\n",
        "for model in models:\n",
        "    model_name = model.__class__.__name__\n",
        "    \n",
        "    accuracies = cross_val_score(model,X[predictors], y,scoring=RMSE, cv=CV)\n",
        "    \n",
        "    print(model_name,\"RMSE\",np.sqrt(accuracies),\"\\n\")\n",
        "    print(\"average RMSE :\", np.sqrt(accuracies).mean(),\"\\n\",\"\\n\")"
      ],
      "execution_count": 0,
      "outputs": []
    },
    {
      "cell_type": "markdown",
      "metadata": {
        "id": "K9hCJrFRZUCX",
        "colab_type": "text"
      },
      "source": [
        "### Best Predictors"
      ]
    },
    {
      "cell_type": "code",
      "metadata": {
        "id": "L16bV2TX2y-y",
        "colab_type": "code",
        "colab": {}
      },
      "source": [
        "predictors1=['NO2_log', 'year', 'year^2', 'doy', 'doy^2','PM10_log']\n",
        "predictors2=['T2M_rolling', 'year', 'year^2', 'doy', 'doy^2','E12000001', 'E12000002', 'E12000003', 'E12000004','E12000005', 'E12000006', 'E12000007', 'E12000008']\n",
        "predictors3=['E12000001', 'E12000002', 'E12000003', 'E12000004','E12000005', 'E12000006', 'E12000007', 'E12000008']"
      ],
      "execution_count": 0,
      "outputs": []
    },
    {
      "cell_type": "code",
      "metadata": {
        "id": "cNy43ay32y-2",
        "colab_type": "code",
        "colab": {}
      },
      "source": [
        "pred = [\n",
        "    predictors1,\n",
        "    predictors2,\n",
        "    predictors3,\n",
        "]\n",
        "for preds in pred:\n",
        "    #model_name = model.__class__.__name__\n",
        "    \n",
        "    accuracies = cross_val_score(LinearRegression(),X[preds], y,scoring=RMSE, cv=CV)\n",
        "    \n",
        "    print(model_name,\"RMSE\",np.sqrt(accuracies),\"\\n\")\n",
        "    print(\"average RMSE :\", np.sqrt(accuracies).mean(),\"\\n\",\"\\n\")"
      ],
      "execution_count": 0,
      "outputs": []
    },
    {
      "cell_type": "markdown",
      "metadata": {
        "id": "ZlIiFplZ2y-8",
        "colab_type": "text"
      },
      "source": [
        "### Final Algo - mixed LR"
      ]
    },
    {
      "cell_type": "markdown",
      "metadata": {
        "id": "3Wvbu4sX2y-9",
        "colab_type": "raw"
      },
      "source": [
        "\n",
        "Notation:\n",
        "X0 - training predictors\n",
        "y0 - training target\n",
        "X1 - test predictors\n",
        "y1 - predictions\n"
      ]
    },
    {
      "cell_type": "code",
      "metadata": {
        "id": "621ll5X22y-9",
        "colab_type": "code",
        "colab": {}
      },
      "source": [
        "a = LinearRegression()\n",
        "b = LinearRegression()\n",
        "c = LinearRegression()\n",
        "ab = LinearRegression()"
      ],
      "execution_count": 0,
      "outputs": []
    },
    {
      "cell_type": "code",
      "metadata": {
        "id": "-ic2BNwa2y_C",
        "colab_type": "code",
        "colab": {}
      },
      "source": [
        "\n",
        "y0 = train_f['mortality_rate']\n",
        "\n",
        "\n",
        "\n",
        "#modela\n",
        "a_predictors = ['NO2_log', 'year', 'year^2', 'doy', 'doy^2','PM10_log']\n",
        "a_X0 = train_f[a_predictors]\n",
        "a.fit(a_X0, y0)\n",
        "\n",
        "\n",
        "\n",
        "#modelb\n",
        "b_predictors = [\n",
        "        'T2M_rolling', 'year', 'year^2', 'doy', 'doy^2',\n",
        "        'E12000001', 'E12000002', 'E12000003', 'E12000004',\n",
        "        'E12000005', 'E12000006', 'E12000007', 'E12000008'\n",
        "        ]\n",
        "b_X0 = train_f[b_predictors]\n",
        "b.fit(b_X0, y0)\n",
        "\n",
        "\n",
        "\n",
        "#modelc\n",
        "c_predictors = [\n",
        "        'E12000001', 'E12000002', 'E12000003', 'E12000004',\n",
        "        'E12000005', 'E12000006', 'E12000007', 'E12000008'\n",
        "        ]\n",
        "c_X0 = train_f[c_predictors]\n",
        "c.fit(c_X0, y0)\n",
        "\n",
        "\n",
        "region_effect_reduction = 0.85\n",
        "\n",
        "\n",
        "# Model AB\n",
        "# Produces the final solution. Combines A and \"reduced B\" by using their predictions as features for a linear regression.\n",
        "\n",
        "ab_X0 = pd.DataFrame({\n",
        "    'A': a.predict(a_X0),\n",
        "    'reduced B': b.predict(b_X0) - (c.predict(c_X0) * region_effect_reduction)\n",
        "    })\n",
        "\n",
        "ab.fit(ab_X0, y0)\n",
        "\n",
        "# predict\n",
        "\n",
        "a_X1 = test_f[a_predictors]\n",
        "b_X1 = test_f[b_predictors]\n",
        "c_X1 = test_f[c_predictors]\n",
        "\n",
        "ab_X1 = pd.DataFrame({'A': a.predict(a_X1),'reduced B': b.predict(b_X1) - (c.predict(c_X1) * region_effect_reduction)})\n",
        "\n",
        "ab_y1 = ab.predict(ab_X1)\n",
        "\n",
        "\n",
        "\n",
        "predictions = pd.DataFrame(index=test_f.index)\n",
        "#predictions['mortality_rate'] =  a.predict(a_X1)\n",
        "predictions['mortality_rate'] = ab_y1\n",
        "predictions.to_csv('final_0.0.csv')\n"
      ],
      "execution_count": 0,
      "outputs": []
    },
    {
      "cell_type": "markdown",
      "metadata": {
        "id": "zB9AjM7G2y_G",
        "colab_type": "text"
      },
      "source": [
        "# Results\n",
        "best LB socre for -(region_effect_reduction = 0.85)<br>\n",
        "private score - 0.28948<br>\n",
        "public score - 0.28784<br>\n",
        "\n",
        "\n",
        "benchmark -<br>\n",
        "private score - 0.29022<br>\n",
        "public socre - 0.29259<br>"
      ]
    },
    {
      "cell_type": "code",
      "metadata": {
        "id": "ouj-DckX2y_H",
        "colab_type": "code",
        "colab": {}
      },
      "source": [
        ""
      ],
      "execution_count": 0,
      "outputs": []
    },
    {
      "cell_type": "markdown",
      "metadata": {
        "colab_type": "text",
        "id": "5uEtQ5HKa3h4"
      },
      "source": [
        "# MICE Imputation on Full Data"
      ]
    },
    {
      "cell_type": "markdown",
      "metadata": {
        "colab_type": "text",
        "id": "oSVksSmha3h6"
      },
      "source": [
        "## Feature Engineering"
      ]
    },
    {
      "cell_type": "code",
      "metadata": {
        "id": "HfpvwFBCa-UX",
        "colab_type": "code",
        "colab": {}
      },
      "source": [
        "train_full_imp.head()"
      ],
      "execution_count": 0,
      "outputs": []
    },
    {
      "cell_type": "code",
      "metadata": {
        "id": "yLRtpBCKbR4U",
        "colab_type": "code",
        "colab": {}
      },
      "source": [
        "test1.head()"
      ],
      "execution_count": 0,
      "outputs": []
    },
    {
      "cell_type": "markdown",
      "metadata": {
        "colab_type": "text",
        "id": "mZZcD182a3h7"
      },
      "source": [
        "one hot encoding for regions"
      ]
    },
    {
      "cell_type": "code",
      "metadata": {
        "colab_type": "code",
        "id": "BZeWu5dQa3h7",
        "colab": {}
      },
      "source": [
        "dummy1= pd.get_dummies(train_full_imp['region'])\n",
        "train_f = train_full_imp.join(dummy1)\n",
        "train_f.drop(columns='Region',inplace=True)\n",
        "\n",
        "dummy2= pd.get_dummies(test['region'])\n",
        "test_f = test.join(dummy2)"
      ],
      "execution_count": 0,
      "outputs": []
    },
    {
      "cell_type": "code",
      "metadata": {
        "colab_type": "code",
        "id": "jkIbUuLha3iB",
        "colab": {}
      },
      "source": [
        "train_f.shape,test_f.shape"
      ],
      "execution_count": 0,
      "outputs": []
    },
    {
      "cell_type": "markdown",
      "metadata": {
        "colab_type": "text",
        "id": "ioxTbcI9a3iF"
      },
      "source": [
        "doy (day of year) and year"
      ]
    },
    {
      "cell_type": "code",
      "metadata": {
        "colab_type": "code",
        "id": "GDZIbq6Sa3iG",
        "colab": {}
      },
      "source": [
        "train_f['year'] = train_f['date'].map(lambda x: x.year)\n",
        "test_f['year'] = test_f['date'].map(lambda x: x.year)\n",
        "\n",
        "train_f['year^2'] = train_f['year']**2\n",
        "test_f['year^2'] = test_f['year']**2\n",
        "\n",
        "train_f['doy'] = train_f['date'].map(lambda x: x.dayofyear)\n",
        "test_f['doy'] = test_f['date'].map(lambda x: x.dayofyear)\n",
        "\n",
        "train_f['doy^2'] = train_f['doy']**2\n",
        "test_f['doy^2'] = test_f['doy']**2"
      ],
      "execution_count": 0,
      "outputs": []
    },
    {
      "cell_type": "code",
      "metadata": {
        "id": "MXcxOD6ue2FR",
        "colab_type": "code",
        "colab": {}
      },
      "source": [
        "def f(x):\n",
        "  if (x<=0):\n",
        "    return(np.nan)\n",
        "  else:\n",
        "    return(x)"
      ],
      "execution_count": 0,
      "outputs": []
    },
    {
      "cell_type": "code",
      "metadata": {
        "id": "-OLNIuZndMXH",
        "colab_type": "code",
        "colab": {}
      },
      "source": [
        "train_f['NO2']=train_f['NO2'].apply(lambda x: f(x))"
      ],
      "execution_count": 0,
      "outputs": []
    },
    {
      "cell_type": "code",
      "metadata": {
        "id": "js5fQZhJfXHr",
        "colab_type": "code",
        "colab": {}
      },
      "source": [
        "train_f['PM25']=train_f['PM25'].apply(lambda x: f(x))"
      ],
      "execution_count": 0,
      "outputs": []
    },
    {
      "cell_type": "code",
      "metadata": {
        "id": "cD5iRdUpeKJP",
        "colab_type": "code",
        "colab": {}
      },
      "source": [
        "train_f.isna().sum()"
      ],
      "execution_count": 0,
      "outputs": []
    },
    {
      "cell_type": "code",
      "metadata": {
        "id": "cr4yRknkclaP",
        "colab_type": "code",
        "colab": {}
      },
      "source": [
        "train_f.ffill(axis=0, inplace=True)"
      ],
      "execution_count": 0,
      "outputs": []
    },
    {
      "cell_type": "markdown",
      "metadata": {
        "colab_type": "text",
        "id": "RhSbJgQEa3iI"
      },
      "source": [
        "Log Transformation"
      ]
    },
    {
      "cell_type": "code",
      "metadata": {
        "colab_type": "code",
        "id": "BZvNVCUMa3iJ",
        "colab": {}
      },
      "source": [
        "train_f['NO2_log']=np.log(train_f['NO2'])\n",
        "train_f['PM10_log']=np.log(train_f['PM10'])\n",
        "train_f['PM25_log']=np.log(train_f['PM25'])\n",
        "\n",
        "test_f['NO2_log']=np.log(test_f['NO2'])\n",
        "test_f['PM10_log']=np.log(test_f['PM10'])\n",
        "test_f['PM25_log']=np.log(test_f['PM25'])"
      ],
      "execution_count": 0,
      "outputs": []
    },
    {
      "cell_type": "code",
      "metadata": {
        "colab_type": "code",
        "id": "qWwg4dnla3iL",
        "colab": {}
      },
      "source": [
        "#train_f.info(),test_f.info()"
      ],
      "execution_count": 0,
      "outputs": []
    },
    {
      "cell_type": "code",
      "metadata": {
        "colab_type": "code",
        "id": "RPEPet1-a3iO",
        "colab": {}
      },
      "source": [
        "total_f=total=pd.concat([train_f,test_f],sort=False)"
      ],
      "execution_count": 0,
      "outputs": []
    },
    {
      "cell_type": "code",
      "metadata": {
        "colab_type": "code",
        "id": "UM-2EAoKa3iP",
        "colab": {}
      },
      "source": [
        "total_f['T2M_rolling'] = total_f.groupby('region')['T2M'].transform(lambda x: x.rolling(30).mean())"
      ],
      "execution_count": 0,
      "outputs": []
    },
    {
      "cell_type": "code",
      "metadata": {
        "colab_type": "code",
        "id": "cIjJafARa3iR",
        "colab": {}
      },
      "source": [
        "total_f.shape"
      ],
      "execution_count": 0,
      "outputs": []
    },
    {
      "cell_type": "code",
      "metadata": {
        "id": "29fSaYVYbl7j",
        "colab_type": "code",
        "colab": {}
      },
      "source": [
        "total_f.isna().sum()"
      ],
      "execution_count": 0,
      "outputs": []
    },
    {
      "cell_type": "markdown",
      "metadata": {
        "colab_type": "text",
        "id": "RIhwUBZra3ib"
      },
      "source": [
        "## Modelling"
      ]
    },
    {
      "cell_type": "code",
      "metadata": {
        "colab_type": "code",
        "id": "T6Mgru-oa3ib",
        "colab": {}
      },
      "source": [
        "train_f=total_f[:18403].dropna()\n",
        "test_f=total_f[18403:].drop(['mortality_rate'],axis=1)"
      ],
      "execution_count": 0,
      "outputs": []
    },
    {
      "cell_type": "code",
      "metadata": {
        "colab_type": "code",
        "id": "8TK6RKWBa3ie",
        "colab": {}
      },
      "source": [
        "train_f.shape,test_f.shape"
      ],
      "execution_count": 0,
      "outputs": []
    },
    {
      "cell_type": "code",
      "metadata": {
        "colab_type": "code",
        "id": "xkNTCAoGa3ig",
        "colab": {}
      },
      "source": [
        "X_train, X_test, y_train, y_test = train_test_split(train_f.drop(['mortality_rate'],axis=1), train_f['mortality_rate'], test_size=0.2)"
      ],
      "execution_count": 0,
      "outputs": []
    },
    {
      "cell_type": "code",
      "metadata": {
        "colab_type": "code",
        "id": "AEWmqiIha3ik",
        "colab": {}
      },
      "source": [
        "RMSE= make_scorer(metrics.mean_squared_error)"
      ],
      "execution_count": 0,
      "outputs": []
    },
    {
      "cell_type": "code",
      "metadata": {
        "colab_type": "code",
        "id": "CiaYz2APa3im",
        "colab": {}
      },
      "source": [
        "X=train_f.drop(['mortality_rate'],axis=1)\n",
        "y=train_f['mortality_rate']"
      ],
      "execution_count": 0,
      "outputs": []
    },
    {
      "cell_type": "markdown",
      "metadata": {
        "colab_type": "text",
        "id": "SlkG_vmza3io"
      },
      "source": [
        "### Predictor Set 1"
      ]
    },
    {
      "cell_type": "code",
      "metadata": {
        "colab_type": "code",
        "id": "HVDfwQe-a3io",
        "colab": {}
      },
      "source": [
        "predictors=['O3','PM10','PM25','NO2','T2M']"
      ],
      "execution_count": 0,
      "outputs": []
    },
    {
      "cell_type": "markdown",
      "metadata": {
        "colab_type": "text",
        "id": "25jKhXloa3ir"
      },
      "source": [
        "#### Regularized Linear Regression without CV"
      ]
    },
    {
      "cell_type": "markdown",
      "metadata": {
        "colab_type": "text",
        "id": "SicugcEAa3ir"
      },
      "source": [
        "##### Ridge Regression"
      ]
    },
    {
      "cell_type": "code",
      "metadata": {
        "colab_type": "code",
        "id": "kpmJJJYFa3is",
        "colab": {}
      },
      "source": [
        "ridge(X_train[predictors],y_train,X_test[predictors],y_test)"
      ],
      "execution_count": 0,
      "outputs": []
    },
    {
      "cell_type": "markdown",
      "metadata": {
        "colab_type": "text",
        "id": "WD_9bauSa3iu"
      },
      "source": [
        "##### Lasso Regression"
      ]
    },
    {
      "cell_type": "code",
      "metadata": {
        "colab_type": "code",
        "id": "hYey_Gt8a3iu",
        "colab": {}
      },
      "source": [
        "lasso(X_train[predictors],y_train,X_test[predictors],y_test)"
      ],
      "execution_count": 0,
      "outputs": []
    },
    {
      "cell_type": "markdown",
      "metadata": {
        "colab_type": "text",
        "id": "e90s9RNPa3ix"
      },
      "source": [
        "#### CV Model"
      ]
    },
    {
      "cell_type": "code",
      "metadata": {
        "colab_type": "code",
        "id": "eYYo-9dWa3iy",
        "colab": {}
      },
      "source": [
        "models = [\n",
        "    LinearRegression(),\n",
        "    linear_model.Lasso(alpha=0.002),\n",
        "    Ridge(alpha=49),\n",
        "    RandomForestRegressor(max_depth=2),\n",
        "]\n",
        "CV = 5\n",
        "for model in models:\n",
        "    model_name = model.__class__.__name__\n",
        "    \n",
        "    accuracies = cross_val_score(model,X[predictors], y,scoring=RMSE, cv=CV)\n",
        "    \n",
        "    print(model_name,\"RMSE\",np.sqrt(accuracies),\"\\n\")\n",
        "    print(\"average RMSE :\", np.sqrt(accuracies).mean(),\"\\n\",\"\\n\")"
      ],
      "execution_count": 0,
      "outputs": []
    },
    {
      "cell_type": "markdown",
      "metadata": {
        "colab_type": "text",
        "id": "gOBNChKRa3i1"
      },
      "source": [
        "### Predictor Set 2"
      ]
    },
    {
      "cell_type": "code",
      "metadata": {
        "colab_type": "code",
        "id": "WnMzh950a3i1",
        "colab": {}
      },
      "source": [
        "predictors=['O3','PM10','PM25','NO2_log','T2M']"
      ],
      "execution_count": 0,
      "outputs": []
    },
    {
      "cell_type": "markdown",
      "metadata": {
        "colab_type": "text",
        "id": "6G0mpJ1Ja3i4"
      },
      "source": [
        "#### Regularized Linear Regression without CV"
      ]
    },
    {
      "cell_type": "markdown",
      "metadata": {
        "colab_type": "text",
        "id": "N2tTGzWoa3i4"
      },
      "source": [
        "##### Ridge Regression"
      ]
    },
    {
      "cell_type": "code",
      "metadata": {
        "colab_type": "code",
        "id": "LE_TpoyZa3i4",
        "colab": {}
      },
      "source": [
        "ridge(X_train[predictors],y_train,X_test[predictors],y_test)"
      ],
      "execution_count": 0,
      "outputs": []
    },
    {
      "cell_type": "markdown",
      "metadata": {
        "colab_type": "text",
        "id": "RDgWw6oqa3i6"
      },
      "source": [
        "##### Lasso Regression"
      ]
    },
    {
      "cell_type": "code",
      "metadata": {
        "colab_type": "code",
        "id": "MIoTXuYXa3i6",
        "colab": {}
      },
      "source": [
        "lasso(X_train[predictors],y_train,X_test[predictors],y_test)"
      ],
      "execution_count": 0,
      "outputs": []
    },
    {
      "cell_type": "code",
      "metadata": {
        "colab_type": "code",
        "id": "a9hk48_Ma3i8",
        "colab": {}
      },
      "source": [
        "models = [\n",
        "    LinearRegression(),\n",
        "    linear_model.Lasso(alpha=0.002),\n",
        "    Ridge(alpha=25),\n",
        "    RandomForestRegressor(max_depth=2, random_state=0),\n",
        "]\n",
        "CV = 5\n",
        "for model in models:\n",
        "    model_name = model.__class__.__name__\n",
        "    \n",
        "    accuracies = cross_val_score(model,X[predictors], y,scoring=RMSE, cv=CV)\n",
        "    \n",
        "    print(model_name,\"RMSE\",np.sqrt(accuracies),\"\\n\")\n",
        "    print(\"average RMSE :\", np.sqrt(accuracies).mean(),\"\\n\",\"\\n\")"
      ],
      "execution_count": 0,
      "outputs": []
    },
    {
      "cell_type": "markdown",
      "metadata": {
        "colab_type": "raw",
        "id": "j0PQEXhXa3i_"
      },
      "source": [
        "-LinearRegression      0.2453372337810475 \n",
        "-Lasso                 0.25363080541258476  \n",
        "-Ridge                 0.24533682390299894 \n",
        "-RandomForestRegressor 0.253308657930002   "
      ]
    },
    {
      "cell_type": "markdown",
      "metadata": {
        "colab_type": "raw",
        "id": "Ob9eQ4Dza3i_"
      },
      "source": [
        "-LB socre\n",
        "-LinearRegression  0.   \n",
        "-Lasso             0. \n",
        "-Ridge             0. \n",
        "-RandomForestRegressor 0. "
      ]
    },
    {
      "cell_type": "markdown",
      "metadata": {
        "colab_type": "text",
        "id": "KvyAoS8Na3jA"
      },
      "source": [
        "### Predictor Set 3"
      ]
    },
    {
      "cell_type": "code",
      "metadata": {
        "colab_type": "code",
        "id": "YO0zUrL8a3jB",
        "colab": {}
      },
      "source": [
        "predictors=['O3','PM10','PM25_log','NO2_log','T2M']"
      ],
      "execution_count": 0,
      "outputs": []
    },
    {
      "cell_type": "markdown",
      "metadata": {
        "colab_type": "text",
        "id": "yfFRCPNba3jC"
      },
      "source": [
        "#### Regularized Linear Regression without CV"
      ]
    },
    {
      "cell_type": "markdown",
      "metadata": {
        "colab_type": "text",
        "id": "-CkTRnWia3jD"
      },
      "source": [
        "##### Ridge Regression"
      ]
    },
    {
      "cell_type": "code",
      "metadata": {
        "colab_type": "code",
        "id": "iK8nRoXua3jD",
        "colab": {}
      },
      "source": [
        "ridge(X_train[predictors],y_train,X_test[predictors],y_test)"
      ],
      "execution_count": 0,
      "outputs": []
    },
    {
      "cell_type": "markdown",
      "metadata": {
        "colab_type": "text",
        "id": "VpvUPqOSa3jG"
      },
      "source": [
        "##### Lasso Regression"
      ]
    },
    {
      "cell_type": "code",
      "metadata": {
        "colab_type": "code",
        "id": "1eB_H3w4a3jG",
        "colab": {}
      },
      "source": [
        "lasso(X_train[predictors],y_train,X_test[predictors],y_test)"
      ],
      "execution_count": 0,
      "outputs": []
    },
    {
      "cell_type": "code",
      "metadata": {
        "colab_type": "code",
        "id": "4RfL-C6ka3jI",
        "colab": {}
      },
      "source": [
        "models = [\n",
        "    LinearRegression(),\n",
        "    Lasso(alpha=0.0014),\n",
        "    Ridge(alpha=49),\n",
        "    RandomForestRegressor(max_depth=2)\n",
        "]\n",
        "CV = 5\n",
        "for model in models:\n",
        "    model_name = model.__class__.__name__\n",
        "    \n",
        "    accuracies = cross_val_score(model,X[predictors], y,scoring=RMSE, cv=CV)\n",
        "    \n",
        "    print(model_name,\"RMSE\",np.sqrt(accuracies),\"\\n\")\n",
        "    print(\"average RMSE :\", np.sqrt(accuracies).mean(),\"\\n\",\"\\n\")"
      ],
      "execution_count": 0,
      "outputs": []
    },
    {
      "cell_type": "markdown",
      "metadata": {
        "colab_type": "raw",
        "id": "ls3FJSMia3jL"
      },
      "source": [
        "-LinearRegression      0.24551812699677633 \n",
        "-Lasso                 0.25364131894103525  \n",
        "-Ridge                 0.2455161592022304     \n",
        "-RandomForestRegressor 0.253308657930002   "
      ]
    },
    {
      "cell_type": "markdown",
      "metadata": {
        "colab_type": "raw",
        "id": "mMvnTbW7a3jL"
      },
      "source": [
        "-LB socre\n",
        "-LinearRegression  0. \n",
        "-Lasso             0.  \n",
        "-Ridge             0.  \n",
        "-RandomForestRegressor 0. "
      ]
    },
    {
      "cell_type": "markdown",
      "metadata": {
        "colab_type": "text",
        "id": "TUkD7W4ua3jM"
      },
      "source": [
        "### Predictor Set 4"
      ]
    },
    {
      "cell_type": "code",
      "metadata": {
        "colab_type": "code",
        "id": "oBN8jPqOa3jM",
        "colab": {}
      },
      "source": [
        "predictors=['O3','PM10_log','PM25_log','NO2_log','T2M']"
      ],
      "execution_count": 0,
      "outputs": []
    },
    {
      "cell_type": "markdown",
      "metadata": {
        "colab_type": "text",
        "id": "AJG2Uu7Wa3jO"
      },
      "source": [
        "#### Regularized Linear Regression without CV"
      ]
    },
    {
      "cell_type": "markdown",
      "metadata": {
        "colab_type": "text",
        "id": "M7JgZlGKa3jO"
      },
      "source": [
        "##### Ridge Regression"
      ]
    },
    {
      "cell_type": "code",
      "metadata": {
        "colab_type": "code",
        "id": "3W5NOKnva3jO",
        "colab": {}
      },
      "source": [
        "ridge(X_train[predictors],y_train,X_test[predictors],y_test)"
      ],
      "execution_count": 0,
      "outputs": []
    },
    {
      "cell_type": "markdown",
      "metadata": {
        "colab_type": "text",
        "id": "nZIBDO0Ha3jT"
      },
      "source": [
        "##### Lasso Regression"
      ]
    },
    {
      "cell_type": "code",
      "metadata": {
        "colab_type": "code",
        "id": "F6jNyRQya3jU",
        "colab": {}
      },
      "source": [
        "lasso(X_train[predictors],y_train,X_test[predictors],y_test)"
      ],
      "execution_count": 0,
      "outputs": []
    },
    {
      "cell_type": "code",
      "metadata": {
        "colab_type": "code",
        "id": "dMVZm8L8a3jW",
        "colab": {}
      },
      "source": [
        "models = [\n",
        "    LinearRegression(),\n",
        "    Lasso(alpha=0.0006),\n",
        "    Ridge(alpha=49),\n",
        "    RandomForestRegressor(max_depth=2, random_state=0),\n",
        "]\n",
        "CV = 5\n",
        "for model in models:\n",
        "    model_name = model.__class__.__name__\n",
        "    \n",
        "    accuracies = cross_val_score(model,X[predictors], y,scoring=RMSE, cv=CV)\n",
        "    \n",
        "    print(model_name,\"RMSE\",np.sqrt(accuracies),\"\\n\")\n",
        "    print(\"average RMSE :\", np.sqrt(accuracies).mean(),\"\\n\",\"\\n\")"
      ],
      "execution_count": 0,
      "outputs": []
    },
    {
      "cell_type": "markdown",
      "metadata": {
        "colab_type": "raw",
        "id": "iprr2AfVa3jY"
      },
      "source": [
        "-LinearRegression      0.24552977824727984 \n",
        "-Lasso                 0.2536717498662236   \n",
        "-Ridge                 0.2455272255973945      \n",
        "-RandomForestRegressor 0.253308657930002   "
      ]
    },
    {
      "cell_type": "markdown",
      "metadata": {
        "colab_type": "raw",
        "id": "T__gJ3Gla3jY"
      },
      "source": [
        "-LB socre\n",
        "-LinearRegression  0. \n",
        "-Lasso             0. \n",
        "-Ridge              0.  \n",
        "-RandomForestRegressor 0. "
      ]
    },
    {
      "cell_type": "markdown",
      "metadata": {
        "colab_type": "text",
        "id": "dYzWmJ_-a3jZ"
      },
      "source": [
        "### Predictor Set 5"
      ]
    },
    {
      "cell_type": "code",
      "metadata": {
        "colab_type": "code",
        "id": "_XXllC5Qa3jZ",
        "colab": {}
      },
      "source": [
        "predictors=['O3','PM10_log','PM25_log','NO2_log','T2M_rolling']"
      ],
      "execution_count": 0,
      "outputs": []
    },
    {
      "cell_type": "markdown",
      "metadata": {
        "colab_type": "text",
        "id": "OE7fklOGa3jb"
      },
      "source": [
        "#### Regularized Linear Regression without CV"
      ]
    },
    {
      "cell_type": "markdown",
      "metadata": {
        "colab_type": "text",
        "id": "RAbWYvVwa3jb"
      },
      "source": [
        "##### Ridge Regression"
      ]
    },
    {
      "cell_type": "code",
      "metadata": {
        "colab_type": "code",
        "id": "k_nCh7lya3jc",
        "colab": {}
      },
      "source": [
        "ridge(X_train[predictors],y_train,X_test[predictors],y_test)"
      ],
      "execution_count": 0,
      "outputs": []
    },
    {
      "cell_type": "markdown",
      "metadata": {
        "colab_type": "text",
        "id": "aA3IIS6Oa3je"
      },
      "source": [
        "##### Lasso Regression"
      ]
    },
    {
      "cell_type": "code",
      "metadata": {
        "colab_type": "code",
        "id": "Z1LfmDBka3je",
        "colab": {}
      },
      "source": [
        "lasso(X_train[predictors],y_train,X_test[predictors],y_test)"
      ],
      "execution_count": 0,
      "outputs": []
    },
    {
      "cell_type": "code",
      "metadata": {
        "colab_type": "code",
        "id": "gZAzTGLBa3jg",
        "colab": {}
      },
      "source": [
        "models = [\n",
        "    LinearRegression(),\n",
        "    Lasso(alpha=0.0014),\n",
        "    Ridge(alpha=49),\n",
        "    RandomForestRegressor(max_depth=2, random_state=0),\n",
        "]\n",
        "CV = 5\n",
        "for model in models:\n",
        "    model_name = model.__class__.__name__\n",
        "    \n",
        "    accuracies = cross_val_score(model,X[predictors], y,scoring=RMSE, cv=CV)\n",
        "    \n",
        "    print(model_name,\"RMSE\",np.sqrt(accuracies),\"\\n\")\n",
        "    print(\"average RMSE :\", np.sqrt(accuracies).mean(),\"\\n\",\"\\n\")"
      ],
      "execution_count": 0,
      "outputs": []
    },
    {
      "cell_type": "markdown",
      "metadata": {
        "colab_type": "raw",
        "id": "XHwNK622a3jh"
      },
      "source": [
        "-LinearRegression      0.22796036576314532 \n",
        "-Lasso                 0.24235147415525443   \n",
        "-Ridge                 0.2279576652270535  \n",
        "-RandomForestRegressor 0.2460673252607887 "
      ]
    },
    {
      "cell_type": "markdown",
      "metadata": {
        "colab_type": "raw",
        "id": "Wte3QlZAa3ji"
      },
      "source": [
        "-LB score\n",
        "-LinearRegression  0.  \n",
        "-Lasso             0.\n",
        "-Ridge              0.  \n",
        "-RandomForestRegressor 0. "
      ]
    },
    {
      "cell_type": "markdown",
      "metadata": {
        "colab_type": "text",
        "id": "eE-qErL1a3ji"
      },
      "source": [
        "### Predictor Set 6"
      ]
    },
    {
      "cell_type": "code",
      "metadata": {
        "colab_type": "code",
        "id": "Yw7hJiaBa3ji",
        "colab": {}
      },
      "source": [
        "predictors=['O3','PM10_log','PM25_log','NO2_log','T2M_rolling','year','year^2','doy','doy^2']"
      ],
      "execution_count": 0,
      "outputs": []
    },
    {
      "cell_type": "markdown",
      "metadata": {
        "colab_type": "text",
        "id": "f1ZG1qz3a3jk"
      },
      "source": [
        "#### Regularized Linear Regression without CV"
      ]
    },
    {
      "cell_type": "markdown",
      "metadata": {
        "colab_type": "text",
        "id": "heoYAPE7a3jk"
      },
      "source": [
        "##### Ridge Regression"
      ]
    },
    {
      "cell_type": "code",
      "metadata": {
        "colab_type": "code",
        "id": "8UNfd1Kua3jk",
        "colab": {}
      },
      "source": [
        "ridge(X_train[predictors],y_train,X_test[predictors],y_test)"
      ],
      "execution_count": 0,
      "outputs": []
    },
    {
      "cell_type": "markdown",
      "metadata": {
        "colab_type": "text",
        "id": "7VGAbNOQa3jt"
      },
      "source": [
        "##### Lasso Regression"
      ]
    },
    {
      "cell_type": "code",
      "metadata": {
        "colab_type": "code",
        "id": "OGXlwc0Pa3jt",
        "colab": {}
      },
      "source": [
        "lasso(X_train[predictors],y_train,X_test[predictors],y_test)"
      ],
      "execution_count": 0,
      "outputs": []
    },
    {
      "cell_type": "code",
      "metadata": {
        "colab_type": "code",
        "id": "pnOEQ4wQa3ju",
        "colab": {}
      },
      "source": [
        "models = [\n",
        "    LinearRegression(),\n",
        "    Lasso(alpha=0.008),\n",
        "    Ridge(alpha=1.0),\n",
        "    RandomForestRegressor(max_depth=2),\n",
        "]\n",
        "CV = 5\n",
        "for model in models:\n",
        "    model_name = model.__class__.__name__\n",
        "    \n",
        "    accuracies = cross_val_score(model,X[predictors], y,scoring=RMSE, cv=CV)\n",
        "    \n",
        "    print(model_name,\"RMSE\",np.sqrt(accuracies),\"\\n\")\n",
        "    print(\"average RMSE :\", np.sqrt(accuracies).mean(),\"\\n\",\"\\n\")"
      ],
      "execution_count": 0,
      "outputs": []
    },
    {
      "cell_type": "markdown",
      "metadata": {
        "colab_type": "raw",
        "id": "6OlYrrO3a3jw"
      },
      "source": [
        "-LinearRegression      0.25691874212490495  \n",
        "-Lasso                 0.24943533679256355  \n",
        "-Ridge                 0.23111601199135615     \n",
        "-RandomForestRegressor 0.2435420386323374  "
      ]
    },
    {
      "cell_type": "markdown",
      "metadata": {
        "colab_type": "raw",
        "id": "EhnYS6Lfa3jw"
      },
      "source": [
        "-LB score\n",
        "-LinearRegression  0.  \n",
        "-Lasso             0.\n",
        "-Ridge              0.  \n",
        "-RandomForestRegressor 0. "
      ]
    },
    {
      "cell_type": "markdown",
      "metadata": {
        "colab_type": "text",
        "id": "SQpbsgfOa3jx"
      },
      "source": [
        "### Predictor Set 7"
      ]
    },
    {
      "cell_type": "code",
      "metadata": {
        "colab_type": "code",
        "id": "uW0G5Pp9a3jx",
        "colab": {}
      },
      "source": [
        "predictors=['T2M_rolling', 'year', 'year^2', 'doy', 'doy^2','E12000001', 'E12000002', 'E12000003', 'E12000004','E12000005', 'E12000006', 'E12000007', 'E12000008']"
      ],
      "execution_count": 0,
      "outputs": []
    },
    {
      "cell_type": "markdown",
      "metadata": {
        "colab_type": "text",
        "id": "Lt5qWBm1a3j9"
      },
      "source": [
        "#### Regularized Linear Regression without CV"
      ]
    },
    {
      "cell_type": "markdown",
      "metadata": {
        "colab_type": "text",
        "id": "xV9IEsdaa3j-"
      },
      "source": [
        "##### Ridge Regression"
      ]
    },
    {
      "cell_type": "code",
      "metadata": {
        "colab_type": "code",
        "id": "lrNHTOdVa3j-",
        "colab": {}
      },
      "source": [
        "ridge(X_train[predictors],y_train,X_test[predictors],y_test)"
      ],
      "execution_count": 0,
      "outputs": []
    },
    {
      "cell_type": "markdown",
      "metadata": {
        "colab_type": "text",
        "id": "wgEXqyKla3kB"
      },
      "source": [
        "##### Lasso Regression"
      ]
    },
    {
      "cell_type": "code",
      "metadata": {
        "colab_type": "code",
        "id": "rPE-txCka3kC",
        "colab": {}
      },
      "source": [
        "lasso(X_train[predictors],y_train,X_test[predictors],y_test)"
      ],
      "execution_count": 0,
      "outputs": []
    },
    {
      "cell_type": "code",
      "metadata": {
        "colab_type": "code",
        "id": "FFGcM46la3kF",
        "colab": {}
      },
      "source": [
        "models = [\n",
        "    LinearRegression(),\n",
        "    Lasso(alpha=0.006),\n",
        "    Ridge(alpha=1.0),\n",
        "    RandomForestRegressor(max_depth=2, random_state=0),\n",
        "]\n",
        "CV = 5\n",
        "for model in models:\n",
        "    model_name = model.__class__.__name__\n",
        "    \n",
        "    accuracies = cross_val_score(model,X[predictors], y,scoring=RMSE, cv=CV)\n",
        "    \n",
        "    print(model_name,\"RMSE\",np.sqrt(accuracies),\"\\n\")\n",
        "    print(\"average RMSE :\", np.sqrt(accuracies).mean(),\"\\n\",\"\\n\")"
      ],
      "execution_count": 0,
      "outputs": []
    },
    {
      "cell_type": "markdown",
      "metadata": {
        "colab_type": "text",
        "id": "PtTf5YeUa3kH"
      },
      "source": [
        "### Best Predictors"
      ]
    },
    {
      "cell_type": "code",
      "metadata": {
        "colab_type": "code",
        "id": "6qIdNxPpa3kI",
        "colab": {}
      },
      "source": [
        "predictors1=['NO2_log', 'year', 'year^2', 'doy', 'doy^2','PM10_log']\n",
        "predictors2=['T2M_rolling', 'year', 'year^2', 'doy', 'doy^2','E12000001', 'E12000002', 'E12000003', 'E12000004','E12000005', 'E12000006', 'E12000007', 'E12000008']\n",
        "predictors3=['E12000001', 'E12000002', 'E12000003', 'E12000004','E12000005', 'E12000006', 'E12000007', 'E12000008']"
      ],
      "execution_count": 0,
      "outputs": []
    },
    {
      "cell_type": "code",
      "metadata": {
        "colab_type": "code",
        "id": "aI8cIrrqa3kK",
        "colab": {}
      },
      "source": [
        "pred = [\n",
        "    predictors1,\n",
        "    predictors2,\n",
        "    predictors3,\n",
        "]\n",
        "for preds in pred:\n",
        "    #model_name = model.__class__.__name__\n",
        "    \n",
        "    accuracies = cross_val_score(LinearRegression(),X[preds], y,scoring=RMSE, cv=CV)\n",
        "    \n",
        "    print(model_name,\"RMSE\",np.sqrt(accuracies),\"\\n\")\n",
        "    print(\"average RMSE :\", np.sqrt(accuracies).mean(),\"\\n\",\"\\n\")"
      ],
      "execution_count": 0,
      "outputs": []
    },
    {
      "cell_type": "markdown",
      "metadata": {
        "colab_type": "text",
        "id": "ENcdurg6a3kM"
      },
      "source": [
        "### Final Algo - mixed LR"
      ]
    },
    {
      "cell_type": "markdown",
      "metadata": {
        "colab_type": "raw",
        "id": "AFRtRamXa3kM"
      },
      "source": [
        "\n",
        "Notation:\n",
        "X0 - training predictors\n",
        "y0 - training target\n",
        "X1 - test predictors\n",
        "y1 - predictions\n"
      ]
    },
    {
      "cell_type": "code",
      "metadata": {
        "colab_type": "code",
        "id": "jVL79Q3Ca3kN",
        "colab": {}
      },
      "source": [
        "a = LinearRegression()\n",
        "b = LinearRegression()\n",
        "c = LinearRegression()\n",
        "ab = LinearRegression()"
      ],
      "execution_count": 0,
      "outputs": []
    },
    {
      "cell_type": "code",
      "metadata": {
        "colab_type": "code",
        "id": "iS9OCGtZa3kO",
        "colab": {}
      },
      "source": [
        "\n",
        "y0 = train_f['mortality_rate']\n",
        "\n",
        "\n",
        "\n",
        "#modela\n",
        "a_predictors = ['NO2_log', 'year', 'year^2', 'doy', 'doy^2','PM10_log']\n",
        "a_X0 = train_f[a_predictors]\n",
        "a.fit(a_X0, y0)\n",
        "\n",
        "\n",
        "\n",
        "#modelb\n",
        "b_predictors = [\n",
        "        'T2M_rolling', 'year', 'year^2', 'doy', 'doy^2',\n",
        "        'E12000001', 'E12000002', 'E12000003', 'E12000004',\n",
        "        'E12000005', 'E12000006', 'E12000007', 'E12000008'\n",
        "        ]\n",
        "b_X0 = train_f[b_predictors]\n",
        "b.fit(b_X0, y0)\n",
        "\n",
        "\n",
        "\n",
        "#modelc\n",
        "c_predictors = [\n",
        "        'E12000001', 'E12000002', 'E12000003', 'E12000004',\n",
        "        'E12000005', 'E12000006', 'E12000007', 'E12000008'\n",
        "        ]\n",
        "c_X0 = train_f[c_predictors]\n",
        "c.fit(c_X0, y0)\n",
        "\n",
        "\n",
        "region_effect_reduction = 0.85\n",
        "\n",
        "\n",
        "# Model AB\n",
        "# Produces the final solution. Combines A and \"reduced B\" by using their predictions as features for a linear regression.\n",
        "\n",
        "ab_X0 = pd.DataFrame({\n",
        "    'A': a.predict(a_X0),\n",
        "    'reduced B': b.predict(b_X0) - (c.predict(c_X0) * region_effect_reduction)\n",
        "    })\n",
        "\n",
        "ab.fit(ab_X0, y0)\n",
        "\n",
        "# predict\n",
        "\n",
        "a_X1 = test_f[a_predictors]\n",
        "b_X1 = test_f[b_predictors]\n",
        "c_X1 = test_f[c_predictors]\n",
        "\n",
        "ab_X1 = pd.DataFrame({'A': a.predict(a_X1),'reduced B': b.predict(b_X1) - (c.predict(c_X1) * region_effect_reduction)})\n",
        "\n",
        "ab_y1 = ab.predict(ab_X1)\n",
        "\n",
        "\n",
        "\n",
        "predictions = pd.DataFrame(index=test_f.index)\n",
        "#predictions['mortality_rate'] =  a.predict(a_X1)\n",
        "predictions['mortality_rate'] = ab_y1\n",
        "predictions.index.name = 'Id'\n",
        "predictions.to_csv('final_mice.csv')\n"
      ],
      "execution_count": 0,
      "outputs": []
    },
    {
      "cell_type": "code",
      "metadata": {
        "id": "dg0Pgj3bgIkM",
        "colab_type": "code",
        "colab": {}
      },
      "source": [
        ""
      ],
      "execution_count": 0,
      "outputs": []
    }
  ]
}