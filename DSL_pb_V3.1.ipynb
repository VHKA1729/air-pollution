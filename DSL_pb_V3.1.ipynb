{
 "cells": [
  {
   "cell_type": "markdown",
   "metadata": {},
   "source": [
    "\n",
    "<font size=\"20\"><h3 align='center'>**_DSL Project_**</font><br>\n",
    "    \n",
    "    \n",
    "<font size=\"5\"><h3 align='center'><span style='color:Blue'> Predict impact of air quality on mortality rates(Kaggle Competition)</font>\n",
    "\n",
    "\n",
    "<font size=\"3\"><h3 align='center'>https://www.kaggle.com/c/predict-impact-of-air-quality-on-death-rates/overview</font><br>\n",
    "    <br>\n",
    "\n",
    "\n",
    "<font size=\"3\">**Group Number - 2**<br>\n",
    "<font size=\"3\"> Mimansi Agarwal   &emsp;19BM6JP15</font>        \n",
    "<font size=\"3\"> Vaibhav HK Anand  &emsp;19BM6JP24</font>    \n",
    "<font size=\"3\"> Bankar Prasad Vilas &emsp;19BM6JP25</font> \n"
   ]
  },
  {
   "cell_type": "markdown",
   "metadata": {},
   "source": [
    "   "
   ]
  },
  {
   "cell_type": "markdown",
   "metadata": {},
   "source": [
    "   "
   ]
  },
  {
   "cell_type": "markdown",
   "metadata": {},
   "source": [
    "# Library"
   ]
  },
  {
   "cell_type": "code",
   "execution_count": 1,
   "metadata": {},
   "outputs": [],
   "source": [
    "\n",
    "import pandas as pd\n",
    "import numpy as np\n",
    "from sklearn.linear_model import LinearRegression\n",
    "import xgboost as xgb\n",
    "from sklearn import metrics\n",
    "import matplotlib.pyplot as plt\n",
    "import seaborn as sns\n",
    "from impyute.imputation.cs import mice\n",
    "from sklearn.model_selection import train_test_split\n",
    "from sklearn import linear_model\n",
    "from sklearn.linear_model import Ridge\n",
    "from sklearn.ensemble import RandomForestRegressor\n",
    "from sklearn.model_selection import cross_val_score\n",
    "from sklearn.metrics import  make_scorer\n",
    "import math"
   ]
  },
  {
   "cell_type": "code",
   "execution_count": null,
   "metadata": {},
   "outputs": [],
   "source": []
  },
  {
   "cell_type": "markdown",
   "metadata": {},
   "source": [
    "# Data import"
   ]
  },
  {
   "cell_type": "code",
   "execution_count": 2,
   "metadata": {},
   "outputs": [],
   "source": [
    "train = pd.read_csv('C:/Users/deciPh3r/Desktop/Project/files/train.csv', parse_dates=['date'], index_col='Id')\n",
    "test = pd.read_csv('C:/Users/deciPh3r/Desktop/Project/files/test.csv', parse_dates=['date'], index_col='Id')\n",
    "region=pd.read_csv('C:/Users/deciPh3r/Desktop/Project/files/regions.csv')"
   ]
  },
  {
   "cell_type": "code",
   "execution_count": 3,
   "metadata": {},
   "outputs": [
    {
     "name": "stdout",
     "output_type": "stream",
     "text": [
      "<class 'pandas.core.frame.DataFrame'>\n",
      "Int64Index: 18403 entries, 1 to 18403\n",
      "Data columns (total 8 columns):\n",
      "region            18403 non-null object\n",
      "date              18403 non-null datetime64[ns]\n",
      "mortality_rate    18403 non-null float64\n",
      "O3                18394 non-null float64\n",
      "PM10              18394 non-null float64\n",
      "PM25              15127 non-null float64\n",
      "NO2               11833 non-null float64\n",
      "T2M               18403 non-null float64\n",
      "dtypes: datetime64[ns](1), float64(6), object(1)\n",
      "memory usage: 1.3+ MB\n"
     ]
    }
   ],
   "source": [
    "train.info()"
   ]
  },
  {
   "cell_type": "markdown",
   "metadata": {},
   "source": [
    "**_Missing values present in 4 columns, O3 ,PM10, PM25, NO2_**"
   ]
  },
  {
   "cell_type": "code",
   "execution_count": 4,
   "metadata": {},
   "outputs": [
    {
     "name": "stdout",
     "output_type": "stream",
     "text": [
      "<class 'pandas.core.frame.DataFrame'>\n",
      "Int64Index: 7886 entries, 18404 to 26289\n",
      "Data columns (total 7 columns):\n",
      "region    7886 non-null object\n",
      "date      7886 non-null datetime64[ns]\n",
      "O3        7886 non-null float64\n",
      "PM10      7886 non-null float64\n",
      "PM25      7886 non-null float64\n",
      "NO2       7886 non-null float64\n",
      "T2M       7886 non-null float64\n",
      "dtypes: datetime64[ns](1), float64(5), object(1)\n",
      "memory usage: 492.9+ KB\n"
     ]
    }
   ],
   "source": [
    "test.info()"
   ]
  },
  {
   "cell_type": "code",
   "execution_count": 5,
   "metadata": {},
   "outputs": [
    {
     "data": {
      "text/html": [
       "<div>\n",
       "<style scoped>\n",
       "    .dataframe tbody tr th:only-of-type {\n",
       "        vertical-align: middle;\n",
       "    }\n",
       "\n",
       "    .dataframe tbody tr th {\n",
       "        vertical-align: top;\n",
       "    }\n",
       "\n",
       "    .dataframe thead th {\n",
       "        text-align: right;\n",
       "    }\n",
       "</style>\n",
       "<table border=\"1\" class=\"dataframe\">\n",
       "  <thead>\n",
       "    <tr style=\"text-align: right;\">\n",
       "      <th></th>\n",
       "      <th>Code</th>\n",
       "      <th>Region</th>\n",
       "    </tr>\n",
       "  </thead>\n",
       "  <tbody>\n",
       "    <tr>\n",
       "      <td>0</td>\n",
       "      <td>E12000001</td>\n",
       "      <td>North East</td>\n",
       "    </tr>\n",
       "    <tr>\n",
       "      <td>1</td>\n",
       "      <td>E12000002</td>\n",
       "      <td>North West</td>\n",
       "    </tr>\n",
       "    <tr>\n",
       "      <td>2</td>\n",
       "      <td>E12000003</td>\n",
       "      <td>Yorkshire and The Humber</td>\n",
       "    </tr>\n",
       "    <tr>\n",
       "      <td>3</td>\n",
       "      <td>E12000004</td>\n",
       "      <td>East Midlands</td>\n",
       "    </tr>\n",
       "    <tr>\n",
       "      <td>4</td>\n",
       "      <td>E12000005</td>\n",
       "      <td>West Midlands</td>\n",
       "    </tr>\n",
       "    <tr>\n",
       "      <td>5</td>\n",
       "      <td>E12000006</td>\n",
       "      <td>East of England</td>\n",
       "    </tr>\n",
       "    <tr>\n",
       "      <td>6</td>\n",
       "      <td>E12000007</td>\n",
       "      <td>London</td>\n",
       "    </tr>\n",
       "    <tr>\n",
       "      <td>7</td>\n",
       "      <td>E12000008</td>\n",
       "      <td>South East</td>\n",
       "    </tr>\n",
       "    <tr>\n",
       "      <td>8</td>\n",
       "      <td>E12000009</td>\n",
       "      <td>South West</td>\n",
       "    </tr>\n",
       "  </tbody>\n",
       "</table>\n",
       "</div>"
      ],
      "text/plain": [
       "        Code                    Region\n",
       "0  E12000001                North East\n",
       "1  E12000002                North West\n",
       "2  E12000003  Yorkshire and The Humber\n",
       "3  E12000004             East Midlands\n",
       "4  E12000005             West Midlands\n",
       "5  E12000006           East of England\n",
       "6  E12000007                    London\n",
       "7  E12000008                South East\n",
       "8  E12000009                South West"
      ]
     },
     "execution_count": 5,
     "metadata": {},
     "output_type": "execute_result"
    }
   ],
   "source": [
    "region"
   ]
  },
  {
   "cell_type": "code",
   "execution_count": 6,
   "metadata": {},
   "outputs": [
    {
     "name": "stdout",
     "output_type": "stream",
     "text": [
      "<class 'pandas.core.frame.DataFrame'>\n",
      "RangeIndex: 9 entries, 0 to 8\n",
      "Data columns (total 2 columns):\n",
      "Code      9 non-null object\n",
      "Region    9 non-null object\n",
      "dtypes: object(2)\n",
      "memory usage: 272.0+ bytes\n"
     ]
    }
   ],
   "source": [
    "region.info()"
   ]
  },
  {
   "cell_type": "markdown",
   "metadata": {},
   "source": [
    "# Exploratory data analysis"
   ]
  },
  {
   "cell_type": "code",
   "execution_count": null,
   "metadata": {},
   "outputs": [],
   "source": []
  },
  {
   "cell_type": "code",
   "execution_count": null,
   "metadata": {},
   "outputs": [],
   "source": []
  },
  {
   "cell_type": "code",
   "execution_count": 7,
   "metadata": {},
   "outputs": [
    {
     "data": {
      "text/html": [
       "<div>\n",
       "<style scoped>\n",
       "    .dataframe tbody tr th:only-of-type {\n",
       "        vertical-align: middle;\n",
       "    }\n",
       "\n",
       "    .dataframe tbody tr th {\n",
       "        vertical-align: top;\n",
       "    }\n",
       "\n",
       "    .dataframe thead th {\n",
       "        text-align: right;\n",
       "    }\n",
       "</style>\n",
       "<table border=\"1\" class=\"dataframe\">\n",
       "  <thead>\n",
       "    <tr style=\"text-align: right;\">\n",
       "      <th></th>\n",
       "      <th>Code</th>\n",
       "      <th>Region</th>\n",
       "    </tr>\n",
       "  </thead>\n",
       "  <tbody>\n",
       "    <tr>\n",
       "      <td>0</td>\n",
       "      <td>E12000001</td>\n",
       "      <td>North East</td>\n",
       "    </tr>\n",
       "    <tr>\n",
       "      <td>1</td>\n",
       "      <td>E12000002</td>\n",
       "      <td>North West</td>\n",
       "    </tr>\n",
       "    <tr>\n",
       "      <td>2</td>\n",
       "      <td>E12000003</td>\n",
       "      <td>Yorkshire and The Humber</td>\n",
       "    </tr>\n",
       "    <tr>\n",
       "      <td>3</td>\n",
       "      <td>E12000004</td>\n",
       "      <td>East Midlands</td>\n",
       "    </tr>\n",
       "    <tr>\n",
       "      <td>4</td>\n",
       "      <td>E12000005</td>\n",
       "      <td>West Midlands</td>\n",
       "    </tr>\n",
       "  </tbody>\n",
       "</table>\n",
       "</div>"
      ],
      "text/plain": [
       "        Code                    Region\n",
       "0  E12000001                North East\n",
       "1  E12000002                North West\n",
       "2  E12000003  Yorkshire and The Humber\n",
       "3  E12000004             East Midlands\n",
       "4  E12000005             West Midlands"
      ]
     },
     "execution_count": 7,
     "metadata": {},
     "output_type": "execute_result"
    }
   ],
   "source": [
    "region.head()"
   ]
  },
  {
   "cell_type": "markdown",
   "metadata": {},
   "source": [
    "#  Imputation"
   ]
  },
  {
   "cell_type": "markdown",
   "metadata": {},
   "source": [
    "## Impution on full data"
   ]
  },
  {
   "cell_type": "code",
   "execution_count": null,
   "metadata": {},
   "outputs": [],
   "source": []
  },
  {
   "cell_type": "code",
   "execution_count": null,
   "metadata": {},
   "outputs": [],
   "source": []
  },
  {
   "cell_type": "code",
   "execution_count": null,
   "metadata": {},
   "outputs": [],
   "source": []
  },
  {
   "cell_type": "markdown",
   "metadata": {},
   "source": [
    "#  Feature Engeering"
   ]
  },
  {
   "cell_type": "markdown",
   "metadata": {},
   "source": [
    "one hot encoding for regions"
   ]
  },
  {
   "cell_type": "code",
   "execution_count": 8,
   "metadata": {},
   "outputs": [],
   "source": [
    "dummy1= pd.get_dummies(train['region'])\n",
    "train_f = train.join(dummy1)\n",
    "\n",
    "dummy2= pd.get_dummies(test['region'])\n",
    "test_f = test.join(dummy2)"
   ]
  },
  {
   "cell_type": "code",
   "execution_count": 9,
   "metadata": {},
   "outputs": [
    {
     "data": {
      "text/plain": [
       "((18403, 17), (7886, 16))"
      ]
     },
     "execution_count": 9,
     "metadata": {},
     "output_type": "execute_result"
    }
   ],
   "source": [
    "train_f.shape,test_f.shape"
   ]
  },
  {
   "cell_type": "markdown",
   "metadata": {},
   "source": [
    "doy and year"
   ]
  },
  {
   "cell_type": "code",
   "execution_count": 10,
   "metadata": {},
   "outputs": [],
   "source": [
    "train_f['year'] = train_f['date'].map(lambda x: x.year)\n",
    "test_f['year'] = test_f['date'].map(lambda x: x.year)\n",
    "\n",
    "train_f['year^2'] = train_f['year']**2\n",
    "test_f['year^2'] = test_f['year']**2\n",
    "\n",
    "train_f['doy'] = train_f['date'].map(lambda x: x.dayofyear)\n",
    "test_f['doy'] = test_f['date'].map(lambda x: x.dayofyear)\n",
    "\n",
    "train_f['doy^2'] = train_f['doy']**2\n",
    "test_f['doy^2'] = test_f['doy']**2"
   ]
  },
  {
   "cell_type": "markdown",
   "metadata": {},
   "source": [
    "Log Transformation"
   ]
  },
  {
   "cell_type": "code",
   "execution_count": 11,
   "metadata": {},
   "outputs": [],
   "source": [
    "train_f['NO2_log']=np.log(train_f['NO2'])\n",
    "train_f['PM10_log']=np.log(train_f['PM10'])\n",
    "train_f['PM25_log']=np.log(train_f['PM25'])\n",
    "\n",
    "test_f['NO2_log']=np.log(test_f['NO2'])\n",
    "test_f['PM10_log']=np.log(test_f['PM10'])\n",
    "test_f['PM25_log']=np.log(test_f['PM25'])"
   ]
  },
  {
   "cell_type": "code",
   "execution_count": 12,
   "metadata": {},
   "outputs": [
    {
     "name": "stdout",
     "output_type": "stream",
     "text": [
      "<class 'pandas.core.frame.DataFrame'>\n",
      "Int64Index: 18403 entries, 1 to 18403\n",
      "Data columns (total 24 columns):\n",
      "region            18403 non-null object\n",
      "date              18403 non-null datetime64[ns]\n",
      "mortality_rate    18403 non-null float64\n",
      "O3                18394 non-null float64\n",
      "PM10              18394 non-null float64\n",
      "PM25              15127 non-null float64\n",
      "NO2               11833 non-null float64\n",
      "T2M               18403 non-null float64\n",
      "E12000001         18403 non-null uint8\n",
      "E12000002         18403 non-null uint8\n",
      "E12000003         18403 non-null uint8\n",
      "E12000004         18403 non-null uint8\n",
      "E12000005         18403 non-null uint8\n",
      "E12000006         18403 non-null uint8\n",
      "E12000007         18403 non-null uint8\n",
      "E12000008         18403 non-null uint8\n",
      "E12000009         18403 non-null uint8\n",
      "year              18403 non-null int64\n",
      "year^2            18403 non-null int64\n",
      "doy               18403 non-null int64\n",
      "doy^2             18403 non-null int64\n",
      "NO2_log           11833 non-null float64\n",
      "PM10_log          18394 non-null float64\n",
      "PM25_log          15127 non-null float64\n",
      "dtypes: datetime64[ns](1), float64(9), int64(4), object(1), uint8(9)\n",
      "memory usage: 3.0+ MB\n",
      "<class 'pandas.core.frame.DataFrame'>\n",
      "Int64Index: 7886 entries, 18404 to 26289\n",
      "Data columns (total 23 columns):\n",
      "region       7886 non-null object\n",
      "date         7886 non-null datetime64[ns]\n",
      "O3           7886 non-null float64\n",
      "PM10         7886 non-null float64\n",
      "PM25         7886 non-null float64\n",
      "NO2          7886 non-null float64\n",
      "T2M          7886 non-null float64\n",
      "E12000001    7886 non-null uint8\n",
      "E12000002    7886 non-null uint8\n",
      "E12000003    7886 non-null uint8\n",
      "E12000004    7886 non-null uint8\n",
      "E12000005    7886 non-null uint8\n",
      "E12000006    7886 non-null uint8\n",
      "E12000007    7886 non-null uint8\n",
      "E12000008    7886 non-null uint8\n",
      "E12000009    7886 non-null uint8\n",
      "year         7886 non-null int64\n",
      "year^2       7886 non-null int64\n",
      "doy          7886 non-null int64\n",
      "doy^2        7886 non-null int64\n",
      "NO2_log      7886 non-null float64\n",
      "PM10_log     7886 non-null float64\n",
      "PM25_log     7886 non-null float64\n",
      "dtypes: datetime64[ns](1), float64(8), int64(4), object(1), uint8(9)\n",
      "memory usage: 1.3+ MB\n"
     ]
    },
    {
     "data": {
      "text/plain": [
       "(None, None)"
      ]
     },
     "execution_count": 12,
     "metadata": {},
     "output_type": "execute_result"
    }
   ],
   "source": [
    "train_f.info(),test_f.info()"
   ]
  },
  {
   "cell_type": "code",
   "execution_count": 13,
   "metadata": {},
   "outputs": [],
   "source": [
    "total_f=total=pd.concat([train_f,test_f],sort=False)"
   ]
  },
  {
   "cell_type": "code",
   "execution_count": 14,
   "metadata": {},
   "outputs": [],
   "source": [
    "total_f['T2M_rolling'] = total_f.groupby('region')['T2M'].transform(lambda x: x.rolling(30).mean())"
   ]
  },
  {
   "cell_type": "code",
   "execution_count": 15,
   "metadata": {},
   "outputs": [
    {
     "data": {
      "text/plain": [
       "(26289, 25)"
      ]
     },
     "execution_count": 15,
     "metadata": {},
     "output_type": "execute_result"
    }
   ],
   "source": [
    "total_f.shape"
   ]
  },
  {
   "cell_type": "code",
   "execution_count": 16,
   "metadata": {},
   "outputs": [],
   "source": [
    "train_f=total_f[:18403].dropna()\n",
    "test_f=total_f[18403:].drop(['mortality_rate'],axis=1)"
   ]
  },
  {
   "cell_type": "code",
   "execution_count": 17,
   "metadata": {},
   "outputs": [
    {
     "data": {
      "text/plain": [
       "((11833, 25), (7886, 24))"
      ]
     },
     "execution_count": 17,
     "metadata": {},
     "output_type": "execute_result"
    }
   ],
   "source": [
    "train_f.shape,test_f.shape"
   ]
  },
  {
   "cell_type": "markdown",
   "metadata": {},
   "source": [
    "#  Modelling - Regression based models"
   ]
  },
  {
   "cell_type": "code",
   "execution_count": 18,
   "metadata": {},
   "outputs": [],
   "source": [
    "X_train, X_test, y_train, y_test = train_test_split(train_f.drop(['mortality_rate'],axis=1), train_f['mortality_rate'], test_size=0.2)"
   ]
  },
  {
   "cell_type": "code",
   "execution_count": 19,
   "metadata": {},
   "outputs": [
    {
     "data": {
      "text/plain": [
       "Index(['region', 'date', 'O3', 'PM10', 'PM25', 'NO2', 'T2M', 'E12000001',\n",
       "       'E12000002', 'E12000003', 'E12000004', 'E12000005', 'E12000006',\n",
       "       'E12000007', 'E12000008', 'E12000009', 'year', 'year^2', 'doy', 'doy^2',\n",
       "       'NO2_log', 'PM10_log', 'PM25_log', 'T2M_rolling'],\n",
       "      dtype='object')"
      ]
     },
     "execution_count": 19,
     "metadata": {},
     "output_type": "execute_result"
    }
   ],
   "source": [
    "X_train.columns"
   ]
  },
  {
   "cell_type": "code",
   "execution_count": 20,
   "metadata": {},
   "outputs": [],
   "source": [
    "RMSE= make_scorer(metrics.mean_squared_error)"
   ]
  },
  {
   "cell_type": "code",
   "execution_count": 21,
   "metadata": {},
   "outputs": [],
   "source": [
    "predictors=['O3','PM10','PM25','NO2','T2M']"
   ]
  },
  {
   "cell_type": "code",
   "execution_count": 22,
   "metadata": {},
   "outputs": [],
   "source": [
    "X=train_f.drop(['mortality_rate'],axis=1)\n",
    "y=train_f['mortality_rate']"
   ]
  },
  {
   "cell_type": "code",
   "execution_count": 23,
   "metadata": {},
   "outputs": [
    {
     "name": "stdout",
     "output_type": "stream",
     "text": [
      "LinearRegression RMSE [0.25590564 0.2384088  0.23534413 0.24975171 0.21540355] \n",
      "\n",
      "average RMSE : 0.2389627659994164 \n",
      " \n",
      "\n",
      "Lasso RMSE [0.26501773 0.24556641 0.2426855  0.25132788 0.21040855] \n",
      "\n",
      "average RMSE : 0.243001215350219 \n",
      " \n",
      "\n",
      "Ridge RMSE [0.25590577 0.23840889 0.23534414 0.24975171 0.21540335] \n",
      "\n",
      "average RMSE : 0.2389627739056404 \n",
      " \n",
      "\n",
      "RandomForestRegressor RMSE [0.27209648 0.25170445 0.26211702 0.26120663 0.21941687] \n",
      "\n",
      "average RMSE : 0.2533082876488943 \n",
      " \n",
      "\n"
     ]
    }
   ],
   "source": [
    "models = [\n",
    "    LinearRegression(),\n",
    "    linear_model.Lasso(alpha=0.1),\n",
    "    Ridge(alpha=1.0),\n",
    "    RandomForestRegressor(max_depth=2, random_state=0),\n",
    "]\n",
    "CV = 5\n",
    "for model in models:\n",
    "    model_name = model.__class__.__name__\n",
    "    \n",
    "    accuracies = cross_val_score(model,X[predictors], y,scoring=RMSE, cv=CV)\n",
    "    \n",
    "    print(model_name,\"RMSE\",np.sqrt(accuracies),\"\\n\")\n",
    "    print(\"average RMSE :\", np.sqrt(accuracies).mean(),\"\\n\",\"\\n\")"
   ]
  },
  {
   "cell_type": "raw",
   "metadata": {},
   "source": [
    "-LinearRegression      0.2389627659994164  \n",
    "-Lasso                 0.243001215350219  \n",
    "-Ridge                 0.2389627739056404  \n",
    "-RandomForestRegressor 0.2533082876488943   "
   ]
  },
  {
   "cell_type": "raw",
   "metadata": {},
   "source": [
    "-LB Score\n",
    "-LinearRegression      0. \n",
    "-Lasso                 0. \n",
    "-Ridge                 0.\n",
    "-RandomForestRegressor 0. "
   ]
  },
  {
   "cell_type": "code",
   "execution_count": 24,
   "metadata": {},
   "outputs": [],
   "source": [
    "predictors=['O3','PM10','PM25','NO2_log','T2M']"
   ]
  },
  {
   "cell_type": "code",
   "execution_count": 25,
   "metadata": {},
   "outputs": [
    {
     "name": "stdout",
     "output_type": "stream",
     "text": [
      "LinearRegression RMSE [0.26527521 0.24409334 0.24623856 0.25499492 0.21608415] \n",
      "\n",
      "average RMSE : 0.2453372337810475 \n",
      " \n",
      "\n",
      "Lasso RMSE [0.27885318 0.25456861 0.25885199 0.26576436 0.21011588] \n",
      "\n",
      "average RMSE : 0.25363080541258476 \n",
      " \n",
      "\n",
      "Ridge RMSE [0.26527777 0.24409446 0.24624209 0.25499278 0.21607701] \n",
      "\n",
      "average RMSE : 0.24533682390299894 \n",
      " \n",
      "\n",
      "RandomForestRegressor RMSE [0.27209715 0.25170576 0.26211702 0.26120663 0.21941673] \n",
      "\n",
      "average RMSE : 0.253308657930002 \n",
      " \n",
      "\n"
     ]
    }
   ],
   "source": [
    "models = [\n",
    "    LinearRegression(),\n",
    "    linear_model.Lasso(alpha=0.1),\n",
    "    Ridge(alpha=1.0),\n",
    "    RandomForestRegressor(max_depth=2, random_state=0),\n",
    "]\n",
    "CV = 5\n",
    "for model in models:\n",
    "    model_name = model.__class__.__name__\n",
    "    \n",
    "    accuracies = cross_val_score(model,X[predictors], y,scoring=RMSE, cv=CV)\n",
    "    \n",
    "    print(model_name,\"RMSE\",np.sqrt(accuracies),\"\\n\")\n",
    "    print(\"average RMSE :\", np.sqrt(accuracies).mean(),\"\\n\",\"\\n\")"
   ]
  },
  {
   "cell_type": "raw",
   "metadata": {},
   "source": [
    "-LinearRegression      0.2453372337810475 \n",
    "-Lasso                 0.25363080541258476  \n",
    "-Ridge                 0.24533682390299894 \n",
    "-RandomForestRegressor 0.253308657930002   "
   ]
  },
  {
   "cell_type": "raw",
   "metadata": {},
   "source": [
    "-LB socre\n",
    "-LinearRegression  0.   \n",
    "-Lasso             0. \n",
    "-Ridge             0. \n",
    "-RandomForestRegressor 0. "
   ]
  },
  {
   "cell_type": "code",
   "execution_count": 26,
   "metadata": {},
   "outputs": [],
   "source": [
    "predictors=['O3','PM10','PM25_log','NO2_log','T2M']"
   ]
  },
  {
   "cell_type": "code",
   "execution_count": 27,
   "metadata": {},
   "outputs": [
    {
     "name": "stdout",
     "output_type": "stream",
     "text": [
      "LinearRegression RMSE [0.26573681 0.24385109 0.24598684 0.25584064 0.21617526] \n",
      "\n",
      "average RMSE : 0.24551812699677633 \n",
      " \n",
      "\n",
      "Lasso RMSE [0.27885318 0.25456861 0.25887388 0.26576436 0.21014656] \n",
      "\n",
      "average RMSE : 0.25364131894103525 \n",
      " \n",
      "\n",
      "Ridge RMSE [0.26573761 0.24385154 0.24599058 0.25583575 0.21616531] \n",
      "\n",
      "average RMSE : 0.2455161592022304 \n",
      " \n",
      "\n",
      "RandomForestRegressor RMSE [0.27209715 0.25170576 0.26211702 0.26120663 0.21941673] \n",
      "\n",
      "average RMSE : 0.253308657930002 \n",
      " \n",
      "\n"
     ]
    }
   ],
   "source": [
    "models = [\n",
    "    LinearRegression(),\n",
    "    linear_model.Lasso(alpha=0.1),\n",
    "    Ridge(alpha=1.0),\n",
    "    RandomForestRegressor(max_depth=2, random_state=0),\n",
    "]\n",
    "CV = 5\n",
    "for model in models:\n",
    "    model_name = model.__class__.__name__\n",
    "    \n",
    "    accuracies = cross_val_score(model,X[predictors], y,scoring=RMSE, cv=CV)\n",
    "    \n",
    "    print(model_name,\"RMSE\",np.sqrt(accuracies),\"\\n\")\n",
    "    print(\"average RMSE :\", np.sqrt(accuracies).mean(),\"\\n\",\"\\n\")"
   ]
  },
  {
   "cell_type": "raw",
   "metadata": {},
   "source": [
    "-LinearRegression      0.24551812699677633 \n",
    "-Lasso                 0.25364131894103525  \n",
    "-Ridge                 0.2455161592022304     \n",
    "-RandomForestRegressor 0.253308657930002   "
   ]
  },
  {
   "cell_type": "raw",
   "metadata": {},
   "source": [
    "-LB socre\n",
    "-LinearRegression  0. \n",
    "-Lasso             0.  \n",
    "-Ridge             0.  \n",
    "-RandomForestRegressor 0. "
   ]
  },
  {
   "cell_type": "code",
   "execution_count": 28,
   "metadata": {},
   "outputs": [],
   "source": [
    "predictors=['O3','PM10_log','PM25_log','NO2_log','T2M']"
   ]
  },
  {
   "cell_type": "code",
   "execution_count": 29,
   "metadata": {},
   "outputs": [
    {
     "name": "stdout",
     "output_type": "stream",
     "text": [
      "LinearRegression RMSE [0.26538614 0.24372114 0.24603913 0.25564884 0.21685364] \n",
      "\n",
      "average RMSE : 0.24552977824727984 \n",
      " \n",
      "\n",
      "Lasso RMSE [0.27929634 0.25339599 0.25973473 0.266214   0.20971769] \n",
      "\n",
      "average RMSE : 0.2536717498662236 \n",
      " \n",
      "\n",
      "Ridge RMSE [0.26538775 0.24372201 0.24604302 0.25564373 0.21683963] \n",
      "\n",
      "average RMSE : 0.2455272255973945 \n",
      " \n",
      "\n",
      "RandomForestRegressor RMSE [0.27209715 0.25170576 0.26211702 0.26120663 0.21941673] \n",
      "\n",
      "average RMSE : 0.253308657930002 \n",
      " \n",
      "\n"
     ]
    }
   ],
   "source": [
    "models = [\n",
    "    LinearRegression(),\n",
    "    linear_model.Lasso(alpha=0.1),\n",
    "    Ridge(alpha=1.0),\n",
    "    RandomForestRegressor(max_depth=2, random_state=0),\n",
    "]\n",
    "CV = 5\n",
    "for model in models:\n",
    "    model_name = model.__class__.__name__\n",
    "    \n",
    "    accuracies = cross_val_score(model,X[predictors], y,scoring=RMSE, cv=CV)\n",
    "    \n",
    "    print(model_name,\"RMSE\",np.sqrt(accuracies),\"\\n\")\n",
    "    print(\"average RMSE :\", np.sqrt(accuracies).mean(),\"\\n\",\"\\n\")"
   ]
  },
  {
   "cell_type": "raw",
   "metadata": {},
   "source": [
    "-LinearRegression      0.24552977824727984 \n",
    "-Lasso                 0.2536717498662236   \n",
    "-Ridge                 0.2455272255973945      \n",
    "-RandomForestRegressor 0.253308657930002   "
   ]
  },
  {
   "cell_type": "raw",
   "metadata": {},
   "source": [
    "-LB socre\n",
    "-LinearRegression  0. \n",
    "-Lasso             0. \n",
    "-Ridge              0.  \n",
    "-RandomForestRegressor 0. "
   ]
  },
  {
   "cell_type": "code",
   "execution_count": 30,
   "metadata": {},
   "outputs": [],
   "source": [
    "predictors=['O3','PM10_log','PM25_log','NO2_log','T2M_rolling']"
   ]
  },
  {
   "cell_type": "code",
   "execution_count": 31,
   "metadata": {},
   "outputs": [
    {
     "name": "stdout",
     "output_type": "stream",
     "text": [
      "LinearRegression RMSE [0.25155239 0.22712925 0.23355815 0.23378694 0.19377511] \n",
      "\n",
      "average RMSE : 0.22796036576314532 \n",
      " \n",
      "\n",
      "Lasso RMSE [0.27481783 0.24113615 0.2507425  0.25340696 0.19165394] \n",
      "\n",
      "average RMSE : 0.24235147415525443 \n",
      " \n",
      "\n",
      "Ridge RMSE [0.25155614 0.22712616 0.23356111 0.23378118 0.19376374] \n",
      "\n",
      "average RMSE : 0.2279576652270535 \n",
      " \n",
      "\n",
      "RandomForestRegressor RMSE [0.27247375 0.245499   0.25977973 0.25826535 0.1943188 ] \n",
      "\n",
      "average RMSE : 0.2460673252607887 \n",
      " \n",
      "\n"
     ]
    }
   ],
   "source": [
    "models = [\n",
    "    LinearRegression(),\n",
    "    linear_model.Lasso(alpha=0.1),\n",
    "    Ridge(alpha=1.0),\n",
    "    RandomForestRegressor(max_depth=2, random_state=0),\n",
    "]\n",
    "CV = 5\n",
    "for model in models:\n",
    "    model_name = model.__class__.__name__\n",
    "    \n",
    "    accuracies = cross_val_score(model,X[predictors], y,scoring=RMSE, cv=CV)\n",
    "    \n",
    "    print(model_name,\"RMSE\",np.sqrt(accuracies),\"\\n\")\n",
    "    print(\"average RMSE :\", np.sqrt(accuracies).mean(),\"\\n\",\"\\n\")"
   ]
  },
  {
   "cell_type": "raw",
   "metadata": {},
   "source": [
    "-LinearRegression      0.22796036576314532 \n",
    "-Lasso                 0.24235147415525443   \n",
    "-Ridge                 0.2279576652270535  \n",
    "-RandomForestRegressor 0.2460673252607887 "
   ]
  },
  {
   "cell_type": "raw",
   "metadata": {},
   "source": [
    "-LB score\n",
    "-LinearRegression  0.  \n",
    "-Lasso             0.\n",
    "-Ridge              0.  \n",
    "-RandomForestRegressor 0. "
   ]
  },
  {
   "cell_type": "code",
   "execution_count": 32,
   "metadata": {},
   "outputs": [],
   "source": [
    "predictors=['O3','PM10_log','PM25_log','NO2_log','T2M_rolling','year','year^2','doy','doy^2']"
   ]
  },
  {
   "cell_type": "code",
   "execution_count": 33,
   "metadata": {},
   "outputs": [
    {
     "name": "stdout",
     "output_type": "stream",
     "text": [
      "LinearRegression RMSE [0.23254874 0.23921699 0.22731851 0.22662792 0.35888154] \n",
      "\n",
      "average RMSE : 0.25691874212490495 \n",
      " \n",
      "\n",
      "Lasso RMSE [0.25560805 0.24021627 0.24247718 0.2659596  0.24291558] \n",
      "\n",
      "average RMSE : 0.24943533679256355 \n",
      " \n",
      "\n",
      "Ridge RMSE [0.23454083 0.22509922 0.23005836 0.23010584 0.2357758 ] \n",
      "\n",
      "average RMSE : 0.23111601199135615 \n",
      " \n",
      "\n",
      "RandomForestRegressor RMSE [0.26795454 0.24061164 0.25503314 0.26202193 0.19208895] \n",
      "\n",
      "average RMSE : 0.2435420386323374 \n",
      " \n",
      "\n"
     ]
    }
   ],
   "source": [
    "models = [\n",
    "    LinearRegression(),\n",
    "    linear_model.Lasso(alpha=0.1),\n",
    "    Ridge(alpha=1.0),\n",
    "    RandomForestRegressor(max_depth=2, random_state=0),\n",
    "]\n",
    "CV = 5\n",
    "for model in models:\n",
    "    model_name = model.__class__.__name__\n",
    "    \n",
    "    accuracies = cross_val_score(model,X[predictors], y,scoring=RMSE, cv=CV)\n",
    "    \n",
    "    print(model_name,\"RMSE\",np.sqrt(accuracies),\"\\n\")\n",
    "    print(\"average RMSE :\", np.sqrt(accuracies).mean(),\"\\n\",\"\\n\")"
   ]
  },
  {
   "cell_type": "raw",
   "metadata": {},
   "source": [
    "-LinearRegression      0.25691874212490495  \n",
    "-Lasso                 0.24943533679256355  \n",
    "-Ridge                 0.23111601199135615     \n",
    "-RandomForestRegressor 0.2435420386323374  "
   ]
  },
  {
   "cell_type": "raw",
   "metadata": {},
   "source": [
    "-LB score\n",
    "-LinearRegression  0.  \n",
    "-Lasso             0.\n",
    "-Ridge              0.  \n",
    "-RandomForestRegressor 0. "
   ]
  },
  {
   "cell_type": "code",
   "execution_count": 34,
   "metadata": {},
   "outputs": [],
   "source": [
    "predictors=['T2M_rolling', 'year', 'year^2', 'doy', 'doy^2','E12000001', 'E12000002', 'E12000003', 'E12000004','E12000005', 'E12000006', 'E12000007', 'E12000008']"
   ]
  },
  {
   "cell_type": "code",
   "execution_count": 35,
   "metadata": {},
   "outputs": [
    {
     "name": "stdout",
     "output_type": "stream",
     "text": [
      "LinearRegression RMSE [0.20415681 0.18456036 0.17517828 0.16492889 0.24821156] \n",
      "\n",
      "average RMSE : 0.19540717885674203 \n",
      " \n",
      "\n",
      "Lasso RMSE [0.25597775 0.24258855 0.24892019 0.2694917  0.23816366] \n",
      "\n",
      "average RMSE : 0.2510283706219428 \n",
      " \n",
      "\n",
      "Ridge RMSE [0.2017823  0.18332612 0.17372941 0.16563076 0.19561269] \n",
      "\n",
      "average RMSE : 0.18401625729827167 \n",
      " \n",
      "\n",
      "RandomForestRegressor RMSE [0.24741372 0.22554667 0.19961574 0.21522269 0.19597469] \n",
      "\n",
      "average RMSE : 0.2167547019932517 \n",
      " \n",
      "\n"
     ]
    }
   ],
   "source": [
    "models = [\n",
    "    LinearRegression(),\n",
    "    linear_model.Lasso(alpha=0.1),\n",
    "    Ridge(alpha=1.0),\n",
    "    RandomForestRegressor(max_depth=2, random_state=0),\n",
    "]\n",
    "CV = 5\n",
    "for model in models:\n",
    "    model_name = model.__class__.__name__\n",
    "    \n",
    "    accuracies = cross_val_score(model,X[predictors], y,scoring=RMSE, cv=CV)\n",
    "    \n",
    "    print(model_name,\"RMSE\",np.sqrt(accuracies),\"\\n\")\n",
    "    print(\"average RMSE :\", np.sqrt(accuracies).mean(),\"\\n\",\"\\n\")"
   ]
  },
  {
   "cell_type": "code",
   "execution_count": 36,
   "metadata": {},
   "outputs": [],
   "source": [
    "predictors1=['NO2_log', 'year', 'year^2', 'doy', 'doy^2','PM10_log']\n",
    "predictors2=['T2M_rolling', 'year', 'year^2', 'doy', 'doy^2','E12000001', 'E12000002', 'E12000003', 'E12000004','E12000005', 'E12000006', 'E12000007', 'E12000008']\n",
    "predictors3=['E12000001', 'E12000002', 'E12000003', 'E12000004','E12000005', 'E12000006', 'E12000007', 'E12000008']"
   ]
  },
  {
   "cell_type": "code",
   "execution_count": 37,
   "metadata": {},
   "outputs": [
    {
     "name": "stdout",
     "output_type": "stream",
     "text": [
      "RandomForestRegressor RMSE [0.23201375 0.26048128 0.22666889 0.25644528 0.42542438] \n",
      "\n",
      "average RMSE : 0.28020671583860196 \n",
      " \n",
      "\n",
      "RandomForestRegressor RMSE [0.20415681 0.18456036 0.17517828 0.16492889 0.24821156] \n",
      "\n",
      "average RMSE : 0.19540717885674203 \n",
      " \n",
      "\n",
      "RandomForestRegressor RMSE [0.28887085 0.26111306 0.24310381 0.22983521 0.22967401] \n",
      "\n",
      "average RMSE : 0.25051938878501434 \n",
      " \n",
      "\n"
     ]
    }
   ],
   "source": [
    "pred = [\n",
    "    predictors1,\n",
    "    predictors2,\n",
    "    predictors3,\n",
    "]\n",
    "for preds in pred:\n",
    "    #model_name = model.__class__.__name__\n",
    "    \n",
    "    accuracies = cross_val_score(LinearRegression(),X[preds], y,scoring=RMSE, cv=CV)\n",
    "    \n",
    "    print(model_name,\"RMSE\",np.sqrt(accuracies),\"\\n\")\n",
    "    print(\"average RMSE :\", np.sqrt(accuracies).mean(),\"\\n\",\"\\n\")"
   ]
  },
  {
   "cell_type": "code",
   "execution_count": null,
   "metadata": {},
   "outputs": [],
   "source": []
  },
  {
   "cell_type": "markdown",
   "metadata": {},
   "source": [
    "## Final Algo - mixed LR"
   ]
  },
  {
   "cell_type": "raw",
   "metadata": {},
   "source": [
    "\n",
    "Notation:\n",
    "X0 - training predictors\n",
    "y0 - training target\n",
    "X1 - test predictors\n",
    "y1 - predictions\n"
   ]
  },
  {
   "cell_type": "code",
   "execution_count": 38,
   "metadata": {},
   "outputs": [],
   "source": [
    "a = LinearRegression()\n",
    "b = LinearRegression()\n",
    "c = LinearRegression()\n",
    "ab = LinearRegression()"
   ]
  },
  {
   "cell_type": "code",
   "execution_count": 39,
   "metadata": {},
   "outputs": [],
   "source": [
    "\n",
    "y0 = train_f['mortality_rate']\n",
    "\n",
    "\n",
    "\n",
    "#modela\n",
    "a_predictors = ['NO2_log', 'year', 'year^2', 'doy', 'doy^2','PM10_log']\n",
    "a_X0 = train_f[a_predictors]\n",
    "a.fit(a_X0, y0)\n",
    "\n",
    "\n",
    "\n",
    "#modelb\n",
    "b_predictors = [\n",
    "        'T2M_rolling', 'year', 'year^2', 'doy', 'doy^2',\n",
    "        'E12000001', 'E12000002', 'E12000003', 'E12000004',\n",
    "        'E12000005', 'E12000006', 'E12000007', 'E12000008'\n",
    "        ]\n",
    "b_X0 = train_f[b_predictors]\n",
    "b.fit(b_X0, y0)\n",
    "\n",
    "\n",
    "\n",
    "#modelc\n",
    "c_predictors = [\n",
    "        'E12000001', 'E12000002', 'E12000003', 'E12000004',\n",
    "        'E12000005', 'E12000006', 'E12000007', 'E12000008'\n",
    "        ]\n",
    "c_X0 = train_f[c_predictors]\n",
    "c.fit(c_X0, y0)\n",
    "\n",
    "\n",
    "region_effect_reduction = 0.85\n",
    "\n",
    "\n",
    "# Model AB\n",
    "# Produces the final solution. Combines A and \"reduced B\" by using their predictions as features for a linear regression.\n",
    "\n",
    "ab_X0 = pd.DataFrame({\n",
    "    'A': a.predict(a_X0),\n",
    "    'reduced B': b.predict(b_X0) - (c.predict(c_X0) * region_effect_reduction)\n",
    "    })\n",
    "\n",
    "ab.fit(ab_X0, y0)\n",
    "\n",
    "# predict\n",
    "\n",
    "a_X1 = test_f[a_predictors]\n",
    "b_X1 = test_f[b_predictors]\n",
    "c_X1 = test_f[c_predictors]\n",
    "\n",
    "ab_X1 = pd.DataFrame({'A': a.predict(a_X1),'reduced B': b.predict(b_X1) - (c.predict(c_X1) * region_effect_reduction)})\n",
    "\n",
    "ab_y1 = ab.predict(ab_X1)\n",
    "\n",
    "\n",
    "\n",
    "predictions = pd.DataFrame(index=test_f.index)\n",
    "predictions['mortality_rate'] =  a.predict(a_X1)\n",
    "predictions.to_csv('C:/Users/deciPh3r/Desktop/Project/files/sub/final_0.0.csv')\n"
   ]
  },
  {
   "cell_type": "markdown",
   "metadata": {},
   "source": [
    "# Results\n",
    "best LB socre for -(region_effect_reduction = 0.85)<br>\n",
    "private score - 0.28948<br>\n",
    "public score - 0.28784<br>\n",
    "\n",
    "\n",
    "benchmark -<br>\n",
    "private score - 0.29022<br>\n",
    "public socre - 0.29259<br>"
   ]
  },
  {
   "cell_type": "code",
   "execution_count": null,
   "metadata": {},
   "outputs": [],
   "source": []
  }
 ],
 "metadata": {
  "kernelspec": {
   "display_name": "Python 3",
   "language": "python",
   "name": "python3"
  },
  "language_info": {
   "codemirror_mode": {
    "name": "ipython",
    "version": 3
   },
   "file_extension": ".py",
   "mimetype": "text/x-python",
   "name": "python",
   "nbconvert_exporter": "python",
   "pygments_lexer": "ipython3",
   "version": "3.7.4"
  }
 },
 "nbformat": 4,
 "nbformat_minor": 2
}
